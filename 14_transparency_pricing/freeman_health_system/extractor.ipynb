{
 "cells": [
  {
   "cell_type": "code",
   "execution_count": 108,
   "metadata": {},
   "outputs": [],
   "source": [
    "import pandas as pd"
   ]
  },
  {
   "cell_type": "code",
   "execution_count": 109,
   "metadata": {},
   "outputs": [],
   "source": [
    "folder = '.\\\\input_files\\\\'\n",
    "\n",
    "file = '431704371_Freeman-Health-System_standardcharges.csv'"
   ]
  },
  {
   "cell_type": "code",
   "execution_count": 110,
   "metadata": {},
   "outputs": [],
   "source": [
    "df = pd.read_csv(folder + file, dtype=str)"
   ]
  },
  {
   "cell_type": "code",
   "execution_count": 111,
   "metadata": {},
   "outputs": [],
   "source": [
    "# Find the index of the first entirely blank row\n",
    "blank_row_index = df.index[df.isnull().all(axis=1)].min()\n",
    "\n",
    "# Slice the DataFrame to keep only the rows before the blank_row_index\n",
    "df = df.iloc[:blank_row_index]"
   ]
  },
  {
   "cell_type": "code",
   "execution_count": 112,
   "metadata": {},
   "outputs": [],
   "source": [
    "df[:10]"
   ]
  },
  {
   "cell_type": "code",
   "execution_count": 113,
   "metadata": {},
   "outputs": [],
   "source": [
    "df.rename(columns={\n",
    "    'Code': 'code',\n",
    "    'Description': 'description',\n",
    "    'Type': 'setting'\n",
    "}, inplace=True)"
   ]
  },
  {
   "cell_type": "code",
   "execution_count": 114,
   "metadata": {},
   "outputs": [],
   "source": [
    "cols  = df.columns.tolist()\n",
    "id_vars = cols[:3]\n",
    "val_vars = cols[3:]\n",
    "\n",
    "df = pd.melt(df, id_vars=id_vars, value_vars=val_vars, var_name='payer_name', value_name='standard_charge')"
   ]
  },
  {
   "cell_type": "code",
   "execution_count": 115,
   "metadata": {},
   "outputs": [],
   "source": [
    "df.dropna(subset='standard_charge', inplace=True)"
   ]
  },
  {
   "cell_type": "code",
   "execution_count": 116,
   "metadata": {},
   "outputs": [
    {
     "data": {
      "text/html": [
       "<div>\n",
       "<style scoped>\n",
       "    .dataframe tbody tr th:only-of-type {\n",
       "        vertical-align: middle;\n",
       "    }\n",
       "\n",
       "    .dataframe tbody tr th {\n",
       "        vertical-align: top;\n",
       "    }\n",
       "\n",
       "    .dataframe thead th {\n",
       "        text-align: right;\n",
       "    }\n",
       "</style>\n",
       "<table border=\"1\" class=\"dataframe\">\n",
       "  <thead>\n",
       "    <tr style=\"text-align: right;\">\n",
       "      <th></th>\n",
       "      <th>code</th>\n",
       "      <th>description</th>\n",
       "      <th>setting</th>\n",
       "      <th>payer_name</th>\n",
       "      <th>standard_charge</th>\n",
       "    </tr>\n",
       "  </thead>\n",
       "  <tbody>\n",
       "    <tr>\n",
       "      <th>0</th>\n",
       "      <td>10005</td>\n",
       "      <td>FINE NEEDLE ASPIRATION BIOPSY USING ULTRASOUND...</td>\n",
       "      <td>Outpatient</td>\n",
       "      <td>Gross charge</td>\n",
       "      <td>1655.21</td>\n",
       "    </tr>\n",
       "    <tr>\n",
       "      <th>1</th>\n",
       "      <td>10005</td>\n",
       "      <td>FINE NEEDLE ASPIRATION BIOPSY USING ULTRASOUND...</td>\n",
       "      <td>Outpatient</td>\n",
       "      <td>Gross charge</td>\n",
       "      <td>1655.21</td>\n",
       "    </tr>\n",
       "    <tr>\n",
       "      <th>2</th>\n",
       "      <td>10006</td>\n",
       "      <td>FINE NEEDLE ASPIRATION BIOPSY USING ULTRASOUND...</td>\n",
       "      <td>Outpatient</td>\n",
       "      <td>Gross charge</td>\n",
       "      <td>836</td>\n",
       "    </tr>\n",
       "    <tr>\n",
       "      <th>3</th>\n",
       "      <td>10021</td>\n",
       "      <td>FINE NEEDLE ASPIRATION BIOPSY, FIRST GROWTH</td>\n",
       "      <td>Outpatient</td>\n",
       "      <td>Gross charge</td>\n",
       "      <td>539.75</td>\n",
       "    </tr>\n",
       "    <tr>\n",
       "      <th>4</th>\n",
       "      <td>10021</td>\n",
       "      <td>FINE NEEDLE ASPIRATION BIOPSY, FIRST GROWTH</td>\n",
       "      <td>Outpatient</td>\n",
       "      <td>Gross charge</td>\n",
       "      <td>539.75</td>\n",
       "    </tr>\n",
       "    <tr>\n",
       "      <th>...</th>\n",
       "      <td>...</td>\n",
       "      <td>...</td>\n",
       "      <td>...</td>\n",
       "      <td>...</td>\n",
       "      <td>...</td>\n",
       "    </tr>\n",
       "    <tr>\n",
       "      <th>2533554</th>\n",
       "      <td>Q4010</td>\n",
       "      <td>CAST SUPPLIES, SHORT ARM CAST, ADULT (11+ YEAR...</td>\n",
       "      <td>Outpatient</td>\n",
       "      <td>WPS GHA - MAC J5 PART B</td>\n",
       "      <td>21.29</td>\n",
       "    </tr>\n",
       "    <tr>\n",
       "      <th>2533556</th>\n",
       "      <td>Q4018</td>\n",
       "      <td>CAST SUPPLIES, LONG ARM SPLINT, ADULT (11+ YEA...</td>\n",
       "      <td>Outpatient</td>\n",
       "      <td>WPS GHA - MAC J5 PART B</td>\n",
       "      <td>15.87</td>\n",
       "    </tr>\n",
       "    <tr>\n",
       "      <th>2533561</th>\n",
       "      <td>Q4038</td>\n",
       "      <td>CAST SUPPLIES, SHORT LEG CAST, ADULT (11+ YEAR...</td>\n",
       "      <td>Outpatient</td>\n",
       "      <td>WPS GHA - MAC J5 PART B</td>\n",
       "      <td>45.05</td>\n",
       "    </tr>\n",
       "    <tr>\n",
       "      <th>2537782</th>\n",
       "      <td>87426</td>\n",
       "      <td>DETECTION TEST BY IMMUNOASSAY TECHNIQUE FOR SE...</td>\n",
       "      <td>Outpatient</td>\n",
       "      <td>WV TREASURY PEIA</td>\n",
       "      <td>50.05</td>\n",
       "    </tr>\n",
       "    <tr>\n",
       "      <th>2538281</th>\n",
       "      <td>99202</td>\n",
       "      <td>NEW PATIENT OFFICE OR OTHER OUTPATIENT VISIT, ...</td>\n",
       "      <td>Outpatient</td>\n",
       "      <td>WV TREASURY PEIA</td>\n",
       "      <td>190.84</td>\n",
       "    </tr>\n",
       "  </tbody>\n",
       "</table>\n",
       "<p>108883 rows × 5 columns</p>\n",
       "</div>"
      ],
      "text/plain": [
       "          code                                        description     setting   \n",
       "0        10005  FINE NEEDLE ASPIRATION BIOPSY USING ULTRASOUND...  Outpatient  \\\n",
       "1        10005  FINE NEEDLE ASPIRATION BIOPSY USING ULTRASOUND...  Outpatient   \n",
       "2        10006  FINE NEEDLE ASPIRATION BIOPSY USING ULTRASOUND...  Outpatient   \n",
       "3        10021        FINE NEEDLE ASPIRATION BIOPSY, FIRST GROWTH  Outpatient   \n",
       "4        10021        FINE NEEDLE ASPIRATION BIOPSY, FIRST GROWTH  Outpatient   \n",
       "...        ...                                                ...         ...   \n",
       "2533554  Q4010  CAST SUPPLIES, SHORT ARM CAST, ADULT (11+ YEAR...  Outpatient   \n",
       "2533556  Q4018  CAST SUPPLIES, LONG ARM SPLINT, ADULT (11+ YEA...  Outpatient   \n",
       "2533561  Q4038  CAST SUPPLIES, SHORT LEG CAST, ADULT (11+ YEAR...  Outpatient   \n",
       "2537782  87426  DETECTION TEST BY IMMUNOASSAY TECHNIQUE FOR SE...  Outpatient   \n",
       "2538281  99202  NEW PATIENT OFFICE OR OTHER OUTPATIENT VISIT, ...  Outpatient   \n",
       "\n",
       "                      payer_name standard_charge  \n",
       "0                   Gross charge         1655.21  \n",
       "1                   Gross charge         1655.21  \n",
       "2                   Gross charge             836  \n",
       "3                   Gross charge          539.75  \n",
       "4                   Gross charge          539.75  \n",
       "...                          ...             ...  \n",
       "2533554  WPS GHA - MAC J5 PART B           21.29  \n",
       "2533556  WPS GHA - MAC J5 PART B           15.87  \n",
       "2533561  WPS GHA - MAC J5 PART B           45.05  \n",
       "2537782         WV TREASURY PEIA           50.05  \n",
       "2538281         WV TREASURY PEIA          190.84  \n",
       "\n",
       "[108883 rows x 5 columns]"
      ]
     },
     "execution_count": 116,
     "metadata": {},
     "output_type": "execute_result"
    }
   ],
   "source": [
    "df"
   ]
  },
  {
   "cell_type": "code",
   "execution_count": 117,
   "metadata": {},
   "outputs": [],
   "source": [
    "df.loc[df['code'].str.match(r'^[A-Z][0-9]{4}$|^[0-9]{5}$|^[0-9]{4}[A-Z]$'), 'hcpcs_cpt'] = df['code']"
   ]
  },
  {
   "cell_type": "code",
   "execution_count": 118,
   "metadata": {},
   "outputs": [],
   "source": [
    "df.loc[df['code'].str.len() <= 3, 'ms_drg'] = df['code'].str.zfill(3)"
   ]
  }
 ],
 "metadata": {
  "kernelspec": {
   "display_name": "scraper2",
   "language": "python",
   "name": "python3"
  },
  "language_info": {
   "codemirror_mode": {
    "name": "ipython",
    "version": 3
   },
   "file_extension": ".py",
   "mimetype": "text/x-python",
   "name": "python",
   "nbconvert_exporter": "python",
   "pygments_lexer": "ipython3",
   "version": "3.9.15"
  },
  "orig_nbformat": 4
 },
 "nbformat": 4,
 "nbformat_minor": 2
}
