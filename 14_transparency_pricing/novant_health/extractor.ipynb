{
 "cells": [
  {
   "cell_type": "code",
   "execution_count": 25,
   "metadata": {},
   "outputs": [],
   "source": [
    "import pandas as pd"
   ]
  },
  {
   "cell_type": "code",
   "execution_count": 26,
   "metadata": {},
   "outputs": [],
   "source": [
    "folder = '.\\\\input_files\\\\'\n",
    "file = '56-0554230_novanthealthcharlotteorthopedichospital_standardcharges.csv'"
   ]
  },
  {
   "cell_type": "code",
   "execution_count": 27,
   "metadata": {},
   "outputs": [],
   "source": [
    "df = pd.read_csv(folder + file, dtype=str)"
   ]
  },
  {
   "cell_type": "code",
   "execution_count": 28,
   "metadata": {},
   "outputs": [],
   "source": [
    "df.rename(columns={\n",
    "    'Code': 'code',\n",
    "    'Code Description': 'description',\n",
    "    'CPT DRG': 'cpt_drg',\n",
    "    'Charge Detail': 'contracting_method'\n",
    "}, inplace=True)"
   ]
  },
  {
   "cell_type": "code",
   "execution_count": 29,
   "metadata": {},
   "outputs": [],
   "source": [
    "cols = df.columns.tolist()\n",
    "id_vars = cols[:4]\n",
    "val_vars = cols[4:]\n",
    "\n",
    "df = pd.melt(df, id_vars=id_vars, value_vars=val_vars, var_name='payer_name', value_name='standard_charge')"
   ]
  },
  {
   "cell_type": "code",
   "execution_count": 30,
   "metadata": {},
   "outputs": [],
   "source": [
    "df.dropna(subset='standard_charge', inplace=True)"
   ]
  },
  {
   "cell_type": "code",
   "execution_count": 31,
   "metadata": {},
   "outputs": [],
   "source": [
    "df['cpt_drg'] = df['cpt_drg'].str.upper()\n",
    "\n",
    "df.loc[df['cpt_drg'].str.len() == 5, 'hcpcs_cpt'] = df['cpt_drg']\n",
    "df.loc[df['cpt_drg'].str.len() == 3, 'ms_drg'] = df['cpt_drg']\n",
    "\n",
    "df.loc[df['hcpcs_cpt'] == '(BLAN', 'hcpcs_cpt'] = pd.NA"
   ]
  },
  {
   "cell_type": "code",
   "execution_count": 32,
   "metadata": {},
   "outputs": [],
   "source": [
    "df.loc[df['code'].str.startswith('NDC'), 'ndc'] = df['code'].str.replace('NDC', '')"
   ]
  },
  {
   "cell_type": "code",
   "execution_count": 33,
   "metadata": {},
   "outputs": [],
   "source": [
    "df.drop(columns='cpt_drg', inplace=True)"
   ]
  },
  {
   "cell_type": "code",
   "execution_count": 34,
   "metadata": {},
   "outputs": [],
   "source": [
    "mask = ~df['contracting_method'].str.lower().isin(['standard charge', 'per diem', 'case rate'])\n",
    "df.loc[mask, 'additional_payer_specific_notes'] = df['contracting_method']\n",
    "df.loc[mask, 'contracting_method'] = 'other' # nulls methods not in the mask, after they have been copied to notes\n",
    "\n",
    "df.loc[df['contracting_method'] == 'Standard Charge', 'contracting_method'] = pd.NA\n",
    "df['contracting_method'] = df['contracting_method'].str.lower()"
   ]
  },
  {
   "cell_type": "code",
   "execution_count": 35,
   "metadata": {},
   "outputs": [
    {
     "data": {
      "text/html": [
       "<div>\n",
       "<style scoped>\n",
       "    .dataframe tbody tr th:only-of-type {\n",
       "        vertical-align: middle;\n",
       "    }\n",
       "\n",
       "    .dataframe tbody tr th {\n",
       "        vertical-align: top;\n",
       "    }\n",
       "\n",
       "    .dataframe thead th {\n",
       "        text-align: right;\n",
       "    }\n",
       "</style>\n",
       "<table border=\"1\" class=\"dataframe\">\n",
       "  <thead>\n",
       "    <tr style=\"text-align: right;\">\n",
       "      <th></th>\n",
       "      <th>code</th>\n",
       "      <th>description</th>\n",
       "      <th>contracting_method</th>\n",
       "      <th>payer_name</th>\n",
       "      <th>standard_charge</th>\n",
       "      <th>hcpcs_cpt</th>\n",
       "      <th>ms_drg</th>\n",
       "      <th>ndc</th>\n",
       "      <th>additional_payer_specific_notes</th>\n",
       "    </tr>\n",
       "  </thead>\n",
       "  <tbody>\n",
       "    <tr>\n",
       "      <th>9548</th>\n",
       "      <td>360000033 - 3021</td>\n",
       "      <td>HC OR CATEGORY I EA ADDL 15 MIN</td>\n",
       "      <td>other</td>\n",
       "      <td>Gross Charge</td>\n",
       "      <td>297</td>\n",
       "      <td>NaN</td>\n",
       "      <td>NaN</td>\n",
       "      <td>NaN</td>\n",
       "      <td>Surgery Center Alt</td>\n",
       "    </tr>\n",
       "    <tr>\n",
       "      <th>10589</th>\n",
       "      <td>360000066 - 3021</td>\n",
       "      <td>HC OR CATEGORY II EA ADDL 15 MIN</td>\n",
       "      <td>other</td>\n",
       "      <td>Gross Charge</td>\n",
       "      <td>410</td>\n",
       "      <td>NaN</td>\n",
       "      <td>NaN</td>\n",
       "      <td>NaN</td>\n",
       "      <td>Surgery Center Alt</td>\n",
       "    </tr>\n",
       "    <tr>\n",
       "      <th>11025</th>\n",
       "      <td>360000107 - 3021</td>\n",
       "      <td>HC OR CATEGORY III EA ADDL 15MIN</td>\n",
       "      <td>other</td>\n",
       "      <td>Gross Charge</td>\n",
       "      <td>454</td>\n",
       "      <td>NaN</td>\n",
       "      <td>NaN</td>\n",
       "      <td>NaN</td>\n",
       "      <td>Surgery Center Alt</td>\n",
       "    </tr>\n",
       "    <tr>\n",
       "      <th>11063</th>\n",
       "      <td>750000017 - 3021</td>\n",
       "      <td>HC ENDO LEVEL 1  EA ADDL 15 MINS</td>\n",
       "      <td>other</td>\n",
       "      <td>Gross Charge</td>\n",
       "      <td>465</td>\n",
       "      <td>NaN</td>\n",
       "      <td>NaN</td>\n",
       "      <td>NaN</td>\n",
       "      <td>Surgery Center Alt</td>\n",
       "    </tr>\n",
       "    <tr>\n",
       "      <th>11211</th>\n",
       "      <td>710000003 - 3021</td>\n",
       "      <td>HC PACU  0-30 MIN PHASE I</td>\n",
       "      <td>other</td>\n",
       "      <td>Gross Charge</td>\n",
       "      <td>492</td>\n",
       "      <td>NaN</td>\n",
       "      <td>NaN</td>\n",
       "      <td>NaN</td>\n",
       "      <td>Surgery Center Alt</td>\n",
       "    </tr>\n",
       "    <tr>\n",
       "      <th>...</th>\n",
       "      <td>...</td>\n",
       "      <td>...</td>\n",
       "      <td>...</td>\n",
       "      <td>...</td>\n",
       "      <td>...</td>\n",
       "      <td>...</td>\n",
       "      <td>...</td>\n",
       "      <td>...</td>\n",
       "      <td>...</td>\n",
       "    </tr>\n",
       "    <tr>\n",
       "      <th>1388415</th>\n",
       "      <td>312000044_Specimen - 3071</td>\n",
       "      <td>HC IHC PER SPECIMEN ADDL STAIN</td>\n",
       "      <td>other</td>\n",
       "      <td>Amerihealth Caritas</td>\n",
       "      <td>67</td>\n",
       "      <td>88341</td>\n",
       "      <td>NaN</td>\n",
       "      <td>NaN</td>\n",
       "      <td>Specimen Alt</td>\n",
       "    </tr>\n",
       "    <tr>\n",
       "      <th>1388416</th>\n",
       "      <td>312000023_Specimen - 3071</td>\n",
       "      <td>HC SURG PATH LEVEL V ADD</td>\n",
       "      <td>other</td>\n",
       "      <td>Amerihealth Caritas</td>\n",
       "      <td>67</td>\n",
       "      <td>88307</td>\n",
       "      <td>NaN</td>\n",
       "      <td>NaN</td>\n",
       "      <td>Specimen Alt</td>\n",
       "    </tr>\n",
       "    <tr>\n",
       "      <th>1388417</th>\n",
       "      <td>312000022_Specimen - 3071</td>\n",
       "      <td>HC SURG PATH LEVEL V</td>\n",
       "      <td>other</td>\n",
       "      <td>Amerihealth Caritas</td>\n",
       "      <td>67</td>\n",
       "      <td>88307</td>\n",
       "      <td>NaN</td>\n",
       "      <td>NaN</td>\n",
       "      <td>Specimen Alt</td>\n",
       "    </tr>\n",
       "    <tr>\n",
       "      <th>1388826</th>\n",
       "      <td>312000025_Specimen - 3071</td>\n",
       "      <td>HC SURG PATH LEVEL VI ADD</td>\n",
       "      <td>other</td>\n",
       "      <td>Amerihealth Caritas</td>\n",
       "      <td>142</td>\n",
       "      <td>88309</td>\n",
       "      <td>NaN</td>\n",
       "      <td>NaN</td>\n",
       "      <td>Specimen Alt</td>\n",
       "    </tr>\n",
       "    <tr>\n",
       "      <th>1388827</th>\n",
       "      <td>312000024_Specimen - 3071</td>\n",
       "      <td>HC SURG PATH LEVEL VI</td>\n",
       "      <td>other</td>\n",
       "      <td>Amerihealth Caritas</td>\n",
       "      <td>142</td>\n",
       "      <td>88309</td>\n",
       "      <td>NaN</td>\n",
       "      <td>NaN</td>\n",
       "      <td>Specimen Alt</td>\n",
       "    </tr>\n",
       "  </tbody>\n",
       "</table>\n",
       "<p>9600 rows × 9 columns</p>\n",
       "</div>"
      ],
      "text/plain": [
       "                              code                       description   \n",
       "9548              360000033 - 3021   HC OR CATEGORY I EA ADDL 15 MIN  \\\n",
       "10589             360000066 - 3021  HC OR CATEGORY II EA ADDL 15 MIN   \n",
       "11025             360000107 - 3021  HC OR CATEGORY III EA ADDL 15MIN   \n",
       "11063             750000017 - 3021  HC ENDO LEVEL 1  EA ADDL 15 MINS   \n",
       "11211             710000003 - 3021         HC PACU  0-30 MIN PHASE I   \n",
       "...                            ...                               ...   \n",
       "1388415  312000044_Specimen - 3071    HC IHC PER SPECIMEN ADDL STAIN   \n",
       "1388416  312000023_Specimen - 3071          HC SURG PATH LEVEL V ADD   \n",
       "1388417  312000022_Specimen - 3071              HC SURG PATH LEVEL V   \n",
       "1388826  312000025_Specimen - 3071         HC SURG PATH LEVEL VI ADD   \n",
       "1388827  312000024_Specimen - 3071             HC SURG PATH LEVEL VI   \n",
       "\n",
       "        contracting_method           payer_name standard_charge hcpcs_cpt   \n",
       "9548                 other       Gross Charge               297       NaN  \\\n",
       "10589                other       Gross Charge               410       NaN   \n",
       "11025                other       Gross Charge               454       NaN   \n",
       "11063                other       Gross Charge               465       NaN   \n",
       "11211                other       Gross Charge               492       NaN   \n",
       "...                    ...                  ...             ...       ...   \n",
       "1388415              other  Amerihealth Caritas              67     88341   \n",
       "1388416              other  Amerihealth Caritas              67     88307   \n",
       "1388417              other  Amerihealth Caritas              67     88307   \n",
       "1388826              other  Amerihealth Caritas             142     88309   \n",
       "1388827              other  Amerihealth Caritas             142     88309   \n",
       "\n",
       "        ms_drg  ndc additional_payer_specific_notes  \n",
       "9548       NaN  NaN              Surgery Center Alt  \n",
       "10589      NaN  NaN              Surgery Center Alt  \n",
       "11025      NaN  NaN              Surgery Center Alt  \n",
       "11063      NaN  NaN              Surgery Center Alt  \n",
       "11211      NaN  NaN              Surgery Center Alt  \n",
       "...        ...  ...                             ...  \n",
       "1388415    NaN  NaN                    Specimen Alt  \n",
       "1388416    NaN  NaN                    Specimen Alt  \n",
       "1388417    NaN  NaN                    Specimen Alt  \n",
       "1388826    NaN  NaN                    Specimen Alt  \n",
       "1388827    NaN  NaN                    Specimen Alt  \n",
       "\n",
       "[9600 rows x 9 columns]"
      ]
     },
     "execution_count": 35,
     "metadata": {},
     "output_type": "execute_result"
    }
   ],
   "source": [
    "df.loc[~df['additional_payer_specific_notes'].isna()]"
   ]
  },
  {
   "cell_type": "code",
   "execution_count": 36,
   "metadata": {},
   "outputs": [],
   "source": [
    "df['payer_name'] = df['payer_name'].str.strip()"
   ]
  },
  {
   "cell_type": "code",
   "execution_count": 37,
   "metadata": {},
   "outputs": [],
   "source": [
    "payer_mapping = {\n",
    "    'Gross Charge': 'gross',\n",
    "    'De-identified minimum negotiated charge': 'min',\n",
    "    'De-identified maximum negotiated charge': 'max',\n",
    "    'Discounted cash price': 'cash'\n",
    "}\n",
    "\n",
    "df['payer_category'] = df['payer_name'].map(payer_mapping).fillna('payer')"
   ]
  },
  {
   "cell_type": "code",
   "execution_count": 38,
   "metadata": {},
   "outputs": [],
   "source": [
    "df.loc[df['description'].str.match(r'SUP\\d{6}'), 'line_type'] = 'sup'"
   ]
  },
  {
   "cell_type": "code",
   "execution_count": 24,
   "metadata": {},
   "outputs": [],
   "source": [
    "id_mapping = {\n",
    " '20-4278130_novanthealthbrunswickmedicalcenter_standardcharges.csv': '340158',\n",
    " '56-0554230_novanthealthcharlotteorthopedichospital_standardcharges.csv': '340153',\n",
    " '56-0928089_novanthealthforsythmedicalcenter_standardcharges.csv': '340014',\n",
    " '56-0554230_novanthealthhuntersvillemedicalcenter_standardcharges.csv': '340183',\n",
    " '56-1376368_novanthealthmatthewsmedicalcenter_standardcharges.csv': '340171',\n",
    " '56-1340424_novanthealthmedicalparkhospital_standardcharges.csv': '340148',\n",
    " '26-0599536_novanthealthminthillmedicalcenter_standardcharges.csv': '340190',\n",
    " '56-0887181_novanthealthnewhanorverregionalmedicalcenter_standardcharges.csv': '340141',\n",
    " '56-0653348_novanthealthpendermemorialhospital_standardcharges.csv': '341307',\n",
    " '56-0554230_novanthealthpresbyterianmedicalcenter_standardcharges.csv': '340053',\n",
    " '56-0547479_novanthealthrowanmedicalcenter_standardcharges.csv': '340015',\n",
    " '56-0636250_novanthealththomasvillemedicalcenter_standardcharges.csv': '340085'}\n",
    "\n",
    "hosp_id = id_mapping[file]\n",
    "df['hospital_id'] = hosp_id\n",
    "\n",
    "output_folder = '.\\\\output_files\\\\'\n",
    "\n",
    "file = hosp_id + '_' + file.split('_')[1] + '.csv'\n",
    "# df.to_csv(output_folder + file, index=False)"
   ]
  },
  {
   "cell_type": "code",
   "execution_count": 41,
   "metadata": {},
   "outputs": [
    {
     "data": {
      "text/plain": [
       "dict_values(['340158', '340153', '340014', '340183', '340171', '340148', '340190', '340141', '341307', '340053', '340015', '340085'])"
      ]
     },
     "execution_count": 41,
     "metadata": {},
     "output_type": "execute_result"
    }
   ],
   "source": [
    "id_mapping.values()"
   ]
  }
 ],
 "metadata": {
  "kernelspec": {
   "display_name": "scraper2",
   "language": "python",
   "name": "python3"
  },
  "language_info": {
   "codemirror_mode": {
    "name": "ipython",
    "version": 3
   },
   "file_extension": ".py",
   "mimetype": "text/x-python",
   "name": "python",
   "nbconvert_exporter": "python",
   "pygments_lexer": "ipython3",
   "version": "3.9.15"
  },
  "orig_nbformat": 4
 },
 "nbformat": 4,
 "nbformat_minor": 2
}
