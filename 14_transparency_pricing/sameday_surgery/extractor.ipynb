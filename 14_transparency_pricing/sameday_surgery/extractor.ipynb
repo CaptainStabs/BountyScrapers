{
 "cells": [
  {
   "cell_type": "code",
   "execution_count": 55,
   "metadata": {},
   "outputs": [],
   "source": [
    "import pandas as pd"
   ]
  },
  {
   "cell_type": "code",
   "execution_count": 56,
   "metadata": {},
   "outputs": [],
   "source": [
    "def payer_category(x):\n",
    "    payers = {\n",
    "        'Gross Charge': 'gross',\n",
    "        'Maximum Contracted Payment': 'max',\n",
    "        'Minimum Contracted Payment': 'min',\n",
    "        'Self Pay': 'cash',\n",
    "    }\n",
    "    \n",
    "    try:\n",
    "        return payers[x]\n",
    "    except KeyError:\n",
    "        return 'payer'"
   ]
  },
  {
   "cell_type": "code",
   "execution_count": 57,
   "metadata": {},
   "outputs": [],
   "source": [
    "file = '411889892_samedaysurgerycenterllc_standardcharges.xlsx'\n",
    "df = pd.read_excel(file, dtype={'Px Code': str, 'CPT(R)/HCPCS Code': str})"
   ]
  },
  {
   "cell_type": "code",
   "execution_count": 58,
   "metadata": {},
   "outputs": [],
   "source": [
    "df.rename(columns={\n",
    "    'Px Code': 'internal_code',\n",
    "    'Procedure Description': 'description',\n",
    "    'CPT(R)/HCPCS Code': 'code'\n",
    "}, inplace=True)"
   ]
  },
  {
   "cell_type": "code",
   "execution_count": 59,
   "metadata": {},
   "outputs": [],
   "source": [
    "# Skip first row\n",
    "df = df[1:]"
   ]
  },
  {
   "cell_type": "code",
   "execution_count": 60,
   "metadata": {},
   "outputs": [],
   "source": [
    "cols = df.columns.tolist()\n",
    "df = pd.melt(df, id_vars=cols[:3], value_vars=cols[3:], var_name='payer', value_name='standard_charge')"
   ]
  },
  {
   "cell_type": "code",
   "execution_count": 61,
   "metadata": {},
   "outputs": [],
   "source": [
    "# df['payer_name'] = df['payer_orig']\n",
    "df['payer_category'] = df['payer_orig'].apply(payer_category)\n",
    "df['standard_charge_desc'] = 'Subject to multiple procedure discounting'\n",
    "# df['code_orig'] = df['code']\n",
    "df.loc[df['code'].notnull(), 'hcpcs_cpt'] = df['code']"
   ]
  },
  {
   "cell_type": "code",
   "execution_count": 65,
   "metadata": {},
   "outputs": [],
   "source": [
    "# Cleaning\n",
    "df['standard_charge'] = df['standard_charge'].str.replace(',', '')\n",
    "\n",
    "# Null filling\n",
    "df['code'].fillna('na', inplace=True)\n",
    "# df['code_prefix'].fillna('none', inplace=True)\n",
    "\n",
    "\n",
    "\n",
    "df.dropna(subset=['standard_charge'], inplace=True)"
   ]
  },
  {
   "cell_type": "code",
   "execution_count": 63,
   "metadata": {},
   "outputs": [],
   "source": [
    "# df['hospital_ein'] = '41-1889892'\n",
    "# df['hospital_ccn'] = '430093'\n",
    "# df['filename'] = file\n",
    "# df['file_last_updated'] = '2022-12-01'\n",
    "df['url'] = 'http://www.samedaysurgerycenter.org/uploads/411889892_samedaysurgerycenterllc_standardcharges.xlsx'"
   ]
  },
  {
   "cell_type": "code",
   "execution_count": 64,
   "metadata": {},
   "outputs": [],
   "source": [
    "df.to_csv('sameday_surgery.csv', index=False)"
   ]
  }
 ],
 "metadata": {
  "kernelspec": {
   "display_name": "scraper",
   "language": "python",
   "name": "python3"
  },
  "language_info": {
   "codemirror_mode": {
    "name": "ipython",
    "version": 3
   },
   "file_extension": ".py",
   "mimetype": "text/x-python",
   "name": "python",
   "nbconvert_exporter": "python",
   "pygments_lexer": "ipython3",
   "version": "3.9.15"
  },
  "orig_nbformat": 4
 },
 "nbformat": 4,
 "nbformat_minor": 2
}
