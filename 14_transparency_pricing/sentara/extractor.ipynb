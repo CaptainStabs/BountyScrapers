{
 "cells": [
  {
   "cell_type": "code",
   "execution_count": 2,
   "metadata": {},
   "outputs": [],
   "source": [
    "import pandas as pd\n",
    "from tqdm import tqdm"
   ]
  },
  {
   "cell_type": "code",
   "execution_count": 96,
   "metadata": {},
   "outputs": [],
   "source": [
    "folder = './input_files/'\n",
    "\n",
    "file = 'sentara-norfolk-general-hospital_standardcharges.xlsx'\n",
    "\n",
    "var_name = 'payer_name'\n",
    "value_name = 'standard_charge'"
   ]
  },
  {
   "cell_type": "code",
   "execution_count": 97,
   "metadata": {},
   "outputs": [],
   "source": [
    "xls = pd.ExcelFile(folder + file)"
   ]
  },
  {
   "cell_type": "code",
   "execution_count": 98,
   "metadata": {},
   "outputs": [
    {
     "data": {
      "text/plain": [
       "['Gross Charges',\n",
       " 'Pharmacy & Supply Charges',\n",
       " 'Inpatient Minimum',\n",
       " 'Inpatient Maximum',\n",
       " 'IP Payer Specific Charge 1',\n",
       " 'IP Payer Specific Charge 2',\n",
       " 'IP Payer Specific Charge 3',\n",
       " 'IP Payer Specific Charge 4',\n",
       " 'IP Payer Specific Charge 5',\n",
       " 'IP Payer Specific Charge 6',\n",
       " 'IP Payer Specific Charge 7',\n",
       " 'IP Payer Specific Charge 8',\n",
       " 'IP Payer Specific Charge 9',\n",
       " 'IP Payer Specific Charge 10',\n",
       " 'IP Payer Specific Charge 11',\n",
       " 'IP Payer Specific Charge 12',\n",
       " 'IP Payer Specific Charge 13',\n",
       " 'IP Payer Specific Charge 14',\n",
       " 'IP Payer Specific Charge 15',\n",
       " 'IP Payer Specific Charge 16',\n",
       " 'IP Payer Specific Charge 17',\n",
       " 'IP Payer Specific Charge 18',\n",
       " 'IP Payer Specific Charge 19',\n",
       " 'IP Payer Specific Charge 20',\n",
       " 'IP Payer Specific Charge 21',\n",
       " 'IP Payer Specific Charge 22',\n",
       " 'IP Payer Specific Charge 23',\n",
       " 'IP Payer Specific Charge 24',\n",
       " 'IP Payer Specific Charge 25',\n",
       " 'IP Payer Specific Charge 26',\n",
       " 'IP Payer Specific Charge 27',\n",
       " 'IP Payer Specific Charge 28',\n",
       " 'IP Payer Specific Charge 29',\n",
       " 'IP Payer Specific Charge 30',\n",
       " 'IP Payer Specific Charge 31',\n",
       " 'Outpatient Minimum',\n",
       " 'Outpatient Maximum',\n",
       " 'OP Payer Specific Charge 1',\n",
       " 'OP Payer Specific Charge 2',\n",
       " 'OP Payer Specific Charge 3',\n",
       " 'OP Payer Specific Charge 4',\n",
       " 'OP Payer Specific Charge 5',\n",
       " 'OP Payer Specific Charge 6',\n",
       " 'OP Payer Specific Charge 7',\n",
       " 'OP Payer Specific Charge 8',\n",
       " 'OP Payer Specific Charge 9',\n",
       " 'OP Payer Specific Charge 10',\n",
       " 'OP Payer Specific Charge 11',\n",
       " 'OP Payer Specific Charge 12',\n",
       " 'OP Payer Specific Charge 13',\n",
       " 'OP Payer Specific Charge 14',\n",
       " 'OP Payer Specific Charge 15',\n",
       " 'OP Payer Specific Charge 16',\n",
       " 'OP Payer Specific Charge 17',\n",
       " 'OP Payer Specific Charge 18',\n",
       " 'OP Payer Specific Charge 19',\n",
       " 'OP Payer Specific Charge 20',\n",
       " 'OP Payer Specific Charge 21',\n",
       " 'OP Payer Specific Charge 22',\n",
       " 'OP Payer Specific Charge 23',\n",
       " 'OP Payer Specific Charge 24',\n",
       " 'OP Payer Specific Charge 25',\n",
       " 'OP Payer Specific Charge 26',\n",
       " 'OP Payer Specific Charge 27',\n",
       " 'OP Payer Specific Charge 28',\n",
       " 'OP Payer Specific Charge 29',\n",
       " 'OP Payer Specific Charge 30']"
      ]
     },
     "execution_count": 98,
     "metadata": {},
     "output_type": "execute_result"
    }
   ],
   "source": [
    "sheets = xls.sheet_names\n",
    "sheets.remove('Tab Summary')\n",
    "sheets.remove('Discounted Cash Price')\n",
    "sheets"
   ]
  },
  {
   "cell_type": "markdown",
   "metadata": {},
   "source": [
    "gc = gross charges\n",
    "psc = pharmacy & supply\n",
    "dcp = discounted cash price\n"
   ]
  },
  {
   "cell_type": "markdown",
   "metadata": {},
   "source": [
    "# Gross Charges"
   ]
  },
  {
   "cell_type": "code",
   "execution_count": 106,
   "metadata": {},
   "outputs": [],
   "source": [
    "gc_df = pd.read_excel(xls, 'Gross Charges', dtype=str, skiprows=4)"
   ]
  },
  {
   "cell_type": "code",
   "execution_count": 107,
   "metadata": {},
   "outputs": [],
   "source": [
    "gc_df.rename(columns={\n",
    "    'CDM': 'local_code',\n",
    "    'CDM Description': 'description',\n",
    "    'Revenue Code': 'rev_code',\n",
    "    'CPT/HCPCS': 'hcpcs_cpt',\n",
    "    'Fee Schedule Name': 'additional_payer_specific_notes'\n",
    "}, inplace=True)"
   ]
  },
  {
   "cell_type": "code",
   "execution_count": 111,
   "metadata": {},
   "outputs": [],
   "source": [
    "cols = gc_df.columns.tolist()\n",
    "id_vars = cols[:4]\n",
    "value_vars = cols[4:]\n",
    "if 'additional_payer_specific_notes' in cols:\n",
    "    id_vars.append('additional_payer_specific_notes')\n",
    "    value_vars.remove('additional_payer_specific_notes')\n",
    "\n",
    "gc_df = pd.melt(gc_df, id_vars=id_vars, value_vars=value_vars, var_name=var_name, value_name=value_name)"
   ]
  },
  {
   "cell_type": "code",
   "execution_count": 113,
   "metadata": {},
   "outputs": [],
   "source": [
    "if 'additional_payer_specific_notes' in cols:\n",
    "    gc_df.loc[gc_df['payer_name'] != 'Fee Schedule', 'additional_payer_specific_notes'] = pd.NA"
   ]
  },
  {
   "cell_type": "code",
   "execution_count": 9,
   "metadata": {},
   "outputs": [],
   "source": [
    "payer_mapping = {\n",
    "    'Unit Price': 'gross',\n",
    "    'Discount Cash Price': 'cash',\n",
    "    'Fee Schedule': 'negotiated'\n",
    "}\n",
    "\n",
    "gc_df['rate_category'] = gc_df['payer_name'].map(payer_mapping)"
   ]
  },
  {
   "cell_type": "code",
   "execution_count": 10,
   "metadata": {},
   "outputs": [],
   "source": [
    "sheets.remove('Gross Charges')"
   ]
  },
  {
   "cell_type": "markdown",
   "metadata": {},
   "source": [
    "# Pharmacy & Supply"
   ]
  },
  {
   "cell_type": "code",
   "execution_count": 116,
   "metadata": {},
   "outputs": [
    {
     "data": {
      "text/html": [
       "<div>\n",
       "<style scoped>\n",
       "    .dataframe tbody tr th:only-of-type {\n",
       "        vertical-align: middle;\n",
       "    }\n",
       "\n",
       "    .dataframe tbody tr th {\n",
       "        vertical-align: top;\n",
       "    }\n",
       "\n",
       "    .dataframe thead th {\n",
       "        text-align: right;\n",
       "    }\n",
       "</style>\n",
       "<table border=\"1\" class=\"dataframe\">\n",
       "  <thead>\n",
       "    <tr style=\"text-align: right;\">\n",
       "      <th></th>\n",
       "      <th>CDM</th>\n",
       "      <th>CDM DESCRIPTION</th>\n",
       "      <th>HCPCS</th>\n",
       "      <th>Revenue Code</th>\n",
       "      <th>Unit Price</th>\n",
       "      <th>Discount Cash Price</th>\n",
       "    </tr>\n",
       "  </thead>\n",
       "  <tbody>\n",
       "    <tr>\n",
       "      <th>0</th>\n",
       "      <td>50257585</td>\n",
       "      <td>ABALOPARATIDE 80 MCG (3,120 MCG/1.56 ML) PEN I...</td>\n",
       "      <td>NaN</td>\n",
       "      <td>250</td>\n",
       "      <td>7334</td>\n",
       "      <td>3667</td>\n",
       "    </tr>\n",
       "    <tr>\n",
       "      <th>1</th>\n",
       "      <td>50257585</td>\n",
       "      <td>ACETAMINOPHEN 160 MG/5 ML (5 ML) SOLN</td>\n",
       "      <td>NaN</td>\n",
       "      <td>250</td>\n",
       "      <td>1</td>\n",
       "      <td>0.5</td>\n",
       "    </tr>\n",
       "    <tr>\n",
       "      <th>2</th>\n",
       "      <td>50257585</td>\n",
       "      <td>ACETAMINOPHEN 160MG/5ML SOLN</td>\n",
       "      <td>NaN</td>\n",
       "      <td>250</td>\n",
       "      <td>2</td>\n",
       "      <td>1</td>\n",
       "    </tr>\n",
       "    <tr>\n",
       "      <th>3</th>\n",
       "      <td>50257585</td>\n",
       "      <td>ACETAMINOPHEN 650 MG/20.3 ML SUSPENSION</td>\n",
       "      <td>NaN</td>\n",
       "      <td>250</td>\n",
       "      <td>1</td>\n",
       "      <td>0.5</td>\n",
       "    </tr>\n",
       "    <tr>\n",
       "      <th>4</th>\n",
       "      <td>50257585</td>\n",
       "      <td>ACETYCHOLINE CHLORIDE 1 % (10 MG/ML) KIT</td>\n",
       "      <td>NaN</td>\n",
       "      <td>250</td>\n",
       "      <td>147</td>\n",
       "      <td>73.5</td>\n",
       "    </tr>\n",
       "    <tr>\n",
       "      <th>...</th>\n",
       "      <td>...</td>\n",
       "      <td>...</td>\n",
       "      <td>...</td>\n",
       "      <td>...</td>\n",
       "      <td>...</td>\n",
       "      <td>...</td>\n",
       "    </tr>\n",
       "    <tr>\n",
       "      <th>32101</th>\n",
       "      <td>74597017</td>\n",
       "      <td>HUMAN PROTHROMBIN COMPLEX (KCENTRA/PCC4) 500 U...</td>\n",
       "      <td>J7168</td>\n",
       "      <td>636</td>\n",
       "      <td>8</td>\n",
       "      <td>4</td>\n",
       "    </tr>\n",
       "    <tr>\n",
       "      <th>32102</th>\n",
       "      <td>74597017</td>\n",
       "      <td>RHO(D) IMMUNE GLOBULIN-MALTOSE 1,500 UNIT (300...</td>\n",
       "      <td>J2792</td>\n",
       "      <td>636</td>\n",
       "      <td>54</td>\n",
       "      <td>27</td>\n",
       "    </tr>\n",
       "    <tr>\n",
       "      <th>32103</th>\n",
       "      <td>74597017</td>\n",
       "      <td>RHO(D) IMMUNE GLOBULIN-MALTOSE 15000 UNIT(3000...</td>\n",
       "      <td>J2792</td>\n",
       "      <td>636</td>\n",
       "      <td>54</td>\n",
       "      <td>27</td>\n",
       "    </tr>\n",
       "    <tr>\n",
       "      <th>32104</th>\n",
       "      <td>74597017</td>\n",
       "      <td>VON WILLEBRAND FACTOR (RECOMB) 1,300 (+/-) UNI...</td>\n",
       "      <td>J7179</td>\n",
       "      <td>636</td>\n",
       "      <td>10</td>\n",
       "      <td>5</td>\n",
       "    </tr>\n",
       "    <tr>\n",
       "      <th>32105</th>\n",
       "      <td>74597018</td>\n",
       "      <td>GADOBUTROL</td>\n",
       "      <td>A9585</td>\n",
       "      <td>255</td>\n",
       "      <td>1</td>\n",
       "      <td>0.5</td>\n",
       "    </tr>\n",
       "  </tbody>\n",
       "</table>\n",
       "<p>32106 rows × 6 columns</p>\n",
       "</div>"
      ],
      "text/plain": [
       "            CDM                                    CDM DESCRIPTION  HCPCS  \\\n",
       "0      50257585  ABALOPARATIDE 80 MCG (3,120 MCG/1.56 ML) PEN I...    NaN   \n",
       "1      50257585              ACETAMINOPHEN 160 MG/5 ML (5 ML) SOLN    NaN   \n",
       "2      50257585                       ACETAMINOPHEN 160MG/5ML SOLN    NaN   \n",
       "3      50257585            ACETAMINOPHEN 650 MG/20.3 ML SUSPENSION    NaN   \n",
       "4      50257585           ACETYCHOLINE CHLORIDE 1 % (10 MG/ML) KIT    NaN   \n",
       "...         ...                                                ...    ...   \n",
       "32101  74597017  HUMAN PROTHROMBIN COMPLEX (KCENTRA/PCC4) 500 U...  J7168   \n",
       "32102  74597017  RHO(D) IMMUNE GLOBULIN-MALTOSE 1,500 UNIT (300...  J2792   \n",
       "32103  74597017  RHO(D) IMMUNE GLOBULIN-MALTOSE 15000 UNIT(3000...  J2792   \n",
       "32104  74597017  VON WILLEBRAND FACTOR (RECOMB) 1,300 (+/-) UNI...  J7179   \n",
       "32105  74597018                                         GADOBUTROL  A9585   \n",
       "\n",
       "      Revenue Code Unit Price Discount Cash Price  \n",
       "0              250       7334                3667  \n",
       "1              250          1                 0.5  \n",
       "2              250          2                   1  \n",
       "3              250          1                 0.5  \n",
       "4              250        147                73.5  \n",
       "...            ...        ...                 ...  \n",
       "32101          636          8                   4  \n",
       "32102          636         54                  27  \n",
       "32103          636         54                  27  \n",
       "32104          636         10                   5  \n",
       "32105          255          1                 0.5  \n",
       "\n",
       "[32106 rows x 6 columns]"
      ]
     },
     "execution_count": 116,
     "metadata": {},
     "output_type": "execute_result"
    }
   ],
   "source": [
    "psc = pd.read_excel(xls, 'Pharmacy & Supply Charges', dtype=str, skiprows=4)"
   ]
  },
  {
   "cell_type": "code",
   "execution_count": 12,
   "metadata": {},
   "outputs": [],
   "source": [
    "psc.rename(columns={\n",
    "    'CDM': 'local_code',\n",
    "    'CDM DESCRIPTION': 'description',\n",
    "    'HCPCS': 'hcpcs_cpt',\n",
    "    'Revenue Code': 'rev_code'\n",
    "}, inplace=True)"
   ]
  },
  {
   "cell_type": "code",
   "execution_count": 13,
   "metadata": {},
   "outputs": [],
   "source": [
    "cols = psc.columns.tolist()\n",
    "id_vars = cols[:4]\n",
    "value_vars = cols[4:]\n",
    "\n",
    "psc = pd.melt(psc, id_vars=id_vars, value_vars=value_vars, var_name=var_name, value_name=value_name)"
   ]
  },
  {
   "cell_type": "code",
   "execution_count": 14,
   "metadata": {},
   "outputs": [],
   "source": [
    "psc['rate_category'] = psc['payer_name'].map(payer_mapping)"
   ]
  },
  {
   "cell_type": "code",
   "execution_count": 15,
   "metadata": {},
   "outputs": [],
   "source": [
    "sheets.remove('Pharmacy & Supply Charges')"
   ]
  },
  {
   "cell_type": "markdown",
   "metadata": {},
   "source": [
    "# Inpatient Minimum"
   ]
  },
  {
   "cell_type": "code",
   "execution_count": 117,
   "metadata": {},
   "outputs": [
    {
     "data": {
      "text/html": [
       "<div>\n",
       "<style scoped>\n",
       "    .dataframe tbody tr th:only-of-type {\n",
       "        vertical-align: middle;\n",
       "    }\n",
       "\n",
       "    .dataframe tbody tr th {\n",
       "        vertical-align: top;\n",
       "    }\n",
       "\n",
       "    .dataframe thead th {\n",
       "        text-align: right;\n",
       "    }\n",
       "</style>\n",
       "<table border=\"1\" class=\"dataframe\">\n",
       "  <thead>\n",
       "    <tr style=\"text-align: right;\">\n",
       "      <th></th>\n",
       "      <th>MS-DRG</th>\n",
       "      <th>Description</th>\n",
       "      <th>De-Identified Minimum Negotiated Charge</th>\n",
       "    </tr>\n",
       "  </thead>\n",
       "  <tbody>\n",
       "    <tr>\n",
       "      <th>0</th>\n",
       "      <td>001</td>\n",
       "      <td>Heart Transplant Or Implant Of Heart Assist Sy...</td>\n",
       "      <td>143322</td>\n",
       "    </tr>\n",
       "    <tr>\n",
       "      <th>1</th>\n",
       "      <td>003</td>\n",
       "      <td>Ecmo Or Tracheostomy With Mv &gt;96 Hours Or Prin...</td>\n",
       "      <td>134794</td>\n",
       "    </tr>\n",
       "    <tr>\n",
       "      <th>2</th>\n",
       "      <td>004</td>\n",
       "      <td>Tracheostomy With Mv &gt;96 Hours Or Principal Di...</td>\n",
       "      <td>33372</td>\n",
       "    </tr>\n",
       "    <tr>\n",
       "      <th>3</th>\n",
       "      <td>010</td>\n",
       "      <td>Pancreas Transplant</td>\n",
       "      <td>31142</td>\n",
       "    </tr>\n",
       "    <tr>\n",
       "      <th>4</th>\n",
       "      <td>011</td>\n",
       "      <td>Tracheostomy For Face, Mouth And Neck Diagnose...</td>\n",
       "      <td>26856</td>\n",
       "    </tr>\n",
       "    <tr>\n",
       "      <th>...</th>\n",
       "      <td>...</td>\n",
       "      <td>...</td>\n",
       "      <td>...</td>\n",
       "    </tr>\n",
       "    <tr>\n",
       "      <th>565</th>\n",
       "      <td>982</td>\n",
       "      <td>Extensive O.R. Procedures Unrelated To Princip...</td>\n",
       "      <td>5424</td>\n",
       "    </tr>\n",
       "    <tr>\n",
       "      <th>566</th>\n",
       "      <td>983</td>\n",
       "      <td>Extensive O.R. Procedures Unrelated To Princip...</td>\n",
       "      <td>5541</td>\n",
       "    </tr>\n",
       "    <tr>\n",
       "      <th>567</th>\n",
       "      <td>987</td>\n",
       "      <td>Non-Extensive O.R. Procedures Unrelated To Pri...</td>\n",
       "      <td>13791</td>\n",
       "    </tr>\n",
       "    <tr>\n",
       "      <th>568</th>\n",
       "      <td>988</td>\n",
       "      <td>Non-Extensive O.R. Procedures Unrelated To Pri...</td>\n",
       "      <td>7432</td>\n",
       "    </tr>\n",
       "    <tr>\n",
       "      <th>569</th>\n",
       "      <td>989</td>\n",
       "      <td>Non-Extensive O.R. Procedures Unrelated To Pri...</td>\n",
       "      <td>19467</td>\n",
       "    </tr>\n",
       "  </tbody>\n",
       "</table>\n",
       "<p>570 rows × 3 columns</p>\n",
       "</div>"
      ],
      "text/plain": [
       "    MS-DRG                                        Description  \\\n",
       "0      001  Heart Transplant Or Implant Of Heart Assist Sy...   \n",
       "1      003  Ecmo Or Tracheostomy With Mv >96 Hours Or Prin...   \n",
       "2      004  Tracheostomy With Mv >96 Hours Or Principal Di...   \n",
       "3      010                                Pancreas Transplant   \n",
       "4      011  Tracheostomy For Face, Mouth And Neck Diagnose...   \n",
       "..     ...                                                ...   \n",
       "565    982  Extensive O.R. Procedures Unrelated To Princip...   \n",
       "566    983  Extensive O.R. Procedures Unrelated To Princip...   \n",
       "567    987  Non-Extensive O.R. Procedures Unrelated To Pri...   \n",
       "568    988  Non-Extensive O.R. Procedures Unrelated To Pri...   \n",
       "569    989  Non-Extensive O.R. Procedures Unrelated To Pri...   \n",
       "\n",
       "    De-Identified Minimum Negotiated Charge  \n",
       "0                                    143322  \n",
       "1                                    134794  \n",
       "2                                     33372  \n",
       "3                                     31142  \n",
       "4                                     26856  \n",
       "..                                      ...  \n",
       "565                                    5424  \n",
       "566                                    5541  \n",
       "567                                   13791  \n",
       "568                                    7432  \n",
       "569                                   19467  \n",
       "\n",
       "[570 rows x 3 columns]"
      ]
     },
     "execution_count": 117,
     "metadata": {},
     "output_type": "execute_result"
    }
   ],
   "source": [
    "ipmin = pd.read_excel(xls, 'Inpatient Minimum', dtype=str, skiprows=4)"
   ]
  },
  {
   "cell_type": "code",
   "execution_count": 17,
   "metadata": {},
   "outputs": [],
   "source": [
    "ipmin.rename(columns={\n",
    "    'MS-DRG': 'ms_drg',\n",
    "    'Description': 'description',\n",
    "}, inplace=True)"
   ]
  },
  {
   "cell_type": "code",
   "execution_count": 18,
   "metadata": {},
   "outputs": [],
   "source": [
    "cols = ipmin.columns.tolist()\n",
    "id_vars = cols[:2]\n",
    "value_vars = cols[2:]\n",
    "\n",
    "ipmin = pd.melt(ipmin, id_vars=id_vars, value_vars=value_vars, var_name=var_name, value_name=value_name)"
   ]
  },
  {
   "cell_type": "code",
   "execution_count": 19,
   "metadata": {},
   "outputs": [],
   "source": [
    "ipmin['rate_category'] = 'min'\n",
    "ipmin['setting'] = 'inpatient'"
   ]
  },
  {
   "cell_type": "code",
   "execution_count": 20,
   "metadata": {},
   "outputs": [],
   "source": [
    "sheets.remove('Inpatient Minimum')"
   ]
  },
  {
   "cell_type": "markdown",
   "metadata": {},
   "source": [
    "# Inpatient Maximum"
   ]
  },
  {
   "cell_type": "code",
   "execution_count": 21,
   "metadata": {},
   "outputs": [],
   "source": [
    "ipmax = pd.read_excel(xls, 'Inpatient Maximum', dtype=str, skiprows=4)"
   ]
  },
  {
   "cell_type": "code",
   "execution_count": 22,
   "metadata": {},
   "outputs": [],
   "source": [
    "ipmax.rename(columns={\n",
    "    'MS-DRG': 'ms_drg',\n",
    "    'Description': 'description',\n",
    "}, inplace=True)"
   ]
  },
  {
   "cell_type": "code",
   "execution_count": 23,
   "metadata": {},
   "outputs": [],
   "source": [
    "cols = ipmax.columns.tolist()\n",
    "id_vars = cols[:2]\n",
    "value_vars = cols[2:]\n",
    "\n",
    "ipmax = pd.melt(ipmax, id_vars=id_vars, value_vars=value_vars, var_name=var_name, value_name=value_name)"
   ]
  },
  {
   "cell_type": "code",
   "execution_count": 24,
   "metadata": {},
   "outputs": [],
   "source": [
    "ipmax['rate_category'] = 'max'\n",
    "ipmax['setting'] = 'inpatient'"
   ]
  },
  {
   "cell_type": "code",
   "execution_count": 25,
   "metadata": {},
   "outputs": [],
   "source": [
    "sheets.remove('Inpatient Maximum')"
   ]
  },
  {
   "cell_type": "markdown",
   "metadata": {},
   "source": [
    "# Outpatient Minimum"
   ]
  },
  {
   "cell_type": "code",
   "execution_count": 26,
   "metadata": {},
   "outputs": [],
   "source": [
    "opmin = pd.read_excel(xls, 'Outpatient Minimum', dtype=str, skiprows=4)\n",
    "\n",
    "opmin.rename(columns={\n",
    "    'APC': 'apc',\n",
    "    'Description': 'description',\n",
    "}, inplace=True)\n",
    "\n",
    "cols = opmin.columns.tolist()\n",
    "id_vars = cols[:2]\n",
    "value_vars = cols[2:]\n",
    "\n",
    "opmin = pd.melt(opmin, id_vars=id_vars, value_vars=value_vars, var_name=var_name, value_name=value_name)\n",
    "\n",
    "opmin['rate_category'] = 'min'\n",
    "opmin['setting'] = 'outpatient'\n",
    "\n",
    "mask = opmin['apc'].str.contains('N')\n",
    "opmin.loc[mask, 'code'] = opmin['apc']\n",
    "opmin.loc[mask, 'apc'] = pd.NA\n",
    "\n",
    "sheets.remove('Outpatient Minimum')"
   ]
  },
  {
   "cell_type": "markdown",
   "metadata": {},
   "source": [
    "# Outpatient Maximum"
   ]
  },
  {
   "cell_type": "code",
   "execution_count": 27,
   "metadata": {},
   "outputs": [],
   "source": [
    "opmax = pd.read_excel(xls, 'Outpatient Maximum', dtype=str, skiprows=4)\n",
    "\n",
    "opmax.rename(columns={\n",
    "    'APC': 'apc',\n",
    "    'Description': 'description',\n",
    "}, inplace=True)\n",
    "\n",
    "cols = opmax.columns.tolist()\n",
    "id_vars = cols[:2]\n",
    "value_vars = cols[2:]\n",
    "\n",
    "opmax = pd.melt(opmax, id_vars=id_vars, value_vars=value_vars, var_name=var_name, value_name=value_name)\n",
    "\n",
    "opmax['rate_category'] = 'max'\n",
    "opmax['setting'] = 'outpatient'\n",
    "\n",
    "mask = opmax['apc'].str.contains('N')\n",
    "opmax.loc[mask, 'code'] = opmax['apc']\n",
    "opmax.loc[mask, 'apc'] = pd.NA\n",
    "\n",
    "\n",
    "sheets.remove('Outpatient Maximum')"
   ]
  },
  {
   "cell_type": "markdown",
   "metadata": {},
   "source": [
    "# Inpatient Payers"
   ]
  },
  {
   "cell_type": "code",
   "execution_count": 28,
   "metadata": {},
   "outputs": [],
   "source": [
    "ip_sheets = [x for x in sheets if x.startswith('IP')]\n",
    "\n",
    "ip_dfs = []"
   ]
  },
  {
   "cell_type": "code",
   "execution_count": 29,
   "metadata": {},
   "outputs": [],
   "source": [
    "for sheet in ip_sheets:\n",
    "    df = pd.read_excel(xls, sheet, dtype=str)\n",
    "    \n",
    "    payer = df.iloc[2, 1]\n",
    "    df.columns = df.loc[5]\n",
    "    df = df.loc[6:]\n",
    "    \n",
    "    df.rename(columns={\n",
    "    'MS-DRG': 'ms_drg',\n",
    "    'Description': 'description',\n",
    "    'Payer Specific Negotiated Charge': 'standard_charge'\n",
    "    }, inplace=True)\n",
    "\n",
    "    df['payer_name'] = payer\n",
    "    df['rate_category'] = 'negotiated'\n",
    "\n",
    "    ip_dfs.append(df)\n"
   ]
  },
  {
   "cell_type": "code",
   "execution_count": 30,
   "metadata": {},
   "outputs": [],
   "source": [
    "ip_df = pd.concat(ip_dfs, ignore_index=True)\n",
    "\n",
    "ip_df['setting'] = 'inpatient'"
   ]
  },
  {
   "cell_type": "markdown",
   "metadata": {},
   "source": [
    "# Outpatient Payers"
   ]
  },
  {
   "cell_type": "code",
   "execution_count": 31,
   "metadata": {},
   "outputs": [],
   "source": [
    "op_sheets = [x for x in sheets if x.startswith('OP')]\n",
    "\n",
    "op_dfs = []"
   ]
  },
  {
   "cell_type": "code",
   "execution_count": 32,
   "metadata": {},
   "outputs": [],
   "source": [
    "for sheet in op_sheets:\n",
    "    df = pd.read_excel(xls, sheet, dtype=str)\n",
    "    \n",
    "    payer = df.iloc[2, 1]\n",
    "    df.columns = df.loc[5]\n",
    "    df = df.loc[6:]\n",
    "\n",
    "    df.rename(columns={\n",
    "        'APC': 'apc',\n",
    "        'Description': 'description',\n",
    "        'Payer Specific Negotiated Charge': 'standard_charge'\n",
    "    }, inplace=True)\n",
    "\n",
    "    df['payer_name'] = payer\n",
    "    df['rate_category'] = 'negotiated'\n",
    "\n",
    "    mask = df['apc'].str.startswith('N')\n",
    "    df.loc[mask, 'code'] = df['apc']\n",
    "    df.loc[mask, 'apc'] = pd.NA\n",
    "\n",
    "    op_dfs.append(df)\n"
   ]
  },
  {
   "cell_type": "code",
   "execution_count": 33,
   "metadata": {},
   "outputs": [],
   "source": [
    "op_df = pd.concat(op_dfs, ignore_index=True)\n",
    "\n",
    "op_df['setting'] = 'outpatient'"
   ]
  },
  {
   "cell_type": "code",
   "execution_count": 34,
   "metadata": {},
   "outputs": [],
   "source": [
    "dfs = [gc_df, psc, ipmin, ipmax, opmin, opmax, ip_df, op_df]\n",
    "\n",
    "df = pd.concat(dfs)"
   ]
  },
  {
   "cell_type": "code",
   "execution_count": 95,
   "metadata": {},
   "outputs": [
    {
     "data": {
      "text/html": [
       "<div>\n",
       "<style scoped>\n",
       "    .dataframe tbody tr th:only-of-type {\n",
       "        vertical-align: middle;\n",
       "    }\n",
       "\n",
       "    .dataframe tbody tr th {\n",
       "        vertical-align: top;\n",
       "    }\n",
       "\n",
       "    .dataframe thead th {\n",
       "        text-align: right;\n",
       "    }\n",
       "</style>\n",
       "<table border=\"1\" class=\"dataframe\">\n",
       "  <thead>\n",
       "    <tr style=\"text-align: right;\">\n",
       "      <th></th>\n",
       "      <th>local_code</th>\n",
       "      <th>description</th>\n",
       "      <th>rev_code</th>\n",
       "      <th>hcpcs_cpt</th>\n",
       "      <th>payer_name</th>\n",
       "      <th>standard_charge</th>\n",
       "      <th>rate_category</th>\n",
       "      <th>ms_drg</th>\n",
       "      <th>setting</th>\n",
       "      <th>apc</th>\n",
       "      <th>code</th>\n",
       "    </tr>\n",
       "  </thead>\n",
       "  <tbody>\n",
       "    <tr>\n",
       "      <th>0</th>\n",
       "      <td>10400001</td>\n",
       "      <td>NEW PATIENT - EYE EXAM</td>\n",
       "      <td>0510</td>\n",
       "      <td>92002</td>\n",
       "      <td>Unit Price</td>\n",
       "      <td>409</td>\n",
       "      <td>gross</td>\n",
       "      <td>NaN</td>\n",
       "      <td>NaN</td>\n",
       "      <td>NaN</td>\n",
       "      <td>NaN</td>\n",
       "    </tr>\n",
       "    <tr>\n",
       "      <th>8065</th>\n",
       "      <td>10400001</td>\n",
       "      <td>NEW PATIENT - EYE EXAM</td>\n",
       "      <td>0510</td>\n",
       "      <td>92002</td>\n",
       "      <td>Discount Cash Price</td>\n",
       "      <td>0</td>\n",
       "      <td>cash</td>\n",
       "      <td>NaN</td>\n",
       "      <td>NaN</td>\n",
       "      <td>NaN</td>\n",
       "      <td>NaN</td>\n",
       "    </tr>\n",
       "    <tr>\n",
       "      <th>0</th>\n",
       "      <td>NaN</td>\n",
       "      <td>Ecmo Or Tracheostomy With Mv &gt;96 Hours Or Prin...</td>\n",
       "      <td>NaN</td>\n",
       "      <td>NaN</td>\n",
       "      <td>De-Identified Minimum Negotiated Charge</td>\n",
       "      <td>191459</td>\n",
       "      <td>min</td>\n",
       "      <td>003</td>\n",
       "      <td>inpatient</td>\n",
       "      <td>NaN</td>\n",
       "      <td>NaN</td>\n",
       "    </tr>\n",
       "    <tr>\n",
       "      <th>0</th>\n",
       "      <td>NaN</td>\n",
       "      <td>Ecmo Or Tracheostomy With Mv &gt;96 Hours Or Prin...</td>\n",
       "      <td>NaN</td>\n",
       "      <td>NaN</td>\n",
       "      <td>De-Identified Maximum Negotiated Charge</td>\n",
       "      <td>191459</td>\n",
       "      <td>max</td>\n",
       "      <td>003</td>\n",
       "      <td>inpatient</td>\n",
       "      <td>NaN</td>\n",
       "      <td>NaN</td>\n",
       "    </tr>\n",
       "    <tr>\n",
       "      <th>0</th>\n",
       "      <td>NaN</td>\n",
       "      <td>Ecmo Or Tracheostomy With Mv &gt;96 Hours Or Prin...</td>\n",
       "      <td>NaN</td>\n",
       "      <td>NaN</td>\n",
       "      <td>Medicaid Managed Care - Optima</td>\n",
       "      <td>191459</td>\n",
       "      <td>negotiated</td>\n",
       "      <td>003</td>\n",
       "      <td>inpatient</td>\n",
       "      <td>NaN</td>\n",
       "      <td>NaN</td>\n",
       "    </tr>\n",
       "  </tbody>\n",
       "</table>\n",
       "</div>"
      ],
      "text/plain": [
       "     local_code                                        description rev_code  \\\n",
       "0      10400001                             NEW PATIENT - EYE EXAM     0510   \n",
       "8065   10400001                             NEW PATIENT - EYE EXAM     0510   \n",
       "0           NaN  Ecmo Or Tracheostomy With Mv >96 Hours Or Prin...      NaN   \n",
       "0           NaN  Ecmo Or Tracheostomy With Mv >96 Hours Or Prin...      NaN   \n",
       "0           NaN  Ecmo Or Tracheostomy With Mv >96 Hours Or Prin...      NaN   \n",
       "\n",
       "     hcpcs_cpt                               payer_name standard_charge  \\\n",
       "0        92002                               Unit Price             409   \n",
       "8065     92002                      Discount Cash Price               0   \n",
       "0          NaN  De-Identified Minimum Negotiated Charge          191459   \n",
       "0          NaN  De-Identified Maximum Negotiated Charge          191459   \n",
       "0          NaN           Medicaid Managed Care - Optima          191459   \n",
       "\n",
       "     rate_category ms_drg    setting  apc code  \n",
       "0            gross    NaN        NaN  NaN  NaN  \n",
       "8065          cash    NaN        NaN  NaN  NaN  \n",
       "0              min    003  inpatient  NaN  NaN  \n",
       "0              max    003  inpatient  NaN  NaN  \n",
       "0       negotiated    003  inpatient  NaN  NaN  "
      ]
     },
     "execution_count": 95,
     "metadata": {},
     "output_type": "execute_result"
    }
   ],
   "source": [
    "df.drop_duplicates(subset='rate_category')"
   ]
  }
 ],
 "metadata": {
  "kernelspec": {
   "display_name": "scraper",
   "language": "python",
   "name": "python3"
  },
  "language_info": {
   "codemirror_mode": {
    "name": "ipython",
    "version": 3
   },
   "file_extension": ".py",
   "mimetype": "text/x-python",
   "name": "python",
   "nbconvert_exporter": "python",
   "pygments_lexer": "ipython3",
   "version": "3.8.8"
  },
  "orig_nbformat": 4
 },
 "nbformat": 4,
 "nbformat_minor": 2
}
