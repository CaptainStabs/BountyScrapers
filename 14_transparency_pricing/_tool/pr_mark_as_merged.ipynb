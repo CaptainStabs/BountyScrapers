{
 "cells": [
  {
   "cell_type": "code",
   "execution_count": 16,
   "metadata": {},
   "outputs": [],
   "source": [
    "import requests\n",
    "import json"
   ]
  },
  {
   "cell_type": "code",
   "execution_count": 17,
   "metadata": {},
   "outputs": [],
   "source": [
    "pull_id = '233'"
   ]
  },
  {
   "cell_type": "code",
   "execution_count": 18,
   "metadata": {},
   "outputs": [],
   "source": [
    "headers = {\n",
    "  'sec-ch-ua': '\"Not.A/Brand\";v=\"8\", \"Chromium\";v=\"114\", \"Google Chrome\";v=\"114\"',\n",
    "  'accept': '*/*',\n",
    "  'content-type': 'application/json',\n",
    "  'DNT': '1',\n",
    "  'sec-ch-ua-mobile': '?0',\n",
    "  'User-Agent': 'Mozilla/5.0 (Windows NT 10.0; Win64; x64) AppleWebKit/537.36 (KHTML, like Gecko) Chrome/114.0.0.0 Safari/537.36',\n",
    "  'sec-ch-ua-platform': '\"Windows\"',\n",
    "  'Sec-Fetch-Site': 'same-origin',\n",
    "  'Sec-Fetch-Mode': 'cors',\n",
    "  'Sec-Fetch-Dest': 'empty',\n",
    "  'host': 'www.dolthub.com',\n",
    "  'Cookie': 'dolthubToken=ldst.v1.h3l63i4uch9emn3t12nu13gjattjtebgdugn0vd64gn8mclumi2g'\n",
    "}"
   ]
  },
  {
   "cell_type": "code",
   "execution_count": 19,
   "metadata": {},
   "outputs": [],
   "source": [
    "url = \"https://www.dolthub.com/graphql\"\n",
    "\n",
    "payload = json.dumps({\n",
    "  \"operationName\": \"PullForPullDetailsQuery\",\n",
    "  \"variables\": {\n",
    "    \"ownerName\": \"dolthub\",\n",
    "    \"repoName\": \"transparency-in-pricing\",\n",
    "    \"pullId\": pull_id\n",
    "  },\n",
    "  \"query\": \"query PullForPullDetailsQuery($repoName: String!, $ownerName: String!, $pullId: String!) {\\n  pull(repoName: $repoName, ownerName: $ownerName, pullId: $pullId) {\\n    ...PullForPullDetails\\n    __typename\\n  }\\n}\\n\\nfragment PullForPullDetails on Pull {\\n  _id\\n  pullId\\n  state\\n  title\\n  description\\n  fromBranchName\\n  fromBranchOwnerName\\n  fromBranchRepoName\\n  toBranchName\\n  toBranchOwnerName\\n  toBranchRepoName\\n  creatorName\\n  isFork\\n  createdAt\\n  allowMaintainerToEditFromBranch\\n  __typename\\n}\"\n",
    "})\n",
    "\n",
    "response = requests.request(\"POST\", url, headers=headers, data=payload)\n"
   ]
  },
  {
   "cell_type": "code",
   "execution_count": 20,
   "metadata": {},
   "outputs": [],
   "source": [
    "jd = response.json()"
   ]
  },
  {
   "cell_type": "code",
   "execution_count": 21,
   "metadata": {},
   "outputs": [],
   "source": [
    "jd = jd['data']['pull']\n",
    "title = jd['title']\n",
    "description = jd['description']"
   ]
  },
  {
   "cell_type": "code",
   "execution_count": 22,
   "metadata": {},
   "outputs": [
    {
     "data": {
      "text/plain": [
       "<Response [200]>"
      ]
     },
     "execution_count": 22,
     "metadata": {},
     "output_type": "execute_result"
    }
   ],
   "source": [
    "payload = json.dumps({\n",
    "  \"operationName\": \"UpdatePullInfo\",\n",
    "  \"variables\": {\n",
    "    \"_id\": f\"repositoryOwners/dolthub/repositories/transparency-in-pricing/pulls/{pull_id}\",\n",
    "    \"state\": \"Merged\",\n",
    "    \"title\": title,\n",
    "    \"description\": description,\n",
    "    \"allowMaintainerToEditFromBranch\": False\n",
    "  },\n",
    "  \"query\": \"mutation UpdatePullInfo($_id: String!, $title: String!, $description: String!, $state: PullState!, $allowMaintainerToEditFromBranch: Boolean!) {\\n  updatePull(\\n    _id: $_id\\n    title: $title\\n    description: $description\\n    state: $state\\n    allowMaintainerToEditFromBranch: $allowMaintainerToEditFromBranch\\n  ) {\\n    _id\\n    __typename\\n  }\\n}\\n\"\n",
    "})\n",
    "\n",
    "requests.request(\"POST\", url, headers=headers, data=payload)"
   ]
  },
  {
   "cell_type": "code",
   "execution_count": null,
   "metadata": {},
   "outputs": [],
   "source": []
  }
 ],
 "metadata": {
  "kernelspec": {
   "display_name": "scraper",
   "language": "python",
   "name": "python3"
  },
  "language_info": {
   "codemirror_mode": {
    "name": "ipython",
    "version": 3
   },
   "file_extension": ".py",
   "mimetype": "text/x-python",
   "name": "python",
   "nbconvert_exporter": "python",
   "pygments_lexer": "ipython3",
   "version": "3.9.15"
  },
  "orig_nbformat": 4
 },
 "nbformat": 4,
 "nbformat_minor": 2
}
