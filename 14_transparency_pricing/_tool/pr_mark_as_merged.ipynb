{
 "cells": [
  {
   "cell_type": "code",
   "execution_count": 1,
   "metadata": {},
   "outputs": [],
   "source": [
    "import requests\n",
    "import json"
   ]
  },
  {
   "cell_type": "code",
   "execution_count": 19,
   "metadata": {},
   "outputs": [],
   "source": [
    "pull_id = '222'"
   ]
  },
  {
   "cell_type": "code",
   "execution_count": null,
   "metadata": {},
   "outputs": [],
   "source": [
    "headers = {\n",
    "  'sec-ch-ua': '\"Not.A/Brand\";v=\"8\", \"Chromium\";v=\"114\", \"Google Chrome\";v=\"114\"',\n",
    "  'accept': '*/*',\n",
    "  'content-type': 'application/json',\n",
    "  'DNT': '1',\n",
    "  'sec-ch-ua-mobile': '?0',\n",
    "  'User-Agent': 'Mozilla/5.0 (Windows NT 10.0; Win64; x64) AppleWebKit/537.36 (KHTML, like Gecko) Chrome/114.0.0.0 Safari/537.36',\n",
    "  'sec-ch-ua-platform': '\"Windows\"',\n",
    "  'Sec-Fetch-Site': 'same-origin',\n",
    "  'Sec-Fetch-Mode': 'cors',\n",
    "  'Sec-Fetch-Dest': 'empty',\n",
    "  'host': 'www.dolthub.com',\n",
    "  'Cookie': '__cuid=7a2eaaaf1f9242d7a12a6790ed4791f9; __hstc=234007937.6e98fae360cd7edfb22f64580ff26947.1677768199943.1678456614272.1678468305241.8; _ga=GA1.1.1957537265.1677768199; _ga_BF3PNBH479=GS1.1.1678468303.8.1.1678469683.0.0.0; amp_fef1e8=557864ef-1f1d-450d-a600-ea3534fa297cR...1gs4spuec.1gs4ss2m5.f.9.o; hubspotutk=6e98fae360cd7edfb22f64580ff26947; __stripe_mid=ae2c4a64-d3d2-4722-933b-57465d873899a474c6; __stripe_sid=c0ff531c-c442-4530-893a-e031c7353ac8dbc781; dolthubToken=ldst.v1.h3l63i4uch9emn3t12nu13gjattjtebgdugn0vd64gn8mclumi2g'\n",
    "}"
   ]
  },
  {
   "cell_type": "code",
   "execution_count": 4,
   "metadata": {},
   "outputs": [
    {
     "name": "stdout",
     "output_type": "stream",
     "text": [
      "<bound method Response.json of <Response [200]>>\n"
     ]
    }
   ],
   "source": [
    "url = \"https://www.dolthub.com/graphql\"\n",
    "\n",
    "payload = json.dumps({\n",
    "  \"operationName\": \"PullForPullDetailsQuery\",\n",
    "  \"variables\": {\n",
    "    \"ownerName\": \"dolthub\",\n",
    "    \"repoName\": \"transparency-in-pricing\",\n",
    "    \"pullId\": pull_id\n",
    "  },\n",
    "  \"query\": \"query PullForPullDetailsQuery($repoName: String!, $ownerName: String!, $pullId: String!) {\\n  pull(repoName: $repoName, ownerName: $ownerName, pullId: $pullId) {\\n    ...PullForPullDetails\\n    __typename\\n  }\\n}\\n\\nfragment PullForPullDetails on Pull {\\n  _id\\n  pullId\\n  state\\n  title\\n  description\\n  fromBranchName\\n  fromBranchOwnerName\\n  fromBranchRepoName\\n  toBranchName\\n  toBranchOwnerName\\n  toBranchRepoName\\n  creatorName\\n  isFork\\n  createdAt\\n  allowMaintainerToEditFromBranch\\n  __typename\\n}\"\n",
    "})\n",
    "\n",
    "response = requests.request(\"POST\", url, headers=headers, data=payload)\n"
   ]
  },
  {
   "cell_type": "code",
   "execution_count": 13,
   "metadata": {},
   "outputs": [],
   "source": [
    "jd = response.json()"
   ]
  },
  {
   "cell_type": "code",
   "execution_count": 16,
   "metadata": {},
   "outputs": [],
   "source": [
    "jd = jd['data']['pull']\n",
    "title = jd['title']\n",
    "description = jd['description']"
   ]
  },
  {
   "cell_type": "code",
   "execution_count": 21,
   "metadata": {},
   "outputs": [],
   "source": [
    "payload = json.dumps({\n",
    "  \"operationName\": \"UpdatePullInfo\",\n",
    "  \"variables\": {\n",
    "    \"_id\": f\"repositoryOwners/dolthub/repositories/transparency-in-pricing/pulls/{pull_id}\",\n",
    "    \"state\": \"Merged\",\n",
    "    \"title\": title,\n",
    "    \"description\": description,\n",
    "    \"allowMaintainerToEditFromBranch\": False\n",
    "  },\n",
    "  \"query\": \"mutation UpdatePullInfo($_id: String!, $title: String!, $description: String!, $state: PullState!, $allowMaintainerToEditFromBranch: Boolean!) {\\n  updatePull(\\n    _id: $_id\\n    title: $title\\n    description: $description\\n    state: $state\\n    allowMaintainerToEditFromBranch: $allowMaintainerToEditFromBranch\\n  ) {\\n    _id\\n    __typename\\n  }\\n}\\n\"\n",
    "})\n",
    "\n",
    "requests.request(\"POST\", url, headers=headers, data=payload)"
   ]
  },
  {
   "cell_type": "code",
   "execution_count": 22,
   "metadata": {},
   "outputs": [
    {
     "name": "stdout",
     "output_type": "stream",
     "text": [
      "<Response [200]>\n"
     ]
    }
   ],
   "source": []
  }
 ],
 "metadata": {
  "kernelspec": {
   "display_name": "scraper",
   "language": "python",
   "name": "python3"
  },
  "language_info": {
   "codemirror_mode": {
    "name": "ipython",
    "version": 3
   },
   "file_extension": ".py",
   "mimetype": "text/x-python",
   "name": "python",
   "nbconvert_exporter": "python",
   "pygments_lexer": "ipython3",
   "version": "3.9.7"
  },
  "orig_nbformat": 4
 },
 "nbformat": 4,
 "nbformat_minor": 2
}
