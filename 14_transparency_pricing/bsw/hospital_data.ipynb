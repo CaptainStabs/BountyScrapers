{
 "cells": [
  {
   "cell_type": "code",
   "execution_count": 1,
   "metadata": {},
   "outputs": [],
   "source": [
    "import pandas as pd\n",
    "import re"
   ]
  },
  {
   "cell_type": "code",
   "execution_count": 40,
   "metadata": {},
   "outputs": [
    {
     "data": {
      "text/plain": [
       "28"
      ]
     },
     "execution_count": 40,
     "metadata": {},
     "output_type": "execute_result"
    }
   ],
   "source": [
    "files = ['20-2850920_baylor-scott-and-white-continuing-care-hospital_standardcharges.csv',\n",
    " '20-3749695_baylor-scott-and-white-emergency-med-ctr-cedar-park_standardcharges.csv',\n",
    " '74-1166904_baylor-scott-and-white-mclane-childrens_standardcharges.csv',\n",
    " '81-3040663_baylor-scott-and-white-medical-center-austin_standardcharges.csv',\n",
    " '81-3040663_baylor-scott-and-white-medical-center-buda_standardcharges.csv',\n",
    " '74-2519752_baylor-scott-and-white-medical-center-brenham_standardcharges.csv',\n",
    " '27-4434451_baylor-scott-and-white-med-center-college-station_standardcharges.csv',\n",
    " '74-1161944_baylor-scott-and-white-medical-center-hillcrest_standardcharges.csv',\n",
    " '20-3749695_baylor-scott-and-white--medical-center-lakeway_standardcharges.csv',\n",
    " '46-4007700_baylor-scott-and-white-medical-center-marble-falls_standardcharges.csv',\n",
    " '81-3040663_baylor-scott-and-white-med-center-pflugerville_standardcharges.csv',\n",
    " '20-3749695_baylor-scott-and-white-medical-center-round-rock_standardcharges.csv',\n",
    " '74-1595711_baylor-scott-and-white-medical-center-taylor_standardcharges.csv',\n",
    " '74-1166904_baylor-scott-and-white-medical-center-temple_standardcharges.csv',\n",
    " '74-1166904_baylor-scott-and-white-pavilion-temple_standardcharges.csv',\n",
    " '75-2834135_baylor-scott-and-white-heart-and-vascular-hospital_standardcharges.csv',\n",
    " '75-1008430_baylor-scott-and-white-all-saints-medical-center_standardcharges.csv',\n",
    " '82-4052186_baylor-scott-and-white-medical-center-centennial_standardcharges.csv',\n",
    " '75-1777119_baylor-scott-and-white-medical-center-grapevine_standardcharges.csv',\n",
    " '75-2586857_baylor-scott-and-white-medical-center-irving_standardcharges.csv',\n",
    " '26-0194016_baylor-scott-and-white-medical-center-lake-pointe_standardcharges.csv',\n",
    " '75-1037591_baylor-scott-and-white-medical-center-mckinney_standardcharges.csv',\n",
    " '82-0551704_baylor-scott-and-white-medical-center-plano_standardcharges.csv',\n",
    " '75-1844139_baylor-scott-and-white-medical-center-waxahachie_standardcharges.csv',\n",
    " '26-3603862_baylor-scott-and-white-heart-hospital-denton_standardcharges.csv',\n",
    " '41-2101361_baylor-scott-and-white-heart-hospital-mckinney_standardcharges.csv',\n",
    " '41-2101361_baylor-scott-and-white-heart-hospital-plano_standardcharges.csv',\n",
    " '75-1837454_baylor-university-medical-center_standardcharges.csv']"
   ]
  },
  {
   "cell_type": "code",
   "execution_count": 41,
   "metadata": {},
   "outputs": [],
   "source": [
    "df = pd.read_csv('hospital.csv', dtype=str)"
   ]
  },
  {
   "cell_type": "code",
   "execution_count": 38,
   "metadata": {},
   "outputs": [
    {
     "name": "stdout",
     "output_type": "stream",
     "text": [
      "BAYLOR SCOTT AND WHITE CONTINUING CARE HOSPITAL\n",
      "BAYLOR SCOTT AND WHITE EMERGENCY MED CTR CEDAR PARK\n",
      "BAYLOR SCOTT AND WHITE MCLANE CHILDRENS\n",
      "BAYLOR SCOTT AND WHITE MEDICAL CENTER AUSTIN\n",
      "BAYLOR SCOTT AND WHITE MEDICAL CENTER BUDA\n",
      "BAYLOR SCOTT AND WHITE MEDICAL CENTER BRENHAM\n",
      "BAYLOR SCOTT AND WHITE MED CENTER COLLEGE STATION\n",
      "BAYLOR SCOTT AND WHITE MEDICAL CENTER HILLCREST\n",
      "BAYLOR SCOTT AND WHITE\n",
      "BAYLOR SCOTT AND WHITE MEDICAL CENTER MARBLE FALLS\n",
      "BAYLOR SCOTT AND WHITE MED CENTER PFLUGERVILLE\n",
      "BAYLOR SCOTT AND WHITE MEDICAL CENTER ROUND ROCK\n",
      "BAYLOR SCOTT AND WHITE MEDICAL CENTER TAYLOR\n",
      "BAYLOR SCOTT AND WHITE MEDICAL CENTER TEMPLE\n",
      "BAYLOR SCOTT AND WHITE PAVILION TEMPLE\n",
      "BAYLOR SCOTT AND WHITE HEART AND VASCULAR HOSPITAL\n",
      "BAYLOR SCOTT AND WHITE ALL SAINTS MEDICAL CENTER\n",
      "BAYLOR SCOTT AND WHITE MEDICAL CENTER CENTENNIAL\n",
      "BAYLOR SCOTT AND WHITE MEDICAL CENTER GRAPEVINE\n",
      "BAYLOR SCOTT AND WHITE MEDICAL CENTER IRVING\n",
      "BAYLOR SCOTT AND WHITE MEDICAL CENTER LAKE POINTE\n",
      "BAYLOR SCOTT AND WHITE MEDICAL CENTER MCKINNEY\n",
      "BAYLOR SCOTT AND WHITE MEDICAL CENTER PLANO\n",
      "BAYLOR SCOTT AND WHITE MEDICAL CENTER WAXAHACHIE\n",
      "BAYLOR SCOTT AND WHITE HEART HOSPITAL DENTON\n",
      "BAYLOR SCOTT AND WHITE HEART HOSPITAL MCKINNEY\n",
      "BAYLOR SCOTT AND WHITE HEART HOSPITAL PLANO\n",
      "BAYLOR UNIVERSITY MEDICAL CENTER\n"
     ]
    }
   ],
   "source": [
    "for file in files:\n",
    "    match = re.search(r'(?<=_)[a-z]+(-[a-z]+)*', file)\n",
    "    if match:\n",
    "        name = match.group(0).replace('-', ' ').upper()\n",
    "        print(name)\n",
    "        df['score'] = df['name'].apply(lambda x: sum([1 for word in name.split() if word in x]))\n",
    "        max_score = df['score'].max()\n",
    "        if max_score > 0:\n",
    "            matches = df.loc[df['score'] == max_score]\n",
    "            if len(matches) == 1:\n",
    "                df.loc[df['score'] == max_score, 'file_name'] = file\n",
    "            else:\n",
    "                # If there are multiple matches with the same score, use the one with the longest name\n",
    "                exact_matches = matches.loc[matches['name'] == name.replace('UNIVERSITY', '').strip()]\n",
    "                if len(exact_matches) == 1:\n",
    "                    df.loc[df['name'] == exact_matches.iloc[0]['name'], 'file_name'] = file\n",
    "                else:\n",
    "                    exact_matches = matches.loc[matches['name'].str.contains(name.replace('UNIVERSITY', '').strip(), regex=False)]\n",
    "                    if len(exact_matches) == 1:\n",
    "                        df.loc[df['name'] == exact_matches.iloc[0]['name'], 'file_name'] = file\n",
    "                    else:\n",
    "                        max_length = matches['name'].str.len().max()\n",
    "                        df.loc[(df['score'] == max_score) & (df['name'].str.len() == max_length), 'file_name'] = file\n",
    "\n",
    "# df[['name', 'file_name', 'city']].to_csv('test.csv', index=False)"
   ]
  },
  {
   "cell_type": "code",
   "execution_count": 39,
   "metadata": {},
   "outputs": [],
   "source": [
    "# df.to_csv('test.csv', index=False)"
   ]
  },
  {
   "cell_type": "code",
   "execution_count": 2,
   "metadata": {},
   "outputs": [],
   "source": [
    "df = pd.read_csv('test.csv', dtype=str)"
   ]
  },
  {
   "cell_type": "code",
   "execution_count": 47,
   "metadata": {},
   "outputs": [
    {
     "data": {
      "text/plain": [
       "['74-1166904_baylor-scott-and-white-mclane-childrens_standardcharges.csv',\n",
       " '74-1166904_baylor-scott-and-white-pavilion-temple_standardcharges.csv',\n",
       " '41-2101361_baylor-scott-and-white-heart-hospital-mckinney_standardcharges.csv']"
      ]
     },
     "execution_count": 47,
     "metadata": {},
     "output_type": "execute_result"
    }
   ],
   "source": [
    "not_found_files = [f for f in files if not any(name in f for name in df['file_name'].values)]\n",
    "not_found_files"
   ]
  },
  {
   "cell_type": "code",
   "execution_count": 3,
   "metadata": {},
   "outputs": [],
   "source": [
    "df['ein'] = df['file_name'].str.split('_').str[0]"
   ]
  },
  {
   "cell_type": "code",
   "execution_count": 5,
   "metadata": {},
   "outputs": [
    {
     "data": {
      "text/plain": [
       "{'74-1166904': '450054',\n",
       " '75-2586857': '450079',\n",
       " '74-1161944': '450101',\n",
       " '75-1008430': '450137',\n",
       " '75-1844139': '450372',\n",
       " '75-1777119': '450563',\n",
       " '75-2834135': '450851',\n",
       " '82-0551704': '450890',\n",
       " '74-1595711': '451374',\n",
       " '20-2850920': '452105',\n",
       " '41-2101361': '670025',\n",
       " '20-3749695': '670043',\n",
       " '27-4434451': '670088',\n",
       " '46-4007700': '670108',\n",
       " '81-3040663': '670136',\n",
       " '74-2519752': '450187',\n",
       " '82-4052186': '450885',\n",
       " '26-0194016': '450742',\n",
       " '75-1037591': '670082',\n",
       " '26-3603862': '450893',\n",
       " '75-1837454': '450021'}"
      ]
     },
     "execution_count": 5,
     "metadata": {},
     "output_type": "execute_result"
    }
   ],
   "source": [
    "ein_ccn_dict = dict(zip(df['ein'], df['id']))\n",
    "ein_ccn_dict"
   ]
  },
  {
   "cell_type": "code",
   "execution_count": 59,
   "metadata": {},
   "outputs": [],
   "source": [
    "df['stdchg_file_url'] = 'https://www.bswhealth.com/-/media/project/bsw/sites/bswhealth/documents/patient-tools/estimate-cost-of-care/' + df['file_name']"
   ]
  },
  {
   "cell_type": "code",
   "execution_count": 6,
   "metadata": {},
   "outputs": [
    {
     "data": {
      "text/plain": [
       "0     NaN\n",
       "1     NaN\n",
       "2     NaN\n",
       "3     NaN\n",
       "4     NaN\n",
       "5     NaN\n",
       "6     NaN\n",
       "7     NaN\n",
       "8     NaN\n",
       "9     NaN\n",
       "10    NaN\n",
       "11    NaN\n",
       "12    NaN\n",
       "13    NaN\n",
       "14    NaN\n",
       "15    NaN\n",
       "16    NaN\n",
       "17    NaN\n",
       "18    NaN\n",
       "19    NaN\n",
       "20    NaN\n",
       "21    NaN\n",
       "22    NaN\n",
       "23    NaN\n",
       "24    NaN\n",
       "Name: stdchg_file_url, dtype: object"
      ]
     },
     "execution_count": 6,
     "metadata": {},
     "output_type": "execute_result"
    }
   ],
   "source": [
    "df['stdchg_file_url']"
   ]
  },
  {
   "cell_type": "code",
   "execution_count": 61,
   "metadata": {},
   "outputs": [],
   "source": [
    "df.to_csv('hospital_import.csv', index=False)"
   ]
  }
 ],
 "metadata": {
  "kernelspec": {
   "display_name": "scraper2",
   "language": "python",
   "name": "python3"
  },
  "language_info": {
   "codemirror_mode": {
    "name": "ipython",
    "version": 3
   },
   "file_extension": ".py",
   "mimetype": "text/x-python",
   "name": "python",
   "nbconvert_exporter": "python",
   "pygments_lexer": "ipython3",
   "version": "3.9.15"
  },
  "orig_nbformat": 4
 },
 "nbformat": 4,
 "nbformat_minor": 2
}
