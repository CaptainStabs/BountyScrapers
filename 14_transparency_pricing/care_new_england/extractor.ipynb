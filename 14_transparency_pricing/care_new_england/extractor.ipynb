{
 "cells": [
  {
   "cell_type": "code",
   "execution_count": 194,
   "metadata": {},
   "outputs": [],
   "source": [
    "import pandas as pd\n",
    "import polars as pl"
   ]
  },
  {
   "cell_type": "code",
   "execution_count": 195,
   "metadata": {},
   "outputs": [],
   "source": [
    "def payer_category(payer):\n",
    "    payers = {\n",
    "        'AVERAGE CHARGES': 'gross',\n",
    "        'CHARGE AMOUNT': 'gross',\n",
    "        'SELF PAY CHARGE': 'cash',\n",
    "        'MINIMUM RATE': 'min',\n",
    "        'MAXIMUM RATE': 'max',\n",
    "    }\n",
    "\n",
    "    try:\n",
    "        return payers[payer]\n",
    "    except KeyError:\n",
    "        return 'payer'"
   ]
  },
  {
   "cell_type": "code",
   "execution_count": 196,
   "metadata": {},
   "outputs": [],
   "source": [
    "hospital_id = {\n",
    "    '050258896': '410009',\n",
    "    '050258937': '410010'\n",
    "}"
   ]
  },
  {
   "cell_type": "code",
   "execution_count": 248,
   "metadata": {},
   "outputs": [],
   "source": [
    "file = '050258937_W&I Price Transparency 2023.xlsx'\n",
    "df = pd.read_excel(file, sheet_name='INPATIENT SERVICES')"
   ]
  },
  {
   "cell_type": "code",
   "execution_count": 249,
   "metadata": {},
   "outputs": [],
   "source": [
    "# Strip columns\n",
    "# df.rename(columns=lambda x: x.strip().replace('\\n', ' '), inplace=True)\n",
    "df.rename(columns=lambda x: x.strip(), inplace=True)"
   ]
  },
  {
   "cell_type": "code",
   "execution_count": 250,
   "metadata": {},
   "outputs": [],
   "source": [
    "df.rename(columns={\n",
    "    'DRG': 'code',\n",
    "    'DRG TYPE': 'line_type',\n",
    "    'DESCRIPTION': 'description',\n",
    "}, inplace=True)"
   ]
  },
  {
   "cell_type": "code",
   "execution_count": 251,
   "metadata": {},
   "outputs": [],
   "source": [
    "cols = df.columns.tolist()\n",
    "id_vars = cols[:3]\n",
    "value_vars = cols[3:]\n",
    "\n",
    "df = pd.melt(df, id_vars=id_vars, value_vars=value_vars, var_name='payer', value_name='standard_charge')"
   ]
  },
  {
   "cell_type": "code",
   "execution_count": 252,
   "metadata": {},
   "outputs": [],
   "source": [
    "df.dropna(subset=['standard_charge'], inplace=True)"
   ]
  },
  {
   "cell_type": "code",
   "execution_count": 253,
   "metadata": {},
   "outputs": [],
   "source": [
    "df.loc[df['line_type'] == 'MS-DRG', 'ms_drg'] = df['code']\n",
    "df.loc[df['line_type'] == 'APR-DRG', 'apr_drg'] = df['code']"
   ]
  },
  {
   "cell_type": "code",
   "execution_count": 254,
   "metadata": {},
   "outputs": [],
   "source": [
    "df['payer_category'] = df['payer'].apply(payer_category)\n",
    "df['setting'] = 'inpatient'\n",
    "\n",
    "df['hospital_id'] = hospital_id[file.split(\"_\")[0]]"
   ]
  },
  {
   "cell_type": "code",
   "execution_count": 255,
   "metadata": {},
   "outputs": [
    {
     "name": "stderr",
     "output_type": "stream",
     "text": [
      "C:\\Users\\adria\\AppData\\Local\\Temp\\ipykernel_8712\\3516599390.py:1: SettingWithCopyWarning: \n",
      "A value is trying to be set on a copy of a slice from a DataFrame\n",
      "\n",
      "See the caveats in the documentation: https://pandas.pydata.org/pandas-docs/stable/user_guide/indexing.html#returning-a-view-versus-a-copy\n",
      "  df[['apr_drg', 'ms_drg', 'code']].fillna('', inplace=True)\n"
     ]
    }
   ],
   "source": [
    "df[['apr_drg', 'ms_drg', 'code']].fillna('', inplace=True)\n",
    "df['apr_drg'] = df['apr_drg'].astype(str)\n",
    "df['code'] = df['code'].astype(str)\n",
    "df['ms_drg'] = df['ms_drg'].astype(str)"
   ]
  },
  {
   "cell_type": "code",
   "execution_count": 256,
   "metadata": {},
   "outputs": [],
   "source": [
    "df.loc[df['code'] == 'nan', 'code'] = ''\n",
    "df.loc[df['ms_drg'] == 'nan', 'ms_drg'] = ''\n",
    "df.loc[df['apr_drg'] == 'nan', 'apr_drg'] = ''"
   ]
  },
  {
   "cell_type": "code",
   "execution_count": 257,
   "metadata": {},
   "outputs": [],
   "source": [
    "df['standard_charge'] = pd.to_numeric(df['standard_charge'], errors='coerce')\n",
    "\n",
    "df.dropna(subset='standard_charge', inplace=True)"
   ]
  },
  {
   "cell_type": "code",
   "execution_count": 258,
   "metadata": {},
   "outputs": [
    {
     "data": {
      "text/html": [
       "<div>\n",
       "<style scoped>\n",
       "    .dataframe tbody tr th:only-of-type {\n",
       "        vertical-align: middle;\n",
       "    }\n",
       "\n",
       "    .dataframe tbody tr th {\n",
       "        vertical-align: top;\n",
       "    }\n",
       "\n",
       "    .dataframe thead th {\n",
       "        text-align: right;\n",
       "    }\n",
       "</style>\n",
       "<table border=\"1\" class=\"dataframe\">\n",
       "  <thead>\n",
       "    <tr style=\"text-align: right;\">\n",
       "      <th></th>\n",
       "      <th>code</th>\n",
       "      <th>line_type</th>\n",
       "      <th>description</th>\n",
       "      <th>payer</th>\n",
       "      <th>standard_charge</th>\n",
       "      <th>ms_drg</th>\n",
       "      <th>apr_drg</th>\n",
       "      <th>payer_category</th>\n",
       "      <th>setting</th>\n",
       "      <th>hospital_id</th>\n",
       "    </tr>\n",
       "  </thead>\n",
       "  <tbody>\n",
       "    <tr>\n",
       "      <th>0</th>\n",
       "      <td>001</td>\n",
       "      <td>MS-DRG</td>\n",
       "      <td>HEART TRANSPLANT OR IMPLANT OF HEART ASSIST SY...</td>\n",
       "      <td>AVERAGE CHARGES</td>\n",
       "      <td>604888.000000</td>\n",
       "      <td>001</td>\n",
       "      <td></td>\n",
       "      <td>gross</td>\n",
       "      <td>inpatient</td>\n",
       "      <td>410010</td>\n",
       "    </tr>\n",
       "    <tr>\n",
       "      <th>1</th>\n",
       "      <td>002</td>\n",
       "      <td>MS-DRG</td>\n",
       "      <td>HEART TRANSPLANT OR IMPLANT OF HEART ASSIST SY...</td>\n",
       "      <td>AVERAGE CHARGES</td>\n",
       "      <td>313187.000000</td>\n",
       "      <td>002</td>\n",
       "      <td></td>\n",
       "      <td>gross</td>\n",
       "      <td>inpatient</td>\n",
       "      <td>410010</td>\n",
       "    </tr>\n",
       "    <tr>\n",
       "      <th>2</th>\n",
       "      <td>003</td>\n",
       "      <td>MS-DRG</td>\n",
       "      <td>ECMO OR TRACHEOSTOMY WITH MV &gt;96 HOURS OR PRIN...</td>\n",
       "      <td>AVERAGE CHARGES</td>\n",
       "      <td>408077.232500</td>\n",
       "      <td>003</td>\n",
       "      <td></td>\n",
       "      <td>gross</td>\n",
       "      <td>inpatient</td>\n",
       "      <td>410010</td>\n",
       "    </tr>\n",
       "    <tr>\n",
       "      <th>3</th>\n",
       "      <td>004</td>\n",
       "      <td>MS-DRG</td>\n",
       "      <td>TRACHEOSTOMY WITH MV &gt;96 HOURS OR PRINCIPAL DI...</td>\n",
       "      <td>AVERAGE CHARGES</td>\n",
       "      <td>318503.163333</td>\n",
       "      <td>004</td>\n",
       "      <td></td>\n",
       "      <td>gross</td>\n",
       "      <td>inpatient</td>\n",
       "      <td>410010</td>\n",
       "    </tr>\n",
       "    <tr>\n",
       "      <th>4</th>\n",
       "      <td>005</td>\n",
       "      <td>MS-DRG</td>\n",
       "      <td>LIVER TRANSPLANT WITH MCC OR INTESTINAL TRANSP...</td>\n",
       "      <td>AVERAGE CHARGES</td>\n",
       "      <td>214125.000000</td>\n",
       "      <td>005</td>\n",
       "      <td></td>\n",
       "      <td>gross</td>\n",
       "      <td>inpatient</td>\n",
       "      <td>410010</td>\n",
       "    </tr>\n",
       "    <tr>\n",
       "      <th>...</th>\n",
       "      <td>...</td>\n",
       "      <td>...</td>\n",
       "      <td>...</td>\n",
       "      <td>...</td>\n",
       "      <td>...</td>\n",
       "      <td>...</td>\n",
       "      <td>...</td>\n",
       "      <td>...</td>\n",
       "      <td>...</td>\n",
       "      <td>...</td>\n",
       "    </tr>\n",
       "    <tr>\n",
       "      <th>69508</th>\n",
       "      <td>982</td>\n",
       "      <td>MS-DRG</td>\n",
       "      <td>EXTENSIVE O.R. PROCEDURES UNRELATED TO PRINCIP...</td>\n",
       "      <td>UNITED ACO TIERED</td>\n",
       "      <td>29925.000000</td>\n",
       "      <td>982</td>\n",
       "      <td></td>\n",
       "      <td>payer</td>\n",
       "      <td>inpatient</td>\n",
       "      <td>410010</td>\n",
       "    </tr>\n",
       "    <tr>\n",
       "      <th>69509</th>\n",
       "      <td>983</td>\n",
       "      <td>MS-DRG</td>\n",
       "      <td>EXTENSIVE O.R. PROCEDURES UNRELATED TO PRINCIP...</td>\n",
       "      <td>UNITED ACO TIERED</td>\n",
       "      <td>20214.000000</td>\n",
       "      <td>983</td>\n",
       "      <td></td>\n",
       "      <td>payer</td>\n",
       "      <td>inpatient</td>\n",
       "      <td>410010</td>\n",
       "    </tr>\n",
       "    <tr>\n",
       "      <th>69510</th>\n",
       "      <td>987</td>\n",
       "      <td>MS-DRG</td>\n",
       "      <td>NON-EXTENSIVE O.R. PROCEDURES UNRELATED TO PRI...</td>\n",
       "      <td>UNITED ACO TIERED</td>\n",
       "      <td>46110.000000</td>\n",
       "      <td>987</td>\n",
       "      <td></td>\n",
       "      <td>payer</td>\n",
       "      <td>inpatient</td>\n",
       "      <td>410010</td>\n",
       "    </tr>\n",
       "    <tr>\n",
       "      <th>69511</th>\n",
       "      <td>988</td>\n",
       "      <td>MS-DRG</td>\n",
       "      <td>NON-EXTENSIVE O.R. PROCEDURES UNRELATED TO PRI...</td>\n",
       "      <td>UNITED ACO TIERED</td>\n",
       "      <td>29925.000000</td>\n",
       "      <td>988</td>\n",
       "      <td></td>\n",
       "      <td>payer</td>\n",
       "      <td>inpatient</td>\n",
       "      <td>410010</td>\n",
       "    </tr>\n",
       "    <tr>\n",
       "      <th>69512</th>\n",
       "      <td>989</td>\n",
       "      <td>MS-DRG</td>\n",
       "      <td>NON-EXTENSIVE O.R. PROCEDURES UNRELATED TO PRI...</td>\n",
       "      <td>UNITED ACO TIERED</td>\n",
       "      <td>20214.000000</td>\n",
       "      <td>989</td>\n",
       "      <td></td>\n",
       "      <td>payer</td>\n",
       "      <td>inpatient</td>\n",
       "      <td>410010</td>\n",
       "    </tr>\n",
       "  </tbody>\n",
       "</table>\n",
       "<p>36864 rows × 10 columns</p>\n",
       "</div>"
      ],
      "text/plain": [
       "      code line_type                                        description   \n",
       "0      001    MS-DRG  HEART TRANSPLANT OR IMPLANT OF HEART ASSIST SY...  \\\n",
       "1      002    MS-DRG  HEART TRANSPLANT OR IMPLANT OF HEART ASSIST SY...   \n",
       "2      003    MS-DRG  ECMO OR TRACHEOSTOMY WITH MV >96 HOURS OR PRIN...   \n",
       "3      004    MS-DRG  TRACHEOSTOMY WITH MV >96 HOURS OR PRINCIPAL DI...   \n",
       "4      005    MS-DRG  LIVER TRANSPLANT WITH MCC OR INTESTINAL TRANSP...   \n",
       "...    ...       ...                                                ...   \n",
       "69508  982    MS-DRG  EXTENSIVE O.R. PROCEDURES UNRELATED TO PRINCIP...   \n",
       "69509  983    MS-DRG  EXTENSIVE O.R. PROCEDURES UNRELATED TO PRINCIP...   \n",
       "69510  987    MS-DRG  NON-EXTENSIVE O.R. PROCEDURES UNRELATED TO PRI...   \n",
       "69511  988    MS-DRG  NON-EXTENSIVE O.R. PROCEDURES UNRELATED TO PRI...   \n",
       "69512  989    MS-DRG  NON-EXTENSIVE O.R. PROCEDURES UNRELATED TO PRI...   \n",
       "\n",
       "                   payer  standard_charge ms_drg apr_drg payer_category   \n",
       "0        AVERAGE CHARGES    604888.000000    001                  gross  \\\n",
       "1        AVERAGE CHARGES    313187.000000    002                  gross   \n",
       "2        AVERAGE CHARGES    408077.232500    003                  gross   \n",
       "3        AVERAGE CHARGES    318503.163333    004                  gross   \n",
       "4        AVERAGE CHARGES    214125.000000    005                  gross   \n",
       "...                  ...              ...    ...     ...            ...   \n",
       "69508  UNITED ACO TIERED     29925.000000    982                  payer   \n",
       "69509  UNITED ACO TIERED     20214.000000    983                  payer   \n",
       "69510  UNITED ACO TIERED     46110.000000    987                  payer   \n",
       "69511  UNITED ACO TIERED     29925.000000    988                  payer   \n",
       "69512  UNITED ACO TIERED     20214.000000    989                  payer   \n",
       "\n",
       "         setting hospital_id  \n",
       "0      inpatient      410010  \n",
       "1      inpatient      410010  \n",
       "2      inpatient      410010  \n",
       "3      inpatient      410010  \n",
       "4      inpatient      410010  \n",
       "...          ...         ...  \n",
       "69508  inpatient      410010  \n",
       "69509  inpatient      410010  \n",
       "69510  inpatient      410010  \n",
       "69511  inpatient      410010  \n",
       "69512  inpatient      410010  \n",
       "\n",
       "[36864 rows x 10 columns]"
      ]
     },
     "execution_count": 258,
     "metadata": {},
     "output_type": "execute_result"
    }
   ],
   "source": [
    "df"
   ]
  },
  {
   "cell_type": "code",
   "execution_count": 208,
   "metadata": {},
   "outputs": [],
   "source": [
    "dtypes = {\n",
    "    'code': str,\n",
    "    'ms_drg': str,\n",
    "    'apr_drg': str\n",
    "}\n",
    "df1 = pl.from_pandas(df, schema_overrides=dtypes)\n",
    "df1.write_csv(file.split('_')[0] + 'inpatient.csv')"
   ]
  },
  {
   "cell_type": "code",
   "execution_count": 209,
   "metadata": {},
   "outputs": [],
   "source": [
    "df = pd.read_excel(file, sheet_name='OUTPATIENT SERVICES')"
   ]
  },
  {
   "cell_type": "code",
   "execution_count": 210,
   "metadata": {},
   "outputs": [],
   "source": [
    "df.rename(columns={\n",
    "    'CPT': 'code',\n",
    "    'REVENUE CODE': 'rev_code',\n",
    "    'CHARGE CODE': 'local_code',\n",
    "    'DESCRIPTION': 'description',\n",
    "},\n",
    "    inplace=True)"
   ]
  },
  {
   "cell_type": "code",
   "execution_count": 211,
   "metadata": {},
   "outputs": [],
   "source": [
    "cols = df.columns.tolist()\n",
    "id_vars = cols[:6]\n",
    "value_vars = cols[6:]\n",
    "\n",
    "df = pd.melt(df, id_vars=id_vars, value_vars=value_vars, var_name='payer', value_name='standard_charge')"
   ]
  },
  {
   "cell_type": "code",
   "execution_count": 212,
   "metadata": {},
   "outputs": [],
   "source": [
    "df['payer_category'] = df['payer'].apply(payer_category)"
   ]
  },
  {
   "cell_type": "code",
   "execution_count": 213,
   "metadata": {},
   "outputs": [],
   "source": [
    "df['hospital_id'] = hospital_id[file.split(\"_\")[0]]\n",
    "df['setting'] = 'outpatient'"
   ]
  },
  {
   "cell_type": "code",
   "execution_count": 214,
   "metadata": {},
   "outputs": [],
   "source": [
    "df['standard_charge'] = pd.to_numeric(df['standard_charge'], errors='coerce')"
   ]
  },
  {
   "cell_type": "code",
   "execution_count": 215,
   "metadata": {},
   "outputs": [
    {
     "name": "stderr",
     "output_type": "stream",
     "text": [
      "C:\\Users\\adria\\AppData\\Local\\Temp\\ipykernel_8712\\1351761337.py:2: SettingWithCopyWarning: \n",
      "A value is trying to be set on a copy of a slice from a DataFrame\n",
      "\n",
      "See the caveats in the documentation: https://pandas.pydata.org/pandas-docs/stable/user_guide/indexing.html#returning-a-view-versus-a-copy\n",
      "  df[non_null_cols].fillna('', inplace=True)\n"
     ]
    }
   ],
   "source": [
    "non_null_cols = ['code', 'rev_code', 'local_code']\n",
    "df[non_null_cols].fillna('', inplace=True)"
   ]
  },
  {
   "cell_type": "code",
   "execution_count": 216,
   "metadata": {},
   "outputs": [],
   "source": [
    "df[non_null_cols] = df[non_null_cols].astype(str)"
   ]
  },
  {
   "cell_type": "code",
   "execution_count": 217,
   "metadata": {},
   "outputs": [],
   "source": [
    "df.loc[df['code'] == 'nan', 'code'] = ''\n",
    "df.loc[df['rev_code'] == 'nan','rev_code'] = ''\n",
    "df.loc[df['local_code'] == 'nan', 'local_code'] = ''"
   ]
  },
  {
   "cell_type": "code",
   "execution_count": 218,
   "metadata": {},
   "outputs": [],
   "source": [
    "df.drop(columns=['GL DESCRIPTION', 'GL KEY'], inplace=True)"
   ]
  },
  {
   "cell_type": "code",
   "execution_count": 219,
   "metadata": {},
   "outputs": [],
   "source": [
    "df.dropna(subset='standard_charge', inplace=True)"
   ]
  },
  {
   "cell_type": "code",
   "execution_count": 220,
   "metadata": {},
   "outputs": [],
   "source": [
    "df['rev_code'] = df['rev_code'].str.zfill(4)"
   ]
  },
  {
   "cell_type": "code",
   "execution_count": 221,
   "metadata": {},
   "outputs": [],
   "source": [
    "df = df.astype(str)"
   ]
  },
  {
   "cell_type": "code",
   "execution_count": 222,
   "metadata": {},
   "outputs": [],
   "source": [
    "df1 = pl.from_pandas(df, schema_overrides=dtypes)\n",
    "df1.write_csv(file.split('_')[0] + 'outpatient.csv')"
   ]
  }
 ],
 "metadata": {
  "kernelspec": {
   "display_name": "scraper",
   "language": "python",
   "name": "python3"
  },
  "language_info": {
   "codemirror_mode": {
    "name": "ipython",
    "version": 3
   },
   "file_extension": ".py",
   "mimetype": "text/x-python",
   "name": "python",
   "nbconvert_exporter": "python",
   "pygments_lexer": "ipython3",
   "version": "3.9.15"
  },
  "orig_nbformat": 4
 },
 "nbformat": 4,
 "nbformat_minor": 2
}
