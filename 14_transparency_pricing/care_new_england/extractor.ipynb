{
 "cells": [
  {
   "cell_type": "code",
   "execution_count": 1,
   "metadata": {},
   "outputs": [],
   "source": [
    "import pandas as pd"
   ]
  },
  {
   "cell_type": "code",
   "execution_count": 2,
   "metadata": {},
   "outputs": [],
   "source": [
    "def payer_category(payer):\n",
    "    payers = {\n",
    "        'AVERAGE CHARGES': 'gross',\n",
    "        'CHARGE AMOUNT': 'gross',\n",
    "        'SELF PAY CHARGE': 'cash',\n",
    "        'MINIMUM RATE': 'min',\n",
    "        'MAXIMUM RATE': 'max',\n",
    "    }\n",
    "\n",
    "    try:\n",
    "        return payers[payer]\n",
    "    except KeyError:\n",
    "        return 'payer'"
   ]
  },
  {
   "cell_type": "code",
   "execution_count": 11,
   "metadata": {},
   "outputs": [],
   "source": [
    "hospital_id = {\n",
    "    '050258896': '410009',\n",
    "    '050258937': '410010'\n",
    "}"
   ]
  },
  {
   "cell_type": "code",
   "execution_count": 4,
   "metadata": {},
   "outputs": [],
   "source": [
    "file = '050258937_W&I Price Transparency 2023.xlsx'\n",
    "df = pd.read_excel(file, sheet_name='INPATIENT SERVICES')"
   ]
  },
  {
   "cell_type": "code",
   "execution_count": 5,
   "metadata": {},
   "outputs": [],
   "source": [
    "# Strip columns\n",
    "# df.rename(columns=lambda x: x.strip().replace('\\n', ' '), inplace=True)\n",
    "df.rename(columns=lambda x: x.strip(), inplace=True)"
   ]
  },
  {
   "cell_type": "code",
   "execution_count": 6,
   "metadata": {},
   "outputs": [],
   "source": [
    "df.rename(columns={\n",
    "    'DRG': 'code',\n",
    "    'DRG TYPE': 'line_type',\n",
    "    'DESCRIPTION': 'description',\n",
    "}, inplace=True)"
   ]
  },
  {
   "cell_type": "code",
   "execution_count": 7,
   "metadata": {},
   "outputs": [],
   "source": [
    "cols = df.columns.tolist()\n",
    "id_vars = cols[:3]\n",
    "value_vars = cols[3:]\n",
    "\n",
    "df = pd.melt(df, id_vars=id_vars, value_vars=value_vars, var_name='payer', value_name='standard_charge')"
   ]
  },
  {
   "cell_type": "code",
   "execution_count": 8,
   "metadata": {},
   "outputs": [],
   "source": [
    "df.dropna(subset=['standard_charge'], inplace=True)"
   ]
  },
  {
   "cell_type": "code",
   "execution_count": 9,
   "metadata": {},
   "outputs": [],
   "source": [
    "df.loc[df['line_type'] == 'MS-DRG', 'ms_drg'] = df['code']\n",
    "df.loc[df['line_type'] == 'APR-DRG', 'apr_drg'] = df['code']"
   ]
  },
  {
   "cell_type": "code",
   "execution_count": 15,
   "metadata": {},
   "outputs": [],
   "source": [
    "df['payer_category'] = df['payer'].apply(payer_category)\n",
    "df['setting'] = 'inpatient'\n",
    "\n",
    "df['hospital_id'] = hospital_id[file.split(\"_\")[0]]"
   ]
  },
  {
   "cell_type": "code",
   "execution_count": null,
   "metadata": {},
   "outputs": [],
   "source": [
    "df.to_csv(file.split('_')[0] + 'inpatient.csv', index=False)"
   ]
  },
  {
   "cell_type": "code",
   "execution_count": null,
   "metadata": {},
   "outputs": [],
   "source": [
    "df = pd.read_excel(file, sheet_name='OUTPATIENT SERVICES')"
   ]
  },
  {
   "cell_type": "code",
   "execution_count": null,
   "metadata": {},
   "outputs": [],
   "source": [
    "df.rename(columns={\n",
    "    'CPT': 'code',\n",
    "    'REVENUE CODE': 'rev_code',\n",
    "    'CHARGE CODE': 'local_code',\n",
    "    'DESCRIPTION': 'description',\n",
    "},\n",
    "    inplace=True)"
   ]
  },
  {
   "cell_type": "code",
   "execution_count": null,
   "metadata": {},
   "outputs": [],
   "source": [
    "cols = df.columns.tolist()\n",
    "id_vars = cols[:6]\n",
    "value_vars = cols[6:]\n",
    "\n",
    "df = pd.melt(df, id_vars=id_vars, value_vars=value_vars, var_name='payer', value_name='standard_charge')"
   ]
  },
  {
   "cell_type": "code",
   "execution_count": null,
   "metadata": {},
   "outputs": [],
   "source": [
    "df['payer_category'] = df['payer'].apply(payer_category)"
   ]
  },
  {
   "cell_type": "code",
   "execution_count": null,
   "metadata": {},
   "outputs": [],
   "source": [
    "df['hospital_id'] = hospital_id[file.split(\"_\")[0]]\n",
    "df['setting'] = 'outpatient'"
   ]
  },
  {
   "cell_type": "code",
   "execution_count": null,
   "metadata": {},
   "outputs": [
    {
     "data": {
      "text/html": [
       "<div>\n",
       "<style scoped>\n",
       "    .dataframe tbody tr th:only-of-type {\n",
       "        vertical-align: middle;\n",
       "    }\n",
       "\n",
       "    .dataframe tbody tr th {\n",
       "        vertical-align: top;\n",
       "    }\n",
       "\n",
       "    .dataframe thead th {\n",
       "        text-align: right;\n",
       "    }\n",
       "</style>\n",
       "<table border=\"1\" class=\"dataframe\">\n",
       "  <thead>\n",
       "    <tr style=\"text-align: right;\">\n",
       "      <th></th>\n",
       "      <th>code</th>\n",
       "      <th>rev_code</th>\n",
       "      <th>local_code</th>\n",
       "      <th>description</th>\n",
       "      <th>GL KEY</th>\n",
       "      <th>GL DESCRIPTION</th>\n",
       "      <th>payer</th>\n",
       "      <th>standard_charge</th>\n",
       "      <th>payer_category</th>\n",
       "      <th>hospital_id</th>\n",
       "    </tr>\n",
       "  </thead>\n",
       "  <tbody>\n",
       "    <tr>\n",
       "      <th>0</th>\n",
       "      <td>NaN</td>\n",
       "      <td>250</td>\n",
       "      <td>25000002</td>\n",
       "      <td>INJ MORPHINE 5 MG/ML PCA</td>\n",
       "      <td>31700</td>\n",
       "      <td>PHARMACY</td>\n",
       "      <td>CHARGE AMOUNT</td>\n",
       "      <td>0.00</td>\n",
       "      <td>gross</td>\n",
       "      <td>410010</td>\n",
       "    </tr>\n",
       "    <tr>\n",
       "      <th>1</th>\n",
       "      <td>NaN</td>\n",
       "      <td>250</td>\n",
       "      <td>25000003</td>\n",
       "      <td>INJ MORPHINE 25 MG/ML</td>\n",
       "      <td>31700</td>\n",
       "      <td>PHARMACY</td>\n",
       "      <td>CHARGE AMOUNT</td>\n",
       "      <td>0.00</td>\n",
       "      <td>gross</td>\n",
       "      <td>410010</td>\n",
       "    </tr>\n",
       "    <tr>\n",
       "      <th>2</th>\n",
       "      <td>NaN</td>\n",
       "      <td>250</td>\n",
       "      <td>25000004</td>\n",
       "      <td>INJ MORPHINE 50 MG/ML</td>\n",
       "      <td>31700</td>\n",
       "      <td>PHARMACY</td>\n",
       "      <td>CHARGE AMOUNT</td>\n",
       "      <td>0.00</td>\n",
       "      <td>gross</td>\n",
       "      <td>410010</td>\n",
       "    </tr>\n",
       "    <tr>\n",
       "      <th>3</th>\n",
       "      <td>NaN</td>\n",
       "      <td>250</td>\n",
       "      <td>25000006</td>\n",
       "      <td>HYDROmorphone 250 mg/25 mL VIAL</td>\n",
       "      <td>31700</td>\n",
       "      <td>PHARMACY</td>\n",
       "      <td>CHARGE AMOUNT</td>\n",
       "      <td>260.26</td>\n",
       "      <td>gross</td>\n",
       "      <td>410010</td>\n",
       "    </tr>\n",
       "    <tr>\n",
       "      <th>4</th>\n",
       "      <td>NaN</td>\n",
       "      <td>250</td>\n",
       "      <td>25000006</td>\n",
       "      <td>HYDROmorphone 500 mg/50 mL VIAL</td>\n",
       "      <td>31700</td>\n",
       "      <td>PHARMACY</td>\n",
       "      <td>CHARGE AMOUNT</td>\n",
       "      <td>156.38</td>\n",
       "      <td>gross</td>\n",
       "      <td>410010</td>\n",
       "    </tr>\n",
       "    <tr>\n",
       "      <th>...</th>\n",
       "      <td>...</td>\n",
       "      <td>...</td>\n",
       "      <td>...</td>\n",
       "      <td>...</td>\n",
       "      <td>...</td>\n",
       "      <td>...</td>\n",
       "      <td>...</td>\n",
       "      <td>...</td>\n",
       "      <td>...</td>\n",
       "      <td>...</td>\n",
       "    </tr>\n",
       "    <tr>\n",
       "      <th>298055</th>\n",
       "      <td>X7005</td>\n",
       "      <td>420</td>\n",
       "      <td>42060271</td>\n",
       "      <td>WC PT LIMITED TX</td>\n",
       "      <td>31509</td>\n",
       "      <td>PELVIC HEALTH REHAB</td>\n",
       "      <td>UNITED ACO TIERED</td>\n",
       "      <td>0.00</td>\n",
       "      <td>payer</td>\n",
       "      <td>410010</td>\n",
       "    </tr>\n",
       "    <tr>\n",
       "      <th>298056</th>\n",
       "      <td>X7005</td>\n",
       "      <td>420</td>\n",
       "      <td>42070271</td>\n",
       "      <td>WC PT LIMITED TX</td>\n",
       "      <td>31510</td>\n",
       "      <td>PELVIC HEALTH SCC</td>\n",
       "      <td>UNITED ACO TIERED</td>\n",
       "      <td>0.00</td>\n",
       "      <td>payer</td>\n",
       "      <td>410010</td>\n",
       "    </tr>\n",
       "    <tr>\n",
       "      <th>298057</th>\n",
       "      <td>X7005</td>\n",
       "      <td>430</td>\n",
       "      <td>43000266</td>\n",
       "      <td>WC PT LIMITED TX</td>\n",
       "      <td>31504</td>\n",
       "      <td>OCCUPATIONAL THERAPY</td>\n",
       "      <td>UNITED ACO TIERED</td>\n",
       "      <td>0.00</td>\n",
       "      <td>payer</td>\n",
       "      <td>410010</td>\n",
       "    </tr>\n",
       "    <tr>\n",
       "      <th>298058</th>\n",
       "      <td>X7005</td>\n",
       "      <td>430</td>\n",
       "      <td>43030036</td>\n",
       "      <td>WC OT LIMITED TX</td>\n",
       "      <td>31508</td>\n",
       "      <td>CANCER REHAB</td>\n",
       "      <td>UNITED ACO TIERED</td>\n",
       "      <td>0.00</td>\n",
       "      <td>payer</td>\n",
       "      <td>410010</td>\n",
       "    </tr>\n",
       "    <tr>\n",
       "      <th>298059</th>\n",
       "      <td>X7005</td>\n",
       "      <td>430</td>\n",
       "      <td>51025382</td>\n",
       "      <td>WC OT LIMITED TX</td>\n",
       "      <td>23170</td>\n",
       "      <td>FALL RIVER</td>\n",
       "      <td>UNITED ACO TIERED</td>\n",
       "      <td>0.00</td>\n",
       "      <td>payer</td>\n",
       "      <td>410010</td>\n",
       "    </tr>\n",
       "  </tbody>\n",
       "</table>\n",
       "<p>298060 rows × 10 columns</p>\n",
       "</div>"
      ],
      "text/plain": [
       "         code  rev_code  local_code                      description  GL KEY  \\\n",
       "0         NaN       250    25000002         INJ MORPHINE 5 MG/ML PCA   31700   \n",
       "1         NaN       250    25000003            INJ MORPHINE 25 MG/ML   31700   \n",
       "2         NaN       250    25000004            INJ MORPHINE 50 MG/ML   31700   \n",
       "3         NaN       250    25000006  HYDROmorphone 250 mg/25 mL VIAL   31700   \n",
       "4         NaN       250    25000006  HYDROmorphone 500 mg/50 mL VIAL   31700   \n",
       "...       ...       ...         ...                              ...     ...   \n",
       "298055  X7005       420    42060271                 WC PT LIMITED TX   31509   \n",
       "298056  X7005       420    42070271                 WC PT LIMITED TX   31510   \n",
       "298057  X7005       430    43000266                 WC PT LIMITED TX   31504   \n",
       "298058  X7005       430    43030036                 WC OT LIMITED TX   31508   \n",
       "298059  X7005       430    51025382                 WC OT LIMITED TX   23170   \n",
       "\n",
       "              GL DESCRIPTION              payer  standard_charge  \\\n",
       "0                   PHARMACY      CHARGE AMOUNT             0.00   \n",
       "1                   PHARMACY      CHARGE AMOUNT             0.00   \n",
       "2                   PHARMACY      CHARGE AMOUNT             0.00   \n",
       "3                   PHARMACY      CHARGE AMOUNT           260.26   \n",
       "4                   PHARMACY      CHARGE AMOUNT           156.38   \n",
       "...                      ...                ...              ...   \n",
       "298055   PELVIC HEALTH REHAB  UNITED ACO TIERED             0.00   \n",
       "298056     PELVIC HEALTH SCC  UNITED ACO TIERED             0.00   \n",
       "298057  OCCUPATIONAL THERAPY  UNITED ACO TIERED             0.00   \n",
       "298058          CANCER REHAB  UNITED ACO TIERED             0.00   \n",
       "298059            FALL RIVER  UNITED ACO TIERED             0.00   \n",
       "\n",
       "       payer_category hospital_id  \n",
       "0               gross      410010  \n",
       "1               gross      410010  \n",
       "2               gross      410010  \n",
       "3               gross      410010  \n",
       "4               gross      410010  \n",
       "...               ...         ...  \n",
       "298055          payer      410010  \n",
       "298056          payer      410010  \n",
       "298057          payer      410010  \n",
       "298058          payer      410010  \n",
       "298059          payer      410010  \n",
       "\n",
       "[298060 rows x 10 columns]"
      ]
     },
     "execution_count": 77,
     "metadata": {},
     "output_type": "execute_result"
    }
   ],
   "source": [
    "df.to_csv(file.split('_')[0] + 'outpatient.csv')"
   ]
  }
 ],
 "metadata": {
  "kernelspec": {
   "display_name": "scraper",
   "language": "python",
   "name": "python3"
  },
  "language_info": {
   "codemirror_mode": {
    "name": "ipython",
    "version": 3
   },
   "file_extension": ".py",
   "mimetype": "text/x-python",
   "name": "python",
   "nbconvert_exporter": "python",
   "pygments_lexer": "ipython3",
   "version": "3.9.7"
  },
  "orig_nbformat": 4
 },
 "nbformat": 4,
 "nbformat_minor": 2
}
