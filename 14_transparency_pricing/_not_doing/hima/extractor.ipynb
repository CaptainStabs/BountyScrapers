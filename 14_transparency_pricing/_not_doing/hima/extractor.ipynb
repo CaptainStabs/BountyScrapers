{
 "cells": [
  {
   "cell_type": "code",
   "execution_count": 41,
   "metadata": {},
   "outputs": [],
   "source": [
    "import pandas as pd"
   ]
  },
  {
   "cell_type": "code",
   "execution_count": 56,
   "metadata": {},
   "outputs": [],
   "source": [
    "def payer_category(x):\n",
    "    payers = {\n",
    "        'Gross charge': 'gross',\n",
    "        'Minimum negotiated charge': 'min',\n",
    "        'Maximum negotiated charge': 'max',\n",
    "        'Discounted cash price': 'cash'\n",
    "    }\n",
    "\n",
    "    return payers[x]\n",
    "\n",
    "\n",
    "def code_prefix(x):\n",
    "    if str(len(x)) == 5:\n",
    "        return 'hcpcs_cpt'\n",
    "    else:\n",
    "        return \"AAAAAAAAAAAAA\""
   ]
  },
  {
   "cell_type": "code",
   "execution_count": 43,
   "metadata": {},
   "outputs": [],
   "source": [
    "folder = '.\\\\input_files\\\\'\n",
    "file = '66-0465905_HIMA_SAN_PABLO_CAGUAS_standardcharges.csv'\n",
    "df = pd.read_csv(folder + file, dtype=str, encoding='ansi')"
   ]
  },
  {
   "cell_type": "code",
   "execution_count": 44,
   "metadata": {},
   "outputs": [],
   "source": [
    "df.rename(columns={\n",
    "    'Description of item': 'description',\n",
    "    'Third party payer': 'payer_orig',\n",
    "    'Code': 'code',\n",
    "    'Payer charge': 'rate'\n",
    "}, inplace=True)"
   ]
  },
  {
   "cell_type": "code",
   "execution_count": 45,
   "metadata": {},
   "outputs": [
    {
     "ename": "KeyError",
     "evalue": "\"['Payer charge'] not in index\"",
     "output_type": "error",
     "traceback": [
      "\u001b[1;31m---------------------------------------------------------------------------\u001b[0m",
      "\u001b[1;31mKeyError\u001b[0m                                  Traceback (most recent call last)",
      "\u001b[1;32mc:\\Users\\adria\\github\\BountyScrapers\\14_transparency_pricing\\hima\\extractor.ipynb Cell 5\u001b[0m in \u001b[0;36m<cell line: 1>\u001b[1;34m()\u001b[0m\n\u001b[1;32m----> <a href='vscode-notebook-cell:/c%3A/Users/adria/github/BountyScrapers/14_transparency_pricing/hima/extractor.ipynb#W4sZmlsZQ%3D%3D?line=0'>1</a>\u001b[0m df \u001b[39m=\u001b[39m df[[\u001b[39m'\u001b[39m\u001b[39mdescription\u001b[39m\u001b[39m'\u001b[39m,\n\u001b[0;32m      <a href='vscode-notebook-cell:/c%3A/Users/adria/github/BountyScrapers/14_transparency_pricing/hima/extractor.ipynb#W4sZmlsZQ%3D%3D?line=1'>2</a>\u001b[0m  \u001b[39m'\u001b[39m\u001b[39mcode\u001b[39m\u001b[39m'\u001b[39m,\n\u001b[0;32m      <a href='vscode-notebook-cell:/c%3A/Users/adria/github/BountyScrapers/14_transparency_pricing/hima/extractor.ipynb#W4sZmlsZQ%3D%3D?line=2'>3</a>\u001b[0m  \u001b[39m'\u001b[39m\u001b[39mpayer_orig\u001b[39m\u001b[39m'\u001b[39m,\n\u001b[0;32m      <a href='vscode-notebook-cell:/c%3A/Users/adria/github/BountyScrapers/14_transparency_pricing/hima/extractor.ipynb#W4sZmlsZQ%3D%3D?line=3'>4</a>\u001b[0m  \u001b[39m'\u001b[39m\u001b[39mPayer charge\u001b[39m\u001b[39m'\u001b[39m,\n\u001b[0;32m      <a href='vscode-notebook-cell:/c%3A/Users/adria/github/BountyScrapers/14_transparency_pricing/hima/extractor.ipynb#W4sZmlsZQ%3D%3D?line=4'>5</a>\u001b[0m  \u001b[39m'\u001b[39m\u001b[39mGross charge\u001b[39m\u001b[39m'\u001b[39m,\n\u001b[0;32m      <a href='vscode-notebook-cell:/c%3A/Users/adria/github/BountyScrapers/14_transparency_pricing/hima/extractor.ipynb#W4sZmlsZQ%3D%3D?line=5'>6</a>\u001b[0m  \u001b[39m'\u001b[39m\u001b[39mMinimum negotiated charge\u001b[39m\u001b[39m'\u001b[39m,\n\u001b[0;32m      <a href='vscode-notebook-cell:/c%3A/Users/adria/github/BountyScrapers/14_transparency_pricing/hima/extractor.ipynb#W4sZmlsZQ%3D%3D?line=6'>7</a>\u001b[0m  \u001b[39m'\u001b[39m\u001b[39mMaximum negotiated charge\u001b[39m\u001b[39m'\u001b[39m,\n\u001b[0;32m      <a href='vscode-notebook-cell:/c%3A/Users/adria/github/BountyScrapers/14_transparency_pricing/hima/extractor.ipynb#W4sZmlsZQ%3D%3D?line=7'>8</a>\u001b[0m  \u001b[39m'\u001b[39m\u001b[39mDiscounted cash price\u001b[39m\u001b[39m'\u001b[39m\n\u001b[0;32m      <a href='vscode-notebook-cell:/c%3A/Users/adria/github/BountyScrapers/14_transparency_pricing/hima/extractor.ipynb#W4sZmlsZQ%3D%3D?line=8'>9</a>\u001b[0m ]]\n",
      "File \u001b[1;32mc:\\Users\\adria\\Miniconda3\\envs\\scraper\\lib\\site-packages\\pandas\\core\\frame.py:3811\u001b[0m, in \u001b[0;36mDataFrame.__getitem__\u001b[1;34m(self, key)\u001b[0m\n\u001b[0;32m   3809\u001b[0m     \u001b[39mif\u001b[39;00m is_iterator(key):\n\u001b[0;32m   3810\u001b[0m         key \u001b[39m=\u001b[39m \u001b[39mlist\u001b[39m(key)\n\u001b[1;32m-> 3811\u001b[0m     indexer \u001b[39m=\u001b[39m \u001b[39mself\u001b[39;49m\u001b[39m.\u001b[39;49mcolumns\u001b[39m.\u001b[39;49m_get_indexer_strict(key, \u001b[39m\"\u001b[39;49m\u001b[39mcolumns\u001b[39;49m\u001b[39m\"\u001b[39;49m)[\u001b[39m1\u001b[39m]\n\u001b[0;32m   3813\u001b[0m \u001b[39m# take() does not accept boolean indexers\u001b[39;00m\n\u001b[0;32m   3814\u001b[0m \u001b[39mif\u001b[39;00m \u001b[39mgetattr\u001b[39m(indexer, \u001b[39m\"\u001b[39m\u001b[39mdtype\u001b[39m\u001b[39m\"\u001b[39m, \u001b[39mNone\u001b[39;00m) \u001b[39m==\u001b[39m \u001b[39mbool\u001b[39m:\n",
      "File \u001b[1;32mc:\\Users\\adria\\Miniconda3\\envs\\scraper\\lib\\site-packages\\pandas\\core\\indexes\\base.py:6108\u001b[0m, in \u001b[0;36mIndex._get_indexer_strict\u001b[1;34m(self, key, axis_name)\u001b[0m\n\u001b[0;32m   6105\u001b[0m \u001b[39melse\u001b[39;00m:\n\u001b[0;32m   6106\u001b[0m     keyarr, indexer, new_indexer \u001b[39m=\u001b[39m \u001b[39mself\u001b[39m\u001b[39m.\u001b[39m_reindex_non_unique(keyarr)\n\u001b[1;32m-> 6108\u001b[0m \u001b[39mself\u001b[39;49m\u001b[39m.\u001b[39;49m_raise_if_missing(keyarr, indexer, axis_name)\n\u001b[0;32m   6110\u001b[0m keyarr \u001b[39m=\u001b[39m \u001b[39mself\u001b[39m\u001b[39m.\u001b[39mtake(indexer)\n\u001b[0;32m   6111\u001b[0m \u001b[39mif\u001b[39;00m \u001b[39misinstance\u001b[39m(key, Index):\n\u001b[0;32m   6112\u001b[0m     \u001b[39m# GH 42790 - Preserve name from an Index\u001b[39;00m\n",
      "File \u001b[1;32mc:\\Users\\adria\\Miniconda3\\envs\\scraper\\lib\\site-packages\\pandas\\core\\indexes\\base.py:6171\u001b[0m, in \u001b[0;36mIndex._raise_if_missing\u001b[1;34m(self, key, indexer, axis_name)\u001b[0m\n\u001b[0;32m   6168\u001b[0m     \u001b[39mraise\u001b[39;00m \u001b[39mKeyError\u001b[39;00m(\u001b[39mf\u001b[39m\u001b[39m\"\u001b[39m\u001b[39mNone of [\u001b[39m\u001b[39m{\u001b[39;00mkey\u001b[39m}\u001b[39;00m\u001b[39m] are in the [\u001b[39m\u001b[39m{\u001b[39;00maxis_name\u001b[39m}\u001b[39;00m\u001b[39m]\u001b[39m\u001b[39m\"\u001b[39m)\n\u001b[0;32m   6170\u001b[0m not_found \u001b[39m=\u001b[39m \u001b[39mlist\u001b[39m(ensure_index(key)[missing_mask\u001b[39m.\u001b[39mnonzero()[\u001b[39m0\u001b[39m]]\u001b[39m.\u001b[39munique())\n\u001b[1;32m-> 6171\u001b[0m \u001b[39mraise\u001b[39;00m \u001b[39mKeyError\u001b[39;00m(\u001b[39mf\u001b[39m\u001b[39m\"\u001b[39m\u001b[39m{\u001b[39;00mnot_found\u001b[39m}\u001b[39;00m\u001b[39m not in index\u001b[39m\u001b[39m\"\u001b[39m)\n",
      "\u001b[1;31mKeyError\u001b[0m: \"['Payer charge'] not in index\""
     ]
    }
   ],
   "source": [
    "df = df[['description',\n",
    " 'code',\n",
    " 'payer_orig',\n",
    " 'Payer charge',\n",
    " 'Gross charge',\n",
    " 'Minimum negotiated charge',\n",
    " 'Maximum negotiated charge',\n",
    " 'Discounted cash price'\n",
    "]]"
   ]
  },
  {
   "cell_type": "code",
   "execution_count": null,
   "metadata": {},
   "outputs": [
    {
     "name": "stderr",
     "output_type": "stream",
     "text": [
      "C:\\Users\\adria\\AppData\\Local\\Temp\\ipykernel_23028\\2913225802.py:4: FutureWarning: This dataframe has a column name that matches the 'value_name' column name of the resulting Dataframe. In the future this will raise an error, please set the 'value_name' parameter of DataFrame.melt to a unique name.\n",
      "  df1 = pd.melt(df, id_vars=id_vars, value_vars=val_vars, var_name='payer_orig', value_name='rate')\n"
     ]
    }
   ],
   "source": [
    "cols = df.columns.tolist()\n",
    "id_vars = cols[:2]\n",
    "val_vars = cols[4:]\n",
    "df1 = pd.melt(df, id_vars=id_vars, value_vars=val_vars, var_name='payer_orig', value_name='rate')"
   ]
  },
  {
   "cell_type": "code",
   "execution_count": 49,
   "metadata": {},
   "outputs": [],
   "source": [
    "df1['payer_category'] = df1['payer_orig'].apply(payer_category)\n",
    "\n",
    "df['payer_category'] = 'payer'\n",
    "\n",
    "df.drop(cols[4:], inplace=True, axis=1)"
   ]
  },
  {
   "cell_type": "code",
   "execution_count": 54,
   "metadata": {},
   "outputs": [],
   "source": [
    "df = pd.concat([df, df1])"
   ]
  },
  {
   "cell_type": "code",
   "execution_count": 60,
   "metadata": {},
   "outputs": [],
   "source": [
    "df['code'] = df['code'].str.strip()"
   ]
  },
  {
   "cell_type": "code",
   "execution_count": 61,
   "metadata": {},
   "outputs": [],
   "source": [
    "df['code_prefix'] = df['code'].apply(code_prefix)"
   ]
  },
  {
   "cell_type": "code",
   "execution_count": 59,
   "metadata": {},
   "outputs": [
    {
     "data": {
      "text/plain": [
       "5"
      ]
     },
     "execution_count": 59,
     "metadata": {},
     "output_type": "execute_result"
    }
   ],
   "source": [
    "def get_payer_cat(x):\n",
    "    payers = {\n",
    "        'Minimum Negotiated Price': 'min',\n",
    "        'Maximum Negotiated Price': 'max',\n",
    "        'Negotiated Price': 'gross'\n",
    "    }\n",
    "\n",
    "    try:\n",
    "        return payers[x]\n",
    "    except KeyError:\n",
    "        return 'payers'"
   ]
  },
  {
   "cell_type": "code",
   "execution_count": 62,
   "metadata": {},
   "outputs": [
    {
     "data": {
      "text/html": [
       "<div>\n",
       "<style scoped>\n",
       "    .dataframe tbody tr th:only-of-type {\n",
       "        vertical-align: middle;\n",
       "    }\n",
       "\n",
       "    .dataframe tbody tr th {\n",
       "        vertical-align: top;\n",
       "    }\n",
       "\n",
       "    .dataframe thead th {\n",
       "        text-align: right;\n",
       "    }\n",
       "</style>\n",
       "<table border=\"1\" class=\"dataframe\">\n",
       "  <thead>\n",
       "    <tr style=\"text-align: right;\">\n",
       "      <th></th>\n",
       "      <th>description</th>\n",
       "      <th>payer_orig</th>\n",
       "      <th>rate</th>\n",
       "      <th>code</th>\n",
       "      <th>payer_category</th>\n",
       "      <th>code_prefix</th>\n",
       "    </tr>\n",
       "  </thead>\n",
       "  <tbody>\n",
       "    <tr>\n",
       "      <th>0</th>\n",
       "      <td>INTER COMP TOM ANGIOGRA UPPER EXTREMITY WO CO...</td>\n",
       "      <td>FIRST MEDICAL P.S.G.</td>\n",
       "      <td>64.27</td>\n",
       "      <td>73206</td>\n",
       "      <td>payer</td>\n",
       "      <td>AAAAAAAAAAAAA</td>\n",
       "    </tr>\n",
       "    <tr>\n",
       "      <th>1</th>\n",
       "      <td>(Gray Cap) Administration - Booster Pfizer-Bio...</td>\n",
       "      <td>FIRST MEDICAL P.S.G.</td>\n",
       "      <td>40</td>\n",
       "      <td>0054A</td>\n",
       "      <td>payer</td>\n",
       "      <td>AAAAAAAAAAAAA</td>\n",
       "    </tr>\n",
       "    <tr>\n",
       "      <th>2</th>\n",
       "      <td>(Gray Cap) Administration - First dose Pfizer-...</td>\n",
       "      <td>FIRST MEDICAL P.S.G.</td>\n",
       "      <td>40</td>\n",
       "      <td>0051A</td>\n",
       "      <td>payer</td>\n",
       "      <td>AAAAAAAAAAAAA</td>\n",
       "    </tr>\n",
       "    <tr>\n",
       "      <th>3</th>\n",
       "      <td>(Gray Cap) Administration - Second dose Pfizer...</td>\n",
       "      <td>FIRST MEDICAL P.S.G.</td>\n",
       "      <td>40</td>\n",
       "      <td>0052A</td>\n",
       "      <td>payer</td>\n",
       "      <td>AAAAAAAAAAAAA</td>\n",
       "    </tr>\n",
       "    <tr>\n",
       "      <th>4</th>\n",
       "      <td>(Gray Cap) Administration - Third dose Pfizer-...</td>\n",
       "      <td>FIRST MEDICAL P.S.G.</td>\n",
       "      <td>40</td>\n",
       "      <td>0053A</td>\n",
       "      <td>payer</td>\n",
       "      <td>AAAAAAAAAAAAA</td>\n",
       "    </tr>\n",
       "    <tr>\n",
       "      <th>...</th>\n",
       "      <td>...</td>\n",
       "      <td>...</td>\n",
       "      <td>...</td>\n",
       "      <td>...</td>\n",
       "      <td>...</td>\n",
       "      <td>...</td>\n",
       "    </tr>\n",
       "    <tr>\n",
       "      <th>815435</th>\n",
       "      <td>TELEMETRIA PRIVADA                            ...</td>\n",
       "      <td>Discounted cash price</td>\n",
       "      <td>800</td>\n",
       "      <td>36022</td>\n",
       "      <td>cash</td>\n",
       "      <td>AAAAAAAAAAAAA</td>\n",
       "    </tr>\n",
       "    <tr>\n",
       "      <th>815436</th>\n",
       "      <td>TELEMETRY                                     ...</td>\n",
       "      <td>Discounted cash price</td>\n",
       "      <td>650</td>\n",
       "      <td>32144</td>\n",
       "      <td>cash</td>\n",
       "      <td>AAAAAAAAAAAAA</td>\n",
       "    </tr>\n",
       "    <tr>\n",
       "      <th>815437</th>\n",
       "      <td>URINALES(SALA EMERGENCIA)                     ...</td>\n",
       "      <td>Discounted cash price</td>\n",
       "      <td>3.99</td>\n",
       "      <td>68193</td>\n",
       "      <td>cash</td>\n",
       "      <td>AAAAAAAAAAAAA</td>\n",
       "    </tr>\n",
       "    <tr>\n",
       "      <th>815438</th>\n",
       "      <td>VIT 106 ASPIRE SR GENERATOR                   ...</td>\n",
       "      <td>Discounted cash price</td>\n",
       "      <td>51250</td>\n",
       "      <td>G0453</td>\n",
       "      <td>cash</td>\n",
       "      <td>AAAAAAAAAAAAA</td>\n",
       "    </tr>\n",
       "    <tr>\n",
       "      <th>815439</th>\n",
       "      <td>XGEVA 120 MG/ 1.7 ML VIAL                     ...</td>\n",
       "      <td>Discounted cash price</td>\n",
       "      <td>5656</td>\n",
       "      <td>J0897</td>\n",
       "      <td>cash</td>\n",
       "      <td>AAAAAAAAAAAAA</td>\n",
       "    </tr>\n",
       "  </tbody>\n",
       "</table>\n",
       "<p>1019300 rows × 6 columns</p>\n",
       "</div>"
      ],
      "text/plain": [
       "                                              description  \\\n",
       "0        INTER COMP TOM ANGIOGRA UPPER EXTREMITY WO CO...   \n",
       "1       (Gray Cap) Administration - Booster Pfizer-Bio...   \n",
       "2       (Gray Cap) Administration - First dose Pfizer-...   \n",
       "3       (Gray Cap) Administration - Second dose Pfizer...   \n",
       "4       (Gray Cap) Administration - Third dose Pfizer-...   \n",
       "...                                                   ...   \n",
       "815435  TELEMETRIA PRIVADA                            ...   \n",
       "815436  TELEMETRY                                     ...   \n",
       "815437  URINALES(SALA EMERGENCIA)                     ...   \n",
       "815438  VIT 106 ASPIRE SR GENERATOR                   ...   \n",
       "815439  XGEVA 120 MG/ 1.7 ML VIAL                     ...   \n",
       "\n",
       "                                      payer_orig   rate   code payer_category  \\\n",
       "0       FIRST MEDICAL P.S.G.                      64.27  73206          payer   \n",
       "1       FIRST MEDICAL P.S.G.                         40  0054A          payer   \n",
       "2       FIRST MEDICAL P.S.G.                         40  0051A          payer   \n",
       "3       FIRST MEDICAL P.S.G.                         40  0052A          payer   \n",
       "4       FIRST MEDICAL P.S.G.                         40  0053A          payer   \n",
       "...                                          ...    ...    ...            ...   \n",
       "815435                     Discounted cash price    800  36022           cash   \n",
       "815436                     Discounted cash price    650  32144           cash   \n",
       "815437                     Discounted cash price   3.99  68193           cash   \n",
       "815438                     Discounted cash price  51250  G0453           cash   \n",
       "815439                     Discounted cash price   5656  J0897           cash   \n",
       "\n",
       "          code_prefix  \n",
       "0       AAAAAAAAAAAAA  \n",
       "1       AAAAAAAAAAAAA  \n",
       "2       AAAAAAAAAAAAA  \n",
       "3       AAAAAAAAAAAAA  \n",
       "4       AAAAAAAAAAAAA  \n",
       "...               ...  \n",
       "815435  AAAAAAAAAAAAA  \n",
       "815436  AAAAAAAAAAAAA  \n",
       "815437  AAAAAAAAAAAAA  \n",
       "815438  AAAAAAAAAAAAA  \n",
       "815439  AAAAAAAAAAAAA  \n",
       "\n",
       "[1019300 rows x 6 columns]"
      ]
     },
     "execution_count": 62,
     "metadata": {},
     "output_type": "execute_result"
    }
   ],
   "source": [
    "df"
   ]
  }
 ],
 "metadata": {
  "kernelspec": {
   "display_name": "scraper",
   "language": "python",
   "name": "python3"
  },
  "language_info": {
   "codemirror_mode": {
    "name": "ipython",
    "version": 3
   },
   "file_extension": ".py",
   "mimetype": "text/x-python",
   "name": "python",
   "nbconvert_exporter": "python",
   "pygments_lexer": "ipython3",
   "version": "3.9.7"
  },
  "orig_nbformat": 4
 },
 "nbformat": 4,
 "nbformat_minor": 2
}
