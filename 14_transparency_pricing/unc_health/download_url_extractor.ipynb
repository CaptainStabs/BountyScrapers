{
 "cells": [
  {
   "cell_type": "code",
   "execution_count": 1,
   "metadata": {},
   "outputs": [],
   "source": [
    "page_urls = ['https://rca.centaurihs.com/ptapp/#12c87a4c8957c9e1c0c94af03a352d556b2a5c7551aa4df448609ce6dc2da33b', 'https://rca.centaurihs.com/ptapp/#ce2afee182dc4f67a537e90e9a8037e82a0deb7d7bc758280d0cd5d66c634ada', 'https://rca.centaurihs.com/ptapp/#d4ccc071fab9c79f17e52dc5b243ef668affc5e569aafa907c5b4c81f0a89284','https://rca.centaurihs.com/ptapp/#1bebae81d06505b29fc9a5323fb9dac3f480979f0fa32bf4004915e0207d36a9', 'https://rca.centaurihs.com/ptapp/#8d086f6527295fbb6f6d253f3b5548b85ef9fcad8319564656464e552fff3d1e', 'https://rca.centaurihs.com/ptapp/#6864cd865dc9126d1ceb5dba82cccac976f64b50ff09491ea3ef6d72ac9bcffd', 'https://rca.centaurihs.com/ptapp/#b1f9dd1570d8e8f2b7f3cc8cfdd353c8dd2f856b654beeed377bcea39a1d9196'\n",
    "             ]"
   ]
  },
  {
   "cell_type": "code",
   "execution_count": 2,
   "metadata": {},
   "outputs": [],
   "source": [
    "download_links = []"
   ]
  },
  {
   "cell_type": "code",
   "execution_count": 3,
   "metadata": {},
   "outputs": [],
   "source": [
    "for url in page_urls:\n",
    "    url = url.split('#')[-1]\n",
    "    download_url = f'https://rca.centaurihs.com/ptapp/api/cdm/export/all?recno={url}&format=CSV&mode=ALL'\n",
    "    download_links.append(download_url)"
   ]
  },
  {
   "cell_type": "code",
   "execution_count": 6,
   "metadata": {},
   "outputs": [
    {
     "data": {
      "text/plain": [
       "['https://rca.centaurihs.com/ptapp/api/cdm/export/all?recno=12c87a4c8957c9e1c0c94af03a352d556b2a5c7551aa4df448609ce6dc2da33b&format=CSV&mode=ALL',\n",
       " 'https://rca.centaurihs.com/ptapp/api/cdm/export/all?recno=ce2afee182dc4f67a537e90e9a8037e82a0deb7d7bc758280d0cd5d66c634ada&format=CSV&mode=ALL',\n",
       " 'https://rca.centaurihs.com/ptapp/api/cdm/export/all?recno=d4ccc071fab9c79f17e52dc5b243ef668affc5e569aafa907c5b4c81f0a89284&format=CSV&mode=ALL',\n",
       " 'https://rca.centaurihs.com/ptapp/api/cdm/export/all?recno=1bebae81d06505b29fc9a5323fb9dac3f480979f0fa32bf4004915e0207d36a9&format=CSV&mode=ALL',\n",
       " 'https://rca.centaurihs.com/ptapp/api/cdm/export/all?recno=8d086f6527295fbb6f6d253f3b5548b85ef9fcad8319564656464e552fff3d1e&format=CSV&mode=ALL',\n",
       " 'https://rca.centaurihs.com/ptapp/api/cdm/export/all?recno=6864cd865dc9126d1ceb5dba82cccac976f64b50ff09491ea3ef6d72ac9bcffd&format=CSV&mode=ALL',\n",
       " 'https://rca.centaurihs.com/ptapp/api/cdm/export/all?recno=b1f9dd1570d8e8f2b7f3cc8cfdd353c8dd2f856b654beeed377bcea39a1d9196&format=CSV&mode=ALL']"
      ]
     },
     "execution_count": 6,
     "metadata": {},
     "output_type": "execute_result"
    }
   ],
   "source": [
    "download_links"
   ]
  }
 ],
 "metadata": {
  "kernelspec": {
   "display_name": "scraper",
   "language": "python",
   "name": "python3"
  },
  "language_info": {
   "codemirror_mode": {
    "name": "ipython",
    "version": 3
   },
   "file_extension": ".py",
   "mimetype": "text/x-python",
   "name": "python",
   "nbconvert_exporter": "python",
   "pygments_lexer": "ipython3",
   "version": "3.9.7"
  },
  "orig_nbformat": 4
 },
 "nbformat": 4,
 "nbformat_minor": 2
}
