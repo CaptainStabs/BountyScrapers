{
 "cells": [
  {
   "cell_type": "code",
   "execution_count": 1,
   "metadata": {},
   "outputs": [],
   "source": [
    "import pandas as pd\n",
    "import numpy as np\n",
    "from tqdm import tqdm\n",
    "\n",
    "tqdm = tqdm.pandas()"
   ]
  },
  {
   "cell_type": "code",
   "execution_count": 2,
   "metadata": {},
   "outputs": [],
   "source": [
    "def patient_class(pat_class, payer_orig):\n",
    "    if pd.isna(pat_class):\n",
    "        if 'Outpatient' in payer_orig or 'OP' in payer_orig:\n",
    "            return 'outpatient'\n",
    "        elif 'Inpatient' in payer_orig or 'IP' in payer_orig:\n",
    "            return 'inpatient'\n",
    "        else:\n",
    "            return pd.NA\n",
    "    else:\n",
    "        return pat_class\n",
    "\n",
    "def payer_cat(x):\n",
    "    if 'Gross Charges' in x:\n",
    "        return 'gross'\n",
    "    elif 'Max Reimbursement' in x:\n",
    "        return'max'\n",
    "    elif 'Minimal Reimbursement' in x:\n",
    "        return'min'\n",
    "    elif 'Cash Price' in x:\n",
    "        return 'cash'\n",
    "    else:\n",
    "        return 'payer'\n",
    "    "
   ]
  },
  {
   "cell_type": "code",
   "execution_count": 3,
   "metadata": {},
   "outputs": [
    {
     "name": "stderr",
     "output_type": "stream",
     "text": [
      "\\Local\\Temp\\ipykernel_43680\\4268684706.py:2: DtypeWarning: Columns (0) have mixed types. Specify dtype option on import or set low_memory=False.\n",
      "  df = pd.read_csv(file, delimiter='|', skiprows=1, encoding='ansi')\n"
     ]
    }
   ],
   "source": [
    "file = 'EIN_30-1163729_2022_UTHealthNorthHospital_standardcharges.csv'\n",
    "df = pd.read_csv(file, delimiter='|', skiprows=1, encoding='ansi')"
   ]
  },
  {
   "cell_type": "code",
   "execution_count": 4,
   "metadata": {},
   "outputs": [],
   "source": [
    "df.rename(columns={\n",
    "    'Procedure': 'internal_code',\n",
    "    'Code Type': 'code_type',\n",
    "    'Revenue Code': 'rev_desc',\n",
    "    'Procedure Description': 'description',\n",
    "    'Payer': 'payer_orig',\n",
    "    'Plan': 'plan_name',\n",
    "    # 'Quantity': 'ndc_quantity_desc'\n",
    "}, inplace=True)"
   ]
  },
  {
   "cell_type": "code",
   "execution_count": 5,
   "metadata": {},
   "outputs": [],
   "source": [
    "df['code_orig'] = df['internal_code'].where(df['internal_code'].str.startswith('MS'), other=pd.NA)\n",
    "df['code_prefix'] = np.where(df['code_type'] == 'DRG', 'ms-drg', pd.NA)\n",
    "df['code'] = df['code_orig'].str.replace('MS', '')\n",
    "df['code'].fillna('none', inplace=True)\n",
    "df['code_prefix'].fillna('none', inplace=True)"
   ]
  },
  {
   "cell_type": "code",
   "execution_count": 6,
   "metadata": {},
   "outputs": [],
   "source": [
    "df['rev_code'] = df['rev_desc'].str.split(\" - \").str[0]"
   ]
  },
  {
   "cell_type": "code",
   "execution_count": 7,
   "metadata": {},
   "outputs": [],
   "source": [
    "cols = df.columns.tolist()\n",
    "cols = cols[-4:] + cols[:-4]\n",
    "df = df[cols]"
   ]
  },
  {
   "cell_type": "code",
   "execution_count": 8,
   "metadata": {},
   "outputs": [],
   "source": [
    "id_vars = cols[:11]\n",
    "\n",
    "# Define columns to be melted\n",
    "value_vars = ['Inpatient Expected Reimbursement', 'Outpatient Expected Reimbursement']\n",
    "\n",
    "# Melt the dataframe \n",
    "# Var name as patient_class because the var names don't matter here as these are the rates for `payer_orig`\n",
    "df_melted = pd.melt(df, id_vars=id_vars, value_vars=value_vars,\n",
    "                    var_name='patient_class', value_name='rate')\n",
    "\n",
    "# Extract the patient class from the variable column\n",
    "df_melted['patient_class'] = df_melted['patient_class'].str.split().str[0].str.lower()"
   ]
  },
  {
   "cell_type": "code",
   "execution_count": 9,
   "metadata": {},
   "outputs": [],
   "source": [
    "id_vars = cols[:11]\n",
    "id_vars.remove('payer_orig')\n",
    "id_vars.remove('plan_name')\n",
    "# Define columns to be melted\n",
    "value_vars = cols[11:]\n",
    "value_vars.remove('Outpatient Expected Reimbursement')\n",
    "value_vars.remove('Inpatient Expected Reimbursement')\n",
    "\n",
    "# Melt the dataframe \n",
    "# Var name as patient_class because the var names don't matter here as these are the rates for `payer_orig`\n",
    "df_1 = df.drop(['payer_orig', 'plan_name'], axis=1)\n",
    "df_melted_2 = pd.melt(df_1, id_vars=id_vars, value_vars=value_vars,\n",
    "                    var_name='payer_orig', value_name='rate')\n",
    "\n",
    "# Extract the patient class from the variable column\n",
    "# df_melted['patient_class'] = df_melted['patient_class'].str.split().str[0].str.lower()"
   ]
  },
  {
   "cell_type": "code",
   "execution_count": 10,
   "metadata": {},
   "outputs": [],
   "source": [
    "df = pd.concat([df_melted, df_melted_2])"
   ]
  },
  {
   "cell_type": "code",
   "execution_count": 11,
   "metadata": {},
   "outputs": [
    {
     "name": "stderr",
     "output_type": "stream",
     "text": [
      "100%|██████████| 1545600/1545600 [00:08<00:00, 177502.21it/s]\n"
     ]
    }
   ],
   "source": [
    "df['patient_class'] = df[['patient_class', 'payer_orig']].progress_apply(lambda x: patient_class(pat_class=x[0], payer_orig=x[1]), axis=1)"
   ]
  },
  {
   "cell_type": "code",
   "execution_count": 12,
   "metadata": {},
   "outputs": [],
   "source": [
    "df['payer_category'] = df['payer_orig'].apply(payer_cat)"
   ]
  },
  {
   "cell_type": "code",
   "execution_count": 13,
   "metadata": {},
   "outputs": [],
   "source": [
    "df['internal_code'].fillna('na', inplace=True)\n",
    "df['payer_name'] = df['payer_orig']"
   ]
  },
  {
   "cell_type": "code",
   "execution_count": 14,
   "metadata": {},
   "outputs": [],
   "source": [
    "df['hospital_ein'] = '30-1163729'\n",
    "df['hospital_ccn'] = '450690'\n",
    "df['filename'] = file\n",
    "df['url'] = 'https://coc.ardenthealthservices.com/2023/easttexas/EIN_30-1163729_2022_UTHealthNorthHospital_standardcharges.csv'\n",
    "df['file_last_updated'] = '2023-01-10'"
   ]
  },
  {
   "cell_type": "code",
   "execution_count": 15,
   "metadata": {},
   "outputs": [],
   "source": [
    "df.dropna(subset=['rate'], inplace=True)\n",
    "df['rev_code'].fillna('na', inplace=True)\n",
    "df['plan_orig'] = df['plan_name']\n",
    "df['plan_orig'].fillna('na', inplace=True)"
   ]
  },
  {
   "cell_type": "code",
   "execution_count": 17,
   "metadata": {},
   "outputs": [],
   "source": [
    "df.to_csv('tyler.csv', index=False)"
   ]
  }
 ],
 "metadata": {
  "kernelspec": {
   "display_name": "scraper",
   "language": "python",
   "name": "python3"
  },
  "language_info": {
   "codemirror_mode": {
    "name": "ipython",
    "version": 3
   },
   "file_extension": ".py",
   "mimetype": "text/x-python",
   "name": "python",
   "nbconvert_exporter": "python",
   "pygments_lexer": "ipython3",
   "version": "3.9.15"
  },
  "orig_nbformat": 4
 },
 "nbformat": 4,
 "nbformat_minor": 2
}
