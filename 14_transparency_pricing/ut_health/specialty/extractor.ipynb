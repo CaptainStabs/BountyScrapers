{
 "cells": [
  {
   "cell_type": "code",
   "execution_count": 32,
   "metadata": {},
   "outputs": [],
   "source": [
    "import pandas as pd\n",
    "import numpy as np\n",
    "from tqdm import tqdm\n",
    "\n",
    "tqdm = tqdm.pandas()"
   ]
  },
  {
   "cell_type": "code",
   "execution_count": 33,
   "metadata": {},
   "outputs": [],
   "source": [
    "def setting(pat_class, payer):\n",
    "    if pd.isna(pat_class):\n",
    "        if 'Outpatient' in payer or 'OP' in payer:\n",
    "            return 'outpatient'\n",
    "        elif 'Inpatient' in payer or 'IP' in payer:\n",
    "            return 'inpatient'\n",
    "        else:\n",
    "            return pd.NA\n",
    "    else:\n",
    "        return pat_class\n",
    "\n",
    "def payer_cat(x):\n",
    "    if 'Gross Charges' in x:\n",
    "        return 'gross'\n",
    "    elif 'Max Reimbursement' in x:\n",
    "        return'max'\n",
    "    elif 'Minimal Reimbursement' in x:\n",
    "        return'min'\n",
    "    elif 'Cash Price' in x:\n",
    "        return 'cash'\n",
    "    else:\n",
    "        return 'payer'\n",
    "    "
   ]
  },
  {
   "cell_type": "code",
   "execution_count": 34,
   "metadata": {},
   "outputs": [
    {
     "name": "stderr",
     "output_type": "stream",
     "text": [
      "C:\\Users\\adria\\AppData\\Local\\Temp\\ipykernel_33852\\2498153818.py:2: DtypeWarning: Columns (0,2,4) have mixed types. Specify dtype option on import or set low_memory=False.\n",
      "  df = pd.read_csv(file)\n"
     ]
    }
   ],
   "source": [
    "file = '823970937_UTHealth-Specialty-Hospital_standardcharges.csv'\n",
    "df = pd.read_csv(file)"
   ]
  },
  {
   "cell_type": "code",
   "execution_count": 35,
   "metadata": {},
   "outputs": [],
   "source": [
    "df.rename(columns={\n",
    "    'Procedure': 'local_code',\n",
    "    'Code Type': 'line_type',\n",
    "    'Revenue Code': 'rev_desc',\n",
    "    'Procedure Description': 'description',\n",
    "    'Payer': 'payer',\n",
    "    'Plan': 'plan_name',\n",
    "    'Quantity': 'drug_quantity',\n",
    "}, inplace=True)"
   ]
  },
  {
   "cell_type": "code",
   "execution_count": 36,
   "metadata": {},
   "outputs": [],
   "source": [
    "df['code_orig'] = df['local_code'].where(df['local_code'].str.startswith('MS'), other=pd.NA)\n",
    "df['code_prefix'] = np.where(df['line_type'] == 'DRG', 'ms-drg', pd.NA)\n",
    "df['code'] = df['code_orig'].str.replace('MS', '')\n",
    "df['code'].fillna('none', inplace=True)\n",
    "df['code_prefix'].fillna('none', inplace=True)\n",
    "\n",
    "df.loc[df['code_prefix'] == 'ms-drg', 'ms_drg'] = df['code']"
   ]
  },
  {
   "cell_type": "code",
   "execution_count": 37,
   "metadata": {},
   "outputs": [],
   "source": [
    "df['rev_code'] = df['rev_desc'].str.split(\" - \").str[0]"
   ]
  },
  {
   "cell_type": "code",
   "execution_count": 38,
   "metadata": {},
   "outputs": [],
   "source": [
    "cols = df.columns.tolist()\n",
    "cols = cols[-4:] + cols[:-4]\n",
    "df = df[cols]"
   ]
  },
  {
   "cell_type": "code",
   "execution_count": 39,
   "metadata": {},
   "outputs": [],
   "source": [
    "id_vars = cols[:11]\n",
    "\n",
    "# Define columns to be melted\n",
    "value_vars = ['Inpatient Expected Reimbursement', 'Outpatient Expected Reimbursement']\n",
    "\n",
    "# Melt the dataframe \n",
    "# Var name as setting because the var names don't matter here as these are the standard_charges for `payer`\n",
    "df_melted = pd.melt(df, id_vars=id_vars, value_vars=value_vars,\n",
    "                    var_name='setting', value_name='standard_charge')\n",
    "\n",
    "# Extract the patient class from the variable column\n",
    "df_melted['setting'] = df_melted['setting'].str.split().str[0].str.lower()"
   ]
  },
  {
   "cell_type": "code",
   "execution_count": 40,
   "metadata": {},
   "outputs": [],
   "source": [
    "id_vars = cols[:11]\n",
    "id_vars.remove('payer')\n",
    "id_vars.remove('plan_name')\n",
    "# Define columns to be melted\n",
    "value_vars = cols[11:]\n",
    "value_vars.remove('Outpatient Expected Reimbursement')\n",
    "value_vars.remove('Inpatient Expected Reimbursement')\n",
    "\n",
    "# Melt the dataframe \n",
    "# Var name as setting because the var names don't matter here as these are the standard_charges for `payer`\n",
    "df_1 = df.drop(['payer', 'plan_name'], axis=1)\n",
    "df_melted_2 = pd.melt(df_1, id_vars=id_vars, value_vars=value_vars,\n",
    "                    var_name='payer', value_name='standard_charge')\n",
    "\n",
    "# Extract the patient class from the variable column\n",
    "# df_melted['setting'] = df_melted['setting'].str.split().str[0].str.lower()"
   ]
  },
  {
   "cell_type": "code",
   "execution_count": 41,
   "metadata": {},
   "outputs": [],
   "source": [
    "df = pd.concat([df_melted, df_melted_2])"
   ]
  },
  {
   "cell_type": "code",
   "execution_count": 42,
   "metadata": {},
   "outputs": [
    {
     "name": "stderr",
     "output_type": "stream",
     "text": [
      "100%|██████████| 1068560/1068560 [00:15<00:00, 68217.08it/s]\n"
     ]
    }
   ],
   "source": [
    "df['setting'] = df[['setting', 'payer']].progress_apply(lambda x: setting(pat_class=x[0], payer=x[1]), axis=1)"
   ]
  },
  {
   "cell_type": "code",
   "execution_count": 43,
   "metadata": {},
   "outputs": [],
   "source": [
    "df['payer_category'] = df['payer'].apply(payer_cat)"
   ]
  },
  {
   "cell_type": "code",
   "execution_count": 44,
   "metadata": {},
   "outputs": [],
   "source": [
    "df['local_code'].fillna('na', inplace=True)\n",
    "df['payer'] = df['payer']\n",
    "df['plan_orig'] = df['plan_name']\n",
    "df['plan_orig'].fillna('na', inplace=True)"
   ]
  },
  {
   "cell_type": "code",
   "execution_count": 45,
   "metadata": {},
   "outputs": [],
   "source": [
    "# df['hospital_ein'] = '82-3970937'\n",
    "# df['hospital_ccn'] = '452051'\n",
    "# df['filename'] = file\n",
    "# df['url'] = 'https://coc.ardenthealthservices.com/2023/easttexas/823970937_UTHealth-Specialty-Hospital_standardcharges.csv'\n",
    "# df['file_last_updated'] = '2023-01-10'"
   ]
  },
  {
   "cell_type": "code",
   "execution_count": 46,
   "metadata": {},
   "outputs": [],
   "source": [
    "df.dropna(subset=['standard_charge'], inplace=True)\n",
    "df['rev_code'].fillna('na', inplace=True)\n",
    "df['setting'].fillna('na', inplace=True)"
   ]
  },
  {
   "cell_type": "code",
   "execution_count": 47,
   "metadata": {},
   "outputs": [],
   "source": [
    "df.to_csv('specialty.csv', index=False)"
   ]
  }
 ],
 "metadata": {
  "kernelspec": {
   "display_name": "scraper",
   "language": "python",
   "name": "python3"
  },
  "language_info": {
   "codemirror_mode": {
    "name": "ipython",
    "version": 3
   },
   "file_extension": ".py",
   "mimetype": "text/x-python",
   "name": "python",
   "nbconvert_exporter": "python",
   "pygments_lexer": "ipython3",
   "version": "3.9.7"
  },
  "orig_nbformat": 4
 },
 "nbformat": 4,
 "nbformat_minor": 2
}
