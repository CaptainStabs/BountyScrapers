{
 "cells": [
  {
   "cell_type": "code",
   "execution_count": 1,
   "metadata": {},
   "outputs": [],
   "source": [
    "import pandas as pd"
   ]
  },
  {
   "cell_type": "code",
   "execution_count": null,
   "metadata": {},
   "outputs": [],
   "source": [
    "df_cols = pd.series([['hospital_tin', 'hospital_ccn', 'code_meta', 'description', 'procedure_code', 'code_orig', 'code_desc', 'code_type', 'code', 'modifier', 'ndc', 'rev_code', 'rev_desc', 'apc', 'billing_class', 'patient_class', 'billed_quantity', 'quantity_desc', 'payer_desc', 'payer_category', 'payer_name', 'plan_desc', 'plan_name', 'plan_id', 'plan_type', 'is_medicare_adv', 'rate', 'rate_method', 'rate_desc', 'filename', 'file_last_updated', 'url', 'permalink']\n",
    "])\n",
    "\n",
    "data_str = \"[48-1202402,170040,EAP,HC 70132 Crescent Cath,HCORR32720001, C1750,<nil>,other,C1750,na,na,0270,MEDICAL/SURGICAL SUPPLIES AND DEVICES - GENERAL CLASSIFICATION,na,facility,inpatient,1,1,IPPrice,gross,<nil>,na,<nil>,<nil>,<nil>,false,21375.,FSC: 50401; BFG: 29,na,48-1201402_TheUniversityOfKansasHealthSystemKansasCityCampus_standardcharges.csv,<nil>,https://ukhspricetransparency.blob.core.windows.net/ukhs-price-transparency/48-1201402_TheUniversityOfKansasHealthSystemKansasCityCampus_standardcharges.csv,<nil>]\"\n",
    "\n",
    "df_data = pd.series()"
   ]
  }
 ],
 "metadata": {
  "kernelspec": {
   "display_name": "scraper2",
   "language": "python",
   "name": "python3"
  },
  "language_info": {
   "codemirror_mode": {
    "name": "ipython",
    "version": 3
   },
   "file_extension": ".py",
   "mimetype": "text/x-python",
   "name": "python",
   "nbconvert_exporter": "python",
   "pygments_lexer": "ipython3",
   "version": "3.9.15"
  },
  "orig_nbformat": 4
 },
 "nbformat": 4,
 "nbformat_minor": 2
}
