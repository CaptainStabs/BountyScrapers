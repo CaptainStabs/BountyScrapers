{
 "cells": [
  {
   "cell_type": "code",
   "execution_count": 80,
   "metadata": {},
   "outputs": [],
   "source": [
    "import pandas as pd"
   ]
  },
  {
   "cell_type": "code",
   "execution_count": 81,
   "metadata": {},
   "outputs": [],
   "source": [
    "def code_prefix(x):\n",
    "    if len(str(x)) == 3:\n",
    "        return 'ms-drg'\n",
    "    elif len(str(x)) == 5:\n",
    "        return 'hcpcs_cpt'\n",
    "    else:\n",
    "        return 'none'\n",
    "    \n",
    "def payer_category(x):\n",
    "    payers = {\n",
    "        'PRICING_AMT': 'gross',\n",
    "        'Self Pay/Uninsured': 'cash',\n",
    "        'Pricing Max': 'max',\n",
    "        'Pricing Min': 'min'\n",
    "    }\n",
    "\n",
    "    try:\n",
    "        return payers[x]\n",
    "    except KeyError:\n",
    "        return 'payer'"
   ]
  },
  {
   "cell_type": "code",
   "execution_count": 82,
   "metadata": {},
   "outputs": [],
   "source": [
    "file = '59-1943502_ShandsTeachingHospitalandClinics_standardcharges (3).csv'\n",
    "df = pd.read_csv(file, dtype=str)"
   ]
  },
  {
   "cell_type": "code",
   "execution_count": 83,
   "metadata": {},
   "outputs": [],
   "source": [
    "df.rename(columns={\n",
    "    'PROCEDURE': 'internal_code',\n",
    "    'UNIT': 'ndc_quantity_desc',\n",
    "    'SUF EAP DESC': 'description',\n",
    "    'CODE': 'code_orig'\n",
    "},\n",
    "    inplace=True)"
   ]
  },
  {
   "cell_type": "code",
   "execution_count": 84,
   "metadata": {},
   "outputs": [],
   "source": [
    "df.drop('Eff Date', axis=1, inplace=True)"
   ]
  },
  {
   "cell_type": "code",
   "execution_count": 85,
   "metadata": {},
   "outputs": [],
   "source": [
    "cols = df.columns.tolist()\n",
    "id_vars = cols[:4]\n",
    "val_vars = cols[4:]\n",
    "\n",
    "df = pd.melt(df, id_vars=id_vars, value_vars=val_vars, value_name='rate', var_name='payer_orig')"
   ]
  },
  {
   "cell_type": "code",
   "execution_count": 86,
   "metadata": {},
   "outputs": [],
   "source": [
    "df['code_prefix'] = df['code_orig'].apply(code_prefix)\n",
    "df['payer_category'] = df['payer_orig'].apply(payer_category)"
   ]
  },
  {
   "cell_type": "code",
   "execution_count": 87,
   "metadata": {},
   "outputs": [],
   "source": [
    "df.loc[df['ndc_quantity_desc'].isin(['1 each', 'Ea', 'DISCHARGE']), 'ndc_quantity_desc'] = pd.NA"
   ]
  },
  {
   "cell_type": "code",
   "execution_count": 88,
   "metadata": {},
   "outputs": [
    {
     "name": "stderr",
     "output_type": "stream",
     "text": [
      "C:\\Users\\adria\\AppData\\Local\\Temp\\ipykernel_167248\\505826267.py:1: FutureWarning: The default value of regex will change from True to False in a future version. In addition, single character regular expressions will *not* be treated as literal strings when regex=True.\n",
      "  df['rate'] = df['rate'].str.replace('$', '').str.replace(',', '')\n"
     ]
    }
   ],
   "source": [
    "df['rate'] = df['rate'].str.replace('$', '').str.replace(',', '')"
   ]
  },
  {
   "cell_type": "code",
   "execution_count": 89,
   "metadata": {},
   "outputs": [],
   "source": [
    "df['file_last_updated'] = '2023-01-01'\n",
    "df['hospital_ccn'] = '100113'\n",
    "df['hospital_ein'] = '59-1943502'\n",
    "df['url'] = 'https://ufhealth.org/sites/default/files/media/financial-assistance/59-1943502_ShandsTeachingHospitalandClinics_standardcharges%20%283%29.csv'\n",
    "df['filename'] = file"
   ]
  },
  {
   "cell_type": "code",
   "execution_count": 90,
   "metadata": {},
   "outputs": [],
   "source": [
    "df['payer_name'] = df['payer_orig']\n",
    "df['code'] = df['code_orig']"
   ]
  },
  {
   "cell_type": "code",
   "execution_count": 91,
   "metadata": {},
   "outputs": [],
   "source": [
    "df['payer_orig'] = df['payer_orig'].str.strip()\n",
    "df['payer_name'] = df['payer_name'].str.strip()\n",
    "df['description'] = df['description'].str.strip()\n",
    "df['code'] = df['code'].str.strip()\n",
    "df['code_orig'] = df['code_orig'].str.strip()\n",
    "df['rate'] = df['rate'].str.strip()\n",
    "\n",
    "# This has to be under the strip because a lot of blank codes are spaces\n",
    "df['code'].fillna('na', inplace=True)\n",
    "df.loc[df['code'].isnull() | (df['code'] == ''), 'code'] = 'na'"
   ]
  },
  {
   "cell_type": "code",
   "execution_count": 92,
   "metadata": {},
   "outputs": [],
   "source": [
    "cols = df.columns.tolist()\n",
    "cols = cols[-1:] + cols[:-1]\n",
    "\n",
    "df = df[cols]"
   ]
  },
  {
   "cell_type": "code",
   "execution_count": 93,
   "metadata": {},
   "outputs": [],
   "source": [
    "df['rate'] = df['rate'].astype(str).str.strip()\n",
    "# df = df[~df['rate'].isin(['Bundled', 'Markup'])]\n",
    "df = df[pd.to_numeric(df['rate'], errors='coerce').notnull()]\n",
    "\n",
    "# df.dropna(subset=['rate'], inplace=True)"
   ]
  },
  {
   "cell_type": "code",
   "execution_count": 94,
   "metadata": {},
   "outputs": [],
   "source": [
    "df.to_csv('shands.csv', index=False)"
   ]
  }
 ],
 "metadata": {
  "kernelspec": {
   "display_name": "scraper",
   "language": "python",
   "name": "python3"
  },
  "language_info": {
   "codemirror_mode": {
    "name": "ipython",
    "version": 3
   },
   "file_extension": ".py",
   "mimetype": "text/x-python",
   "name": "python",
   "nbconvert_exporter": "python",
   "pygments_lexer": "ipython3",
   "version": "3.9.15"
  },
  "orig_nbformat": 4
 },
 "nbformat": 4,
 "nbformat_minor": 2
}
