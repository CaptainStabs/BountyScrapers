{
 "cells": [
  {
   "cell_type": "code",
   "execution_count": 1,
   "metadata": {},
   "outputs": [],
   "source": [
    "import pandas as pd"
   ]
  },
  {
   "cell_type": "code",
   "execution_count": 2,
   "metadata": {},
   "outputs": [],
   "source": [
    "df = pd.read_csv('hospital.csv', dtype=str)"
   ]
  },
  {
   "cell_type": "code",
   "execution_count": 3,
   "metadata": {},
   "outputs": [],
   "source": [
    "df['file_name'] = df['mrf_url'].str.split('/').str[-1]"
   ]
  },
  {
   "cell_type": "code",
   "execution_count": 4,
   "metadata": {},
   "outputs": [],
   "source": [
    "df['ein'] = df['file_name'].str.split('_').str[0].str[:2] + '-' + df['file_name'].str.split('_').str[0].str[2:]"
   ]
  },
  {
   "cell_type": "code",
   "execution_count": 6,
   "metadata": {},
   "outputs": [],
   "source": [
    "df.to_csv('hospitals.csv', index=False)"
   ]
  },
  {
   "cell_type": "code",
   "execution_count": 5,
   "metadata": {},
   "outputs": [
    {
     "data": {
      "text/plain": [
       "{'221487576_bayshore-medical-center_standardcharges.xlsx': '310112',\n",
       " '221487576_hackensack-university-medical-center_standardcharges.xlsx': '310001',\n",
       " '221487576_jersey-shore-university-medical-center_standardcharges.xlsx': '310073',\n",
       " '221487576_jfk-university-medical-center_standardcharges.xlsx': '310108',\n",
       " '221487576_ocean-medical-center_standardcharges.xlsx': '310052',\n",
       " '221487576_palisades-medical-center_standardcharges.xlsx': '310003',\n",
       " '221487576_raritan-bay-medical-center_standardcharges.xlsx': '310039',\n",
       " '221487576_riverview-medical-center_standardcharges.xlsx': '310034',\n",
       " '221487576_southern-ocean-medical-center_standardcharges.xlsx': '310113'}"
      ]
     },
     "execution_count": 5,
     "metadata": {},
     "output_type": "execute_result"
    }
   ],
   "source": [
    "ein_ccn_dict = dict(zip(df['file_name'], df['id']))\n",
    "ein_ccn_dict"
   ]
  }
 ],
 "metadata": {
  "kernelspec": {
   "display_name": "scraper2",
   "language": "python",
   "name": "python3"
  },
  "language_info": {
   "codemirror_mode": {
    "name": "ipython",
    "version": 3
   },
   "file_extension": ".py",
   "mimetype": "text/x-python",
   "name": "python",
   "nbconvert_exporter": "python",
   "pygments_lexer": "ipython3",
   "version": "3.9.15"
  },
  "orig_nbformat": 4
 },
 "nbformat": 4,
 "nbformat_minor": 2
}
