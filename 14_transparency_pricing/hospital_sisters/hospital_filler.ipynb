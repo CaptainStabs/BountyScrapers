{
 "cells": [
  {
   "cell_type": "code",
   "execution_count": 1,
   "metadata": {},
   "outputs": [],
   "source": [
    "import pandas as pd"
   ]
  },
  {
   "cell_type": "code",
   "execution_count": 2,
   "metadata": {},
   "outputs": [],
   "source": [
    "df = pd.read_csv('hospital.csv', dtype=str)"
   ]
  },
  {
   "cell_type": "code",
   "execution_count": 3,
   "metadata": {},
   "outputs": [],
   "source": [
    "df['file_name'] = df['mrf_url'].str.split('/').str[-1]"
   ]
  },
  {
   "cell_type": "code",
   "execution_count": 4,
   "metadata": {},
   "outputs": [],
   "source": [
    "df['ein'] = df['file_name'].str.split('_').str[0].str[:2] + '-' + df['file_name'].str.split('_').str[0].str[2:]"
   ]
  },
  {
   "cell_type": "code",
   "execution_count": 5,
   "metadata": {},
   "outputs": [],
   "source": [
    "df.to_csv('hospitals.csv', index=False)"
   ]
  },
  {
   "cell_type": "code",
   "execution_count": 6,
   "metadata": {},
   "outputs": [
    {
     "data": {
      "text/plain": [
       "{'370512290_GOOD-SHEPHERD-HOSPITAL_STANDARDCHAGES.txt': '140019',\n",
       " '370661233_ST-ANTHONY-S-MEMORIAL-HOSPITAL_STANDARDCHARGES.txt': '140032',\n",
       " '370661238_ST-JOHN-S-HOSPITAL_STANDARDCHARGES.txt': '140053',\n",
       " '370792770_HOLY-FAMILY-HOSPITAL_STANDARDCHARGES.txt': '140137',\n",
       " '371208459_ST-JOSEPH-S-HOSPITAL-BREESE_STANDARDCHARGES.txt': '140145',\n",
       " '370661244_ST-MARY-S-HOSPITAL-DECATUR_STANDARDCHARGES.txt': '140166',\n",
       " '370663567_ST-ELIZABETH-S-HOSPITAL_STANDARDCHARGES.txt': '140187',\n",
       " '370663568_ST-JOSEPH-S-HOSPITAL-HIGHLAND_STANDARDCHARGES.txt': '141336',\n",
       " '370661236_ST-FRANCIS-HOSPITAL_STANDARDCHARGES.txt': '141350',\n",
       " '390807060_SACRED-HEART-HOSPITAL_STANDARDCHARGES.txt': '520013',\n",
       " '390810545_ST-JOSEPH-S-CHIPPEWA-FALLS_STANDARDCHARGES.txt': '520017',\n",
       " '390808480_ST-NICHOLAS-HOSPITAL_STANDARDCHARGES.txt': '520044',\n",
       " '390817529_ST-VINCENT-HOSPITAL_STANDARDCHARGES.txt': '520075',\n",
       " '390818682_ST-MARY-S-HOSPITAL_STANDARDCHARGES.txt': '520097',\n",
       " '390848401_ST-CLARE-MEMORIAL-HOSPITAL_STANDARDCHARGES.txt': '521310'}"
      ]
     },
     "execution_count": 6,
     "metadata": {},
     "output_type": "execute_result"
    }
   ],
   "source": [
    "ein_ccn_dict = dict(zip(df['file_name'], df['id']))\n",
    "ein_ccn_dict"
   ]
  }
 ],
 "metadata": {
  "kernelspec": {
   "display_name": "scraper2",
   "language": "python",
   "name": "python3"
  },
  "language_info": {
   "codemirror_mode": {
    "name": "ipython",
    "version": 3
   },
   "file_extension": ".py",
   "mimetype": "text/x-python",
   "name": "python",
   "nbconvert_exporter": "python",
   "pygments_lexer": "ipython3",
   "version": "3.9.15"
  },
  "orig_nbformat": 4
 },
 "nbformat": 4,
 "nbformat_minor": 2
}
