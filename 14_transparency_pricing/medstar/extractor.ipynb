{
 "cells": [
  {
   "cell_type": "code",
   "execution_count": 42,
   "metadata": {},
   "outputs": [],
   "source": [
    "import pandas as pd\n",
    "import numpy as np"
   ]
  },
  {
   "cell_type": "code",
   "execution_count": 43,
   "metadata": {},
   "outputs": [],
   "source": [
    "def payer_category(x):\n",
    "    if 'Maximum Fee' in x:\n",
    "        return 'max'\n",
    "    elif 'Minimum Fee' in x:\n",
    "        return'min'\n",
    "    elif 'Cash Price' in x:\n",
    "        return 'cash'\n",
    "    elif 'Gross' in x:\n",
    "        return 'gross'"
   ]
  },
  {
   "cell_type": "code",
   "execution_count": 90,
   "metadata": {},
   "outputs": [],
   "source": [
    "folder = '.\\\\input_files\\\\'\n",
    "file = '460726303_MedStar Southern Maryland Hospital Center_Standard Charges.xlsx'\n",
    "\n",
    "df = pd.read_excel(folder + file, skiprows=3)"
   ]
  },
  {
   "cell_type": "code",
   "execution_count": 46,
   "metadata": {},
   "outputs": [],
   "source": [
    "df.rename(columns={\n",
    "    'Charge Description Master Detail': 'description',\n",
    "    'REV/CPT/HCPCS': 'code',\n",
    "    'Payor': 'payer',\n",
    "    'Plan': 'plan',\n",
    "\n",
    "\n",
    "}, inplace=True)"
   ]
  },
  {
   "cell_type": "code",
   "execution_count": 47,
   "metadata": {},
   "outputs": [],
   "source": [
    "df.dropna(subset=['payer'], inplace=True)"
   ]
  },
  {
   "cell_type": "code",
   "execution_count": 48,
   "metadata": {},
   "outputs": [],
   "source": [
    "cols = df.columns.tolist()\n",
    "id_vars = cols[:4]\n",
    "value_vars = ['Negotiated Fee Inpatient', 'Negotiated Fee Outpatient']\n",
    "df_payers = pd.melt(df, id_vars=id_vars, value_vars=value_vars, var_name='payer_temp', value_name='standard_charge')"
   ]
  },
  {
   "cell_type": "code",
   "execution_count": 49,
   "metadata": {},
   "outputs": [],
   "source": [
    "df_payers['setting'] = np.where(df_payers['payer_temp'].str.contains('Inpatient'), 'inpatient', np.where(df_payers['payer_temp'].str.contains('Outpatient'), 'outpatient', 1))\n",
    "df_payers.drop('payer_temp', axis=1, inplace=True)"
   ]
  },
  {
   "cell_type": "code",
   "execution_count": 50,
   "metadata": {},
   "outputs": [],
   "source": [
    "df_payers['payer_category'] = 'payer'"
   ]
  },
  {
   "cell_type": "code",
   "execution_count": 51,
   "metadata": {},
   "outputs": [],
   "source": [
    "# Do non-payer columns\n",
    "df.drop(['Negotiated Fee Inpatient', 'Negotiated Fee Outpatient', 'payer', 'plan'], axis=1, inplace=True)"
   ]
  },
  {
   "cell_type": "code",
   "execution_count": 52,
   "metadata": {},
   "outputs": [],
   "source": [
    "cols = df.columns.tolist()\n",
    "id_vars = cols[:2]\n",
    "value_vars = cols[2:]\n",
    "\n",
    "df = pd.melt(df, id_vars=id_vars, value_vars=value_vars, var_name='payer', value_name='standard_charge')"
   ]
  },
  {
   "cell_type": "code",
   "execution_count": 53,
   "metadata": {},
   "outputs": [],
   "source": [
    "df['payer_category'] = df['payer'].apply(payer_category)\n",
    "df['setting'] = np.where(df['payer'].str.contains('Inpatient'), 'inpatient', np.where(df['payer'].str.contains('Outpatient'), 'outpatient', 1))"
   ]
  },
  {
   "cell_type": "code",
   "execution_count": 54,
   "metadata": {},
   "outputs": [],
   "source": [
    "df1 = pd.concat([df, df_payers])"
   ]
  },
  {
   "cell_type": "code",
   "execution_count": 55,
   "metadata": {},
   "outputs": [],
   "source": [
    "df = df1"
   ]
  },
  {
   "cell_type": "code",
   "execution_count": 69,
   "metadata": {},
   "outputs": [],
   "source": [
    "df.reset_index(drop=False, inplace=True)"
   ]
  },
  {
   "cell_type": "code",
   "execution_count": 82,
   "metadata": {},
   "outputs": [],
   "source": [
    "df.drop(['level_0', 'index'], axis=1, inplace=True)"
   ]
  },
  {
   "cell_type": "code",
   "execution_count": 75,
   "metadata": {},
   "outputs": [],
   "source": [
    "df.loc[df['code'].str.len() == 3, 'rev_code'] = df['code']\n",
    "df.loc[df['code'].str.len() == 5, 'hcpcs_cpt'] = df['code']\n",
    "df.loc[df['code'].str.len() == 7, 'hcpcs_cpt'] = df['code'].str[:5]\n",
    "df.loc[df['code'].str.len() == 7, 'modifiers'] = df['code'].str[-2:]"
   ]
  },
  {
   "cell_type": "code",
   "execution_count": 84,
   "metadata": {},
   "outputs": [],
   "source": [
    "df['code'].fillna('\"\"', inplace=True)\n",
    "df['plan'].fillna('\"\"', inplace=True)\n",
    "df['rev_code'].fillna('\"\"', inplace=True)\n",
    "df['hcpcs_cpt'].fillna('\"\"', inplace=True)\n",
    "df['modifiers'].fillna('\"\"', inplace=True)"
   ]
  },
  {
   "cell_type": "code",
   "execution_count": 92,
   "metadata": {},
   "outputs": [],
   "source": [
    "ccn = {\n",
    "    '460726303': '210062',\n",
    "    '520491660': '210034',\n",
    "    '520591607': '210056',\n",
    "    '520591685': '210024',\n",
    "    '520608007': '210015',\n",
    "    '520619006': '210028',\n",
    "    '520646893': '210018'\n",
    "}\n",
    "\n",
    "ein = file.split('_')[0]\n",
    "\n",
    "df['hospital_id'] = ccn[ein]"
   ]
  },
  {
   "cell_type": "code",
   "execution_count": 93,
   "metadata": {},
   "outputs": [
    {
     "data": {
      "text/html": [
       "<div>\n",
       "<style scoped>\n",
       "    .dataframe tbody tr th:only-of-type {\n",
       "        vertical-align: middle;\n",
       "    }\n",
       "\n",
       "    .dataframe tbody tr th {\n",
       "        vertical-align: top;\n",
       "    }\n",
       "\n",
       "    .dataframe thead th {\n",
       "        text-align: right;\n",
       "    }\n",
       "</style>\n",
       "<table border=\"1\" class=\"dataframe\">\n",
       "  <thead>\n",
       "    <tr style=\"text-align: right;\">\n",
       "      <th></th>\n",
       "      <th>description</th>\n",
       "      <th>code</th>\n",
       "      <th>payer</th>\n",
       "      <th>standard_charge</th>\n",
       "      <th>payer_category</th>\n",
       "      <th>setting</th>\n",
       "      <th>plan</th>\n",
       "      <th>rev_code</th>\n",
       "      <th>hcpcs_cpt</th>\n",
       "      <th>modifiers</th>\n",
       "      <th>hospital_id</th>\n",
       "    </tr>\n",
       "  </thead>\n",
       "  <tbody>\n",
       "    <tr>\n",
       "      <th>0</th>\n",
       "      <td>1E ADMIN STEPDOWN BED</td>\n",
       "      <td>121</td>\n",
       "      <td>Gross Charge</td>\n",
       "      <td>307.48</td>\n",
       "      <td>gross</td>\n",
       "      <td>1</td>\n",
       "      <td>\"\"</td>\n",
       "      <td>121</td>\n",
       "      <td>\"\"</td>\n",
       "      <td>\"\"</td>\n",
       "      <td>210062</td>\n",
       "    </tr>\n",
       "    <tr>\n",
       "      <th>1</th>\n",
       "      <td>1S ADMIN STEPDOWN BED</td>\n",
       "      <td>121</td>\n",
       "      <td>Gross Charge</td>\n",
       "      <td>307.48</td>\n",
       "      <td>gross</td>\n",
       "      <td>1</td>\n",
       "      <td>\"\"</td>\n",
       "      <td>121</td>\n",
       "      <td>\"\"</td>\n",
       "      <td>\"\"</td>\n",
       "      <td>210062</td>\n",
       "    </tr>\n",
       "    <tr>\n",
       "      <th>2</th>\n",
       "      <td>1W ADMIN STEPDOWN BED</td>\n",
       "      <td>121</td>\n",
       "      <td>Gross Charge</td>\n",
       "      <td>307.48</td>\n",
       "      <td>gross</td>\n",
       "      <td>1</td>\n",
       "      <td>\"\"</td>\n",
       "      <td>121</td>\n",
       "      <td>\"\"</td>\n",
       "      <td>\"\"</td>\n",
       "      <td>210062</td>\n",
       "    </tr>\n",
       "    <tr>\n",
       "      <th>3</th>\n",
       "      <td>2E ADMIN STEPDOWN BED</td>\n",
       "      <td>121</td>\n",
       "      <td>Gross Charge</td>\n",
       "      <td>307.48</td>\n",
       "      <td>gross</td>\n",
       "      <td>1</td>\n",
       "      <td>\"\"</td>\n",
       "      <td>121</td>\n",
       "      <td>\"\"</td>\n",
       "      <td>\"\"</td>\n",
       "      <td>210062</td>\n",
       "    </tr>\n",
       "    <tr>\n",
       "      <th>4</th>\n",
       "      <td>2N ADMIN STEPDOWN BED</td>\n",
       "      <td>121</td>\n",
       "      <td>Gross Charge</td>\n",
       "      <td>307.48</td>\n",
       "      <td>gross</td>\n",
       "      <td>1</td>\n",
       "      <td>\"\"</td>\n",
       "      <td>121</td>\n",
       "      <td>\"\"</td>\n",
       "      <td>\"\"</td>\n",
       "      <td>210062</td>\n",
       "    </tr>\n",
       "    <tr>\n",
       "      <th>...</th>\n",
       "      <td>...</td>\n",
       "      <td>...</td>\n",
       "      <td>...</td>\n",
       "      <td>...</td>\n",
       "      <td>...</td>\n",
       "      <td>...</td>\n",
       "      <td>...</td>\n",
       "      <td>...</td>\n",
       "      <td>...</td>\n",
       "      <td>...</td>\n",
       "      <td>...</td>\n",
       "    </tr>\n",
       "    <tr>\n",
       "      <th>688009</th>\n",
       "      <td>BC-PHP/6 GROUP THERAPY</td>\n",
       "      <td>S0201</td>\n",
       "      <td>All Payors / Plans</td>\n",
       "      <td>166.85</td>\n",
       "      <td>payer</td>\n",
       "      <td>outpatient</td>\n",
       "      <td>All Payors / Plans</td>\n",
       "      <td>\"\"</td>\n",
       "      <td>S0201</td>\n",
       "      <td>\"\"</td>\n",
       "      <td>210062</td>\n",
       "    </tr>\n",
       "    <tr>\n",
       "      <th>688010</th>\n",
       "      <td>BC-PHP/6 IND THERAPY (45)</td>\n",
       "      <td>S0201</td>\n",
       "      <td>All Payors / Plans</td>\n",
       "      <td>166.85</td>\n",
       "      <td>payer</td>\n",
       "      <td>outpatient</td>\n",
       "      <td>All Payors / Plans</td>\n",
       "      <td>\"\"</td>\n",
       "      <td>S0201</td>\n",
       "      <td>\"\"</td>\n",
       "      <td>210062</td>\n",
       "    </tr>\n",
       "    <tr>\n",
       "      <th>688011</th>\n",
       "      <td>BC-PHP/6 IND THERAPY (60)</td>\n",
       "      <td>S0201</td>\n",
       "      <td>All Payors / Plans</td>\n",
       "      <td>166.85</td>\n",
       "      <td>payer</td>\n",
       "      <td>outpatient</td>\n",
       "      <td>All Payors / Plans</td>\n",
       "      <td>\"\"</td>\n",
       "      <td>S0201</td>\n",
       "      <td>\"\"</td>\n",
       "      <td>210062</td>\n",
       "    </tr>\n",
       "    <tr>\n",
       "      <th>688012</th>\n",
       "      <td>BC-PHP/6 GROUP THERAPY</td>\n",
       "      <td>S0201</td>\n",
       "      <td>All Payors / Plans</td>\n",
       "      <td>166.85</td>\n",
       "      <td>payer</td>\n",
       "      <td>outpatient</td>\n",
       "      <td>All Payors / Plans</td>\n",
       "      <td>\"\"</td>\n",
       "      <td>S0201</td>\n",
       "      <td>\"\"</td>\n",
       "      <td>210062</td>\n",
       "    </tr>\n",
       "    <tr>\n",
       "      <th>688013</th>\n",
       "      <td>BC-PHP/5 GROUP THERAPY</td>\n",
       "      <td>S0201</td>\n",
       "      <td>All Payors / Plans</td>\n",
       "      <td>196.29</td>\n",
       "      <td>payer</td>\n",
       "      <td>outpatient</td>\n",
       "      <td>All Payors / Plans</td>\n",
       "      <td>\"\"</td>\n",
       "      <td>S0201</td>\n",
       "      <td>\"\"</td>\n",
       "      <td>210062</td>\n",
       "    </tr>\n",
       "  </tbody>\n",
       "</table>\n",
       "<p>688014 rows × 11 columns</p>\n",
       "</div>"
      ],
      "text/plain": [
       "                      description   code               payer  standard_charge  \\\n",
       "0           1E ADMIN STEPDOWN BED    121        Gross Charge           307.48   \n",
       "1           1S ADMIN STEPDOWN BED    121        Gross Charge           307.48   \n",
       "2           1W ADMIN STEPDOWN BED    121        Gross Charge           307.48   \n",
       "3           2E ADMIN STEPDOWN BED    121        Gross Charge           307.48   \n",
       "4           2N ADMIN STEPDOWN BED    121        Gross Charge           307.48   \n",
       "...                           ...    ...                 ...              ...   \n",
       "688009     BC-PHP/6 GROUP THERAPY  S0201  All Payors / Plans           166.85   \n",
       "688010  BC-PHP/6 IND THERAPY (45)  S0201  All Payors / Plans           166.85   \n",
       "688011  BC-PHP/6 IND THERAPY (60)  S0201  All Payors / Plans           166.85   \n",
       "688012     BC-PHP/6 GROUP THERAPY  S0201  All Payors / Plans           166.85   \n",
       "688013     BC-PHP/5 GROUP THERAPY  S0201  All Payors / Plans           196.29   \n",
       "\n",
       "       payer_category     setting                plan rev_code hcpcs_cpt  \\\n",
       "0               gross           1                  \"\"      121        \"\"   \n",
       "1               gross           1                  \"\"      121        \"\"   \n",
       "2               gross           1                  \"\"      121        \"\"   \n",
       "3               gross           1                  \"\"      121        \"\"   \n",
       "4               gross           1                  \"\"      121        \"\"   \n",
       "...               ...         ...                 ...      ...       ...   \n",
       "688009          payer  outpatient  All Payors / Plans       \"\"     S0201   \n",
       "688010          payer  outpatient  All Payors / Plans       \"\"     S0201   \n",
       "688011          payer  outpatient  All Payors / Plans       \"\"     S0201   \n",
       "688012          payer  outpatient  All Payors / Plans       \"\"     S0201   \n",
       "688013          payer  outpatient  All Payors / Plans       \"\"     S0201   \n",
       "\n",
       "       modifiers hospital_id  \n",
       "0             \"\"      210062  \n",
       "1             \"\"      210062  \n",
       "2             \"\"      210062  \n",
       "3             \"\"      210062  \n",
       "4             \"\"      210062  \n",
       "...          ...         ...  \n",
       "688009        \"\"      210062  \n",
       "688010        \"\"      210062  \n",
       "688011        \"\"      210062  \n",
       "688012        \"\"      210062  \n",
       "688013        \"\"      210062  \n",
       "\n",
       "[688014 rows x 11 columns]"
      ]
     },
     "execution_count": 93,
     "metadata": {},
     "output_type": "execute_result"
    }
   ],
   "source": [
    "df"
   ]
  }
 ],
 "metadata": {
  "kernelspec": {
   "display_name": "scraper",
   "language": "python",
   "name": "python3"
  },
  "language_info": {
   "codemirror_mode": {
    "name": "ipython",
    "version": 3
   },
   "file_extension": ".py",
   "mimetype": "text/x-python",
   "name": "python",
   "nbconvert_exporter": "python",
   "pygments_lexer": "ipython3",
   "version": "3.9.7"
  },
  "orig_nbformat": 4
 },
 "nbformat": 4,
 "nbformat_minor": 2
}
