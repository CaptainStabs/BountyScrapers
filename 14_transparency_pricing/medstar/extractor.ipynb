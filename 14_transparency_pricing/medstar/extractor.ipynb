{
 "cells": [
  {
   "cell_type": "code",
   "execution_count": 76,
   "metadata": {},
   "outputs": [],
   "source": [
    "import pandas as pd\n",
    "import numpy as np\n",
    "import polars as pl"
   ]
  },
  {
   "cell_type": "code",
   "execution_count": 77,
   "metadata": {},
   "outputs": [],
   "source": [
    "def payer_category(x):\n",
    "    if 'Maximum Fee' in x:\n",
    "        return 'max'\n",
    "    elif 'Minimum Fee' in x:\n",
    "        return'min'\n",
    "    elif 'Cash Price' in x:\n",
    "        return 'cash'\n",
    "    elif 'Gross' in x:\n",
    "        return 'gross'"
   ]
  },
  {
   "cell_type": "code",
   "execution_count": 78,
   "metadata": {},
   "outputs": [],
   "source": [
    "folder = '.\\\\input_files\\\\'\n",
    "file = '520608007_MedStar Franklin Square Medical Center_Standard Charges.xlsx'\n",
    "\n",
    "df = pd.read_excel(folder + file, skiprows=3)"
   ]
  },
  {
   "cell_type": "code",
   "execution_count": 79,
   "metadata": {},
   "outputs": [],
   "source": [
    "df.rename(columns={\n",
    "    'Charge Description Master Detail': 'description',\n",
    "    'REV/CPT/HCPCS': 'code',\n",
    "    'Payor': 'payer',\n",
    "    'Plan': 'plan',\n",
    "\n",
    "\n",
    "}, inplace=True)"
   ]
  },
  {
   "cell_type": "code",
   "execution_count": 80,
   "metadata": {},
   "outputs": [],
   "source": [
    "df.dropna(subset=['payer'], inplace=True)"
   ]
  },
  {
   "cell_type": "code",
   "execution_count": 81,
   "metadata": {},
   "outputs": [],
   "source": [
    "cols = df.columns.tolist()\n",
    "id_vars = cols[:4]\n",
    "value_vars = ['Negotiated Fee Inpatient', 'Negotiated Fee Outpatient']\n",
    "df_payers = pd.melt(df, id_vars=id_vars, value_vars=value_vars, var_name='payer_temp', value_name='standard_charge')"
   ]
  },
  {
   "cell_type": "code",
   "execution_count": 82,
   "metadata": {},
   "outputs": [],
   "source": [
    "df_payers['setting'] = np.where(df_payers['payer_temp'].str.contains('Inpatient'), 'inpatient', np.where(df_payers['payer_temp'].str.contains('Outpatient'), 'outpatient', 1))\n",
    "df_payers.drop('payer_temp', axis=1, inplace=True)"
   ]
  },
  {
   "cell_type": "code",
   "execution_count": 83,
   "metadata": {},
   "outputs": [],
   "source": [
    "df_payers['payer_category'] = 'payer'"
   ]
  },
  {
   "cell_type": "code",
   "execution_count": 84,
   "metadata": {},
   "outputs": [],
   "source": [
    "# Do non-payer columns\n",
    "df.drop(['Negotiated Fee Inpatient', 'Negotiated Fee Outpatient', 'payer', 'plan'], axis=1, inplace=True)"
   ]
  },
  {
   "cell_type": "code",
   "execution_count": 85,
   "metadata": {},
   "outputs": [],
   "source": [
    "cols = df.columns.tolist()\n",
    "id_vars = cols[:2]\n",
    "value_vars = cols[2:]\n",
    "\n",
    "df = pd.melt(df, id_vars=id_vars, value_vars=value_vars, var_name='payer', value_name='standard_charge')"
   ]
  },
  {
   "cell_type": "code",
   "execution_count": 86,
   "metadata": {},
   "outputs": [],
   "source": [
    "df['payer_category'] = df['payer'].apply(payer_category)\n",
    "df['setting'] = np.where(df['payer'].str.contains('Inpatient'), 'inpatient', np.where(df['payer'].str.contains('Outpatient'), 'outpatient', 1))"
   ]
  },
  {
   "cell_type": "code",
   "execution_count": 87,
   "metadata": {},
   "outputs": [],
   "source": [
    "df1 = pd.concat([df, df_payers])"
   ]
  },
  {
   "cell_type": "code",
   "execution_count": 88,
   "metadata": {},
   "outputs": [],
   "source": [
    "df = df1"
   ]
  },
  {
   "cell_type": "code",
   "execution_count": 89,
   "metadata": {},
   "outputs": [],
   "source": [
    "df.reset_index(drop=False, inplace=True)"
   ]
  },
  {
   "cell_type": "code",
   "execution_count": 90,
   "metadata": {},
   "outputs": [],
   "source": [
    "df1 = df"
   ]
  },
  {
   "cell_type": "code",
   "execution_count": 106,
   "metadata": {},
   "outputs": [],
   "source": [
    "df = df1"
   ]
  },
  {
   "cell_type": "code",
   "execution_count": 91,
   "metadata": {},
   "outputs": [],
   "source": [
    "# df.drop(['level_0', 'index'], axis=1, inplace=True)"
   ]
  },
  {
   "cell_type": "code",
   "execution_count": 107,
   "metadata": {},
   "outputs": [],
   "source": [
    "df.loc[df['code'].str.len() == 3, 'rev_code'] = df['code']\n",
    "df.loc[df['code'].str.len() == 5, 'hcpcs_cpt'] = df['code']\n",
    "df.loc[df['code'].str.len() == 7, 'hcpcs_cpt'] = df['code'].str[:5]\n",
    "df.loc[df['code'].str.len() == 7, 'modifiers'] = df['code'].str[-2:]"
   ]
  },
  {
   "cell_type": "code",
   "execution_count": null,
   "metadata": {},
   "outputs": [],
   "source": [
    "df.loc[df['rev_code'] == pd.NA]"
   ]
  },
  {
   "cell_type": "code",
   "execution_count": 108,
   "metadata": {},
   "outputs": [],
   "source": [
    "df['rev_code'] = df['rev_code'].str.strip()\n",
    "df['rev_code'] = df['rev_code'].apply(lambda x: str(x).zfill(4) if x else x)"
   ]
  },
  {
   "cell_type": "code",
   "execution_count": 109,
   "metadata": {},
   "outputs": [],
   "source": [
    "df['code'].fillna('', inplace=True)\n",
    "df['plan'].fillna('', inplace=True)\n",
    "df['rev_code'].fillna('', inplace=True)\n",
    "df['hcpcs_cpt'].fillna('', inplace=True)\n",
    "df['modifiers'].fillna('', inplace=True)"
   ]
  },
  {
   "cell_type": "code",
   "execution_count": 110,
   "metadata": {},
   "outputs": [],
   "source": [
    "ccn = {\n",
    "    '460726303': '210062',\n",
    "    '520491660': '210034',\n",
    "    '520591607': '210056',\n",
    "    '520591685': '210024',\n",
    "    '520608007': '210015',\n",
    "    '520619006': '210028',\n",
    "    '520646893': '210018'\n",
    "}\n",
    "\n",
    "ein = file.split('_')[0]\n",
    "\n",
    "df['hospital_id'] = ccn[ein]\n",
    "\n",
    "df['code'] = df['code'].astype(str)"
   ]
  },
  {
   "cell_type": "code",
   "execution_count": 111,
   "metadata": {},
   "outputs": [],
   "source": [
    "df2 = pl.from_pandas(df)"
   ]
  },
  {
   "cell_type": "code",
   "execution_count": 112,
   "metadata": {},
   "outputs": [
    {
     "data": {
      "text/html": [
       "<div><style>\n",
       ".dataframe > thead > tr > th,\n",
       ".dataframe > tbody > tr > td {\n",
       "  text-align: right;\n",
       "}\n",
       "</style>\n",
       "<small>shape: (693_918, 12)</small><table border=\"1\" class=\"dataframe\"><thead><tr><th>index</th><th>description</th><th>code</th><th>payer</th><th>standard_charge</th><th>payer_category</th><th>setting</th><th>plan</th><th>rev_code</th><th>hcpcs_cpt</th><th>modifiers</th><th>hospital_id</th></tr><tr><td>i64</td><td>str</td><td>str</td><td>str</td><td>f64</td><td>str</td><td>str</td><td>str</td><td>str</td><td>str</td><td>str</td><td>str</td></tr></thead><tbody><tr><td>0</td><td>&quot;MSG-PRIVATE R+…</td><td>&quot;121&quot;</td><td>&quot;Gross Charge&quot;</td><td>1830.0</td><td>&quot;gross&quot;</td><td>&quot;1&quot;</td><td>&quot;&quot;</td><td>&quot;0121&quot;</td><td>&quot;&quot;</td><td>&quot;&quot;</td><td>&quot;210015&quot;</td></tr><tr><td>1</td><td>&quot;MED SURG ROOM …</td><td>&quot;121&quot;</td><td>&quot;Gross Charge&quot;</td><td>1830.0</td><td>&quot;gross&quot;</td><td>&quot;1&quot;</td><td>&quot;&quot;</td><td>&quot;0121&quot;</td><td>&quot;&quot;</td><td>&quot;&quot;</td><td>&quot;210015&quot;</td></tr><tr><td>2</td><td>&quot;3SB ROOM AND B…</td><td>&quot;121&quot;</td><td>&quot;Gross Charge&quot;</td><td>1830.0</td><td>&quot;gross&quot;</td><td>&quot;1&quot;</td><td>&quot;&quot;</td><td>&quot;0121&quot;</td><td>&quot;&quot;</td><td>&quot;&quot;</td><td>&quot;210015&quot;</td></tr><tr><td>3</td><td>&quot;MED SURG ROOM …</td><td>&quot;121&quot;</td><td>&quot;Gross Charge&quot;</td><td>1830.0</td><td>&quot;gross&quot;</td><td>&quot;1&quot;</td><td>&quot;&quot;</td><td>&quot;0121&quot;</td><td>&quot;&quot;</td><td>&quot;&quot;</td><td>&quot;210015&quot;</td></tr><tr><td>4</td><td>&quot;MED SURG ROOM …</td><td>&quot;121&quot;</td><td>&quot;Gross Charge&quot;</td><td>1830.0</td><td>&quot;gross&quot;</td><td>&quot;1&quot;</td><td>&quot;&quot;</td><td>&quot;0121&quot;</td><td>&quot;&quot;</td><td>&quot;&quot;</td><td>&quot;210015&quot;</td></tr><tr><td>5</td><td>&quot;MS OVERFLOW RO…</td><td>&quot;121&quot;</td><td>&quot;Gross Charge&quot;</td><td>1830.0</td><td>&quot;gross&quot;</td><td>&quot;1&quot;</td><td>&quot;&quot;</td><td>&quot;0121&quot;</td><td>&quot;&quot;</td><td>&quot;&quot;</td><td>&quot;210015&quot;</td></tr><tr><td>6</td><td>&quot;MSG PRIVATE&quot;</td><td>&quot;121&quot;</td><td>&quot;Gross Charge&quot;</td><td>1830.0</td><td>&quot;gross&quot;</td><td>&quot;1&quot;</td><td>&quot;&quot;</td><td>&quot;0121&quot;</td><td>&quot;&quot;</td><td>&quot;&quot;</td><td>&quot;210015&quot;</td></tr><tr><td>7</td><td>&quot;MED SURG ROOM …</td><td>&quot;121&quot;</td><td>&quot;Gross Charge&quot;</td><td>1830.0</td><td>&quot;gross&quot;</td><td>&quot;1&quot;</td><td>&quot;&quot;</td><td>&quot;0121&quot;</td><td>&quot;&quot;</td><td>&quot;&quot;</td><td>&quot;210015&quot;</td></tr><tr><td>8</td><td>&quot;MSG-PRIVATE R+…</td><td>&quot;121&quot;</td><td>&quot;Gross Charge&quot;</td><td>1830.0</td><td>&quot;gross&quot;</td><td>&quot;1&quot;</td><td>&quot;&quot;</td><td>&quot;0121&quot;</td><td>&quot;&quot;</td><td>&quot;&quot;</td><td>&quot;210015&quot;</td></tr><tr><td>9</td><td>&quot;MED SURG ROOM …</td><td>&quot;121&quot;</td><td>&quot;Gross Charge&quot;</td><td>1830.0</td><td>&quot;gross&quot;</td><td>&quot;1&quot;</td><td>&quot;&quot;</td><td>&quot;0121&quot;</td><td>&quot;&quot;</td><td>&quot;&quot;</td><td>&quot;210015&quot;</td></tr><tr><td>10</td><td>&quot;MS OVERFLOW RO…</td><td>&quot;121&quot;</td><td>&quot;Gross Charge&quot;</td><td>1830.0</td><td>&quot;gross&quot;</td><td>&quot;1&quot;</td><td>&quot;&quot;</td><td>&quot;0121&quot;</td><td>&quot;&quot;</td><td>&quot;&quot;</td><td>&quot;210015&quot;</td></tr><tr><td>11</td><td>&quot;PEDS ROOM AND …</td><td>&quot;121&quot;</td><td>&quot;Gross Charge&quot;</td><td>1830.0</td><td>&quot;gross&quot;</td><td>&quot;1&quot;</td><td>&quot;&quot;</td><td>&quot;0121&quot;</td><td>&quot;&quot;</td><td>&quot;&quot;</td><td>&quot;210015&quot;</td></tr><tr><td>&hellip;</td><td>&hellip;</td><td>&hellip;</td><td>&hellip;</td><td>&hellip;</td><td>&hellip;</td><td>&hellip;</td><td>&hellip;</td><td>&hellip;</td><td>&hellip;</td><td>&hellip;</td><td>&hellip;</td></tr><tr><td>154192</td><td>&quot;PROS EAR AUSTI…</td><td>&quot;V5095&quot;</td><td>&quot;All Payors / P…</td><td>716.94</td><td>&quot;payer&quot;</td><td>&quot;outpatient&quot;</td><td>&quot;All Payors / P…</td><td>&quot;&quot;</td><td>&quot;V5095&quot;</td><td>&quot;&quot;</td><td>&quot;210015&quot;</td></tr><tr><td>154193</td><td>&quot;PROS EAR HOMOG…</td><td>&quot;V5095&quot;</td><td>&quot;All Payors / P…</td><td>2422.95</td><td>&quot;payer&quot;</td><td>&quot;outpatient&quot;</td><td>&quot;All Payors / P…</td><td>&quot;&quot;</td><td>&quot;V5095&quot;</td><td>&quot;&quot;</td><td>&quot;210015&quot;</td></tr><tr><td>154194</td><td>&quot;PROS EAR HOMOG…</td><td>&quot;V5095&quot;</td><td>&quot;All Payors / P…</td><td>2422.95</td><td>&quot;payer&quot;</td><td>&quot;outpatient&quot;</td><td>&quot;All Payors / P…</td><td>&quot;&quot;</td><td>&quot;V5095&quot;</td><td>&quot;&quot;</td><td>&quot;210015&quot;</td></tr><tr><td>154195</td><td>&quot;SYS PROS TI PA…</td><td>&quot;V5095&quot;</td><td>&quot;All Payors / P…</td><td>1427.09</td><td>&quot;payer&quot;</td><td>&quot;outpatient&quot;</td><td>&quot;All Payors / P…</td><td>&quot;&quot;</td><td>&quot;V5095&quot;</td><td>&quot;&quot;</td><td>&quot;210015&quot;</td></tr><tr><td>154196</td><td>&quot;SYS PROS TI TO…</td><td>&quot;V5095&quot;</td><td>&quot;All Payors / P…</td><td>1427.09</td><td>&quot;payer&quot;</td><td>&quot;outpatient&quot;</td><td>&quot;All Payors / P…</td><td>&quot;&quot;</td><td>&quot;V5095&quot;</td><td>&quot;&quot;</td><td>&quot;210015&quot;</td></tr><tr><td>154197</td><td>&quot;VARIAC TTP SYS…</td><td>&quot;V5095&quot;</td><td>&quot;All Payors / P…</td><td>1464.99</td><td>&quot;payer&quot;</td><td>&quot;outpatient&quot;</td><td>&quot;All Payors / P…</td><td>&quot;&quot;</td><td>&quot;V5095&quot;</td><td>&quot;&quot;</td><td>&quot;210015&quot;</td></tr><tr><td>154198</td><td>&quot;KIT PAT BONEBR…</td><td>&quot;V5267&quot;</td><td>&quot;All Payors / P…</td><td>6292.98</td><td>&quot;payer&quot;</td><td>&quot;outpatient&quot;</td><td>&quot;All Payors / P…</td><td>&quot;&quot;</td><td>&quot;V5267&quot;</td><td>&quot;&quot;</td><td>&quot;210015&quot;</td></tr><tr><td>154199</td><td>&quot;KIT PAT BONEBR…</td><td>&quot;V5267&quot;</td><td>&quot;All Payors / P…</td><td>6292.98</td><td>&quot;payer&quot;</td><td>&quot;outpatient&quot;</td><td>&quot;All Payors / P…</td><td>&quot;&quot;</td><td>&quot;V5267&quot;</td><td>&quot;&quot;</td><td>&quot;210015&quot;</td></tr><tr><td>154200</td><td>&quot;KIT PAT SAMBA …</td><td>&quot;V5267&quot;</td><td>&quot;All Payors / P…</td><td>6292.98</td><td>&quot;payer&quot;</td><td>&quot;outpatient&quot;</td><td>&quot;All Payors / P…</td><td>&quot;&quot;</td><td>&quot;V5267&quot;</td><td>&quot;&quot;</td><td>&quot;210015&quot;</td></tr><tr><td>154201</td><td>&quot;MINITEK REMOTE…</td><td>&quot;V5267&quot;</td><td>&quot;All Payors / P…</td><td>944.03</td><td>&quot;payer&quot;</td><td>&quot;outpatient&quot;</td><td>&quot;All Payors / P…</td><td>&quot;&quot;</td><td>&quot;V5267&quot;</td><td>&quot;&quot;</td><td>&quot;210015&quot;</td></tr><tr><td>154202</td><td>&quot;KIT PAT PED SA…</td><td>&quot;V5267&quot;</td><td>&quot;All Payors / P…</td><td>6292.98</td><td>&quot;payer&quot;</td><td>&quot;outpatient&quot;</td><td>&quot;All Payors / P…</td><td>&quot;&quot;</td><td>&quot;V5267&quot;</td><td>&quot;&quot;</td><td>&quot;210015&quot;</td></tr><tr><td>154203</td><td>&quot;KIT PAT PED SA…</td><td>&quot;V5267&quot;</td><td>&quot;All Payors / P…</td><td>6292.98</td><td>&quot;payer&quot;</td><td>&quot;outpatient&quot;</td><td>&quot;All Payors / P…</td><td>&quot;&quot;</td><td>&quot;V5267&quot;</td><td>&quot;&quot;</td><td>&quot;210015&quot;</td></tr></tbody></table></div>"
      ],
      "text/plain": [
       "shape: (693_918, 12)\n",
       "┌────────┬──────────────┬───────┬─────────────┬───┬──────────┬───────────┬───────────┬─────────────┐\n",
       "│ index  ┆ description  ┆ code  ┆ payer       ┆ … ┆ rev_code ┆ hcpcs_cpt ┆ modifiers ┆ hospital_id │\n",
       "│ ---    ┆ ---          ┆ ---   ┆ ---         ┆   ┆ ---      ┆ ---       ┆ ---       ┆ ---         │\n",
       "│ i64    ┆ str          ┆ str   ┆ str         ┆   ┆ str      ┆ str       ┆ str       ┆ str         │\n",
       "╞════════╪══════════════╪═══════╪═════════════╪═══╪══════════╪═══════════╪═══════════╪═════════════╡\n",
       "│ 0      ┆ MSG-PRIVATE  ┆ 121   ┆ Gross       ┆ … ┆ 0121     ┆           ┆           ┆ 210015      │\n",
       "│        ┆ R+B (IMC     ┆       ┆ Charge      ┆   ┆          ┆           ┆           ┆             │\n",
       "│        ┆ UNIT)        ┆       ┆             ┆   ┆          ┆           ┆           ┆             │\n",
       "│ 1      ┆ MED SURG     ┆ 121   ┆ Gross       ┆ … ┆ 0121     ┆           ┆           ┆ 210015      │\n",
       "│        ┆ ROOM AND BED ┆       ┆ Charge      ┆   ┆          ┆           ┆           ┆             │\n",
       "│ 2      ┆ 3SB ROOM AND ┆ 121   ┆ Gross       ┆ … ┆ 0121     ┆           ┆           ┆ 210015      │\n",
       "│        ┆ BED          ┆       ┆ Charge      ┆   ┆          ┆           ┆           ┆             │\n",
       "│ 3      ┆ MED SURG     ┆ 121   ┆ Gross       ┆ … ┆ 0121     ┆           ┆           ┆ 210015      │\n",
       "│        ┆ ROOM AND BED ┆       ┆ Charge      ┆   ┆          ┆           ┆           ┆             │\n",
       "│ …      ┆ …            ┆ …     ┆ …           ┆ … ┆ …        ┆ …         ┆ …         ┆ …           │\n",
       "│ 154200 ┆ KIT PAT      ┆ V5267 ┆ All Payors  ┆ … ┆          ┆ V5267     ┆           ┆ 210015      │\n",
       "│        ┆ SAMBA BB LT  ┆       ┆ / Plans     ┆   ┆          ┆           ┆           ┆             │\n",
       "│ 154201 ┆ MINITEK      ┆ V5267 ┆ All Payors  ┆ … ┆          ┆ V5267     ┆           ┆ 210015      │\n",
       "│        ┆ REMOTE CNTRL ┆       ┆ / Plans     ┆   ┆          ┆           ┆           ┆             │\n",
       "│ 154202 ┆ KIT PAT PED  ┆ V5267 ┆ All Payors  ┆ … ┆          ┆ V5267     ┆           ┆ 210015      │\n",
       "│        ┆ SAMBA AP LT  ┆       ┆ / Plans     ┆   ┆          ┆           ┆           ┆             │\n",
       "│ 154203 ┆ KIT PAT PED  ┆ V5267 ┆ All Payors  ┆ … ┆          ┆ V5267     ┆           ┆ 210015      │\n",
       "│        ┆ SAMBA AP RT  ┆       ┆ / Plans     ┆   ┆          ┆           ┆           ┆             │\n",
       "└────────┴──────────────┴───────┴─────────────┴───┴──────────┴───────────┴───────────┴─────────────┘"
      ]
     },
     "execution_count": 112,
     "metadata": {},
     "output_type": "execute_result"
    }
   ],
   "source": [
    "df2"
   ]
  }
 ],
 "metadata": {
  "kernelspec": {
   "display_name": "scraper",
   "language": "python",
   "name": "python3"
  },
  "language_info": {
   "codemirror_mode": {
    "name": "ipython",
    "version": 3
   },
   "file_extension": ".py",
   "mimetype": "text/x-python",
   "name": "python",
   "nbconvert_exporter": "python",
   "pygments_lexer": "ipython3",
   "version": "3.9.15"
  },
  "orig_nbformat": 4
 },
 "nbformat": 4,
 "nbformat_minor": 2
}
