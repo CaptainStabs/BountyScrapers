{
 "cells": [
  {
   "cell_type": "code",
   "execution_count": 221,
   "metadata": {},
   "outputs": [],
   "source": [
    "import pandas as pd\n",
    "import numpy as np"
   ]
  },
  {
   "cell_type": "code",
   "execution_count": 347,
   "metadata": {},
   "outputs": [],
   "source": [
    "folder = '.\\\\input_files\\\\'\n",
    "\n",
    "file = 'documents_standard-charges_41-0695602_Essentia-Health-St.-Josephs-Medical-Center_standardcharges.csv'"
   ]
  },
  {
   "cell_type": "code",
   "execution_count": null,
   "metadata": {},
   "outputs": [],
   "source": [
    "mapping = {\n",
    "    'CDM Price': 'gross',\n",
    "    'Discounted Self Pay/Cash Price': 'cash',\n",
    "    'Inpatient De-Identified Minimum Negoticated Rate': 'min',\n",
    "    'Inpatient De-Identified Maximum Negoticated Rate': 'max',\n",
    "    'Outpatient De-Identified Minimum Negoticated Rate': 'min',\n",
    "    'Outpatient De-Identified Maximum Negoticated Rate': 'max',\n",
    "    'Median Charges': 'gross',\n",
    "    \n",
    "}\n"
   ]
  },
  {
   "cell_type": "code",
   "execution_count": 348,
   "metadata": {},
   "outputs": [],
   "source": [
    "df = pd.read_csv(folder + file, dtype=str, encoding='ansi', skiprows=3)"
   ]
  },
  {
   "attachments": {},
   "cell_type": "markdown",
   "metadata": {},
   "source": [
    "# Splitting the df"
   ]
  },
  {
   "cell_type": "code",
   "execution_count": 349,
   "metadata": {},
   "outputs": [],
   "source": [
    "# Initialize an empty list to hold the separate DataFrames\n",
    "df_list = []\n",
    "\n",
    "# Initialize a counter to keep track of the start of each DataFrame\n",
    "start_row = 0\n",
    "\n",
    "# Loop through the rows in the DataFrame\n",
    "for i, row in df.iterrows():\n",
    "\n",
    "    # Check if the row is completely null\n",
    "    if row.isnull().all():\n",
    "        # If so, create a new DataFrame from the previous null row to this one\n",
    "        new_df = df.iloc[start_row:i]\n",
    "        \n",
    "        if len(df_list) > 0 and len(new_df) > 0:\n",
    "            new_df.columns = new_df.iloc[0]\n",
    "            new_df = new_df.iloc[1:]\n",
    "        \n",
    "        if len(new_df) > 0:\n",
    "            # Add the new DataFrame to the list\n",
    "            df_list.append(new_df)\n",
    "\n",
    "        # Update the start row to the current row + 1\n",
    "        start_row = i + 1\n",
    "\n",
    "dfs = []\n",
    "# Assign each DataFrame in the list to a separate variable\n",
    "for i, df in enumerate(df_list):\n",
    "    globals()[f\"df_{i+1}\"] = df\n",
    "    dfs.append(df)\n",
    "\n",
    "num_df = len(df_list)"
   ]
  },
  {
   "attachments": {},
   "cell_type": "markdown",
   "metadata": {},
   "source": [
    "- `df_2` is the Per Diem Rate df\n",
    "- `df_3` is DRG\n",
    "- `df_4` is APRDRG\n"
   ]
  },
  {
   "attachments": {},
   "cell_type": "markdown",
   "metadata": {},
   "source": [
    "# df_1 Stuff"
   ]
  },
  {
   "cell_type": "code",
   "execution_count": 239,
   "metadata": {},
   "outputs": [],
   "source": [
    "df_1.rename(columns={\n",
    "    'EAP Code (Internal Use)': 'local_code',\n",
    "    'CPT/HCPCS Code': 'code',\n",
    "    'Procedure Description (Charge)': 'description',\n",
    "    'Raw 11 Digit NDC or Primary Ext Id': 'ndc',\n",
    "    'Raw 11 Digit NDC or Primary Ext Id ': 'ndc',\n",
    "    'Revenue Code': 'rev_code'\n",
    "}, inplace=True)"
   ]
  },
  {
   "cell_type": "code",
   "execution_count": 240,
   "metadata": {},
   "outputs": [
    {
     "name": "stdout",
     "output_type": "stream",
     "text": [
      "['8635790', '86357', '(NK) CELLS, TOTAL COUNT - REF', 'Unnamed: 3', '300', '$195.00 ', '$146.25 ', '$0.00 ', '$0.00 .1', '$58.31 ', '$185.25 ', 'N/A', '$156.00 ', 'N/A.1', 'N/A.2', 'N/A.3', 'N/A.4', 'N/A.5', 'N/A.6', 'N/A.7', 'N/A.8', 'N/A.9', 'N/A.10', 'N/A.11', 'N/A.12', 'N/A.13', '$113.19 ', 'N/A.14', 'N/A.15', 'N/A.16', 'N/A.17', 'N/A.18', 'N/A.19', 'N/A.20', '$153.32 ', 'N/A.21', 'N/A.22', 'N/A.23', '$165.75 ', 'N/A.24', 'N/A.25', 'N/A.26', 'N/A.27', 'N/A.28', '$167.70 ', 'N/A.29', '$87.17 ', 'N/A.30', '$87.17 .1', 'N/A.31', 'N/A.32', 'N/A.33', '$132.60 ', 'N/A.34', 'N/A.35', 'N/A.36', '$146.25 .1', 'N/A.37', 'N/A.38', 'N/A.39', '$185.25 .1', 'N/A.40', 'N/A.41', 'N/A.42', 'N/A.43', 'N/A.44', 'N/A.45', 'N/A.46', '$136.50 ', 'N/A.47', '$58.31 .1', 'N/A.48', 'N/A.49', 'N/A.50', '$163.61 ', 'N/A.51', '$73.32 ', 'N/A.52', '$146.64 ', 'N/A.53', 'N/A.54', 'N/A.55', '$165.75 .1', 'N/A.56', 'N/A.57', 'N/A.58', '$178.52 ', 'N/A.59', '$172.03 ', 'N/A.60', 'N/A.61', 'N/A.62', 'N/A.63', 'N/A.64', 'N/A.65', 'N/A.66', 'N/A.67', 'N/A.68', 'N/A.69', 'N/A.70', 'N/A.71', 'N/A.72', 'N/A.73', 'N/A.74', 'N/A.75', 'N/A.76', 'N/A.77', 'N/A.78', 'N/A.79', 'N/A.80', '$137.87 ', 'N/A.81', 'N/A.82', 'N/A.83', 'N/A.84', 'N/A.85', 'N/A.86', 'N/A.87', 'N/A.88', 'N/A.89', 'N/A.90', 'N/A.91', 'N/A.92', 'N/A.93', '$150.15 ']\n"
     ]
    }
   ],
   "source": [
    "cols = df_1.columns.tolist()\n",
    "print(cols)\n",
    "id_vars = cols[:5]\n",
    "value_vars = cols[5:]\n",
    "\n",
    "df_1 = pd.melt(df_1, id_vars=id_vars, value_vars=value_vars, var_name='payer_name', value_name='standard_charge')"
   ]
  },
  {
   "cell_type": "code",
   "execution_count": 227,
   "metadata": {},
   "outputs": [],
   "source": [
    "df_1['payer_category'] = df_1['payer_name'].map(mapping).fillna('payer')"
   ]
  },
  {
   "cell_type": "code",
   "execution_count": 228,
   "metadata": {},
   "outputs": [],
   "source": [
    "df_1.loc[df_1['payer_name'].str.lower().str.contains('inpatient'), 'setting'] = 'inpatient'"
   ]
  },
  {
   "cell_type": "code",
   "execution_count": 229,
   "metadata": {},
   "outputs": [],
   "source": [
    "df_1['setting'] = np.where(\n",
    "    df_1['payer_name'].str.lower().str.contains('inpatient'), 'inpatient',\n",
    "    np.where(\n",
    "        df_1['payer_name'].str.lower().str.contains('outpatient'), 'outpatient', pd.NA)\n",
    ")"
   ]
  },
  {
   "cell_type": "code",
   "execution_count": 230,
   "metadata": {},
   "outputs": [
    {
     "ename": "KeyError",
     "evalue": "'rev_code'",
     "output_type": "error",
     "traceback": [
      "\u001b[1;31m---------------------------------------------------------------------------\u001b[0m",
      "\u001b[1;31mKeyError\u001b[0m                                  Traceback (most recent call last)",
      "File \u001b[1;32mc:\\Users\\adria\\Miniconda3\\envs\\scraper\\lib\\site-packages\\pandas\\core\\indexes\\base.py:3652\u001b[0m, in \u001b[0;36mIndex.get_loc\u001b[1;34m(self, key)\u001b[0m\n\u001b[0;32m   3651\u001b[0m \u001b[39mtry\u001b[39;00m:\n\u001b[1;32m-> 3652\u001b[0m     \u001b[39mreturn\u001b[39;00m \u001b[39mself\u001b[39;49m\u001b[39m.\u001b[39;49m_engine\u001b[39m.\u001b[39;49mget_loc(casted_key)\n\u001b[0;32m   3653\u001b[0m \u001b[39mexcept\u001b[39;00m \u001b[39mKeyError\u001b[39;00m \u001b[39mas\u001b[39;00m err:\n",
      "File \u001b[1;32mc:\\Users\\adria\\Miniconda3\\envs\\scraper\\lib\\site-packages\\pandas\\_libs\\index.pyx:147\u001b[0m, in \u001b[0;36mpandas._libs.index.IndexEngine.get_loc\u001b[1;34m()\u001b[0m\n",
      "File \u001b[1;32mc:\\Users\\adria\\Miniconda3\\envs\\scraper\\lib\\site-packages\\pandas\\_libs\\index.pyx:176\u001b[0m, in \u001b[0;36mpandas._libs.index.IndexEngine.get_loc\u001b[1;34m()\u001b[0m\n",
      "File \u001b[1;32mpandas\\_libs\\hashtable_class_helper.pxi:7080\u001b[0m, in \u001b[0;36mpandas._libs.hashtable.PyObjectHashTable.get_item\u001b[1;34m()\u001b[0m\n",
      "File \u001b[1;32mpandas\\_libs\\hashtable_class_helper.pxi:7088\u001b[0m, in \u001b[0;36mpandas._libs.hashtable.PyObjectHashTable.get_item\u001b[1;34m()\u001b[0m\n",
      "\u001b[1;31mKeyError\u001b[0m: 'rev_code'",
      "\nThe above exception was the direct cause of the following exception:\n",
      "\u001b[1;31mKeyError\u001b[0m                                  Traceback (most recent call last)",
      "\u001b[1;32mc:\\Users\\adria\\github\\BountyScrapers\\14_transparency_pricing\\essentia\\extractor2.ipynb Cell 13\u001b[0m in \u001b[0;36m<cell line: 1>\u001b[1;34m()\u001b[0m\n\u001b[1;32m----> <a href='vscode-notebook-cell:/c%3A/Users/adria/github/BountyScrapers/14_transparency_pricing/essentia/extractor2.ipynb#X30sZmlsZQ%3D%3D?line=0'>1</a>\u001b[0m df_1[\u001b[39m'\u001b[39m\u001b[39mrev_code\u001b[39m\u001b[39m'\u001b[39m] \u001b[39m=\u001b[39m df_1[\u001b[39m'\u001b[39m\u001b[39mrev_code\u001b[39m\u001b[39m'\u001b[39m]\u001b[39m.\u001b[39mstr\u001b[39m.\u001b[39mzfill(\u001b[39m4\u001b[39m)\n",
      "File \u001b[1;32mc:\\Users\\adria\\Miniconda3\\envs\\scraper\\lib\\site-packages\\pandas\\core\\frame.py:3761\u001b[0m, in \u001b[0;36mDataFrame.__getitem__\u001b[1;34m(self, key)\u001b[0m\n\u001b[0;32m   3759\u001b[0m \u001b[39mif\u001b[39;00m \u001b[39mself\u001b[39m\u001b[39m.\u001b[39mcolumns\u001b[39m.\u001b[39mnlevels \u001b[39m>\u001b[39m \u001b[39m1\u001b[39m:\n\u001b[0;32m   3760\u001b[0m     \u001b[39mreturn\u001b[39;00m \u001b[39mself\u001b[39m\u001b[39m.\u001b[39m_getitem_multilevel(key)\n\u001b[1;32m-> 3761\u001b[0m indexer \u001b[39m=\u001b[39m \u001b[39mself\u001b[39;49m\u001b[39m.\u001b[39;49mcolumns\u001b[39m.\u001b[39;49mget_loc(key)\n\u001b[0;32m   3762\u001b[0m \u001b[39mif\u001b[39;00m is_integer(indexer):\n\u001b[0;32m   3763\u001b[0m     indexer \u001b[39m=\u001b[39m [indexer]\n",
      "File \u001b[1;32mc:\\Users\\adria\\Miniconda3\\envs\\scraper\\lib\\site-packages\\pandas\\core\\indexes\\base.py:3654\u001b[0m, in \u001b[0;36mIndex.get_loc\u001b[1;34m(self, key)\u001b[0m\n\u001b[0;32m   3652\u001b[0m     \u001b[39mreturn\u001b[39;00m \u001b[39mself\u001b[39m\u001b[39m.\u001b[39m_engine\u001b[39m.\u001b[39mget_loc(casted_key)\n\u001b[0;32m   3653\u001b[0m \u001b[39mexcept\u001b[39;00m \u001b[39mKeyError\u001b[39;00m \u001b[39mas\u001b[39;00m err:\n\u001b[1;32m-> 3654\u001b[0m     \u001b[39mraise\u001b[39;00m \u001b[39mKeyError\u001b[39;00m(key) \u001b[39mfrom\u001b[39;00m \u001b[39merr\u001b[39;00m\n\u001b[0;32m   3655\u001b[0m \u001b[39mexcept\u001b[39;00m \u001b[39mTypeError\u001b[39;00m:\n\u001b[0;32m   3656\u001b[0m     \u001b[39m# If we have a listlike key, _check_indexing_error will raise\u001b[39;00m\n\u001b[0;32m   3657\u001b[0m     \u001b[39m#  InvalidIndexError. Otherwise we fall through and re-raise\u001b[39;00m\n\u001b[0;32m   3658\u001b[0m     \u001b[39m#  the TypeError.\u001b[39;00m\n\u001b[0;32m   3659\u001b[0m     \u001b[39mself\u001b[39m\u001b[39m.\u001b[39m_check_indexing_error(key)\n",
      "\u001b[1;31mKeyError\u001b[0m: 'rev_code'"
     ]
    }
   ],
   "source": [
    "df_1['rev_code'] = df_1['rev_code'].str.zfill(4)"
   ]
  },
  {
   "cell_type": "code",
   "execution_count": null,
   "metadata": {},
   "outputs": [],
   "source": [
    "df_1.dropna(subset='standard_charge', inplace=True)"
   ]
  },
  {
   "cell_type": "code",
   "execution_count": null,
   "metadata": {},
   "outputs": [],
   "source": [
    "df_1.loc[(~df_1['code'].isna()) & (df_1['code'].str.match(r'^(?:[A-Z][0-9]{4}|[0-9]{5}|[0-9]{4}[A-Z])$')), 'hcpcs_cpt'] = df_1['code']"
   ]
  },
  {
   "attachments": {},
   "cell_type": "markdown",
   "metadata": {},
   "source": [
    "# Classify each DF"
   ]
  },
  {
   "cell_type": "code",
   "execution_count": 375,
   "metadata": {},
   "outputs": [
    {
     "name": "stdout",
     "output_type": "stream",
     "text": [
      "['EAP Code (Internal Use)', 'CPT/HCPCS Code', 'Procedure Description (Charge)', 'Raw 11 Digit NDC or Primary Ext Id ', 'Revenue Code', 'CDM Price', 'Discounted Self Pay/Cash Price', 'Inpatient De-Identified Minimum Negoticated Rate', 'Inpatient De-Identified Maximum Negoticated Rate', 'Outpatient De-Identified Minimum Negoticated Rate', 'Outpatient De-Identified Maximum Negoticated Rate', \"AMERICA'S PPO-Inpatient\", \"AMERICA'S PPO-Outpatient\", 'BCBS OF MN Commercial-Inpatient', 'BCBS OF MN Commercial-Outpatient', 'BCBS MN ST LOUIS CO EMP-Inpatient', 'BCBS MN ST LOUIS CO EMP-Outpatient', 'BCBS MN MEDICARE ADVANTAGE -Inpatient', 'BCBS MN MEDICARE ADVANTAGE -Outpatient', 'BCBS MN SECURE BLUE MSHO-Inpatient', 'BCBS MN SECURE BLUE MSHO-Outpatient', 'BLUE PLUS PMAP PCC PRIME-Inpatient', 'BLUE PLUS PMAP PCC PRIME-Outpatient', 'SANFORD HEALTH BCBS of ND MA EXPANSION-Inpatient', 'SANFORD HEALTH BCBS of ND MA EXPANSION-Outpatient', 'BCBS OF ND MEDICARE ADVANTAGE-Inpatient', 'BCBS OF ND MEDICARE ADVANTAGE-Outpatient', 'BCBS OF WI MEDICAID-Inpatient', 'BCBS OF WI MEDICAID-Outpatient', 'MEDICA -Inpatient', 'MEDICA -Outpatient', 'ESSENTIACARE UCARE-Inpatient', 'ESSENTIACARE UCARE-Outpatient', 'FIRST HEALTH - Inpatient', 'FIRST HEALTH - Outpatient', 'GROUP HEALTH PMAP PCC PRIME-Inpatient', 'GROUP HEALTH PMAP PCC PRIME-Outpatient', 'GROUP HEALTH REF REQ-Inpatient', 'GROUP HEALTH REF REQ-Outpatient', 'HEALTHEOS/WPPN-Inpatient', 'HEALTHEOS/WPPN-Outpatient', 'HEALTHPARTNERS CARE MSHO-Inpatient', 'HEALTHPARTNERS CARE MSHO-Outpatient', 'HEALTHPARTNERS CARE PMAP-Inpatient', 'HEALTHPARTNERS CARE PMAP-Outpatient', 'HEALTHPARTNERS MEDICARE ADVANTAGE-Inpatient', 'HEALTHPARTNERS MEDICARE ADVANTAGE-Outpatient', 'HEALTHPARTNERS COMMERCIAL-Inpatient', 'HEALTHPARTNERS COMMERCIAL-Outpatient', 'HEALTHPARTNERS STATE PLAN-Inpatient', 'HEALTHPARTNERS STATE PLAN-Outpatient', 'HEALTH TRADITION HEALTH PLAN - Inpatient', 'HEALTH TRADITION HEALTH PLAN - Outpatient', 'HUMANA CHOICE PPO-Inpatient', 'HUMANA CHOICE PPO-Outpatient', 'HUMANA-Inpatient', 'HUMANA-Outpatient', 'IMCARE MSHO PCC PRIME-Inpatient', 'IMCARE MSHO PCC PRIME-Outpatient', 'INCLUSA-Inpatient', 'INCLUSA-Outpatient', 'ITASCA MED CARE-Inpatient', 'ITASCA MED CARE-Outpatient', 'MED COST SOLUTIONS - Inpatient', 'MED COST SOLUTIONS - Outpatient', 'MEDICA SENIOR CARE PLUS-Inpatient', 'MEDICA SENIOR CARE PLUS-Outpatient', 'MEDICA ADVANTAGE SOLUTIONS-Inpatient', 'MEDICA ADVANTAGE SOLUTIONS-Outpatient', 'MEDICA COMMERCIAL-Inpatient', 'MEDICA COMMERCIAL-Outpatient', 'MEDICA MSHO/DUAL SOLUTIONS-Inpatient', 'MEDICA MSHO/DUAL SOLUTIONS-Outpatient', 'MHS -Inpatient', 'MHS -Outpatient', 'MULTIPLAN-Inpatient', 'MULTIPLAN-Outpatient', 'OPTUM VA CCN - Inpatient', 'OPTUM VA CCN - Outpatient', 'PREFERRED ONE PHCP/PIC/PAS-Inpatient', 'PREFERRED ONE PHCP/PIC/PAS-Outpatient', 'PREFERRED ONE PPO-Inpatient', 'PREFERRED ONE PPO-Outpatient', 'PRIMEWEST HEALTH PMAP-Inpatient', 'PRIMEWEST HEALTH PMAP-Outpatient', 'PRIMEWEST MSHO-Inpatient', 'PRIMEWEST MSHO-Outpatient', 'SANFORD s-Inpatient', 'SANFORD s-Outpatient', 'SECURITY HEALTH MEDICARE-Inpatient', 'SECURITY HEALTH MEDICARE-Outpatient', 'SECURITY HEALTH NARROW NETWORK-Inpatient', 'SECURITY HEALTH NARROW NETWORK-Outpatient', 'SECURITY HEALTH PMAP-Inpatient', 'SECURITY HEALTH PMAP-Outpatient', 'SECURITY HEALTH-Inpatient', 'SECURITY HEALTH-Outpatient', 'SOUTH COUNTRY HLTH MSHO-Inpatient', 'SOUTH COUNTRY HLTH MSHO-Outpatient', 'SOUTH COUNTRY PMAP PCC PRIME-Inpatient', 'SOUTH COUNTRY PMAP PCC PRIME-Outpatient', 'UBH-Inpatient', 'UBH-Outpatient', 'UCARE Commercial-Inpatient', 'UCARE Commercial-Outpatient', 'UCARE MEDICARE PLANS-Inpatient', 'UCARE MEDICARE PLANS-Outpatient', 'UCARE MSHO-Inpatient', 'UCARE MSHO-Outpatient', 'UCARE Medicaid-Inpatient', 'UCARE Medicaid-Outpatient', 'UHC MEDICARE ADVANTAGE-Inpatient', 'UHC MEDICARE ADVANTAGE-Outpatient', 'UHC Commercial-Inpatient', 'UHC Commercial-Outpatient']\n",
      "['DRG Type', 'DRG Code', 'DRG Description', '', '', 'Median Charges', 'Discounted Self Pay/Cash Price', 'Inpatient De-Identified Minimum Negoticated Rate', 'Inpatient De-Identified Maximum Negoticated Rate', 'Outpatient De-Identified Minimum Negoticated Rate', 'Outpatient De-Identified Maximum Negoticated Rate', \"AMERICA'S PPO-Inpatient\", \"AMERICA'S PPO-Outpatient\", 'BCBS OF MN Commercial-Inpatient', 'BCBS OF MN Commercial-Outpatient', 'BCBS MN ST LOUIS CO EMP-Inpatient', 'BCBS MN ST LOUIS CO EMP-Outpatient', 'BCBS MN MEDICARE ADVANTAGE -Inpatient', 'BCBS MN MEDICARE ADVANTAGE -Outpatient', 'BCBS MN SECURE BLUE MSHO-Inpatient', 'BCBS MN SECURE BLUE MSHO-Outpatient', 'BLUE PLUS PMAP PCC PRIME-Inpatient', 'BLUE PLUS PMAP PCC PRIME-Outpatient', 'SANFORD HEALTH MA EXPANSION-Inpatient', 'SANFORD HEALTH MA EXPANSION-Outpatient', 'BCBS OF ND MEDICARE ADVANTAGE-Inpatient', 'BCBS OF ND MEDICARE ADVANTAGE-Outpatient', 'BCBS OF WI MEDICAID-Inpatient', 'BCBS OF WI MEDICAID-Outpatient', 'MEDICA -Inpatient', 'MEDICA -Outpatient', 'ESSENTIACARE UCARE-Inpatient', 'ESSENTIACARE UCARE-Outpatient', 'FIRST HEALTH - Inpatient', 'FIRST HEALTH - Outpatient', 'GROUP HEALTH PMAP PCC PRIME-Inpatient', 'GROUP HEALTH PMAP PCC PRIME-Outpatient', 'GROUP HEALTH REF REQ-Inpatient', 'GROUP HEALTH REF REQ-Outpatient', 'HEALTHEOS/WPPN-Inpatient', 'HEALTHEOS/WPPN-Outpatient', 'HEALTHPARTNERS CARE MSHO-Inpatient', 'HEALTHPARTNERS CARE MSHO-Outpatient', 'HEALTHPARTNERS CARE PMAP-Inpatient', 'HEALTHPARTNERS CARE PMAP-Outpatient', 'HEALTHPARTNERS MEDICARE ADVANTAGE-Inpatient', 'HEALTHPARTNERS MEDICARE ADVANTAGE-Outpatient', 'HEALTHPARTNERS COMMERCIAL-Inpatient', 'HEALTHPARTNERS COMMERCIAL-Outpatient', 'HEALTHPARTNERS STATE PLAN-Inpatient', 'HEALTHPARTNERS STATE PLAN-Outpatient', 'HEALTH TRADITION HEALTH PLAN - Inpatient', 'HEALTH TRADITION HEALTH PLAN - Outpatient', 'HUMANA CHOICE PPO-Inpatient', 'HUMANA CHOICE PPO-Outpatient', 'HUMANA-Inpatient', 'HUMANA-Outpatient', 'IMCARE MSHO PCC PRIME-Inpatient', 'IMCARE MSHO PCC PRIME-Outpatient', 'INCLUSA-Inpatient', 'INCLUSA-Outpatient', 'ITASCA MED CARE-Inpatient', 'ITASCA MED CARE-Outpatient', 'MED COST SOLUTIONS - Inpatient', 'MED COST SOLUTIONS - Outpatient', 'MEDICA SENIOR CARE PLUS-Inpatient', 'MEDICA SENIOR CARE PLUS-Outpatient', 'MEDICA ADVANTAGE SOLUTIONS-Inpatient', 'MEDICA ADVANTAGE SOLUTIONS-Outpatient', 'MEDICA COMMERCIAL-Inpatient', 'MEDICA COMMERCIAL-Outpatient', 'MEDICA MSHO/DUAL SOLUTIONS-Inpatient', 'MEDICA MSHO/DUAL SOLUTIONS-Outpatient', 'MHS -Inpatient', 'MHS -Outpatient', 'MULTIPLAN-Inpatient', 'MULTIPLAN-Outpatient', 'OPTUM VA CCN - Inpatient', 'OPTUM VA CCN - Outpatient', 'PREFERRED ONE PHCP/PIC/PAS-Inpatient', 'PREFERRED ONE PHCP/PIC/PAS-Outpatient', 'PREFERRED ONE PPO-Inpatient', 'PREFERRED ONE PPO-Outpatient', 'PRIMEWEST HEALTH PMAP-Inpatient', 'PRIMEWEST HEALTH PMAP-Outpatient', 'PRIMEWEST MSHO-Inpatient', 'PRIMEWEST MSHO-Outpatient', 'SANFORD s-Inpatient', 'SANFORD s-Outpatient', 'SECURITY HEALTH MEDICARE-Inpatient', 'SECURITY HEALTH MEDICARE-Outpatient', 'SECURITY HEALTH NARROW NETWORK-Inpatient', 'SECURITY HEALTH NARROW NETWORK-Outpatient', 'SECURITY HEALTH PMAP-Inpatient', 'SECURITY HEALTH PMAP-Outpatient', 'SECURITY HEALTH-Inpatient', 'SECURITY HEALTH-Outpatient', 'SOUTH COUNTRY HLTH MSHO-Inpatient', 'SOUTH COUNTRY HLTH MSHO-Outpatient', 'SOUTH COUNTRY PMAP PCC PRIME-Inpatient', 'SOUTH COUNTRY PMAP PCC PRIME-Outpatient', 'UBH-Inpatient', 'UBH-Outpatient', 'UCARE Commercial-Inpatient', 'UCARE Commercial-Outpatient', 'UCARE MEDICARE PLANS-Inpatient', 'UCARE MEDICARE PLANS-Outpatient', 'UCARE MSHO-Inpatient', 'UCARE MSHO-Outpatient', 'UCARE Medicaid-Inpatient', 'UCARE Medicaid-Outpatient', 'UHC MEDICARE ADVANTAGE-Inpatient', 'UHC MEDICARE ADVANTAGE-Outpatient', '', '']\n",
      "['APR -DRG', 'APRDRG & Severity', 'APR Description', '', '', 'Median Charges', 'Discounted Self Pay/Cash Price', 'Inpatient De-Identified Minimum Negoticated Rate', 'Inpatient De-Identified Maximum Negoticated Rate', 'Outpatient De-Identified Minimum Negoticated Rate', 'Outpatient De-Identified Maximum Negoticated Rate', \"AMERICA'S PPO-Inpatient\", \"AMERICA'S PPO-Outpatient\", 'BCBS OF MN Commercial-Inpatient', 'BCBS OF MN Commercial-Outpatient', 'BCBS MN ST LOUIS CO EMP-Inpatient', 'BCBS MN ST LOUIS CO EMP-Outpatient', 'BCBS MN MEDICARE ADVANTAGE -Inpatient', 'BCBS MN MEDICARE ADVANTAGE -Outpatient', 'BCBS MN SECURE BLUE MSHO-Inpatient', 'BCBS MN SECURE BLUE MSHO-Outpatient', 'BLUE PLUS PMAP PCC PRIME-Inpatient', 'BLUE PLUS PMAP PCC PRIME-Outpatient', 'SANFORD HEALTH MA EXPANSION-Inpatient', 'SANFORD HEALTH MA EXPANSION-Outpatient', 'BCBS OF ND MEDICARE ADVANTAGE-Inpatient', 'BCBS OF ND MEDICARE ADVANTAGE-Outpatient', 'BCBS OF WI MEDICAID-Inpatient', 'BCBS OF WI MEDICAID-Outpatient', 'MEDICA -Inpatient', 'MEDICA -Outpatient', 'ESSENTIACARE UCARE-Inpatient', 'ESSENTIACARE UCARE-Outpatient', 'FIRST HEALTH - Inpatient', 'FIRST HEALTH - Outpatient', 'GROUP HEALTH PMAP PCC PRIME-Inpatient', 'GROUP HEALTH PMAP PCC PRIME-Outpatient', 'GROUP HEALTH REF REQ-Inpatient', 'GROUP HEALTH REF REQ-Outpatient', 'HEALTHEOS/WPPN-Inpatient', 'HEALTHEOS/WPPN-Outpatient', 'HEALTHPARTNERS CARE MSHO-Inpatient', 'HEALTHPARTNERS CARE MSHO-Outpatient', 'HEALTHPARTNERS CARE PMAP-Inpatient', 'HEALTHPARTNERS CARE PMAP-Outpatient', 'HEALTHPARTNERS MEDICARE ADVANTAGE-Inpatient', 'HEALTHPARTNERS MEDICARE ADVANTAGE-Outpatient', 'HEALTHPARTNERS COMMERCIAL-Inpatient', 'HEALTHPARTNERS COMMERCIAL-Outpatient', 'HEALTHPARTNERS STATE PLAN-Inpatient', 'HEALTHPARTNERS STATE PLAN-Outpatient', 'HEALTH TRADITION HEALTH PLAN - Inpatient', 'HEALTH TRADITION HEALTH PLAN - Outpatient', 'HUMANA CHOICE PPO-Inpatient', 'HUMANA CHOICE PPO-Outpatient', 'HUMANA-Inpatient', 'HUMANA-Outpatient', 'IMCARE MSHO PCC PRIME-Inpatient', 'IMCARE MSHO PCC PRIME-Outpatient', 'INCLUSA-Inpatient', 'INCLUSA-Outpatient', 'ITASCA MED CARE-Inpatient', 'ITASCA MED CARE-Outpatient', 'MED COST SOLUTIONS - Inpatient', 'MED COST SOLUTIONS - Outpatient', 'MEDICA SENIOR CARE PLUS-Inpatient', 'MEDICA SENIOR CARE PLUS-Outpatient', 'MEDICA ADVANTAGE SOLUTIONS-Inpatient', 'MEDICA ADVANTAGE SOLUTIONS-Outpatient', 'MEDICA COMMERCIAL-Inpatient', 'MEDICA COMMERCIAL-Outpatient', 'MEDICA MSHO/DUAL SOLUTIONS-Inpatient', 'MEDICA MSHO/DUAL SOLUTIONS-Outpatient', 'MHS -Inpatient', 'MHS -Outpatient', 'MULTIPLAN-Inpatient', 'MULTIPLAN-Outpatient', 'OPTUM VA CCN - Inpatient', 'OPTUM VA CCN - Outpatient', 'PREFERRED ONE PHCP/PIC/PAS-Inpatient', 'PREFERRED ONE PHCP/PIC/PAS-Outpatient', 'PREFERRED ONE PPO-Inpatient', 'PREFERRED ONE PPO-Outpatient', 'PRIMEWEST HEALTH PMAP-Inpatient', 'PRIMEWEST HEALTH PMAP-Outpatient', 'PRIMEWEST MSHO-Inpatient', 'PRIMEWEST MSHO-Outpatient', 'SANFORD s-Inpatient', 'SANFORD s-Outpatient', 'SECURITY HEALTH MEDICARE-Inpatient', 'SECURITY HEALTH MEDICARE-Outpatient', 'SECURITY HEALTH NARROW NETWORK-Inpatient', 'SECURITY HEALTH NARROW NETWORK-Outpatient', 'SECURITY HEALTH PMAP-Inpatient', 'SECURITY HEALTH PMAP-Outpatient', 'SECURITY HEALTH-Inpatient', 'SECURITY HEALTH-Outpatient', 'SOUTH COUNTRY HLTH MSHO-Inpatient', 'SOUTH COUNTRY HLTH MSHO-Outpatient', 'SOUTH COUNTRY PMAP PCC PRIME-Inpatient', 'SOUTH COUNTRY PMAP PCC PRIME-Outpatient', 'UBH-Inpatient', 'UBH-Outpatient', 'UCARE Commercial-Inpatient', 'UCARE Commercial-Outpatient', 'UCARE MEDICARE PLANS-Inpatient', 'UCARE MEDICARE PLANS-Outpatient', 'UCARE MSHO-Inpatient', 'UCARE MSHO-Outpatient', 'UCARE Medicaid-Inpatient', 'UCARE Medicaid-Outpatient', 'UHC MEDICARE ADVANTAGE-Inpatient', 'UHC MEDICARE ADVANTAGE-Outpatient', '', '']\n",
      "['OP Type', 'OP Code', 'OP Description', '', '', 'Median Price', 'Discounted Self Pay/Cash Price', 'Inpatient De-Identified Minimum Negoticated Rate', 'Inpatient De-Identified Maximum Negoticated Rate', 'Outpatient De-Identified Minimum Negoticated Rate', 'Outpatient De-Identified Maximum Negoticated Rate', '', '', '', '', '', '', '', '', '', '', '', '', '', '', '', '', '', '', '', '', '', '', '', '', '', '', '', '', '', '', '', '', '', '', '', '', '', '', '', '', '', '', '', '', '', '', '', '', '', '', '', '', '', '', '', '', '', '', '', '', '', '', '', '', '', '', '', '', '', '', '', '', '', '', '', '', '', '', '', '', '', '', '', '', '', '', '', '', '', '', '', '', '', '', '', '', '', '', '', '', '', '', '', '']\n",
      "['OP Type', 'OP Code', 'OP Description', '', '', 'Median Charge', 'Discounted Self Pay/Cash Price', 'Inpatient De-Identified Minimum Negoticated Rate', 'Inpatient De-Identified Maximum Negoticated Rate', 'Outpatient De-Identified Minimum Negoticated Rate', 'Outpatient De-Identified Maximum Negoticated Rate', \"AMERICA'S PPO-Inpatient\", \"AMERICA'S PPO-Outpatient\", 'BCBS OF MN Commercial-Inpatient', 'BCBS OF MN Commercial-Outpatient', 'BCBS MN ST LOUIS CO EMP-Inpatient', 'BCBS MN ST LOUIS CO EMP-Outpatient', 'BCBS MN MEDICARE ADVANTAGE -Inpatient', 'BCBS MN MEDICARE ADVANTAGE -Outpatient', 'BCBS MN SECURE BLUE MSHO-Inpatient', 'BCBS MN SECURE BLUE MSHO-Outpatient', 'BLUE PLUS PMAP PCC PRIME-Inpatient', 'BLUE PLUS PMAP PCC PRIME-Outpatient', 'SANFORD HEALTH MA EXPANSION-Inpatient', 'SANFORD HEALTH MA EXPANSION-Outpatient', 'BCBS OF ND MEDICARE ADVANTAGE-Inpatient', 'BCBS OF ND MEDICARE ADVANTAGE-Outpatient', 'BCBS OF WI MEDICAID-Inpatient', 'BCBS OF WI MEDICAID-Outpatient', 'MEDICA -Inpatient', 'MEDICA -Outpatient', 'ESSENTIACARE UCARE-Inpatient', 'ESSENTIACARE UCARE-Outpatient', 'FIRST HEALTH - Inpatient', 'FIRST HEALTH - Outpatient', 'GROUP HEALTH PMAP PCC PRIME-Inpatient', 'GROUP HEALTH PMAP PCC PRIME-Outpatient', 'GROUP HEALTH REF REQ-Inpatient', 'GROUP HEALTH REF REQ-Outpatient', 'HEALTHEOS/WPPN-Inpatient', 'HEALTHEOS/WPPN-Outpatient', 'HEALTHPARTNERS CARE MSHO-Inpatient', 'HEALTHPARTNERS CARE MSHO-Outpatient', 'HEALTHPARTNERS CARE PMAP-Inpatient', 'HEALTHPARTNERS CARE PMAP-Outpatient', 'HEALTHPARTNERS MEDICARE ADVANTAGE-Inpatient', 'HEALTHPARTNERS MEDICARE ADVANTAGE-Outpatient', 'HEALTHPARTNERS COMMERCIAL-Inpatient', 'HEALTHPARTNERS COMMERCIAL-Outpatient', 'HEALTHPARTNERS STATE PLAN-Inpatient', 'HEALTHPARTNERS STATE PLAN-Outpatient', 'HEALTH TRADITION HEALTH PLAN - Inpatient', 'HEALTH TRADITION HEALTH PLAN - Outpatient', 'HUMANA CHOICE PPO-Inpatient', 'HUMANA CHOICE PPO-Outpatient', 'HUMANA-Inpatient', 'HUMANA-Outpatient', 'IMCARE MSHO PCC PRIME-Inpatient', 'IMCARE MSHO PCC PRIME-Outpatient', 'INCLUSA-Inpatient', 'INCLUSA-Outpatient', 'ITASCA MED CARE-Inpatient', 'ITASCA MED CARE-Outpatient', 'MED COST SOLUTIONS - Inpatient', 'MED COST SOLUTIONS - Outpatient', 'MEDICA SENIOR CARE PLUS-Inpatient', 'MEDICA SENIOR CARE PLUS-Outpatient', 'MEDICA ADVANTAGE SOLUTIONS-Inpatient', 'MEDICA ADVANTAGE SOLUTIONS-Outpatient', 'MEDICA COMMERCIAL-Inpatient', 'MEDICA COMMERCIAL-Outpatient', 'MEDICA MSHO/DUAL SOLUTIONS-Inpatient', 'MEDICA MSHO/DUAL SOLUTIONS-Outpatient', 'MHS -Inpatient', 'MHS -Outpatient', 'MULTIPLAN-Inpatient', 'MULTIPLAN-Outpatient', 'OPTUM VA CCN - Inpatient', 'OPTUM VA CCN - Outpatient', 'PREFERRED ONE PHCP/PIC/PAS-Inpatient', 'PREFERRED ONE PHCP/PIC/PAS-Outpatient', 'PREFERRED ONE PPO-Inpatient', 'PREFERRED ONE PPO-Outpatient', 'PRIMEWEST HEALTH PMAP-Inpatient', 'PRIMEWEST HEALTH PMAP-Outpatient', 'PRIMEWEST MSHO-Inpatient', 'PRIMEWEST MSHO-Outpatient', 'SANFORD s-Inpatient', 'SANFORD s-Outpatient', 'SECURITY HEALTH MEDICARE-Inpatient', 'SECURITY HEALTH MEDICARE-Outpatient', 'SECURITY HEALTH NARROW NETWORK-Inpatient', 'SECURITY HEALTH NARROW NETWORK-Outpatient', 'SECURITY HEALTH PMAP-Inpatient', 'SECURITY HEALTH PMAP-Outpatient', 'SECURITY HEALTH-Inpatient', 'SECURITY HEALTH-Outpatient', 'SOUTH COUNTRY HLTH MSHO-Inpatient', 'SOUTH COUNTRY HLTH MSHO-Outpatient', 'SOUTH COUNTRY PMAP PCC PRIME-Inpatient', 'SOUTH COUNTRY PMAP PCC PRIME-Outpatient', 'UBH-Inpatient', 'UBH-Outpatient', 'UCARE Commercial-Inpatient', 'UCARE Commercial-Outpatient', 'UCARE MEDICARE PLANS-Inpatient', 'UCARE MEDICARE PLANS-Outpatient', 'UCARE MSHO-Inpatient', 'UCARE MSHO-Outpatient', 'UCARE Medicaid-Inpatient', 'UCARE Medicaid-Outpatient', 'UHC MEDICARE ADVANTAGE-Inpatient', 'UHC MEDICARE ADVANTAGE-Outpatient', '', '']\n"
     ]
    }
   ],
   "source": [
    "apr_df = False\n",
    "drg_df = False\n",
    "op_df = False\n",
    "op_df1 = False\n",
    "per_diem_df = False\n",
    "\n",
    "\n",
    "for i, df in enumerate(dfs):\n",
    "    if not i:\n",
    "        print(df.columns.tolist())\n",
    "    if i:\n",
    "        # Have to remove nan columns\n",
    "        df.columns = [str(col) if not pd.isna(col) else '' for col in df.columns]\n",
    "        print(df.columns.tolist())\n",
    "        if '' in df.columns:\n",
    "            df = df.drop([''], axis=1)\n",
    "        first_col = df.columns[0]\n",
    "        if first_col == 'DRG Type':\n",
    "            drg_df = df\n",
    "        elif first_col == 'APR -DRG':\n",
    "            apr_df = df\n",
    "        elif first_col == 'Per Diem Rate':\n",
    "            per_diem_df = df\n",
    "        elif first_col == 'OP Type':\n",
    "            if type(op_df) == bool:\n",
    "                op_df = df\n",
    "            else:\n",
    "                op_df1 = df"
   ]
  },
  {
   "attachments": {},
   "cell_type": "markdown",
   "metadata": {},
   "source": [
    "# Per diem df Stuff"
   ]
  },
  {
   "cell_type": "code",
   "execution_count": 340,
   "metadata": {},
   "outputs": [],
   "source": [
    "# Have to use type here because dataframes don't have a truth value\n",
    "if type(per_diem_df) != bool:\n",
    "    # per_diem_df['contracting_method'] = 'per diem'\n",
    "    # per_diem_df['description'] = 'per diem rate'\n",
    "\n",
    "    # cols = per_diem_df.columns.tolist()\n",
    "    # id_vars = ['description', 'contracting_method']\n",
    "    # value_vars = cols[1:-2]\n",
    "    # per_diem_df = pd.melt(per_diem_df, id_vars=id_vars, value_vars=value_vars, var_name='payer_name', value_name='standard_charge')\n",
    "    \n",
    "    per_diem_df.dropna(subset='standard_charge', inplace=True)\n",
    "\n",
    "    per_diem_df['payer_category'] = per_diem_df['payer_name'].map(mapping).fillna('payer')"
   ]
  },
  {
   "attachments": {},
   "cell_type": "markdown",
   "metadata": {},
   "source": [
    "# apr-drg df"
   ]
  },
  {
   "cell_type": "code",
   "execution_count": 376,
   "metadata": {},
   "outputs": [],
   "source": [
    "# Have to use type here because dataframes don't have a truth value\n",
    "if type(apr_df) != bool:\n",
    "    apr_df.rename(columns={\n",
    "        'APR -DRG': 'line_type',\n",
    "        'APRDRG & Severity': 'apr_drg',\n",
    "        'APR Description': 'description',\n",
    "    }, inplace=True)\n",
    "\n",
    "    apr_df.loc[apr_df['apr_drg'].str.len() == 2, 'apr_drg'] = apr_df['apr_drg'].str.zfill(4)\n",
    "    apr_df['apr_drg'] = apr_df['apr_drg'].str[:3] + '-' + apr_df['apr_drg'].str[-1]\n",
    "\n",
    "    cols = apr_df.columns.tolist()\n",
    "    id_vars = cols[:3]\n",
    "    value_vars = cols[3:]\n",
    "    \n",
    "    apr_df = pd.melt(apr_df, id_vars=id_vars, value_vars=value_vars, var_name='payer_name', value_name='standard_charge')"
   ]
  },
  {
   "cell_type": "code",
   "execution_count": 377,
   "metadata": {},
   "outputs": [
    {
     "data": {
      "text/html": [
       "<div>\n",
       "<style scoped>\n",
       "    .dataframe tbody tr th:only-of-type {\n",
       "        vertical-align: middle;\n",
       "    }\n",
       "\n",
       "    .dataframe tbody tr th {\n",
       "        vertical-align: top;\n",
       "    }\n",
       "\n",
       "    .dataframe thead th {\n",
       "        text-align: right;\n",
       "    }\n",
       "</style>\n",
       "<table border=\"1\" class=\"dataframe\">\n",
       "  <thead>\n",
       "    <tr style=\"text-align: right;\">\n",
       "      <th></th>\n",
       "      <th>line_type</th>\n",
       "      <th>apr_drg</th>\n",
       "      <th>description</th>\n",
       "      <th>payer_name</th>\n",
       "      <th>standard_charge</th>\n",
       "    </tr>\n",
       "  </thead>\n",
       "  <tbody>\n",
       "    <tr>\n",
       "      <th>15</th>\n",
       "      <td>APR</td>\n",
       "      <td>005-4</td>\n",
       "      <td>TRACHEOSTOMY W MV 96+ HOURS W/O EXTENSIVE PROC...</td>\n",
       "      <td>Median Charges</td>\n",
       "      <td>$532,493.50</td>\n",
       "    </tr>\n",
       "    <tr>\n",
       "      <th>89</th>\n",
       "      <td>APR</td>\n",
       "      <td>452-2</td>\n",
       "      <td>CVA &amp; PRECEREBRAL OCCLUSION W INFARCT</td>\n",
       "      <td>Median Charges</td>\n",
       "      <td>$18,524.00</td>\n",
       "    </tr>\n",
       "    <tr>\n",
       "      <th>90</th>\n",
       "      <td>APR</td>\n",
       "      <td>453-3</td>\n",
       "      <td>CVA &amp; PRECEREBRAL OCCLUSION W INFARCT</td>\n",
       "      <td>Median Charges</td>\n",
       "      <td>$29,970.25</td>\n",
       "    </tr>\n",
       "    <tr>\n",
       "      <th>112</th>\n",
       "      <td>APR</td>\n",
       "      <td>511-1</td>\n",
       "      <td>VIRAL MENINGITIS</td>\n",
       "      <td>Median Charges</td>\n",
       "      <td>$16,311.50</td>\n",
       "    </tr>\n",
       "    <tr>\n",
       "      <th>118</th>\n",
       "      <td>APR</td>\n",
       "      <td>523-3</td>\n",
       "      <td>ALTERATION IN CONSCIOUSNESS</td>\n",
       "      <td>Median Charges</td>\n",
       "      <td>$22,710.50</td>\n",
       "    </tr>\n",
       "    <tr>\n",
       "      <th>...</th>\n",
       "      <td>...</td>\n",
       "      <td>...</td>\n",
       "      <td>...</td>\n",
       "      <td>...</td>\n",
       "      <td>...</td>\n",
       "    </tr>\n",
       "    <tr>\n",
       "      <th>138595</th>\n",
       "      <td>APR</td>\n",
       "      <td>951-4</td>\n",
       "      <td>MODERATELY EXTENSIVE PROCEDURE UNRELATED TO PR...</td>\n",
       "      <td>UCARE Medicaid-Inpatient</td>\n",
       "      <td>$45,339.71</td>\n",
       "    </tr>\n",
       "    <tr>\n",
       "      <th>138596</th>\n",
       "      <td>APR</td>\n",
       "      <td>952-1</td>\n",
       "      <td>NONEXTENSIVE PROCEDURE UNRELATED TO PRINCIPAL ...</td>\n",
       "      <td>UCARE Medicaid-Inpatient</td>\n",
       "      <td>$9,812.31</td>\n",
       "    </tr>\n",
       "    <tr>\n",
       "      <th>138597</th>\n",
       "      <td>APR</td>\n",
       "      <td>952-2</td>\n",
       "      <td>NONEXTENSIVE PROCEDURE UNRELATED TO PRINCIPAL ...</td>\n",
       "      <td>UCARE Medicaid-Inpatient</td>\n",
       "      <td>$13,813.28</td>\n",
       "    </tr>\n",
       "    <tr>\n",
       "      <th>138598</th>\n",
       "      <td>APR</td>\n",
       "      <td>952-3</td>\n",
       "      <td>NONEXTENSIVE PROCEDURE UNRELATED TO PRINCIPAL ...</td>\n",
       "      <td>UCARE Medicaid-Inpatient</td>\n",
       "      <td>$22,384.98</td>\n",
       "    </tr>\n",
       "    <tr>\n",
       "      <th>138599</th>\n",
       "      <td>APR</td>\n",
       "      <td>952-4</td>\n",
       "      <td>NONEXTENSIVE PROCEDURE UNRELATED TO PRINCIPAL ...</td>\n",
       "      <td>UCARE Medicaid-Inpatient</td>\n",
       "      <td>$40,462.28</td>\n",
       "    </tr>\n",
       "  </tbody>\n",
       "</table>\n",
       "<p>12146 rows × 5 columns</p>\n",
       "</div>"
      ],
      "text/plain": [
       "       line_type apr_drg                                        description   \n",
       "15           APR   005-4  TRACHEOSTOMY W MV 96+ HOURS W/O EXTENSIVE PROC...  \\\n",
       "89           APR   452-2              CVA & PRECEREBRAL OCCLUSION W INFARCT   \n",
       "90           APR   453-3              CVA & PRECEREBRAL OCCLUSION W INFARCT   \n",
       "112          APR   511-1                                   VIRAL MENINGITIS   \n",
       "118          APR   523-3                        ALTERATION IN CONSCIOUSNESS   \n",
       "...          ...     ...                                                ...   \n",
       "138595       APR   951-4  MODERATELY EXTENSIVE PROCEDURE UNRELATED TO PR...   \n",
       "138596       APR   952-1  NONEXTENSIVE PROCEDURE UNRELATED TO PRINCIPAL ...   \n",
       "138597       APR   952-2  NONEXTENSIVE PROCEDURE UNRELATED TO PRINCIPAL ...   \n",
       "138598       APR   952-3  NONEXTENSIVE PROCEDURE UNRELATED TO PRINCIPAL ...   \n",
       "138599       APR   952-4  NONEXTENSIVE PROCEDURE UNRELATED TO PRINCIPAL ...   \n",
       "\n",
       "                      payer_name standard_charge  \n",
       "15                Median Charges     $532,493.50  \n",
       "89                Median Charges      $18,524.00  \n",
       "90                Median Charges      $29,970.25  \n",
       "112               Median Charges      $16,311.50  \n",
       "118               Median Charges      $22,710.50  \n",
       "...                          ...             ...  \n",
       "138595  UCARE Medicaid-Inpatient      $45,339.71  \n",
       "138596  UCARE Medicaid-Inpatient       $9,812.31  \n",
       "138597  UCARE Medicaid-Inpatient      $13,813.28  \n",
       "138598  UCARE Medicaid-Inpatient      $22,384.98  \n",
       "138599  UCARE Medicaid-Inpatient      $40,462.28  \n",
       "\n",
       "[12146 rows x 5 columns]"
      ]
     },
     "execution_count": 377,
     "metadata": {},
     "output_type": "execute_result"
    }
   ],
   "source": [
    "apr_df.dropna(subset='standard_charge')"
   ]
  }
 ],
 "metadata": {
  "kernelspec": {
   "display_name": "scraper",
   "language": "python",
   "name": "python3"
  },
  "language_info": {
   "codemirror_mode": {
    "name": "ipython",
    "version": 3
   },
   "file_extension": ".py",
   "mimetype": "text/x-python",
   "name": "python",
   "nbconvert_exporter": "python",
   "pygments_lexer": "ipython3",
   "version": "3.9.7"
  },
  "orig_nbformat": 4
 },
 "nbformat": 4,
 "nbformat_minor": 2
}
