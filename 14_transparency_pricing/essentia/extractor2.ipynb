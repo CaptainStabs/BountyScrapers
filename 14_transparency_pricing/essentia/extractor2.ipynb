{
 "cells": [
  {
   "cell_type": "code",
   "execution_count": 152,
   "metadata": {},
   "outputs": [],
   "source": [
    "import pandas as pd\n",
    "import numpy as np"
   ]
  },
  {
   "cell_type": "code",
   "execution_count": 153,
   "metadata": {},
   "outputs": [],
   "source": [
    "folder = '.\\\\input_files\\\\'\n",
    "\n",
    "file = 'documents_standard-charges_41-0695602_Essentia-Health-St.-Josephs-Medical-Center_standardcharges.csv'"
   ]
  },
  {
   "cell_type": "code",
   "execution_count": 154,
   "metadata": {},
   "outputs": [],
   "source": [
    "mapping = {\n",
    "    'CDM Price': 'gross',\n",
    "    'Discounted Self Pay/Cash Price': 'cash',\n",
    "    'Inpatient De-Identified Minimum Negoticated Rate': 'min',\n",
    "    'Inpatient De-Identified Maximum Negoticated Rate': 'max',\n",
    "    'Outpatient De-Identified Minimum Negoticated Rate': 'min',\n",
    "    'Outpatient De-Identified Maximum Negoticated Rate': 'max',\n",
    "    'Median Charges': 'gross',\n",
    "    'Median Price': 'gross',\n",
    "    'Median Charges': 'gross',\n",
    "    \n",
    "}\n"
   ]
  },
  {
   "cell_type": "code",
   "execution_count": 155,
   "metadata": {},
   "outputs": [],
   "source": [
    "df = pd.read_csv(folder + file, dtype=str, encoding='ansi', skiprows=3)"
   ]
  },
  {
   "attachments": {},
   "cell_type": "markdown",
   "metadata": {},
   "source": [
    "# Splitting the df"
   ]
  },
  {
   "cell_type": "code",
   "execution_count": 156,
   "metadata": {},
   "outputs": [],
   "source": [
    "# Initialize an empty list to hold the separate DataFrames\n",
    "df_list = []\n",
    "\n",
    "# Initialize a counter to keep track of the start of each DataFrame\n",
    "start_row = 0\n",
    "\n",
    "# Loop through the rows in the DataFrame\n",
    "for i, row in df.iterrows():\n",
    "\n",
    "    # Check if the row is completely null\n",
    "    if row.isnull().all():\n",
    "        # If so, create a new DataFrame from the previous null row to this one\n",
    "        new_df = df.iloc[start_row:i]\n",
    "        \n",
    "        if len(df_list) > 0 and len(new_df) > 0:\n",
    "            new_df.columns = new_df.iloc[0]\n",
    "            new_df = new_df.iloc[1:]\n",
    "        \n",
    "        if len(new_df) > 0:\n",
    "            # Add the new DataFrame to the list\n",
    "            df_list.append(new_df)\n",
    "\n",
    "        # Update the start row to the current row + 1\n",
    "        start_row = i + 1\n",
    "\n",
    "dfs = []\n",
    "# Assign each DataFrame in the list to a separate variable\n",
    "for i, df in enumerate(df_list):\n",
    "    globals()[f\"df_{i+1}\"] = df\n",
    "    dfs.append(df)\n",
    "\n",
    "num_df = len(df_list)"
   ]
  },
  {
   "attachments": {},
   "cell_type": "markdown",
   "metadata": {},
   "source": [
    "- `df_2` is the Per Diem Rate df\n",
    "- `df_3` is DRG\n",
    "- `df_4` is APRDRG\n"
   ]
  },
  {
   "attachments": {},
   "cell_type": "markdown",
   "metadata": {},
   "source": [
    "# df_1 Stuff"
   ]
  },
  {
   "cell_type": "code",
   "execution_count": 157,
   "metadata": {},
   "outputs": [],
   "source": [
    "df_1.rename(columns={\n",
    "    'EAP Code (Internal Use)': 'local_code',\n",
    "    'CPT/HCPCS Code': 'code',\n",
    "    'Procedure Description (Charge)': 'description',\n",
    "    'Raw 11 Digit NDC or Primary Ext Id': 'ndc',\n",
    "    'Raw 11 Digit NDC or Primary Ext Id ': 'ndc',\n",
    "    'Revenue Code': 'rev_code'\n",
    "}, inplace=True)"
   ]
  },
  {
   "cell_type": "code",
   "execution_count": 158,
   "metadata": {},
   "outputs": [
    {
     "name": "stdout",
     "output_type": "stream",
     "text": [
      "['local_code', 'code', 'description', 'ndc', 'rev_code', 'CDM Price', 'Discounted Self Pay/Cash Price', 'Inpatient De-Identified Minimum Negoticated Rate', 'Inpatient De-Identified Maximum Negoticated Rate', 'Outpatient De-Identified Minimum Negoticated Rate', 'Outpatient De-Identified Maximum Negoticated Rate', \"AMERICA'S PPO-Inpatient\", \"AMERICA'S PPO-Outpatient\", 'BCBS OF MN Commercial-Inpatient', 'BCBS OF MN Commercial-Outpatient', 'BCBS MN ST LOUIS CO EMP-Inpatient', 'BCBS MN ST LOUIS CO EMP-Outpatient', 'BCBS MN MEDICARE ADVANTAGE -Inpatient', 'BCBS MN MEDICARE ADVANTAGE -Outpatient', 'BCBS MN SECURE BLUE MSHO-Inpatient', 'BCBS MN SECURE BLUE MSHO-Outpatient', 'BLUE PLUS PMAP PCC PRIME-Inpatient', 'BLUE PLUS PMAP PCC PRIME-Outpatient', 'SANFORD HEALTH BCBS of ND MA EXPANSION-Inpatient', 'SANFORD HEALTH BCBS of ND MA EXPANSION-Outpatient', 'BCBS OF ND MEDICARE ADVANTAGE-Inpatient', 'BCBS OF ND MEDICARE ADVANTAGE-Outpatient', 'BCBS OF WI MEDICAID-Inpatient', 'BCBS OF WI MEDICAID-Outpatient', 'MEDICA -Inpatient', 'MEDICA -Outpatient', 'ESSENTIACARE UCARE-Inpatient', 'ESSENTIACARE UCARE-Outpatient', 'FIRST HEALTH - Inpatient', 'FIRST HEALTH - Outpatient', 'GROUP HEALTH PMAP PCC PRIME-Inpatient', 'GROUP HEALTH PMAP PCC PRIME-Outpatient', 'GROUP HEALTH REF REQ-Inpatient', 'GROUP HEALTH REF REQ-Outpatient', 'HEALTHEOS/WPPN-Inpatient', 'HEALTHEOS/WPPN-Outpatient', 'HEALTHPARTNERS CARE MSHO-Inpatient', 'HEALTHPARTNERS CARE MSHO-Outpatient', 'HEALTHPARTNERS CARE PMAP-Inpatient', 'HEALTHPARTNERS CARE PMAP-Outpatient', 'HEALTHPARTNERS MEDICARE ADVANTAGE-Inpatient', 'HEALTHPARTNERS MEDICARE ADVANTAGE-Outpatient', 'HEALTHPARTNERS COMMERCIAL-Inpatient', 'HEALTHPARTNERS COMMERCIAL-Outpatient', 'HEALTHPARTNERS STATE PLAN-Inpatient', 'HEALTHPARTNERS STATE PLAN-Outpatient', 'HEALTH TRADITION HEALTH PLAN - Inpatient', 'HEALTH TRADITION HEALTH PLAN - Outpatient', 'HUMANA CHOICE PPO-Inpatient', 'HUMANA CHOICE PPO-Outpatient', 'HUMANA-Inpatient', 'HUMANA-Outpatient', 'IMCARE MSHO PCC PRIME-Inpatient', 'IMCARE MSHO PCC PRIME-Outpatient', 'INCLUSA-Inpatient', 'INCLUSA-Outpatient', 'ITASCA MED CARE-Inpatient', 'ITASCA MED CARE-Outpatient', 'MED COST SOLUTIONS - Inpatient', 'MED COST SOLUTIONS - Outpatient', 'MEDICA SENIOR CARE PLUS-Inpatient', 'MEDICA SENIOR CARE PLUS-Outpatient', 'MEDICA ADVANTAGE SOLUTIONS-Inpatient', 'MEDICA ADVANTAGE SOLUTIONS-Outpatient', 'MEDICA COMMERCIAL-Inpatient', 'MEDICA COMMERCIAL-Outpatient', 'MEDICA MSHO/DUAL SOLUTIONS-Inpatient', 'MEDICA MSHO/DUAL SOLUTIONS-Outpatient', 'MHS -Inpatient', 'MHS -Outpatient', 'MULTIPLAN-Inpatient', 'MULTIPLAN-Outpatient', 'OPTUM VA CCN - Inpatient', 'OPTUM VA CCN - Outpatient', 'PREFERRED ONE PHCP/PIC/PAS-Inpatient', 'PREFERRED ONE PHCP/PIC/PAS-Outpatient', 'PREFERRED ONE PPO-Inpatient', 'PREFERRED ONE PPO-Outpatient', 'PRIMEWEST HEALTH PMAP-Inpatient', 'PRIMEWEST HEALTH PMAP-Outpatient', 'PRIMEWEST MSHO-Inpatient', 'PRIMEWEST MSHO-Outpatient', 'SANFORD s-Inpatient', 'SANFORD s-Outpatient', 'SECURITY HEALTH MEDICARE-Inpatient', 'SECURITY HEALTH MEDICARE-Outpatient', 'SECURITY HEALTH NARROW NETWORK-Inpatient', 'SECURITY HEALTH NARROW NETWORK-Outpatient', 'SECURITY HEALTH PMAP-Inpatient', 'SECURITY HEALTH PMAP-Outpatient', 'SECURITY HEALTH-Inpatient', 'SECURITY HEALTH-Outpatient', 'SOUTH COUNTRY HLTH MSHO-Inpatient', 'SOUTH COUNTRY HLTH MSHO-Outpatient', 'SOUTH COUNTRY PMAP PCC PRIME-Inpatient', 'SOUTH COUNTRY PMAP PCC PRIME-Outpatient', 'UBH-Inpatient', 'UBH-Outpatient', 'UCARE Commercial-Inpatient', 'UCARE Commercial-Outpatient', 'UCARE MEDICARE PLANS-Inpatient', 'UCARE MEDICARE PLANS-Outpatient', 'UCARE MSHO-Inpatient', 'UCARE MSHO-Outpatient', 'UCARE Medicaid-Inpatient', 'UCARE Medicaid-Outpatient', 'UHC MEDICARE ADVANTAGE-Inpatient', 'UHC MEDICARE ADVANTAGE-Outpatient', 'UHC Commercial-Inpatient', 'UHC Commercial-Outpatient']\n"
     ]
    }
   ],
   "source": [
    "cols = df_1.columns.tolist()\n",
    "print(cols)\n",
    "id_vars = cols[:5]\n",
    "value_vars = cols[5:]\n",
    "\n",
    "df_1 = pd.melt(df_1, id_vars=id_vars, value_vars=value_vars, var_name='payer_name', value_name='standard_charge')"
   ]
  },
  {
   "cell_type": "code",
   "execution_count": 159,
   "metadata": {},
   "outputs": [],
   "source": [
    "df_1['payer_category'] = df_1['payer_name'].map(mapping).fillna('payer')"
   ]
  },
  {
   "cell_type": "code",
   "execution_count": 160,
   "metadata": {},
   "outputs": [],
   "source": [
    "df_1.loc[df_1['payer_name'].str.lower().str.contains('inpatient'), 'setting'] = 'inpatient'"
   ]
  },
  {
   "cell_type": "code",
   "execution_count": 161,
   "metadata": {},
   "outputs": [],
   "source": [
    "df_1['setting'] = np.where(\n",
    "    df_1['payer_name'].str.lower().str.contains('inpatient'), 'inpatient',\n",
    "    np.where(\n",
    "        df_1['payer_name'].str.lower().str.contains('outpatient'), 'outpatient', pd.NA)\n",
    ")"
   ]
  },
  {
   "cell_type": "code",
   "execution_count": 162,
   "metadata": {},
   "outputs": [],
   "source": [
    "df_1['rev_code'] = df_1['rev_code'].str.zfill(4)"
   ]
  },
  {
   "cell_type": "code",
   "execution_count": 163,
   "metadata": {},
   "outputs": [],
   "source": [
    "df_1.dropna(subset='standard_charge', inplace=True)"
   ]
  },
  {
   "cell_type": "code",
   "execution_count": 164,
   "metadata": {},
   "outputs": [],
   "source": [
    "df_1.loc[(~df_1['code'].isna()) & (df_1['code'].str.match(r'^(?:[A-Z][0-9]{4}|[0-9]{5}|[0-9]{4}[A-Z])$')), 'hcpcs_cpt'] = df_1['code']"
   ]
  },
  {
   "attachments": {},
   "cell_type": "markdown",
   "metadata": {},
   "source": [
    "# Classify each DF"
   ]
  },
  {
   "cell_type": "code",
   "execution_count": 165,
   "metadata": {},
   "outputs": [
    {
     "name": "stdout",
     "output_type": "stream",
     "text": [
      "['local_code', 'code', 'description', 'ndc', 'rev_code', 'CDM Price', 'Discounted Self Pay/Cash Price', 'Inpatient De-Identified Minimum Negoticated Rate', 'Inpatient De-Identified Maximum Negoticated Rate', 'Outpatient De-Identified Minimum Negoticated Rate', 'Outpatient De-Identified Maximum Negoticated Rate', \"AMERICA'S PPO-Inpatient\", \"AMERICA'S PPO-Outpatient\", 'BCBS OF MN Commercial-Inpatient', 'BCBS OF MN Commercial-Outpatient', 'BCBS MN ST LOUIS CO EMP-Inpatient', 'BCBS MN ST LOUIS CO EMP-Outpatient', 'BCBS MN MEDICARE ADVANTAGE -Inpatient', 'BCBS MN MEDICARE ADVANTAGE -Outpatient', 'BCBS MN SECURE BLUE MSHO-Inpatient', 'BCBS MN SECURE BLUE MSHO-Outpatient', 'BLUE PLUS PMAP PCC PRIME-Inpatient', 'BLUE PLUS PMAP PCC PRIME-Outpatient', 'SANFORD HEALTH BCBS of ND MA EXPANSION-Inpatient', 'SANFORD HEALTH BCBS of ND MA EXPANSION-Outpatient', 'BCBS OF ND MEDICARE ADVANTAGE-Inpatient', 'BCBS OF ND MEDICARE ADVANTAGE-Outpatient', 'BCBS OF WI MEDICAID-Inpatient', 'BCBS OF WI MEDICAID-Outpatient', 'MEDICA -Inpatient', 'MEDICA -Outpatient', 'ESSENTIACARE UCARE-Inpatient', 'ESSENTIACARE UCARE-Outpatient', 'FIRST HEALTH - Inpatient', 'FIRST HEALTH - Outpatient', 'GROUP HEALTH PMAP PCC PRIME-Inpatient', 'GROUP HEALTH PMAP PCC PRIME-Outpatient', 'GROUP HEALTH REF REQ-Inpatient', 'GROUP HEALTH REF REQ-Outpatient', 'HEALTHEOS/WPPN-Inpatient', 'HEALTHEOS/WPPN-Outpatient', 'HEALTHPARTNERS CARE MSHO-Inpatient', 'HEALTHPARTNERS CARE MSHO-Outpatient', 'HEALTHPARTNERS CARE PMAP-Inpatient', 'HEALTHPARTNERS CARE PMAP-Outpatient', 'HEALTHPARTNERS MEDICARE ADVANTAGE-Inpatient', 'HEALTHPARTNERS MEDICARE ADVANTAGE-Outpatient', 'HEALTHPARTNERS COMMERCIAL-Inpatient', 'HEALTHPARTNERS COMMERCIAL-Outpatient', 'HEALTHPARTNERS STATE PLAN-Inpatient', 'HEALTHPARTNERS STATE PLAN-Outpatient', 'HEALTH TRADITION HEALTH PLAN - Inpatient', 'HEALTH TRADITION HEALTH PLAN - Outpatient', 'HUMANA CHOICE PPO-Inpatient', 'HUMANA CHOICE PPO-Outpatient', 'HUMANA-Inpatient', 'HUMANA-Outpatient', 'IMCARE MSHO PCC PRIME-Inpatient', 'IMCARE MSHO PCC PRIME-Outpatient', 'INCLUSA-Inpatient', 'INCLUSA-Outpatient', 'ITASCA MED CARE-Inpatient', 'ITASCA MED CARE-Outpatient', 'MED COST SOLUTIONS - Inpatient', 'MED COST SOLUTIONS - Outpatient', 'MEDICA SENIOR CARE PLUS-Inpatient', 'MEDICA SENIOR CARE PLUS-Outpatient', 'MEDICA ADVANTAGE SOLUTIONS-Inpatient', 'MEDICA ADVANTAGE SOLUTIONS-Outpatient', 'MEDICA COMMERCIAL-Inpatient', 'MEDICA COMMERCIAL-Outpatient', 'MEDICA MSHO/DUAL SOLUTIONS-Inpatient', 'MEDICA MSHO/DUAL SOLUTIONS-Outpatient', 'MHS -Inpatient', 'MHS -Outpatient', 'MULTIPLAN-Inpatient', 'MULTIPLAN-Outpatient', 'OPTUM VA CCN - Inpatient', 'OPTUM VA CCN - Outpatient', 'PREFERRED ONE PHCP/PIC/PAS-Inpatient', 'PREFERRED ONE PHCP/PIC/PAS-Outpatient', 'PREFERRED ONE PPO-Inpatient', 'PREFERRED ONE PPO-Outpatient', 'PRIMEWEST HEALTH PMAP-Inpatient', 'PRIMEWEST HEALTH PMAP-Outpatient', 'PRIMEWEST MSHO-Inpatient', 'PRIMEWEST MSHO-Outpatient', 'SANFORD s-Inpatient', 'SANFORD s-Outpatient', 'SECURITY HEALTH MEDICARE-Inpatient', 'SECURITY HEALTH MEDICARE-Outpatient', 'SECURITY HEALTH NARROW NETWORK-Inpatient', 'SECURITY HEALTH NARROW NETWORK-Outpatient', 'SECURITY HEALTH PMAP-Inpatient', 'SECURITY HEALTH PMAP-Outpatient', 'SECURITY HEALTH-Inpatient', 'SECURITY HEALTH-Outpatient', 'SOUTH COUNTRY HLTH MSHO-Inpatient', 'SOUTH COUNTRY HLTH MSHO-Outpatient', 'SOUTH COUNTRY PMAP PCC PRIME-Inpatient', 'SOUTH COUNTRY PMAP PCC PRIME-Outpatient', 'UBH-Inpatient', 'UBH-Outpatient', 'UCARE Commercial-Inpatient', 'UCARE Commercial-Outpatient', 'UCARE MEDICARE PLANS-Inpatient', 'UCARE MEDICARE PLANS-Outpatient', 'UCARE MSHO-Inpatient', 'UCARE MSHO-Outpatient', 'UCARE Medicaid-Inpatient', 'UCARE Medicaid-Outpatient', 'UHC MEDICARE ADVANTAGE-Inpatient', 'UHC MEDICARE ADVANTAGE-Outpatient', 'UHC Commercial-Inpatient', 'UHC Commercial-Outpatient']\n",
      "['DRG Type', 'DRG Code', 'DRG Description', '', '', 'Median Charges', 'Discounted Self Pay/Cash Price', 'Inpatient De-Identified Minimum Negoticated Rate', 'Inpatient De-Identified Maximum Negoticated Rate', 'Outpatient De-Identified Minimum Negoticated Rate', 'Outpatient De-Identified Maximum Negoticated Rate', \"AMERICA'S PPO-Inpatient\", \"AMERICA'S PPO-Outpatient\", 'BCBS OF MN Commercial-Inpatient', 'BCBS OF MN Commercial-Outpatient', 'BCBS MN ST LOUIS CO EMP-Inpatient', 'BCBS MN ST LOUIS CO EMP-Outpatient', 'BCBS MN MEDICARE ADVANTAGE -Inpatient', 'BCBS MN MEDICARE ADVANTAGE -Outpatient', 'BCBS MN SECURE BLUE MSHO-Inpatient', 'BCBS MN SECURE BLUE MSHO-Outpatient', 'BLUE PLUS PMAP PCC PRIME-Inpatient', 'BLUE PLUS PMAP PCC PRIME-Outpatient', 'SANFORD HEALTH MA EXPANSION-Inpatient', 'SANFORD HEALTH MA EXPANSION-Outpatient', 'BCBS OF ND MEDICARE ADVANTAGE-Inpatient', 'BCBS OF ND MEDICARE ADVANTAGE-Outpatient', 'BCBS OF WI MEDICAID-Inpatient', 'BCBS OF WI MEDICAID-Outpatient', 'MEDICA -Inpatient', 'MEDICA -Outpatient', 'ESSENTIACARE UCARE-Inpatient', 'ESSENTIACARE UCARE-Outpatient', 'FIRST HEALTH - Inpatient', 'FIRST HEALTH - Outpatient', 'GROUP HEALTH PMAP PCC PRIME-Inpatient', 'GROUP HEALTH PMAP PCC PRIME-Outpatient', 'GROUP HEALTH REF REQ-Inpatient', 'GROUP HEALTH REF REQ-Outpatient', 'HEALTHEOS/WPPN-Inpatient', 'HEALTHEOS/WPPN-Outpatient', 'HEALTHPARTNERS CARE MSHO-Inpatient', 'HEALTHPARTNERS CARE MSHO-Outpatient', 'HEALTHPARTNERS CARE PMAP-Inpatient', 'HEALTHPARTNERS CARE PMAP-Outpatient', 'HEALTHPARTNERS MEDICARE ADVANTAGE-Inpatient', 'HEALTHPARTNERS MEDICARE ADVANTAGE-Outpatient', 'HEALTHPARTNERS COMMERCIAL-Inpatient', 'HEALTHPARTNERS COMMERCIAL-Outpatient', 'HEALTHPARTNERS STATE PLAN-Inpatient', 'HEALTHPARTNERS STATE PLAN-Outpatient', 'HEALTH TRADITION HEALTH PLAN - Inpatient', 'HEALTH TRADITION HEALTH PLAN - Outpatient', 'HUMANA CHOICE PPO-Inpatient', 'HUMANA CHOICE PPO-Outpatient', 'HUMANA-Inpatient', 'HUMANA-Outpatient', 'IMCARE MSHO PCC PRIME-Inpatient', 'IMCARE MSHO PCC PRIME-Outpatient', 'INCLUSA-Inpatient', 'INCLUSA-Outpatient', 'ITASCA MED CARE-Inpatient', 'ITASCA MED CARE-Outpatient', 'MED COST SOLUTIONS - Inpatient', 'MED COST SOLUTIONS - Outpatient', 'MEDICA SENIOR CARE PLUS-Inpatient', 'MEDICA SENIOR CARE PLUS-Outpatient', 'MEDICA ADVANTAGE SOLUTIONS-Inpatient', 'MEDICA ADVANTAGE SOLUTIONS-Outpatient', 'MEDICA COMMERCIAL-Inpatient', 'MEDICA COMMERCIAL-Outpatient', 'MEDICA MSHO/DUAL SOLUTIONS-Inpatient', 'MEDICA MSHO/DUAL SOLUTIONS-Outpatient', 'MHS -Inpatient', 'MHS -Outpatient', 'MULTIPLAN-Inpatient', 'MULTIPLAN-Outpatient', 'OPTUM VA CCN - Inpatient', 'OPTUM VA CCN - Outpatient', 'PREFERRED ONE PHCP/PIC/PAS-Inpatient', 'PREFERRED ONE PHCP/PIC/PAS-Outpatient', 'PREFERRED ONE PPO-Inpatient', 'PREFERRED ONE PPO-Outpatient', 'PRIMEWEST HEALTH PMAP-Inpatient', 'PRIMEWEST HEALTH PMAP-Outpatient', 'PRIMEWEST MSHO-Inpatient', 'PRIMEWEST MSHO-Outpatient', 'SANFORD s-Inpatient', 'SANFORD s-Outpatient', 'SECURITY HEALTH MEDICARE-Inpatient', 'SECURITY HEALTH MEDICARE-Outpatient', 'SECURITY HEALTH NARROW NETWORK-Inpatient', 'SECURITY HEALTH NARROW NETWORK-Outpatient', 'SECURITY HEALTH PMAP-Inpatient', 'SECURITY HEALTH PMAP-Outpatient', 'SECURITY HEALTH-Inpatient', 'SECURITY HEALTH-Outpatient', 'SOUTH COUNTRY HLTH MSHO-Inpatient', 'SOUTH COUNTRY HLTH MSHO-Outpatient', 'SOUTH COUNTRY PMAP PCC PRIME-Inpatient', 'SOUTH COUNTRY PMAP PCC PRIME-Outpatient', 'UBH-Inpatient', 'UBH-Outpatient', 'UCARE Commercial-Inpatient', 'UCARE Commercial-Outpatient', 'UCARE MEDICARE PLANS-Inpatient', 'UCARE MEDICARE PLANS-Outpatient', 'UCARE MSHO-Inpatient', 'UCARE MSHO-Outpatient', 'UCARE Medicaid-Inpatient', 'UCARE Medicaid-Outpatient', 'UHC MEDICARE ADVANTAGE-Inpatient', 'UHC MEDICARE ADVANTAGE-Outpatient', '', '']\n",
      "['APR -DRG', 'APRDRG & Severity', 'APR Description', '', '', 'Median Charges', 'Discounted Self Pay/Cash Price', 'Inpatient De-Identified Minimum Negoticated Rate', 'Inpatient De-Identified Maximum Negoticated Rate', 'Outpatient De-Identified Minimum Negoticated Rate', 'Outpatient De-Identified Maximum Negoticated Rate', \"AMERICA'S PPO-Inpatient\", \"AMERICA'S PPO-Outpatient\", 'BCBS OF MN Commercial-Inpatient', 'BCBS OF MN Commercial-Outpatient', 'BCBS MN ST LOUIS CO EMP-Inpatient', 'BCBS MN ST LOUIS CO EMP-Outpatient', 'BCBS MN MEDICARE ADVANTAGE -Inpatient', 'BCBS MN MEDICARE ADVANTAGE -Outpatient', 'BCBS MN SECURE BLUE MSHO-Inpatient', 'BCBS MN SECURE BLUE MSHO-Outpatient', 'BLUE PLUS PMAP PCC PRIME-Inpatient', 'BLUE PLUS PMAP PCC PRIME-Outpatient', 'SANFORD HEALTH MA EXPANSION-Inpatient', 'SANFORD HEALTH MA EXPANSION-Outpatient', 'BCBS OF ND MEDICARE ADVANTAGE-Inpatient', 'BCBS OF ND MEDICARE ADVANTAGE-Outpatient', 'BCBS OF WI MEDICAID-Inpatient', 'BCBS OF WI MEDICAID-Outpatient', 'MEDICA -Inpatient', 'MEDICA -Outpatient', 'ESSENTIACARE UCARE-Inpatient', 'ESSENTIACARE UCARE-Outpatient', 'FIRST HEALTH - Inpatient', 'FIRST HEALTH - Outpatient', 'GROUP HEALTH PMAP PCC PRIME-Inpatient', 'GROUP HEALTH PMAP PCC PRIME-Outpatient', 'GROUP HEALTH REF REQ-Inpatient', 'GROUP HEALTH REF REQ-Outpatient', 'HEALTHEOS/WPPN-Inpatient', 'HEALTHEOS/WPPN-Outpatient', 'HEALTHPARTNERS CARE MSHO-Inpatient', 'HEALTHPARTNERS CARE MSHO-Outpatient', 'HEALTHPARTNERS CARE PMAP-Inpatient', 'HEALTHPARTNERS CARE PMAP-Outpatient', 'HEALTHPARTNERS MEDICARE ADVANTAGE-Inpatient', 'HEALTHPARTNERS MEDICARE ADVANTAGE-Outpatient', 'HEALTHPARTNERS COMMERCIAL-Inpatient', 'HEALTHPARTNERS COMMERCIAL-Outpatient', 'HEALTHPARTNERS STATE PLAN-Inpatient', 'HEALTHPARTNERS STATE PLAN-Outpatient', 'HEALTH TRADITION HEALTH PLAN - Inpatient', 'HEALTH TRADITION HEALTH PLAN - Outpatient', 'HUMANA CHOICE PPO-Inpatient', 'HUMANA CHOICE PPO-Outpatient', 'HUMANA-Inpatient', 'HUMANA-Outpatient', 'IMCARE MSHO PCC PRIME-Inpatient', 'IMCARE MSHO PCC PRIME-Outpatient', 'INCLUSA-Inpatient', 'INCLUSA-Outpatient', 'ITASCA MED CARE-Inpatient', 'ITASCA MED CARE-Outpatient', 'MED COST SOLUTIONS - Inpatient', 'MED COST SOLUTIONS - Outpatient', 'MEDICA SENIOR CARE PLUS-Inpatient', 'MEDICA SENIOR CARE PLUS-Outpatient', 'MEDICA ADVANTAGE SOLUTIONS-Inpatient', 'MEDICA ADVANTAGE SOLUTIONS-Outpatient', 'MEDICA COMMERCIAL-Inpatient', 'MEDICA COMMERCIAL-Outpatient', 'MEDICA MSHO/DUAL SOLUTIONS-Inpatient', 'MEDICA MSHO/DUAL SOLUTIONS-Outpatient', 'MHS -Inpatient', 'MHS -Outpatient', 'MULTIPLAN-Inpatient', 'MULTIPLAN-Outpatient', 'OPTUM VA CCN - Inpatient', 'OPTUM VA CCN - Outpatient', 'PREFERRED ONE PHCP/PIC/PAS-Inpatient', 'PREFERRED ONE PHCP/PIC/PAS-Outpatient', 'PREFERRED ONE PPO-Inpatient', 'PREFERRED ONE PPO-Outpatient', 'PRIMEWEST HEALTH PMAP-Inpatient', 'PRIMEWEST HEALTH PMAP-Outpatient', 'PRIMEWEST MSHO-Inpatient', 'PRIMEWEST MSHO-Outpatient', 'SANFORD s-Inpatient', 'SANFORD s-Outpatient', 'SECURITY HEALTH MEDICARE-Inpatient', 'SECURITY HEALTH MEDICARE-Outpatient', 'SECURITY HEALTH NARROW NETWORK-Inpatient', 'SECURITY HEALTH NARROW NETWORK-Outpatient', 'SECURITY HEALTH PMAP-Inpatient', 'SECURITY HEALTH PMAP-Outpatient', 'SECURITY HEALTH-Inpatient', 'SECURITY HEALTH-Outpatient', 'SOUTH COUNTRY HLTH MSHO-Inpatient', 'SOUTH COUNTRY HLTH MSHO-Outpatient', 'SOUTH COUNTRY PMAP PCC PRIME-Inpatient', 'SOUTH COUNTRY PMAP PCC PRIME-Outpatient', 'UBH-Inpatient', 'UBH-Outpatient', 'UCARE Commercial-Inpatient', 'UCARE Commercial-Outpatient', 'UCARE MEDICARE PLANS-Inpatient', 'UCARE MEDICARE PLANS-Outpatient', 'UCARE MSHO-Inpatient', 'UCARE MSHO-Outpatient', 'UCARE Medicaid-Inpatient', 'UCARE Medicaid-Outpatient', 'UHC MEDICARE ADVANTAGE-Inpatient', 'UHC MEDICARE ADVANTAGE-Outpatient', '', '']\n",
      "['OP Type', 'OP Code', 'OP Description', '', '', 'Median Price', 'Discounted Self Pay/Cash Price', 'Inpatient De-Identified Minimum Negoticated Rate', 'Inpatient De-Identified Maximum Negoticated Rate', 'Outpatient De-Identified Minimum Negoticated Rate', 'Outpatient De-Identified Maximum Negoticated Rate', '', '', '', '', '', '', '', '', '', '', '', '', '', '', '', '', '', '', '', '', '', '', '', '', '', '', '', '', '', '', '', '', '', '', '', '', '', '', '', '', '', '', '', '', '', '', '', '', '', '', '', '', '', '', '', '', '', '', '', '', '', '', '', '', '', '', '', '', '', '', '', '', '', '', '', '', '', '', '', '', '', '', '', '', '', '', '', '', '', '', '', '', '', '', '', '', '', '', '', '', '', '', '', '']\n",
      "['OP Type', 'OP Code', 'OP Description', '', '', 'Median Charge', 'Discounted Self Pay/Cash Price', 'Inpatient De-Identified Minimum Negoticated Rate', 'Inpatient De-Identified Maximum Negoticated Rate', 'Outpatient De-Identified Minimum Negoticated Rate', 'Outpatient De-Identified Maximum Negoticated Rate', \"AMERICA'S PPO-Inpatient\", \"AMERICA'S PPO-Outpatient\", 'BCBS OF MN Commercial-Inpatient', 'BCBS OF MN Commercial-Outpatient', 'BCBS MN ST LOUIS CO EMP-Inpatient', 'BCBS MN ST LOUIS CO EMP-Outpatient', 'BCBS MN MEDICARE ADVANTAGE -Inpatient', 'BCBS MN MEDICARE ADVANTAGE -Outpatient', 'BCBS MN SECURE BLUE MSHO-Inpatient', 'BCBS MN SECURE BLUE MSHO-Outpatient', 'BLUE PLUS PMAP PCC PRIME-Inpatient', 'BLUE PLUS PMAP PCC PRIME-Outpatient', 'SANFORD HEALTH MA EXPANSION-Inpatient', 'SANFORD HEALTH MA EXPANSION-Outpatient', 'BCBS OF ND MEDICARE ADVANTAGE-Inpatient', 'BCBS OF ND MEDICARE ADVANTAGE-Outpatient', 'BCBS OF WI MEDICAID-Inpatient', 'BCBS OF WI MEDICAID-Outpatient', 'MEDICA -Inpatient', 'MEDICA -Outpatient', 'ESSENTIACARE UCARE-Inpatient', 'ESSENTIACARE UCARE-Outpatient', 'FIRST HEALTH - Inpatient', 'FIRST HEALTH - Outpatient', 'GROUP HEALTH PMAP PCC PRIME-Inpatient', 'GROUP HEALTH PMAP PCC PRIME-Outpatient', 'GROUP HEALTH REF REQ-Inpatient', 'GROUP HEALTH REF REQ-Outpatient', 'HEALTHEOS/WPPN-Inpatient', 'HEALTHEOS/WPPN-Outpatient', 'HEALTHPARTNERS CARE MSHO-Inpatient', 'HEALTHPARTNERS CARE MSHO-Outpatient', 'HEALTHPARTNERS CARE PMAP-Inpatient', 'HEALTHPARTNERS CARE PMAP-Outpatient', 'HEALTHPARTNERS MEDICARE ADVANTAGE-Inpatient', 'HEALTHPARTNERS MEDICARE ADVANTAGE-Outpatient', 'HEALTHPARTNERS COMMERCIAL-Inpatient', 'HEALTHPARTNERS COMMERCIAL-Outpatient', 'HEALTHPARTNERS STATE PLAN-Inpatient', 'HEALTHPARTNERS STATE PLAN-Outpatient', 'HEALTH TRADITION HEALTH PLAN - Inpatient', 'HEALTH TRADITION HEALTH PLAN - Outpatient', 'HUMANA CHOICE PPO-Inpatient', 'HUMANA CHOICE PPO-Outpatient', 'HUMANA-Inpatient', 'HUMANA-Outpatient', 'IMCARE MSHO PCC PRIME-Inpatient', 'IMCARE MSHO PCC PRIME-Outpatient', 'INCLUSA-Inpatient', 'INCLUSA-Outpatient', 'ITASCA MED CARE-Inpatient', 'ITASCA MED CARE-Outpatient', 'MED COST SOLUTIONS - Inpatient', 'MED COST SOLUTIONS - Outpatient', 'MEDICA SENIOR CARE PLUS-Inpatient', 'MEDICA SENIOR CARE PLUS-Outpatient', 'MEDICA ADVANTAGE SOLUTIONS-Inpatient', 'MEDICA ADVANTAGE SOLUTIONS-Outpatient', 'MEDICA COMMERCIAL-Inpatient', 'MEDICA COMMERCIAL-Outpatient', 'MEDICA MSHO/DUAL SOLUTIONS-Inpatient', 'MEDICA MSHO/DUAL SOLUTIONS-Outpatient', 'MHS -Inpatient', 'MHS -Outpatient', 'MULTIPLAN-Inpatient', 'MULTIPLAN-Outpatient', 'OPTUM VA CCN - Inpatient', 'OPTUM VA CCN - Outpatient', 'PREFERRED ONE PHCP/PIC/PAS-Inpatient', 'PREFERRED ONE PHCP/PIC/PAS-Outpatient', 'PREFERRED ONE PPO-Inpatient', 'PREFERRED ONE PPO-Outpatient', 'PRIMEWEST HEALTH PMAP-Inpatient', 'PRIMEWEST HEALTH PMAP-Outpatient', 'PRIMEWEST MSHO-Inpatient', 'PRIMEWEST MSHO-Outpatient', 'SANFORD s-Inpatient', 'SANFORD s-Outpatient', 'SECURITY HEALTH MEDICARE-Inpatient', 'SECURITY HEALTH MEDICARE-Outpatient', 'SECURITY HEALTH NARROW NETWORK-Inpatient', 'SECURITY HEALTH NARROW NETWORK-Outpatient', 'SECURITY HEALTH PMAP-Inpatient', 'SECURITY HEALTH PMAP-Outpatient', 'SECURITY HEALTH-Inpatient', 'SECURITY HEALTH-Outpatient', 'SOUTH COUNTRY HLTH MSHO-Inpatient', 'SOUTH COUNTRY HLTH MSHO-Outpatient', 'SOUTH COUNTRY PMAP PCC PRIME-Inpatient', 'SOUTH COUNTRY PMAP PCC PRIME-Outpatient', 'UBH-Inpatient', 'UBH-Outpatient', 'UCARE Commercial-Inpatient', 'UCARE Commercial-Outpatient', 'UCARE MEDICARE PLANS-Inpatient', 'UCARE MEDICARE PLANS-Outpatient', 'UCARE MSHO-Inpatient', 'UCARE MSHO-Outpatient', 'UCARE Medicaid-Inpatient', 'UCARE Medicaid-Outpatient', 'UHC MEDICARE ADVANTAGE-Inpatient', 'UHC MEDICARE ADVANTAGE-Outpatient', '', '']\n"
     ]
    }
   ],
   "source": [
    "apr_df = False\n",
    "drg_df = False\n",
    "op_df = False\n",
    "op_df1 = False\n",
    "per_diem_df = False\n",
    "\n",
    "\n",
    "for i, df in enumerate(dfs):\n",
    "    if not i:\n",
    "        print(df.columns.tolist())\n",
    "    if i:\n",
    "        # Have to remove nan columns\n",
    "        df.columns = [str(col) if not pd.isna(col) else '' for col in df.columns]\n",
    "        print(df.columns.tolist())\n",
    "        if '' in df.columns:\n",
    "            df = df.drop([''], axis=1)\n",
    "        first_col = df.columns[0]\n",
    "        if first_col == 'DRG Type':\n",
    "            drg_df = df\n",
    "        elif first_col == 'APR -DRG':\n",
    "            apr_df = df\n",
    "        elif first_col == 'Per Diem Rate':\n",
    "            per_diem_df = df\n",
    "        elif first_col == 'OP Type':\n",
    "            if type(op_df) == bool:\n",
    "                op_df = df\n",
    "            else:\n",
    "                op_df1 = df"
   ]
  },
  {
   "attachments": {},
   "cell_type": "markdown",
   "metadata": {},
   "source": [
    "# Per diem df Stuff"
   ]
  },
  {
   "cell_type": "code",
   "execution_count": 166,
   "metadata": {},
   "outputs": [],
   "source": [
    "# Have to use type here because dataframes don't have a truth value\n",
    "if type(per_diem_df) != bool:\n",
    "    per_diem_df['contracting_method'] = 'per diem'\n",
    "    per_diem_df['description'] = 'per diem rate'\n",
    "\n",
    "    cols = per_diem_df.columns.tolist()\n",
    "    id_vars = ['description', 'contracting_method']\n",
    "    value_vars = cols[1:-2]\n",
    "    per_diem_df = pd.melt(per_diem_df, id_vars=id_vars, value_vars=value_vars, var_name='payer_name', value_name='standard_charge')\n",
    "    \n",
    "    per_diem_df.dropna(subset='standard_charge', inplace=True)\n",
    "\n",
    "    per_diem_df['payer_category'] = per_diem_df['payer_name'].map(mapping).fillna('payer')"
   ]
  },
  {
   "attachments": {},
   "cell_type": "markdown",
   "metadata": {},
   "source": [
    "# apr-drg df"
   ]
  },
  {
   "cell_type": "code",
   "execution_count": 167,
   "metadata": {},
   "outputs": [],
   "source": [
    "# Have to use type here because dataframes don't have a truth value\n",
    "if type(apr_df) != bool:\n",
    "    apr_df.rename(columns={\n",
    "        'APR -DRG': 'line_type',\n",
    "        'APRDRG & Severity': 'apr_drg',\n",
    "        'APR Description': 'description',\n",
    "    }, inplace=True)\n",
    "\n",
    "    apr_df.loc[apr_df['apr_drg'].str.len() == 2, 'apr_drg'] = apr_df['apr_drg'].str.zfill(4)\n",
    "    apr_df['apr_drg'] = apr_df['apr_drg'].str[:3] + '-' + apr_df['apr_drg'].str[-1]\n",
    "\n",
    "    cols = apr_df.columns.tolist()\n",
    "    id_vars = cols[:3]\n",
    "    value_vars = cols[3:]\n",
    "    \n",
    "    apr_df = pd.melt(apr_df, id_vars=id_vars, value_vars=value_vars, var_name='payer_name', value_name='standard_charge')\n",
    "\n",
    "    apr_df['payer_category'] = apr_df['payer_name'].map(mapping).fillna('payer')\n",
    "    apr_df.dropna(subset='standard_charge', inplace=True)\n",
    "\n",
    "    "
   ]
  },
  {
   "attachments": {},
   "cell_type": "markdown",
   "metadata": {},
   "source": [
    "# drg df"
   ]
  },
  {
   "cell_type": "code",
   "execution_count": 168,
   "metadata": {},
   "outputs": [],
   "source": [
    "if type(drg_df) != bool:\n",
    "    drg_df.rename(columns={\n",
    "        'DRG Type': 'line_type',\n",
    "        'DRG Code': 'ms_drg',\n",
    "        'DRG Description': 'description'\n",
    "    }, inplace=True)\n",
    "\n",
    "    drg_df['ms_drg'] = drg_df['ms_drg'].str.zfill(3)\n",
    "\n",
    "\n",
    "    cols = drg_df.columns.tolist()\n",
    "    id_vars = cols[:3]\n",
    "    value_vars = cols[3:]\n",
    "    drg_df = pd.melt(drg_df, id_vars=id_vars, value_vars=value_vars, var_name='payer_name', value_name='standard_charge')\n",
    "    drg_df['payer_category'] = drg_df['payer_name'].map(mapping).fillna('payer')\n",
    "    drg_df.dropna(subset='standard_charge', inplace=True)\n",
    "    "
   ]
  },
  {
   "attachments": {},
   "cell_type": "markdown",
   "metadata": {},
   "source": [
    "# OP type df"
   ]
  },
  {
   "cell_type": "code",
   "execution_count": 169,
   "metadata": {},
   "outputs": [],
   "source": [
    "if type(op_df) != bool:\n",
    "    op_df.rename(columns={\n",
    "        'OP Type': 'line_type',\n",
    "        'OP Code': 'code',\n",
    "        'OP Description': 'description'\n",
    "    }, inplace=True)\n",
    "\n",
    "    cols = op_df.columns.tolist()\n",
    "    id_vars = cols[:3]\n",
    "    value_vars = cols[3:]\n",
    "\n",
    "    op_df = pd.melt(op_df, id_vars=id_vars, value_vars=value_vars, var_name='payer_name', value_name='standard_charge')\n",
    "    op_df['payer_category'] = op_df['payer_name'].map(mapping).fillna('payer')\n",
    "    \n",
    "    op_df.loc[op_df['line_type'] == 'APC', 'apc'] = op_df['code'].str.zfill(4)\n",
    "    op_df.dropna(subset='standard_charge', inplace=True)"
   ]
  },
  {
   "attachments": {},
   "cell_type": "markdown",
   "metadata": {},
   "source": [
    "# OP 1 df"
   ]
  },
  {
   "cell_type": "code",
   "execution_count": 170,
   "metadata": {},
   "outputs": [],
   "source": [
    "if type(op_df1) != bool:\n",
    "    op_df1.rename(columns={\n",
    "        'OP Type': 'line_type',\n",
    "        'OP Code': 'code',\n",
    "        'OP Description': 'description'\n",
    "    }, inplace=True)\n",
    "\n",
    "    cols = op_df1.columns.tolist()\n",
    "    id_vars = cols[:3]\n",
    "    value_vars = cols[3:]\n",
    "\n",
    "    op_df1 = pd.melt(op_df1, id_vars=id_vars, value_vars=value_vars, var_name='payer_name', value_name='standard_charge')\n",
    "    op_df1['payer_category'] = op_df1['payer_name'].map(mapping).fillna('payer')\n",
    "\n",
    "    op_df1.loc[op_df1['line_type'] == 'EAPG', 'eapg'] = op_df1['code']\n",
    "    op_df1.dropna(subset='standard_charge', inplace=True)\n"
   ]
  },
  {
   "attachments": {},
   "cell_type": "markdown",
   "metadata": {},
   "source": [
    "# All dfs"
   ]
  },
  {
   "cell_type": "code",
   "execution_count": 171,
   "metadata": {},
   "outputs": [],
   "source": [
    "dfs = [df_1, apr_df, drg_df, op_df, op_df1, per_diem_df]\n",
    "dfs = [x for x in dfs if type(x) != bool]"
   ]
  },
  {
   "cell_type": "code",
   "execution_count": 172,
   "metadata": {},
   "outputs": [],
   "source": [
    "df = pd.concat(dfs)"
   ]
  },
  {
   "cell_type": "code",
   "execution_count": 173,
   "metadata": {},
   "outputs": [],
   "source": [
    "df['setting'] = np.where(\n",
    "    df['payer_name'].str.lower().str.contains('inpatient'), 'inpatient',\n",
    "    np.where(\n",
    "        df['payer_name'].str.lower().str.contains('outpatient'), 'outpatient', pd.NA)\n",
    ")\n",
    "\n",
    "df['standard_charge'] = df['standard_charge'].str.replace('$', '', regex=False).str.replace(',', '')\n",
    "\n",
    "df.loc[df['standard_charge'] == '#VALUE!', 'standard_charge'] = pd.NA\n"
   ]
  },
  {
   "cell_type": "code",
   "execution_count": 174,
   "metadata": {},
   "outputs": [],
   "source": [
    "df['standard_charge'] = pd.to_numeric(df['standard_charge'])"
   ]
  },
  {
   "cell_type": "code",
   "execution_count": 181,
   "metadata": {},
   "outputs": [
    {
     "data": {
      "text/plain": [
       "'240075'"
      ]
     },
     "execution_count": 181,
     "metadata": {},
     "output_type": "execute_result"
    }
   ],
   "source": [
    "ccn = {\n",
    "    \"documents_standard-charges_41-0695604_Essentia-Health-St.-Marys-Childrens-Hospital_standardcharges.csv\": \"240002\",\n",
    "    \"documents_standard-charges_41-0695602_Essentia-Health-St.-Josephs-Medical-Center_standardcharges.csv\": \"240075\",\n",
    "    \"documents_standard-charges_46-0909870_Essentia-Health-Virginia_standardcharges.csv\": \"240084\",\n",
    "    \"documents_standard-charges_41-1620386_Essentia-Health-St.Marys-Detroit-Lakes_standardcharges.csv\": \"240101\",\n",
    "    \"documents_standard-charges_47-5153885_Essentia-Health-Sandstone_standardcharges.csv\": \"241309\",\n",
    "    \"documents_standard-charges_41-0841441_Essentia-Health-Northern-Pines_standardcharges.csv\": \"241340\",\n",
    "    \"documents_standard-charges_84-5099016_Essentia-Health-Moose-Lake_standardcharges.csv\": \"241350\",\n",
    "    \"documents_standard-charges_41-0706143_Essentia-Health-Fosston_standardcharges.csv\": \"241357\",\n",
    "    \"documents_standard-charges_41-0844574_Essentia-Health-Deer-River_standardcharges.csv\": \"241360\",\n",
    "    \"documents_standard-charges_26-1175213_Essentia-Health-Fargo_standardcharges.csv\": \"350070\",\n",
    "    \"documents_standard-charges_41-1811073_Essentia-Health-St.-Marys-Hospital-Superior_standardcharges.csv\": \"521329\",\n",
    "    \"documents_standard-charges_20-0479568_Essentia-Health-Ada_standardcharges.csv\": \"241313\",\n",
    "    \"documents_standard-charges_41-1878730_Essentia-Health-Duluth_standardcharges.csv\": \"240019\",\n",
    "    \"documents_standard-charges_41-0706143_Essentia-Health-Holy-Trinity-Hospital_standardcharges.csv\": \"241321\"\n",
    "}\n",
    "\n",
    "id = ccn[file]\n",
    "df['hospital_id'] = id\n",
    "\n",
    "name = file.split('Essentia-Health-')[-1]\n",
    "id\n"
   ]
  },
  {
   "cell_type": "code",
   "execution_count": 185,
   "metadata": {},
   "outputs": [],
   "source": [
    "output_name = id + '_' + name\n",
    "df.to_csv('.\\\\output_files\\\\' + output_name, index=False)"
   ]
  }
 ],
 "metadata": {
  "kernelspec": {
   "display_name": "scraper",
   "language": "python",
   "name": "python3"
  },
  "language_info": {
   "codemirror_mode": {
    "name": "ipython",
    "version": 3
   },
   "file_extension": ".py",
   "mimetype": "text/x-python",
   "name": "python",
   "nbconvert_exporter": "python",
   "pygments_lexer": "ipython3",
   "version": "3.9.15"
  },
  "orig_nbformat": 4
 },
 "nbformat": 4,
 "nbformat_minor": 2
}
