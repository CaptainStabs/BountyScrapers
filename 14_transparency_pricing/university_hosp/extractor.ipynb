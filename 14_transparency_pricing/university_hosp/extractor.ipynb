{
 "cells": [
  {
   "cell_type": "code",
   "execution_count": 1,
   "metadata": {},
   "outputs": [],
   "source": [
    "import pandas as pd\n",
    "import json"
   ]
  },
  {
   "cell_type": "code",
   "execution_count": 2,
   "metadata": {},
   "outputs": [],
   "source": [
    "folder = '.\\\\input_files\\\\'\n",
    "\n",
    "file = '341567805_uh-cleveland-medical-center_standardcharges.json'"
   ]
  },
  {
   "cell_type": "code",
   "execution_count": 3,
   "metadata": {},
   "outputs": [],
   "source": [
    "file_path = folder + file\n",
    "with open(file_path,'r') as f:\n",
    "    jf = json.load(f)\n",
    "jf = jf[0]"
   ]
  },
  {
   "cell_type": "code",
   "execution_count": 4,
   "metadata": {},
   "outputs": [],
   "source": [
    "df = pd.DataFrame(jf['item'])"
   ]
  },
  {
   "cell_type": "code",
   "execution_count": 5,
   "metadata": {},
   "outputs": [],
   "source": [
    "df = df.assign(Associated_Codes=df['Associated_Codes'].str.split(',')).explode('Associated_Codes')"
   ]
  },
  {
   "cell_type": "code",
   "execution_count": 6,
   "metadata": {},
   "outputs": [],
   "source": [
    "df.rename(columns={\n",
    "    'payer': 'payer_name',\n",
    "    'Associated_Codes': 'code',\n",
    "    'iobSelection': 'setting',\n",
    "    'Payer_Allowed_Amount': 'standard_charge',\n",
    "}, inplace=True)"
   ]
  },
  {
   "cell_type": "code",
   "execution_count": 7,
   "metadata": {},
   "outputs": [],
   "source": [
    "df_payer = df.copy()\n",
    "df_payer = df_payer[['payer_name', 'description', 'code', 'standard_charge', 'setting']]\n",
    "df_payer['payer_category'] = 'payer'"
   ]
  },
  {
   "cell_type": "code",
   "execution_count": 8,
   "metadata": {},
   "outputs": [],
   "source": [
    "df_rates = df.copy()\n",
    "df_rates = df_rates[['description', 'code', 'setting', 'Avg_Gross_Charge', 'Cash_Discount', 'Deidentified_Min_Allowed', 'DeIdentified_Max_Allowed']]"
   ]
  },
  {
   "cell_type": "code",
   "execution_count": 9,
   "metadata": {},
   "outputs": [],
   "source": [
    "cols = df_rates.columns.tolist()\n",
    "id_vars = cols[:3]\n",
    "value_vars = cols[3:]\n",
    "\n",
    "df_rates = pd.melt(df_rates, id_vars=id_vars, value_vars=value_vars, var_name='payer_name', value_name='standard_charge')"
   ]
  },
  {
   "cell_type": "code",
   "execution_count": 10,
   "metadata": {},
   "outputs": [],
   "source": [
    "mapping = {\n",
    "    'Avg_Gross_Charge': 'gross',\n",
    "    'Cash_Discount': 'cash',\n",
    "    'Deidentified_Min_Allowed': 'min',\n",
    "    'DeIdentified_Max_Allowed':'max',\n",
    "    }\n",
    "\n",
    "df_rates['payer_category'] = df_rates['payer_name'].map(mapping)"
   ]
  },
  {
   "cell_type": "code",
   "execution_count": 11,
   "metadata": {},
   "outputs": [],
   "source": [
    "df = pd.concat([df_payer, df_rates])"
   ]
  },
  {
   "cell_type": "code",
   "execution_count": 12,
   "metadata": {},
   "outputs": [],
   "source": [
    "df.reset_index(drop=True, inplace=True)"
   ]
  },
  {
   "cell_type": "code",
   "execution_count": 13,
   "metadata": {},
   "outputs": [],
   "source": [
    "df['setting'] = df['setting'].str.lower()"
   ]
  },
  {
   "cell_type": "code",
   "execution_count": 14,
   "metadata": {},
   "outputs": [],
   "source": [
    "df.loc[df['code'].str.match(r'^[A-Z][0-9]{4}|[0-9]{5}|[0-9]{4}[A-Z]$'), 'hcpcs_cpt'] = df['code']\n",
    "df.loc[df['code'].str.match(r'[0-9]{3}'), 'ms_drg'] = df['code']\n",
    "df.loc[df['code'].str.len() == 4, 'rev_code'] = df['code']"
   ]
  },
  {
   "cell_type": "code",
   "execution_count": 15,
   "metadata": {},
   "outputs": [],
   "source": [
    "ccns = {'340714535': '360002',\n",
    " '340827442': '360041',\n",
    " '461382538': '360078',\n",
    " '341425870': '360098',\n",
    " '341260978': '360123',\n",
    " '341567805': '363302',\n",
    " '340714612': '360145',\n",
    " '340816492': '360192',\n",
    " '264827222': '360359',\n",
    " '340714461': '361307',\n",
    " '340714550': '361308',\n",
    " '371848577': '360367'}\n",
    "\n",
    "ein = file.split('_')[0]\n",
    "id = ccns[ein]\n",
    "\n",
    "df['hospital_id'] = id"
   ]
  },
  {
   "cell_type": "code",
   "execution_count": 21,
   "metadata": {},
   "outputs": [
    {
     "data": {
      "text/html": [
       "<div>\n",
       "<style scoped>\n",
       "    .dataframe tbody tr th:only-of-type {\n",
       "        vertical-align: middle;\n",
       "    }\n",
       "\n",
       "    .dataframe tbody tr th {\n",
       "        vertical-align: top;\n",
       "    }\n",
       "\n",
       "    .dataframe thead th {\n",
       "        text-align: right;\n",
       "    }\n",
       "</style>\n",
       "<table border=\"1\" class=\"dataframe\">\n",
       "  <thead>\n",
       "    <tr style=\"text-align: right;\">\n",
       "      <th></th>\n",
       "      <th>payer_name</th>\n",
       "      <th>description</th>\n",
       "      <th>code</th>\n",
       "      <th>standard_charge</th>\n",
       "      <th>setting</th>\n",
       "      <th>payer_category</th>\n",
       "      <th>hcpcs_cpt</th>\n",
       "      <th>ms_drg</th>\n",
       "      <th>rev_code</th>\n",
       "      <th>hospital_id</th>\n",
       "      <th>apr_drg</th>\n",
       "    </tr>\n",
       "  </thead>\n",
       "  <tbody>\n",
       "    <tr>\n",
       "      <th>2892</th>\n",
       "      <td>Buckeye Community Health Plan Medicaid</td>\n",
       "      <td>ALLOGENEIC BONE MARROW TRANSPLANT</td>\n",
       "      <td>71</td>\n",
       "      <td>131899.3500</td>\n",
       "      <td>inpatient</td>\n",
       "      <td>payer</td>\n",
       "      <td>NaN</td>\n",
       "      <td>NaN</td>\n",
       "      <td>NaN</td>\n",
       "      <td>363302</td>\n",
       "      <td>000-71</td>\n",
       "    </tr>\n",
       "    <tr>\n",
       "      <th>2893</th>\n",
       "      <td>Buckeye Community Health Plan Medicaid</td>\n",
       "      <td>ALLOGENEIC BONE MARROW TRANSPLANT</td>\n",
       "      <td>72</td>\n",
       "      <td>131899.3500</td>\n",
       "      <td>inpatient</td>\n",
       "      <td>payer</td>\n",
       "      <td>NaN</td>\n",
       "      <td>NaN</td>\n",
       "      <td>NaN</td>\n",
       "      <td>363302</td>\n",
       "      <td>000-72</td>\n",
       "    </tr>\n",
       "    <tr>\n",
       "      <th>2894</th>\n",
       "      <td>Buckeye Community Health Plan Medicaid</td>\n",
       "      <td>ALLOGENEIC BONE MARROW TRANSPLANT</td>\n",
       "      <td>73</td>\n",
       "      <td>131899.3500</td>\n",
       "      <td>inpatient</td>\n",
       "      <td>payer</td>\n",
       "      <td>NaN</td>\n",
       "      <td>NaN</td>\n",
       "      <td>NaN</td>\n",
       "      <td>363302</td>\n",
       "      <td>000-73</td>\n",
       "    </tr>\n",
       "    <tr>\n",
       "      <th>2895</th>\n",
       "      <td>Buckeye Community Health Plan Medicaid</td>\n",
       "      <td>ALLOGENEIC BONE MARROW TRANSPLANT</td>\n",
       "      <td>74</td>\n",
       "      <td>131899.3500</td>\n",
       "      <td>inpatient</td>\n",
       "      <td>payer</td>\n",
       "      <td>NaN</td>\n",
       "      <td>NaN</td>\n",
       "      <td>NaN</td>\n",
       "      <td>363302</td>\n",
       "      <td>000-74</td>\n",
       "    </tr>\n",
       "    <tr>\n",
       "      <th>2965</th>\n",
       "      <td>Buckeye Community Health Plan Medicaid</td>\n",
       "      <td>AUTOLOGOUS BONE MARROW TRANSPLANT OR T-CELL IM...</td>\n",
       "      <td>81</td>\n",
       "      <td>70372.7200</td>\n",
       "      <td>inpatient</td>\n",
       "      <td>payer</td>\n",
       "      <td>NaN</td>\n",
       "      <td>NaN</td>\n",
       "      <td>NaN</td>\n",
       "      <td>363302</td>\n",
       "      <td>000-81</td>\n",
       "    </tr>\n",
       "    <tr>\n",
       "      <th>...</th>\n",
       "      <td>...</td>\n",
       "      <td>...</td>\n",
       "      <td>...</td>\n",
       "      <td>...</td>\n",
       "      <td>...</td>\n",
       "      <td>...</td>\n",
       "      <td>...</td>\n",
       "      <td>...</td>\n",
       "      <td>...</td>\n",
       "      <td>...</td>\n",
       "      <td>...</td>\n",
       "    </tr>\n",
       "    <tr>\n",
       "      <th>98373</th>\n",
       "      <td>DeIdentified_Max_Allowed</td>\n",
       "      <td>AUTOLOGOUS BONE MARROW TRANSPLANT OR T-CELL IM...</td>\n",
       "      <td>84</td>\n",
       "      <td>70372.7200</td>\n",
       "      <td>inpatient</td>\n",
       "      <td>max</td>\n",
       "      <td>NaN</td>\n",
       "      <td>NaN</td>\n",
       "      <td>NaN</td>\n",
       "      <td>363302</td>\n",
       "      <td>000-84</td>\n",
       "    </tr>\n",
       "    <tr>\n",
       "      <th>98784</th>\n",
       "      <td>DeIdentified_Max_Allowed</td>\n",
       "      <td>EXTRACORPOREAL MEMBRANE OXYGENATION (ECMO)</td>\n",
       "      <td>91</td>\n",
       "      <td>99220.6700</td>\n",
       "      <td>inpatient</td>\n",
       "      <td>max</td>\n",
       "      <td>NaN</td>\n",
       "      <td>NaN</td>\n",
       "      <td>NaN</td>\n",
       "      <td>363302</td>\n",
       "      <td>000-91</td>\n",
       "    </tr>\n",
       "    <tr>\n",
       "      <th>98785</th>\n",
       "      <td>DeIdentified_Max_Allowed</td>\n",
       "      <td>EXTRACORPOREAL MEMBRANE OXYGENATION (ECMO)</td>\n",
       "      <td>92</td>\n",
       "      <td>99220.6700</td>\n",
       "      <td>inpatient</td>\n",
       "      <td>max</td>\n",
       "      <td>NaN</td>\n",
       "      <td>NaN</td>\n",
       "      <td>NaN</td>\n",
       "      <td>363302</td>\n",
       "      <td>000-92</td>\n",
       "    </tr>\n",
       "    <tr>\n",
       "      <th>98786</th>\n",
       "      <td>DeIdentified_Max_Allowed</td>\n",
       "      <td>EXTRACORPOREAL MEMBRANE OXYGENATION (ECMO)</td>\n",
       "      <td>93</td>\n",
       "      <td>99220.6700</td>\n",
       "      <td>inpatient</td>\n",
       "      <td>max</td>\n",
       "      <td>NaN</td>\n",
       "      <td>NaN</td>\n",
       "      <td>NaN</td>\n",
       "      <td>363302</td>\n",
       "      <td>000-93</td>\n",
       "    </tr>\n",
       "    <tr>\n",
       "      <th>98787</th>\n",
       "      <td>DeIdentified_Max_Allowed</td>\n",
       "      <td>EXTRACORPOREAL MEMBRANE OXYGENATION (ECMO)</td>\n",
       "      <td>94</td>\n",
       "      <td>99220.6700</td>\n",
       "      <td>inpatient</td>\n",
       "      <td>max</td>\n",
       "      <td>NaN</td>\n",
       "      <td>NaN</td>\n",
       "      <td>NaN</td>\n",
       "      <td>363302</td>\n",
       "      <td>000-94</td>\n",
       "    </tr>\n",
       "  </tbody>\n",
       "</table>\n",
       "<p>300 rows × 11 columns</p>\n",
       "</div>"
      ],
      "text/plain": [
       "                                   payer_name   \n",
       "2892   Buckeye Community Health Plan Medicaid  \\\n",
       "2893   Buckeye Community Health Plan Medicaid   \n",
       "2894   Buckeye Community Health Plan Medicaid   \n",
       "2895   Buckeye Community Health Plan Medicaid   \n",
       "2965   Buckeye Community Health Plan Medicaid   \n",
       "...                                       ...   \n",
       "98373                DeIdentified_Max_Allowed   \n",
       "98784                DeIdentified_Max_Allowed   \n",
       "98785                DeIdentified_Max_Allowed   \n",
       "98786                DeIdentified_Max_Allowed   \n",
       "98787                DeIdentified_Max_Allowed   \n",
       "\n",
       "                                             description code standard_charge   \n",
       "2892                   ALLOGENEIC BONE MARROW TRANSPLANT   71     131899.3500  \\\n",
       "2893                   ALLOGENEIC BONE MARROW TRANSPLANT   72     131899.3500   \n",
       "2894                   ALLOGENEIC BONE MARROW TRANSPLANT   73     131899.3500   \n",
       "2895                   ALLOGENEIC BONE MARROW TRANSPLANT   74     131899.3500   \n",
       "2965   AUTOLOGOUS BONE MARROW TRANSPLANT OR T-CELL IM...   81      70372.7200   \n",
       "...                                                  ...  ...             ...   \n",
       "98373  AUTOLOGOUS BONE MARROW TRANSPLANT OR T-CELL IM...   84      70372.7200   \n",
       "98784         EXTRACORPOREAL MEMBRANE OXYGENATION (ECMO)   91      99220.6700   \n",
       "98785         EXTRACORPOREAL MEMBRANE OXYGENATION (ECMO)   92      99220.6700   \n",
       "98786         EXTRACORPOREAL MEMBRANE OXYGENATION (ECMO)   93      99220.6700   \n",
       "98787         EXTRACORPOREAL MEMBRANE OXYGENATION (ECMO)   94      99220.6700   \n",
       "\n",
       "         setting payer_category hcpcs_cpt ms_drg rev_code hospital_id apr_drg  \n",
       "2892   inpatient          payer       NaN    NaN      NaN      363302  000-71  \n",
       "2893   inpatient          payer       NaN    NaN      NaN      363302  000-72  \n",
       "2894   inpatient          payer       NaN    NaN      NaN      363302  000-73  \n",
       "2895   inpatient          payer       NaN    NaN      NaN      363302  000-74  \n",
       "2965   inpatient          payer       NaN    NaN      NaN      363302  000-81  \n",
       "...          ...            ...       ...    ...      ...         ...     ...  \n",
       "98373  inpatient            max       NaN    NaN      NaN      363302  000-84  \n",
       "98784  inpatient            max       NaN    NaN      NaN      363302  000-91  \n",
       "98785  inpatient            max       NaN    NaN      NaN      363302  000-92  \n",
       "98786  inpatient            max       NaN    NaN      NaN      363302  000-93  \n",
       "98787  inpatient            max       NaN    NaN      NaN      363302  000-94  \n",
       "\n",
       "[300 rows x 11 columns]"
      ]
     },
     "execution_count": 21,
     "metadata": {},
     "output_type": "execute_result"
    }
   ],
   "source": [
    "df.loc[df['code'].str.len() == 2]"
   ]
  },
  {
   "cell_type": "code",
   "execution_count": 20,
   "metadata": {},
   "outputs": [],
   "source": [
    "df.loc[df['code'].str.len() == 2, 'apr_drg'] = '000-' + df['code'] "
   ]
  },
  {
   "cell_type": "code",
   "execution_count": 16,
   "metadata": {},
   "outputs": [],
   "source": [
    "# df.to_csv('.\\\\output_files\\\\' + ein + '_' id + '.csv', index=False)"
   ]
  }
 ],
 "metadata": {
  "kernelspec": {
   "display_name": "scraper",
   "language": "python",
   "name": "python3"
  },
  "language_info": {
   "codemirror_mode": {
    "name": "ipython",
    "version": 3
   },
   "file_extension": ".py",
   "mimetype": "text/x-python",
   "name": "python",
   "nbconvert_exporter": "python",
   "pygments_lexer": "ipython3",
   "version": "3.9.15"
  },
  "orig_nbformat": 4
 },
 "nbformat": 4,
 "nbformat_minor": 2
}
