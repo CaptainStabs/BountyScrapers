{
 "cells": [
  {
   "cell_type": "code",
   "execution_count": 4,
   "metadata": {},
   "outputs": [],
   "source": [
    "import pandas as pd"
   ]
  },
  {
   "cell_type": "code",
   "execution_count": 5,
   "metadata": {},
   "outputs": [],
   "source": [
    "df = pd.read_csv('hospital.csv', dtype=str)"
   ]
  },
  {
   "cell_type": "code",
   "execution_count": 6,
   "metadata": {},
   "outputs": [],
   "source": [
    "df['ein'] = df['file_name'].str.split('_').str[0]"
   ]
  },
  {
   "cell_type": "code",
   "execution_count": 7,
   "metadata": {},
   "outputs": [],
   "source": [
    "df['ein'] = df['ein'].str[:2] + '-' + df['ein'].str[2:]"
   ]
  },
  {
   "cell_type": "code",
   "execution_count": 10,
   "metadata": {},
   "outputs": [
    {
     "data": {
      "text/plain": [
       "{'460388596_sanford-sheldon-medical-center_standardcharges.json': '46-0388596',\n",
       " '460388596_sanford-worthington-medical-center_standardcharges.json': '46-0388596',\n",
       " '460388596_sanford-tracy-hospital_standardcharges.json': '46-0388596',\n",
       " '460388596_sanford-canby-medical-center_standardcharges.json': '46-0388596',\n",
       " '450409348_sanford-thief-river-falls-medical-center_standardcharges.json': '45-0409348',\n",
       " '450409348_sanford-medical-center-mayville_standardcharges.json': '45-0409348',\n",
       " '460388596_sanford-aberdeen-medical-center_standardcharges.json': '46-0388596',\n",
       " '460388596_sanford-canton-inwood-medical-center_standardcharges.json': '46-0388596',\n",
       " '460388596_sanford-vermillion-hospital_standardcharges.json': '46-0388596',\n",
       " '460388596_sanford-luverne-medical-center_standardcharges.json': '46-0388596',\n",
       " '460388596_sanford-westbrook-hospital_standardcharges.json': '46-0388596',\n",
       " '450409348_sanford-wheaton_standardcharges.json': '45-0409348',\n",
       " '460388596_sanford-jackson-hospital_standardcharges.json': '46-0388596',\n",
       " '411266009_sanford-bagley-medical-center_standardcharges.json': '41-1266009',\n",
       " '450409348_sanford-medical-center-hillsboro_standardcharges.json': '45-0409348',\n",
       " '460388596_sanford-clear-lake-medical-center_standardcharges.json': '46-0388596',\n",
       " '460388596_sanford-hospital-webster_standardcharges.json': '46-0388596',\n",
       " '460388596_sanford-chamberlain-medical-center_standardcharges.json': '46-0388596'}"
      ]
     },
     "execution_count": 10,
     "metadata": {},
     "output_type": "execute_result"
    }
   ],
   "source": [
    "filename_id_dict = dict(zip(df['file_name'], df['id']))\n",
    "ein_filename_dict"
   ]
  },
  {
   "cell_type": "code",
   "execution_count": 9,
   "metadata": {},
   "outputs": [],
   "source": [
    "# df.to_csv('hospital.csv', index=False)"
   ]
  },
  {
   "cell_type": "code",
   "execution_count": null,
   "metadata": {},
   "outputs": [],
   "source": []
  }
 ],
 "metadata": {
  "kernelspec": {
   "display_name": "scraper",
   "language": "python",
   "name": "python3"
  },
  "language_info": {
   "codemirror_mode": {
    "name": "ipython",
    "version": 3
   },
   "file_extension": ".py",
   "mimetype": "text/x-python",
   "name": "python",
   "nbconvert_exporter": "python",
   "pygments_lexer": "ipython3",
   "version": "3.9.7"
  },
  "orig_nbformat": 4
 },
 "nbformat": 4,
 "nbformat_minor": 2
}
