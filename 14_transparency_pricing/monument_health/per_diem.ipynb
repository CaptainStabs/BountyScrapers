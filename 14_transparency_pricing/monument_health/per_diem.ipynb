{
 "cells": [
  {
   "cell_type": "code",
   "execution_count": 32,
   "metadata": {},
   "outputs": [],
   "source": [
    "import pandas as pd"
   ]
  },
  {
   "cell_type": "code",
   "execution_count": 33,
   "metadata": {},
   "outputs": [],
   "source": [
    "folder = './input_files/'\n",
    "\n",
    "# file = '46-0360899_CusterHospital_StandardCharges.xlsx'\n",
    "# file = '46-0360899_LeadDeadwoodHospital_StandardCharges.xlsx'\n",
    "file = '46-0360899_SturgisHospital_StandardCharges.xlsx'"
   ]
  },
  {
   "cell_type": "code",
   "execution_count": 34,
   "metadata": {},
   "outputs": [],
   "source": [
    "df = pd.read_excel(folder + file, dtype=str, skiprows=1)"
   ]
  },
  {
   "cell_type": "code",
   "execution_count": 35,
   "metadata": {},
   "outputs": [],
   "source": [
    "df.drop(columns=['Location', 'Charge'], inplace=True)"
   ]
  },
  {
   "cell_type": "code",
   "execution_count": 36,
   "metadata": {},
   "outputs": [],
   "source": [
    "df.rename(columns={\n",
    "    'Code Type': 'line_type',\n",
    "    'Code': 'code',\n",
    "    'Description': 'description',\n",
    "    'Patient Type': 'setting'\n",
    "}, inplace=True)"
   ]
  },
  {
   "cell_type": "code",
   "execution_count": 37,
   "metadata": {},
   "outputs": [],
   "source": [
    "df['setting'] = df['setting'].str.lower()"
   ]
  },
  {
   "cell_type": "code",
   "execution_count": 38,
   "metadata": {},
   "outputs": [],
   "source": [
    "cols = df.columns.tolist()\n",
    "id_vars = cols[:4]\n",
    "val_vars = cols[4:]\n",
    "\n",
    "df = pd.melt(df, id_vars=id_vars, value_vars=val_vars, var_name='payer_name', value_name='standard_charge')"
   ]
  },
  {
   "cell_type": "code",
   "execution_count": 39,
   "metadata": {},
   "outputs": [
    {
     "data": {
      "text/html": [
       "<div>\n",
       "<style scoped>\n",
       "    .dataframe tbody tr th:only-of-type {\n",
       "        vertical-align: middle;\n",
       "    }\n",
       "\n",
       "    .dataframe tbody tr th {\n",
       "        vertical-align: top;\n",
       "    }\n",
       "\n",
       "    .dataframe thead th {\n",
       "        text-align: right;\n",
       "    }\n",
       "</style>\n",
       "<table border=\"1\" class=\"dataframe\">\n",
       "  <thead>\n",
       "    <tr style=\"text-align: right;\">\n",
       "      <th></th>\n",
       "      <th>line_type</th>\n",
       "      <th>code</th>\n",
       "      <th>description</th>\n",
       "      <th>setting</th>\n",
       "      <th>payer_name</th>\n",
       "      <th>standard_charge</th>\n",
       "    </tr>\n",
       "  </thead>\n",
       "  <tbody>\n",
       "    <tr>\n",
       "      <th>0</th>\n",
       "      <td>Per Diem(per day)</td>\n",
       "      <td>ALL</td>\n",
       "      <td>All services included in a stay</td>\n",
       "      <td>inpatient</td>\n",
       "      <td>Blue Cross Medicare Blue\\nInpatient</td>\n",
       "      <td>1924.95</td>\n",
       "    </tr>\n",
       "    <tr>\n",
       "      <th>1</th>\n",
       "      <td>Per Diem(per day)</td>\n",
       "      <td>ALL</td>\n",
       "      <td>All services included in a stay</td>\n",
       "      <td>inpatient</td>\n",
       "      <td>Blue Cross Medicare Blue\\nInpatient Swingbed</td>\n",
       "      <td>1753.78</td>\n",
       "    </tr>\n",
       "    <tr>\n",
       "      <th>2</th>\n",
       "      <td>Per Diem(per day)</td>\n",
       "      <td>ALL</td>\n",
       "      <td>All services included in a stay</td>\n",
       "      <td>inpatient</td>\n",
       "      <td>United Heatlhcare (UHC) Medicare\\nInpatient</td>\n",
       "      <td>2120</td>\n",
       "    </tr>\n",
       "    <tr>\n",
       "      <th>3</th>\n",
       "      <td>Per Diem(per day)</td>\n",
       "      <td>ALL</td>\n",
       "      <td>All services included in a stay</td>\n",
       "      <td>inpatient</td>\n",
       "      <td>United Heatlhcare (UHC) Medicare\\nInpatient Sw...</td>\n",
       "      <td>1850</td>\n",
       "    </tr>\n",
       "    <tr>\n",
       "      <th>4</th>\n",
       "      <td>Per Diem(per day)</td>\n",
       "      <td>ALL</td>\n",
       "      <td>All services included in a stay</td>\n",
       "      <td>inpatient</td>\n",
       "      <td>United Heatlhcare (UHC) Medicare\\nInpatient Sw...</td>\n",
       "      <td>400</td>\n",
       "    </tr>\n",
       "  </tbody>\n",
       "</table>\n",
       "</div>"
      ],
      "text/plain": [
       "           line_type code                      description    setting  \\\n",
       "0  Per Diem(per day)  ALL  All services included in a stay  inpatient   \n",
       "1  Per Diem(per day)  ALL  All services included in a stay  inpatient   \n",
       "2  Per Diem(per day)  ALL  All services included in a stay  inpatient   \n",
       "3  Per Diem(per day)  ALL  All services included in a stay  inpatient   \n",
       "4  Per Diem(per day)  ALL  All services included in a stay  inpatient   \n",
       "\n",
       "                                          payer_name standard_charge  \n",
       "0                Blue Cross Medicare Blue\\nInpatient         1924.95  \n",
       "1       Blue Cross Medicare Blue\\nInpatient Swingbed         1753.78  \n",
       "2       United Heatlhcare (UHC) Medicare\\nInpatient             2120  \n",
       "3  United Heatlhcare (UHC) Medicare\\nInpatient Sw...            1850  \n",
       "4  United Heatlhcare (UHC) Medicare\\nInpatient Sw...             400  "
      ]
     },
     "execution_count": 39,
     "metadata": {},
     "output_type": "execute_result"
    }
   ],
   "source": [
    "df"
   ]
  }
 ],
 "metadata": {
  "kernelspec": {
   "display_name": "scraper",
   "language": "python",
   "name": "python3"
  },
  "language_info": {
   "codemirror_mode": {
    "name": "ipython",
    "version": 3
   },
   "file_extension": ".py",
   "mimetype": "text/x-python",
   "name": "python",
   "nbconvert_exporter": "python",
   "pygments_lexer": "ipython3",
   "version": "3.8.8"
  },
  "orig_nbformat": 4
 },
 "nbformat": 4,
 "nbformat_minor": 2
}
