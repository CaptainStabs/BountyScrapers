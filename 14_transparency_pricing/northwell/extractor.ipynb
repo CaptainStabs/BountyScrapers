{
 "cells": [
  {
   "cell_type": "code",
   "execution_count": 32,
   "metadata": {},
   "outputs": [],
   "source": [
    "import json\n",
    "import pandas as pd"
   ]
  },
  {
   "cell_type": "code",
   "execution_count": 33,
   "metadata": {},
   "outputs": [],
   "source": [
    "folder = '.\\\\input_files\\\\'\n",
    "file = \"11-2241326_Cohen Children's Medical Center_StandardCharges.json\""
   ]
  },
  {
   "cell_type": "code",
   "execution_count": 34,
   "metadata": {},
   "outputs": [],
   "source": [
    "with open(folder + file, 'r') as f:\n",
    "    jf = json.load(f)"
   ]
  },
  {
   "cell_type": "code",
   "execution_count": 35,
   "metadata": {},
   "outputs": [],
   "source": [
    "cols = jf['Headers']\n",
    "data = jf['Data']\n",
    "del jf"
   ]
  },
  {
   "cell_type": "code",
   "execution_count": 36,
   "metadata": {},
   "outputs": [],
   "source": [
    "df = pd.DataFrame(columns=cols, data=data)"
   ]
  },
  {
   "cell_type": "code",
   "execution_count": 37,
   "metadata": {},
   "outputs": [],
   "source": [
    "df.rename(columns={\n",
    "    'Identifier_Description': 'description',\n",
    "    'Identifier_Code': 'local_code',\n",
    "    'Billing_Code': 'code'\n",
    "}, inplace=True)"
   ]
  },
  {
   "cell_type": "code",
   "execution_count": 38,
   "metadata": {},
   "outputs": [],
   "source": [
    "df.drop('Site', axis=1, inplace=True)"
   ]
  },
  {
   "cell_type": "code",
   "execution_count": 39,
   "metadata": {},
   "outputs": [],
   "source": [
    "df['local_code'] = df['local_code'].replace(\"\", pd.NA)\n",
    "df['code'] = df['code'].replace(\"\", pd.NA)"
   ]
  },
  {
   "cell_type": "code",
   "execution_count": 40,
   "metadata": {},
   "outputs": [],
   "source": [
    "cols = df.columns.tolist()\n",
    "id_vars = cols[:3]\n",
    "value_vars = cols[3:]\n",
    "\n",
    "df = pd.melt(df, id_vars=id_vars, value_vars=value_vars, var_name='payer_name', value_name='standard_charge')"
   ]
  },
  {
   "cell_type": "code",
   "execution_count": 54,
   "metadata": {},
   "outputs": [],
   "source": [
    "df['standard_charge'] = df['standard_charge'].replace('', pd.NA)\n",
    "df['standard_charge'] = df['standard_charge'].str.replace(',', '')"
   ]
  },
  {
   "cell_type": "code",
   "execution_count": 46,
   "metadata": {},
   "outputs": [],
   "source": [
    "df.dropna(subset='standard_charge', inplace=True)"
   ]
  },
  {
   "cell_type": "code",
   "execution_count": 57,
   "metadata": {},
   "outputs": [],
   "source": [
    "mapping = {\n",
    "    'Charge': 'gross',\n",
    "    'De-identified Maximum': 'max',\n",
    "    'De-identified Minimum': 'min',\n",
    "    'Discounted Cash Price': 'cash',   \n",
    "}\n",
    "\n",
    "df['payer_category'] = df['payer_name'].map(mapping).fillna('payer')"
   ]
  },
  {
   "cell_type": "code",
   "execution_count": 60,
   "metadata": {},
   "outputs": [
    {
     "data": {
      "text/html": [
       "<div>\n",
       "<style scoped>\n",
       "    .dataframe tbody tr th:only-of-type {\n",
       "        vertical-align: middle;\n",
       "    }\n",
       "\n",
       "    .dataframe tbody tr th {\n",
       "        vertical-align: top;\n",
       "    }\n",
       "\n",
       "    .dataframe thead th {\n",
       "        text-align: right;\n",
       "    }\n",
       "</style>\n",
       "<table border=\"1\" class=\"dataframe\">\n",
       "  <thead>\n",
       "    <tr style=\"text-align: right;\">\n",
       "      <th></th>\n",
       "      <th>local_code</th>\n",
       "      <th>code</th>\n",
       "      <th>description</th>\n",
       "      <th>payer_name</th>\n",
       "      <th>standard_charge</th>\n",
       "      <th>payer_category</th>\n",
       "    </tr>\n",
       "  </thead>\n",
       "  <tbody>\n",
       "    <tr>\n",
       "      <th>87</th>\n",
       "      <td>&lt;NA&gt;</td>\n",
       "      <td>APR DRG 1983</td>\n",
       "      <td>Angina pectoris &amp; coronary atherosclerosis</td>\n",
       "      <td>Charge</td>\n",
       "      <td>N/A</td>\n",
       "      <td>gross</td>\n",
       "    </tr>\n",
       "    <tr>\n",
       "      <th>88</th>\n",
       "      <td>&lt;NA&gt;</td>\n",
       "      <td>APR DRG 1991</td>\n",
       "      <td>Hypertension</td>\n",
       "      <td>Charge</td>\n",
       "      <td>N/A</td>\n",
       "      <td>gross</td>\n",
       "    </tr>\n",
       "    <tr>\n",
       "      <th>89</th>\n",
       "      <td>&lt;NA&gt;</td>\n",
       "      <td>APR DRG 1993</td>\n",
       "      <td>Hypertension</td>\n",
       "      <td>Charge</td>\n",
       "      <td>N/A</td>\n",
       "      <td>gross</td>\n",
       "    </tr>\n",
       "    <tr>\n",
       "      <th>90</th>\n",
       "      <td>&lt;NA&gt;</td>\n",
       "      <td>APR DRG 2031</td>\n",
       "      <td>Chest pain</td>\n",
       "      <td>Charge</td>\n",
       "      <td>N/A</td>\n",
       "      <td>gross</td>\n",
       "    </tr>\n",
       "    <tr>\n",
       "      <th>91</th>\n",
       "      <td>&lt;NA&gt;</td>\n",
       "      <td>APR DRG 2032</td>\n",
       "      <td>Chest pain</td>\n",
       "      <td>Charge</td>\n",
       "      <td>N/A</td>\n",
       "      <td>gross</td>\n",
       "    </tr>\n",
       "    <tr>\n",
       "      <th>...</th>\n",
       "      <td>...</td>\n",
       "      <td>...</td>\n",
       "      <td>...</td>\n",
       "      <td>...</td>\n",
       "      <td>...</td>\n",
       "      <td>...</td>\n",
       "    </tr>\n",
       "    <tr>\n",
       "      <th>14482849</th>\n",
       "      <td>1120055</td>\n",
       "      <td>84255</td>\n",
       "      <td>Assay of selenium</td>\n",
       "      <td>Discounted Cash Price</td>\n",
       "      <td>96.71</td>\n",
       "      <td>cash</td>\n",
       "    </tr>\n",
       "    <tr>\n",
       "      <th>14482850</th>\n",
       "      <td>1120120</td>\n",
       "      <td>81219</td>\n",
       "      <td>Calr gene com variants</td>\n",
       "      <td>Discounted Cash Price</td>\n",
       "      <td>182.59</td>\n",
       "      <td>cash</td>\n",
       "    </tr>\n",
       "    <tr>\n",
       "      <th>14482851</th>\n",
       "      <td>1120174</td>\n",
       "      <td>81210</td>\n",
       "      <td>Braf gene</td>\n",
       "      <td>Discounted Cash Price</td>\n",
       "      <td>99.02</td>\n",
       "      <td>cash</td>\n",
       "    </tr>\n",
       "    <tr>\n",
       "      <th>14482852</th>\n",
       "      <td>1120175</td>\n",
       "      <td>81275</td>\n",
       "      <td>Kras gene variants exon 2</td>\n",
       "      <td>Discounted Cash Price</td>\n",
       "      <td>119.36</td>\n",
       "      <td>cash</td>\n",
       "    </tr>\n",
       "    <tr>\n",
       "      <th>14482853</th>\n",
       "      <td>1120176</td>\n",
       "      <td>81276</td>\n",
       "      <td>Kras gene addl variants</td>\n",
       "      <td>Discounted Cash Price</td>\n",
       "      <td>217.33</td>\n",
       "      <td>cash</td>\n",
       "    </tr>\n",
       "  </tbody>\n",
       "</table>\n",
       "<p>1890364 rows × 6 columns</p>\n",
       "</div>"
      ],
      "text/plain": [
       "         local_code          code                                 description   \n",
       "87             <NA>  APR DRG 1983  Angina pectoris & coronary atherosclerosis  \\\n",
       "88             <NA>  APR DRG 1991                                Hypertension   \n",
       "89             <NA>  APR DRG 1993                                Hypertension   \n",
       "90             <NA>  APR DRG 2031                                  Chest pain   \n",
       "91             <NA>  APR DRG 2032                                  Chest pain   \n",
       "...             ...           ...                                         ...   \n",
       "14482849    1120055         84255                           Assay of selenium   \n",
       "14482850    1120120         81219                      Calr gene com variants   \n",
       "14482851    1120174         81210                                   Braf gene   \n",
       "14482852    1120175         81275                   Kras gene variants exon 2   \n",
       "14482853    1120176         81276                     Kras gene addl variants   \n",
       "\n",
       "                     payer_name standard_charge payer_category  \n",
       "87                       Charge             N/A          gross  \n",
       "88                       Charge             N/A          gross  \n",
       "89                       Charge             N/A          gross  \n",
       "90                       Charge             N/A          gross  \n",
       "91                       Charge             N/A          gross  \n",
       "...                         ...             ...            ...  \n",
       "14482849  Discounted Cash Price           96.71           cash  \n",
       "14482850  Discounted Cash Price          182.59           cash  \n",
       "14482851  Discounted Cash Price           99.02           cash  \n",
       "14482852  Discounted Cash Price          119.36           cash  \n",
       "14482853  Discounted Cash Price          217.33           cash  \n",
       "\n",
       "[1890364 rows x 6 columns]"
      ]
     },
     "execution_count": 60,
     "metadata": {},
     "output_type": "execute_result"
    }
   ],
   "source": [
    "df.loc[~df['code'].isna()]"
   ]
  },
  {
   "cell_type": "code",
   "execution_count": 76,
   "metadata": {},
   "outputs": [],
   "source": [
    "df.loc[(~df['code'].isna()) & (df['code'].str.contains('APR DRG')), 'apr_drg_temp'] = df['code']\n",
    "df.loc[~df['apr_drg_temp'].isna(), 'apr_drg_temp'] = df['apr_drg_temp'].str.replace('APR DRG ', '')\n",
    "df.loc[~df['apr_drg_temp'].isna(), 'apr_drg'] = df['apr_drg_temp'].str[:3] + '-' + df['apr_drg_temp'].str[-1]\n",
    "df.drop('apr_drg_temp', axis=1, inplace=True)\n"
   ]
  },
  {
   "cell_type": "code",
   "execution_count": 81,
   "metadata": {},
   "outputs": [],
   "source": [
    "df.loc[(~df['code'].isna()) & (df['code'].str.match(r'^[A-Z][0-9]{4}|[0-9]{5}|[0-9]{4}[A-Z]$')), 'hcpcs_cpt'] = df['code']"
   ]
  },
  {
   "cell_type": "code",
   "execution_count": 87,
   "metadata": {},
   "outputs": [],
   "source": [
    "ccn = {'11-1667761_South Shore University Hospital_StandardCharges.json': '330043',\n",
    " '11-1630914_Huntington Hospital_StandardCharges.json': '330045',\n",
    " '11-1562701_North Shore University Hospital_StandardCharges.json': '330106',\n",
    " '11-1661359_Peconic Bay Medical Center_StandardCharges.json': '330107',\n",
    " '13-1624070_Lenox Hill Hospital_StandardCharges.json': '330119',\n",
    " '11-2868878_Staten Island University Hospital_StandardCharges.json': '330160',\n",
    " '13-1740118_Northern Westchester Hospital_StandardCharges.json': '330162',\n",
    " '11-1633487_Glen Cove Hospital_StandardCharges.json': '330181',\n",
    " '11-1639818_Mather Memorial Hospital_StandardCharges.json': '330185',\n",
    " '11-2241326_Long Island Jewish Hospital_StandardCharges.json': '330195',\n",
    " '13-1725076_Phelps Memorial Hospital Center_StandardCharges.json': '330261',\n",
    " '11-3241243_Plainview Hospital_StandardCharges.json': '330331',\n",
    " '11-2241326_Long Island Jewish Forest Hills_StandardCharges.json': '330353',\n",
    " '11-2241326_Long Island Jewish Valley Stream_StandardCharges.json': '330372',\n",
    " '11-1562701_Syosset Hospital_StandardCharges.json': '330398'}"
   ]
  },
  {
   "cell_type": "code",
   "execution_count": 88,
   "metadata": {},
   "outputs": [
    {
     "data": {
      "text/plain": [
       "{'11-1667761_South Shore University Hospital_StandardCharges.json': '330043',\n",
       " '11-1630914_Huntington Hospital_StandardCharges.json': '330045',\n",
       " '11-1562701_North Shore University Hospital_StandardCharges.json': '330106',\n",
       " '11-1661359_Peconic Bay Medical Center_StandardCharges.json': '330107',\n",
       " '13-1624070_Lenox Hill Hospital_StandardCharges.json': '330119',\n",
       " '11-2868878_Staten Island University Hospital_StandardCharges.json': '330160',\n",
       " '13-1740118_Northern Westchester Hospital_StandardCharges.json': '330162',\n",
       " '11-1633487_Glen Cove Hospital_StandardCharges.json': '330181',\n",
       " '11-1639818_Mather Memorial Hospital_StandardCharges.json': '330185',\n",
       " '11-2241326_Long Island Jewish Hospital_StandardCharges.json': '330195',\n",
       " '13-1725076_Phelps Memorial Hospital Center_StandardCharges.json': '330261',\n",
       " '11-3241243_Plainview Hospital_StandardCharges.json': '330331',\n",
       " '11-2241326_Long Island Jewish Forest Hills_StandardCharges.json': '330353',\n",
       " '11-2241326_Long Island Jewish Valley Stream_StandardCharges.json': '330372',\n",
       " '11-1562701_Syosset Hospital_StandardCharges.json': '330398'}"
      ]
     },
     "execution_count": 88,
     "metadata": {},
     "output_type": "execute_result"
    }
   ],
   "source": [
    "id = ccn[file]\n",
    "\n",
    "df['hospital_id'] = id\n",
    "\n",
    "df.to_csv(file.split('_')[0] + '_' + id + '.csv', index=False)"
   ]
  }
 ],
 "metadata": {
  "kernelspec": {
   "display_name": "scraper",
   "language": "python",
   "name": "python3"
  },
  "language_info": {
   "codemirror_mode": {
    "name": "ipython",
    "version": 3
   },
   "file_extension": ".py",
   "mimetype": "text/x-python",
   "name": "python",
   "nbconvert_exporter": "python",
   "pygments_lexer": "ipython3",
   "version": "3.9.7"
  },
  "orig_nbformat": 4
 },
 "nbformat": 4,
 "nbformat_minor": 2
}
