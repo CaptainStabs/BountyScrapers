{
 "cells": [
  {
   "cell_type": "code",
   "execution_count": 238,
   "metadata": {},
   "outputs": [],
   "source": [
    "import pandas as pd"
   ]
  },
  {
   "cell_type": "code",
   "execution_count": 239,
   "metadata": {},
   "outputs": [],
   "source": [
    "folder = '.\\\\input_files\\\\'\n",
    "file = '38-4105653_berger_standardcharges.xlsx'"
   ]
  },
  {
   "cell_type": "code",
   "execution_count": 240,
   "metadata": {},
   "outputs": [],
   "source": [
    "df = pd.read_excel(folder + file, dtype=str, skiprows=3)"
   ]
  },
  {
   "cell_type": "code",
   "execution_count": 241,
   "metadata": {},
   "outputs": [],
   "source": [
    "df.rename(columns={\n",
    "    'Procedure Description': 'description',\n",
    "    'Patient Class (Inpatient/Outpatient)': 'setting',\n",
    "    'Code': 'code',\n",
    "    'Quantity': 'drug_quantity',\n",
    "    'Rev Code': 'rev_code',\n",
    "    'Derived Negotiated Rate Estimate Min': 'Commercial - Derived Negotiated Rate Estimate Min',\n",
    "    'Derived Negotiated Rate Estimate Max': 'Commercial - Derived Negotiated Rate Estimate Max',\n",
    "    'Derived Negotiated Rate Estimate Min.1': 'Managed Medicaid - Derived Negotiated Rate Estimate Min',\n",
    "    'Derived Negotiated Rate Estimate Max.1': 'Managed Medicaid - Derived Negotiated Rate Estimate Max',\n",
    "    'Derived Negotiated Rate Estimate Min.2': 'Managed Medicare - Derived Negotiated Rate Estimate Min',\n",
    "    'Derived Negotiated Rate Estimate Max.2': 'Managed Medicare - Derived Negotiated Rate Estimate Max'\n",
    "}, inplace=True)"
   ]
  },
  {
   "cell_type": "code",
   "execution_count": 242,
   "metadata": {},
   "outputs": [],
   "source": [
    "cols = df.columns.tolist()\n",
    "\n",
    "id_vars = cols[:5]\n",
    "val_vars = cols[5:]\n",
    "\n",
    "df = pd.melt(df, id_vars=id_vars, value_vars=val_vars, var_name='payer_name', value_name='standard_charge')"
   ]
  },
  {
   "cell_type": "code",
   "execution_count": 243,
   "metadata": {},
   "outputs": [
    {
     "data": {
      "text/plain": [
       "['Gross Charge',\n",
       " 'Discounted Cash Price (Uninsured Discount 35%)',\n",
       " 'Commercial - Derived Negotiated Rate Estimate Min',\n",
       " 'Commercial - Derived Negotiated Rate Estimate Max',\n",
       " 'Managed Medicaid - Derived Negotiated Rate Estimate Min',\n",
       " 'Managed Medicaid - Derived Negotiated Rate Estimate Max',\n",
       " 'Managed Medicare - Derived Negotiated Rate Estimate Min',\n",
       " 'Managed Medicare - Derived Negotiated Rate Estimate Max']"
      ]
     },
     "execution_count": 243,
     "metadata": {},
     "output_type": "execute_result"
    }
   ],
   "source": [
    "val_vars"
   ]
  },
  {
   "cell_type": "code",
   "execution_count": 244,
   "metadata": {},
   "outputs": [],
   "source": [
    "df.dropna(subset=['standard_charge'], inplace=True)"
   ]
  },
  {
   "cell_type": "code",
   "execution_count": 245,
   "metadata": {},
   "outputs": [],
   "source": [
    "df['setting'] = df['setting'].str.lower()\n",
    "df['code'] = df['code'].str.strip()"
   ]
  },
  {
   "cell_type": "code",
   "execution_count": 246,
   "metadata": {},
   "outputs": [],
   "source": [
    "df.loc[(~df['code'].isna()) & (df['code'].str.contains('MS-DRG')), 'ms_drg'] = df['code'].str.extract(r'MS-DRG V39 \\(FY2022\\) (\\d+)', expand=False)\n",
    "df.loc[(~df['code'].isna()) & (df['code'].str.match('HCPCS|CPT®')), 'hcpcs_cpt'] = df['code'].str.replace('HCPCS |CPT® ', '', regex=True)\n",
    "df.loc[(~df['code'].isna()) & (df['code'].str.contains('Custom')), 'local_code'] = df['code'].str.replace('Custom ', '')"
   ]
  },
  {
   "cell_type": "code",
   "execution_count": 247,
   "metadata": {},
   "outputs": [],
   "source": [
    "df['hcpcs_cpt'] = df['hcpcs_cpt'].str.strip()\n",
    "df.loc[(df['hcpcs_cpt'].str.len() == 8) | (df['hcpcs_cpt'] == 'CUSTOM') | (df['hcpcs_cpt'].str.len() != 5), 'hcpcs_cpt'] = pd.NA"
   ]
  },
  {
   "cell_type": "code",
   "execution_count": 248,
   "metadata": {},
   "outputs": [],
   "source": [
    "df.loc[(~df['rev_code'].isna()), 'rev_code'] = df['rev_code'].str.extract(r'(\\d{4})', expand=False)"
   ]
  },
  {
   "cell_type": "code",
   "execution_count": 249,
   "metadata": {},
   "outputs": [],
   "source": [
    "df.loc[(df['drug_quantity'] == \"1\") | (df['drug_quantity'] == '(blank)'), 'drug_quantity'] = pd.NA"
   ]
  },
  {
   "cell_type": "code",
   "execution_count": 250,
   "metadata": {},
   "outputs": [
    {
     "data": {
      "text/html": [
       "<div>\n",
       "<style scoped>\n",
       "    .dataframe tbody tr th:only-of-type {\n",
       "        vertical-align: middle;\n",
       "    }\n",
       "\n",
       "    .dataframe tbody tr th {\n",
       "        vertical-align: top;\n",
       "    }\n",
       "\n",
       "    .dataframe thead th {\n",
       "        text-align: right;\n",
       "    }\n",
       "</style>\n",
       "<table border=\"1\" class=\"dataframe\">\n",
       "  <thead>\n",
       "    <tr style=\"text-align: right;\">\n",
       "      <th></th>\n",
       "      <th>description</th>\n",
       "      <th>setting</th>\n",
       "      <th>code</th>\n",
       "      <th>drug_quantity</th>\n",
       "      <th>rev_code</th>\n",
       "      <th>payer_name</th>\n",
       "      <th>standard_charge</th>\n",
       "      <th>ms_drg</th>\n",
       "      <th>hcpcs_cpt</th>\n",
       "      <th>local_code</th>\n",
       "    </tr>\n",
       "  </thead>\n",
       "  <tbody>\n",
       "    <tr>\n",
       "      <th>0</th>\n",
       "      <td>Heart Transplant Or Implant Of Heart Assist Sy...</td>\n",
       "      <td>inpatient</td>\n",
       "      <td>MS-DRG V39 (FY2022) 001</td>\n",
       "      <td>&lt;NA&gt;</td>\n",
       "      <td>NaN</td>\n",
       "      <td>Gross Charge</td>\n",
       "      <td>873485.45</td>\n",
       "      <td>001</td>\n",
       "      <td>&lt;NA&gt;</td>\n",
       "      <td>NaN</td>\n",
       "    </tr>\n",
       "    <tr>\n",
       "      <th>738</th>\n",
       "      <td>ETOPOSIDE 20 MG/ML INTRAVENOUS SOLUTION</td>\n",
       "      <td>pharmacy</td>\n",
       "      <td>HCPCS J9181</td>\n",
       "      <td>&lt;NA&gt;</td>\n",
       "      <td>0636</td>\n",
       "      <td>Gross Charge</td>\n",
       "      <td>234.8</td>\n",
       "      <td>NaN</td>\n",
       "      <td>J9181</td>\n",
       "      <td>NaN</td>\n",
       "    </tr>\n",
       "    <tr>\n",
       "      <th>1545</th>\n",
       "      <td>BIT 2.5MM DRILL 110MM GOLD QUICK COUPLING</td>\n",
       "      <td>supplies</td>\n",
       "      <td>Custom 27200232</td>\n",
       "      <td>&lt;NA&gt;</td>\n",
       "      <td>0272</td>\n",
       "      <td>Gross Charge</td>\n",
       "      <td>165</td>\n",
       "      <td>NaN</td>\n",
       "      <td>&lt;NA&gt;</td>\n",
       "      <td>27200232</td>\n",
       "    </tr>\n",
       "    <tr>\n",
       "      <th>4300</th>\n",
       "      <td>HC ROOM AND BED PRIVATE</td>\n",
       "      <td>outpatient</td>\n",
       "      <td>Custom 11100001</td>\n",
       "      <td>&lt;NA&gt;</td>\n",
       "      <td>0111</td>\n",
       "      <td>Gross Charge</td>\n",
       "      <td>1894</td>\n",
       "      <td>NaN</td>\n",
       "      <td>&lt;NA&gt;</td>\n",
       "      <td>11100001</td>\n",
       "    </tr>\n",
       "    <tr>\n",
       "      <th>4338</th>\n",
       "      <td>NaN</td>\n",
       "      <td>NaN</td>\n",
       "      <td>NaN</td>\n",
       "      <td>NaN</td>\n",
       "      <td>0771</td>\n",
       "      <td>Gross Charge</td>\n",
       "      <td>930</td>\n",
       "      <td>NaN</td>\n",
       "      <td>&lt;NA&gt;</td>\n",
       "      <td>NaN</td>\n",
       "    </tr>\n",
       "    <tr>\n",
       "      <th>11283</th>\n",
       "      <td>IMM ADMN SARSCOV2 30MCG/0.3ML DIL RECON 1ST DOSE</td>\n",
       "      <td>professional</td>\n",
       "      <td>CPT® 0001A</td>\n",
       "      <td>&lt;NA&gt;</td>\n",
       "      <td>NaN</td>\n",
       "      <td>Gross Charge</td>\n",
       "      <td>80</td>\n",
       "      <td>NaN</td>\n",
       "      <td>0001A</td>\n",
       "      <td>NaN</td>\n",
       "    </tr>\n",
       "  </tbody>\n",
       "</table>\n",
       "</div>"
      ],
      "text/plain": [
       "                                             description       setting   \n",
       "0      Heart Transplant Or Implant Of Heart Assist Sy...     inpatient  \\\n",
       "738              ETOPOSIDE 20 MG/ML INTRAVENOUS SOLUTION      pharmacy   \n",
       "1545           BIT 2.5MM DRILL 110MM GOLD QUICK COUPLING      supplies   \n",
       "4300                             HC ROOM AND BED PRIVATE    outpatient   \n",
       "4338                                                 NaN           NaN   \n",
       "11283   IMM ADMN SARSCOV2 30MCG/0.3ML DIL RECON 1ST DOSE  professional   \n",
       "\n",
       "                          code drug_quantity rev_code    payer_name   \n",
       "0      MS-DRG V39 (FY2022) 001          <NA>      NaN  Gross Charge  \\\n",
       "738                HCPCS J9181          <NA>     0636  Gross Charge   \n",
       "1545           Custom 27200232          <NA>     0272  Gross Charge   \n",
       "4300           Custom 11100001          <NA>     0111  Gross Charge   \n",
       "4338                       NaN           NaN     0771  Gross Charge   \n",
       "11283               CPT® 0001A          <NA>      NaN  Gross Charge   \n",
       "\n",
       "      standard_charge ms_drg hcpcs_cpt local_code  \n",
       "0           873485.45    001      <NA>        NaN  \n",
       "738             234.8    NaN     J9181        NaN  \n",
       "1545              165    NaN      <NA>   27200232  \n",
       "4300             1894    NaN      <NA>   11100001  \n",
       "4338              930    NaN      <NA>        NaN  \n",
       "11283              80    NaN     0001A        NaN  "
      ]
     },
     "execution_count": 250,
     "metadata": {},
     "output_type": "execute_result"
    }
   ],
   "source": [
    "df.drop_duplicates(subset='setting')"
   ]
  },
  {
   "cell_type": "code",
   "execution_count": 251,
   "metadata": {},
   "outputs": [],
   "source": [
    "df.loc[(~df['setting'].isna()) & (df['setting'].str.match(r'pharmacy|supplies')), 'setting'] = pd.NA"
   ]
  },
  {
   "cell_type": "code",
   "execution_count": 252,
   "metadata": {},
   "outputs": [],
   "source": [
    "df.loc[df['setting'] == 'professional', ['setting', 'billing_class']] = (pd.NA, 'professional')"
   ]
  },
  {
   "cell_type": "code",
   "execution_count": 253,
   "metadata": {},
   "outputs": [],
   "source": [
    "mapping = {\n",
    "    'Commercial - Derived Negotiated Rate Estimate Min': 'min',\n",
    "    'Commercial - Derived Negotiated Rate Estimate Max': 'max',\n",
    "    'Managed Medicaid - Derived Negotiated Rate Estimate Min': 'min',\n",
    "    'Managed Medicaid - Derived Negotiated Rate Estimate Max': 'max',\n",
    "    'Managed Medicare - Derived Negotiated Rate Estimate Min': 'min',\n",
    "    'Managed Medicare - Derived Negotiated Rate Estimate Max': 'max',\n",
    "    'Discounted Cash Price (Uninsured Discount 35%)': 'cash',\n",
    "    'Gross Charge': 'gross',\n",
    "}\n",
    "\n",
    "df['payer_category'] = df['payer_name'].map(mapping)"
   ]
  },
  {
   "cell_type": "code",
   "execution_count": 260,
   "metadata": {},
   "outputs": [],
   "source": [
    "id_mapping = {'38-4105653_berger_standardcharges.xlsx': '360170',\n",
    " '31-4394942_doctors_standardcharges.xlsx': '360152',\n",
    " '31-4394942_dublin_standardcharges.xlsx': '360348',\n",
    " '31-4379436_grady_standardcharges.xlsx': '360210',\n",
    " '31-4394942_grant_standardcharges.xlsx': '360017',\n",
    " '31-4440479_hardin_standardcharges.xlsx': '361315',\n",
    " '31-1070877_marion_standardcharges.xlsx': '360011',\n",
    " '31-4394942_grove-city_standardcharges.xlsx': '360372',\n",
    " '34-0714456_mansfield_standardcharges.xlsx': '360118',\n",
    " '31-4446959_obleness_standardcharges.xlsx': '360014',\n",
    " '34-0714456_shelby_standardcharges.xlsx': '361324',\n",
    " '31-4394942_riverside_standardcharges.xlsx': '360006'}\n",
    "\n",
    "hosp_id =  id_mapping[file]\n",
    "df['id'] = hosp_id"
   ]
  },
  {
   "cell_type": "code",
   "execution_count": 262,
   "metadata": {},
   "outputs": [
    {
     "data": {
      "text/plain": [
       "'360170_berger.csv'"
      ]
     },
     "execution_count": 262,
     "metadata": {},
     "output_type": "execute_result"
    }
   ],
   "source": [
    "output_folder = \".\\\\output\\\\\"\n",
    "\n",
    "file = hosp_id + '_' + file.split('_')[1] + '.csv'\n",
    "\n",
    "df.to_csv(output_folder + file, index=False)"
   ]
  }
 ],
 "metadata": {
  "kernelspec": {
   "display_name": "scraper2",
   "language": "python",
   "name": "python3"
  },
  "language_info": {
   "codemirror_mode": {
    "name": "ipython",
    "version": 3
   },
   "file_extension": ".py",
   "mimetype": "text/x-python",
   "name": "python",
   "nbconvert_exporter": "python",
   "pygments_lexer": "ipython3",
   "version": "3.9.15"
  },
  "orig_nbformat": 4
 },
 "nbformat": 4,
 "nbformat_minor": 2
}
