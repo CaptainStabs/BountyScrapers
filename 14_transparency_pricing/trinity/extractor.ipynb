{
 "cells": [
  {
   "cell_type": "code",
   "execution_count": 28,
   "metadata": {},
   "outputs": [],
   "source": [
    "import pandas as pd"
   ]
  },
  {
   "cell_type": "code",
   "execution_count": 29,
   "metadata": {},
   "outputs": [],
   "source": [
    "folder = '.\\\\input_files\\\\'\n",
    "file = '231352191_Mercy Catholic Medical Center of Southeastern Pennsylvania_standardcharges .xlsx'"
   ]
  },
  {
   "cell_type": "code",
   "execution_count": 30,
   "metadata": {},
   "outputs": [],
   "source": [
    "df = pd.read_excel(folder + file)"
   ]
  },
  {
   "cell_type": "code",
   "execution_count": 31,
   "metadata": {},
   "outputs": [],
   "source": [
    "# Find the index of the row that starts with 'Code'\n",
    "code_index = df.index[df.iloc[:, 0] == 'Code'][0]\n",
    "\n",
    "# Set the header to the values in the 'Code' row\n",
    "df.columns = df.iloc[code_index]\n",
    "\n",
    "# Drop the 'Code' row, which is now redundant with the header\n",
    "df = df.drop(code_index)\n",
    "\n",
    "# Reset the index to start from 0\n",
    "df = df.reset_index(drop=True)"
   ]
  },
  {
   "cell_type": "code",
   "execution_count": 32,
   "metadata": {},
   "outputs": [],
   "source": [
    "# Drop completely empty rows\n",
    "df.dropna(how='all', inplace=True)\n"
   ]
  },
  {
   "cell_type": "code",
   "execution_count": 33,
   "metadata": {},
   "outputs": [],
   "source": [
    "df.rename(columns={\n",
    "    'Code': 'code',\n",
    "    'Description': 'description',\n",
    "    'Type': 'setting',\n",
    "}, inplace=True)"
   ]
  },
  {
   "cell_type": "code",
   "execution_count": 35,
   "metadata": {},
   "outputs": [],
   "source": [
    "df.drop('Derived contracted rate', axis=1, inplace=True)"
   ]
  },
  {
   "cell_type": "code",
   "execution_count": 36,
   "metadata": {},
   "outputs": [],
   "source": [
    "cols = df.columns.tolist()\n",
    "id_vars = cols[:3]\n",
    "value_vars = cols[3:]\n",
    "\n",
    "df = pd.melt(df, id_vars=id_vars, value_vars=value_vars, var_name='payer', value_name='standard_charge')"
   ]
  },
  {
   "cell_type": "code",
   "execution_count": 37,
   "metadata": {},
   "outputs": [],
   "source": [
    "df.dropna(subset='standard_charge', inplace=True)"
   ]
  },
  {
   "cell_type": "code",
   "execution_count": 38,
   "metadata": {},
   "outputs": [],
   "source": [
    "df['payer'] = df['payer'].str.replace('__Derived Contracted Rate', '')"
   ]
  },
  {
   "cell_type": "code",
   "execution_count": 39,
   "metadata": {},
   "outputs": [],
   "source": [
    "mapping = {\n",
    "    'Gross Charge': 'gross',\n",
    "    'Discounted Cash Price': 'cash',\n",
    "    'De-identified min contracted rate': 'min',\n",
    "    'De-identified max contracted rate': 'max'\n",
    "}\n",
    "\n",
    "df['payer_category'] = df['payer'].map(mapping).fillna('payer')"
   ]
  },
  {
   "cell_type": "code",
   "execution_count": 45,
   "metadata": {},
   "outputs": [],
   "source": [
    "df['code'] = df['code'].astype(str)"
   ]
  },
  {
   "cell_type": "code",
   "execution_count": null,
   "metadata": {},
   "outputs": [],
   "source": [
    "df['setting'] = df['setting'].str.lower()"
   ]
  },
  {
   "cell_type": "code",
   "execution_count": 46,
   "metadata": {},
   "outputs": [],
   "source": [
    "df.loc[df['code'].str.len() == 1, 'ms_drg'] = df['code'].str.zfill(3)\n",
    "df.loc[df['code'].str.len() == 3, 'ms_drg'] = df['code']\n",
    "df.loc[df['code'].str.len() == 5, 'hcpcs_cpt'] = df['code']"
   ]
  },
  {
   "cell_type": "code",
   "execution_count": 51,
   "metadata": {},
   "outputs": [],
   "source": [
    "ccns = {'38-3176536': '230029',\n",
    " '383175878': '230156',\n",
    " '383176225': '230069',\n",
    " '824757260': '230259',\n",
    " '383521763': '230002',\n",
    " '382589966': '230066',\n",
    " '231352191': '390156',\n",
    " '510064326': '070002',\n",
    " '232794121': '390204',\n",
    " '231913910': '390258'}\n",
    "\n",
    "ein = file.split('_')[0]\n",
    "\n",
    "df['hospital_id'] = ccns[ein]"
   ]
  },
  {
   "cell_type": "code",
   "execution_count": 53,
   "metadata": {},
   "outputs": [],
   "source": [
    "df['description'] = df['description'].str.strip()"
   ]
  },
  {
   "cell_type": "code",
   "execution_count": null,
   "metadata": {},
   "outputs": [],
   "source": [
    "df['ms_drg'].fillna('', inplace=True)\n",
    "df['hcpcs_cpt'].fillna('', inplace=True)\n",
    "df['code'].fillna('', inplace=True)"
   ]
  }
 ],
 "metadata": {
  "kernelspec": {
   "display_name": "scraper",
   "language": "python",
   "name": "python3"
  },
  "language_info": {
   "codemirror_mode": {
    "name": "ipython",
    "version": 3
   },
   "file_extension": ".py",
   "mimetype": "text/x-python",
   "name": "python",
   "nbconvert_exporter": "python",
   "pygments_lexer": "ipython3",
   "version": "3.9.7"
  },
  "orig_nbformat": 4
 },
 "nbformat": 4,
 "nbformat_minor": 2
}
