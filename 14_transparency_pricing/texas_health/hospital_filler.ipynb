{
 "cells": [
  {
   "cell_type": "code",
   "execution_count": 1,
   "metadata": {},
   "outputs": [],
   "source": [
    "import pandas as pd"
   ]
  },
  {
   "cell_type": "code",
   "execution_count": 2,
   "metadata": {},
   "outputs": [],
   "source": [
    "df = pd.read_csv('hospitals.csv', dtype=str)"
   ]
  },
  {
   "cell_type": "code",
   "execution_count": 3,
   "metadata": {},
   "outputs": [],
   "source": [
    "df['file_name'] = df['mrf_url'].str.split('/').str[-1]"
   ]
  },
  {
   "cell_type": "code",
   "execution_count": 4,
   "metadata": {},
   "outputs": [],
   "source": [
    "df['ein'] = df['file_name'].str.split('_').str[0].str[:2] + '-' + df['file_name'].str.split('_').str[0].str[2:]"
   ]
  },
  {
   "cell_type": "code",
   "execution_count": 5,
   "metadata": {},
   "outputs": [],
   "source": [
    "df.to_csv('hospitals.csv', index=False)"
   ]
  },
  {
   "cell_type": "code",
   "execution_count": 6,
   "metadata": {},
   "outputs": [
    {
     "data": {
      "text/plain": [
       "{'750972805_texas-health-arlington-memorial-hospital_standardcharges.csv': '450064',\n",
       " '481281376_texas-health-center-for-diagnostics-and-surgery-plano_standardcharges.csv': '450891',\n",
       " '756001743_texas-health-harris-methodist-hospital-fort-worth_standardcharges.csv': '450135',\n",
       " '451502252_texas-health-harris-methodist-hospital-alliance_standardcharges.csv': '670085',\n",
       " '751748586_texas-health-harris-methodist-hospital-azle_standardcharges.csv': '450419',\n",
       " '751977850_texas-health-harris-methodist-hospital-cleburne_standardcharges.csv': '450148',\n",
       " '020555370_texas-health-harris-methodist-hospital-southlake_standardcharges.csv': '450888',\n",
       " '752678857_texas-health-harris-methodist-hospital-southwest-fort-worth_standardcharges.csv': '450779',\n",
       " '751752253_texas-health-harris-methodist-hospital-stephenville_standardcharges.csv': '450351',\n",
       " '203003947_texas-health-heart-and-vascular-hospital-arlington_standardcharges.csv': '670071',\n",
       " '831954982_texas-health-hospital-frisco_standardcharges.csv': '670260',\n",
       " '260684968_texas-health-presbyterian-hospital-flower-mound_standardcharges.csv': '670068',\n",
       " '752771437_texas-health-presbyterian-hospital-kaufman_standardcharges.csv': '450292',\n",
       " '202848116_texas-health-hospital-rockwall_standardcharges.csv': '670044',\n",
       " '751047527_texas-health-presbyterian-hospital-dallas_standardcharges.csv': '450462',\n",
       " '751438726_texas-health-harris-methodist-hospital-hurst-euless-bedford_standardcharges.csv': '450639',\n",
       " '752770738_texas-health-presbyterian-hospital-plano_standardcharges.csv': '450771'}"
      ]
     },
     "execution_count": 6,
     "metadata": {},
     "output_type": "execute_result"
    }
   ],
   "source": [
    "ein_ccn_dict = dict(zip(df['file_name'], df['id']))\n",
    "ein_ccn_dict"
   ]
  },
  {
   "cell_type": "code",
   "execution_count": 7,
   "metadata": {},
   "outputs": [],
   "source": [
    "import os"
   ]
  },
  {
   "cell_type": "code",
   "execution_count": 8,
   "metadata": {},
   "outputs": [],
   "source": [
    "# folder = '.\\\\input_files\\\\'\n",
    "# for file in os.listdir(folder):\n",
    "#     try:\n",
    "#         with open(folder + file, 'r') as f:\n",
    "#             for i, line in enumerate(f):\n",
    "#                 if i == 2:\n",
    "#                     print(line)\n",
    "#     except UnicodeDecodeError:\n",
    "#         with open(folder + file, 'r', encoding='ansi') as f:\n",
    "#             for i, line in enumerate(f):\n",
    "#                 if i == 2:\n",
    "#                     print(line)"
   ]
  }
 ],
 "metadata": {
  "kernelspec": {
   "display_name": "scraper2",
   "language": "python",
   "name": "python3"
  },
  "language_info": {
   "codemirror_mode": {
    "name": "ipython",
    "version": 3
   },
   "file_extension": ".py",
   "mimetype": "text/x-python",
   "name": "python",
   "nbconvert_exporter": "python",
   "pygments_lexer": "ipython3",
   "version": "3.9.15"
  },
  "orig_nbformat": 4
 },
 "nbformat": 4,
 "nbformat_minor": 2
}
