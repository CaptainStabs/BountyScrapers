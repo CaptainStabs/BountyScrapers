{
 "cells": [
  {
   "cell_type": "code",
   "execution_count": 12,
   "metadata": {},
   "outputs": [],
   "source": [
    "import pandas as pd\n",
    "import numpy as np"
   ]
  },
  {
   "cell_type": "code",
   "execution_count": 13,
   "metadata": {},
   "outputs": [],
   "source": [
    "folder = 'G:\\\\transparency-in-pricing\\\\input_files\\\\'\n",
    "\n",
    "file = '451502252_texas-health-harris-methodist-hospital-alliance_standardcharges.csv'"
   ]
  },
  {
   "cell_type": "code",
   "execution_count": 14,
   "metadata": {},
   "outputs": [],
   "source": [
    "df = pd.read_csv(folder + file, dtype=str, skiprows=2, encoding='ansi')"
   ]
  },
  {
   "cell_type": "code",
   "execution_count": 15,
   "metadata": {},
   "outputs": [],
   "source": [
    "df.rename(columns={\n",
    "    'GenlDescr': 'description',\n",
    "    'Package Type': 'contracting_method',\n",
    "    'Code Type': 'line_type',\n",
    "    'RevCode': 'rev_code',\n",
    "    'Code': 'code',\n",
    "    'NDC': 'ndc',\n",
    "    'Charge Quantity': 'quantity'\n",
    "}, inplace=True)"
   ]
  },
  {
   "cell_type": "code",
   "execution_count": 18,
   "metadata": {},
   "outputs": [
    {
     "data": {
      "text/plain": [
       "['description',\n",
       " 'contracting_method',\n",
       " 'line_type',\n",
       " 'rev_code',\n",
       " 'code',\n",
       " 'ndc',\n",
       " 'quantity',\n",
       " 'Price',\n",
       " 'Min IP TR',\n",
       " 'Max IP TR',\n",
       " 'Min IP',\n",
       " 'Max IP',\n",
       " 'Min OP',\n",
       " 'Max OP',\n",
       " 'Aetna ASA IP',\n",
       " 'Aetna ASA OP',\n",
       " 'Aetna Coventry IP TR',\n",
       " 'Aetna Coventry IP',\n",
       " 'Aetna Coventry OP',\n",
       " 'BCBS Traditional IP',\n",
       " 'BCBS Traditional OP',\n",
       " 'ChoiceCare POB All Payer IP TR',\n",
       " 'ChoiceCare POB All Payer IP',\n",
       " 'ChoiceCare POB All Payer OP',\n",
       " 'ChoiceCare PPO All Payer IP TR',\n",
       " 'ChoiceCare PPO All Payer IP',\n",
       " 'ChoiceCare PPO All Payer OP',\n",
       " 'Cigna Indemnity IP',\n",
       " 'Cigna Indemnity OP',\n",
       " 'City of Fort Worth IP',\n",
       " 'City of Fort Worth OP',\n",
       " 'Galaxy IP TR',\n",
       " 'Galaxy IP',\n",
       " 'Galaxy OP',\n",
       " 'Multiplan IP',\n",
       " 'Multiplan OP',\n",
       " 'Self Pay IP',\n",
       " 'Self Pay OP',\n",
       " 'USA MCO IP TR',\n",
       " 'USA MCO IP',\n",
       " 'USA MCO OP',\n",
       " 'WebTPA IP',\n",
       " 'WebTPA OP',\n",
       " 'FWFF IP TR',\n",
       " 'FWFF IP',\n",
       " 'FWFF OP',\n",
       " 'UHC All Payer IP',\n",
       " 'UHC All Payer IP TR',\n",
       " 'UHC All Payer OP',\n",
       " 'UHC Options PPO IP',\n",
       " 'UHC Options PPO IP TR',\n",
       " 'UHC Options PPO OP',\n",
       " 'Aetna Commercial IP',\n",
       " 'Aetna Commercial IP TR',\n",
       " 'Aetna Commercial OP',\n",
       " 'Texas Health Aetna FI IP TR',\n",
       " 'Texas Health Aetna FI IP',\n",
       " 'Texas Health Aetna FI OP',\n",
       " 'Texas Health Aetna SI IP TR',\n",
       " 'Texas Health Aetna SI IP',\n",
       " 'Texas Health Aetna SI OP',\n",
       " 'Cigna Managed Care IP',\n",
       " 'Cigna Managed Care IP TR',\n",
       " 'Cigna Managed Care OP',\n",
       " 'Cigna PPO IP',\n",
       " 'Cigna PPO IP TR',\n",
       " 'Cigna PPO OP',\n",
       " 'BCBS BAV IP TR',\n",
       " 'BCBS BAV IP',\n",
       " 'BCBS BAV OP',\n",
       " 'BCBS PPO IP TR',\n",
       " 'BCBS PPO IP',\n",
       " 'BCBS PPO OP',\n",
       " 'BCBS HMO IP TR',\n",
       " 'BCBS HMO IP',\n",
       " 'BCBS HMO OP',\n",
       " 'BCBS MyBlueHealth IP TR',\n",
       " 'BCBS MyBlueHealth IP',\n",
       " 'BCBS MyBlueHealth OP',\n",
       " 'Healthsmart B1 IP TR',\n",
       " 'Healthsmart B1 IP',\n",
       " 'Healthsmart B1 OP',\n",
       " 'PHCS PPO IP TR',\n",
       " 'PHCS PPO IP',\n",
       " 'PHCS PPO OP',\n",
       " 'QT PPO IP TR',\n",
       " 'QT PPO IP',\n",
       " 'QT PPO OP',\n",
       " 'TH Aetna Broad IP',\n",
       " 'TH Aetna Broad IP TR',\n",
       " 'TH Aetna Broad OP',\n",
       " 'Ambetter IP',\n",
       " 'Ambetter OP',\n",
       " 'Amerigroup Medicaid IP',\n",
       " 'Amerigroup Medicaid OP',\n",
       " 'Superior BH IP',\n",
       " 'Superior BH OP',\n",
       " \"Cook Children's Medicaid IP\",\n",
       " \"Cook Children's Medicaid OP\",\n",
       " 'Molina Medicaid IP',\n",
       " 'Molina Medicaid OP',\n",
       " 'Superior Medicaid IP',\n",
       " 'Superior Medicaid OP',\n",
       " 'Aetna Medicaid IP',\n",
       " 'Aetna Medicaid OP',\n",
       " 'Aetna MA HMO IP',\n",
       " 'Aetna MA HMO OP',\n",
       " 'Aetna MA PPO IP',\n",
       " 'Aetna MA PPO OP',\n",
       " 'American Health Plan MA HMO IP',\n",
       " 'American Health Plan MA HMO PP',\n",
       " 'BCBS MA HMO IP',\n",
       " 'BCBS MA HMO OP',\n",
       " 'BCBS MA PPO IP',\n",
       " 'BCBS MA PPO OP',\n",
       " 'BCBS MA DSNP IP',\n",
       " 'BCBS MA DSNP OP',\n",
       " 'CNC MA HMO IP',\n",
       " 'CNC MA HMO OP',\n",
       " 'CNC MA PPO IP',\n",
       " 'CNC MA PPO OP',\n",
       " 'Humana MA HMO IP',\n",
       " 'Humana MA HMO OP',\n",
       " 'Superior Wellcare BH MA HMO IP',\n",
       " 'Superior Wellcare BH MA HMO OP',\n",
       " 'Superior Wellcare BH MA MMP IP',\n",
       " 'Superior Wellcare BH MA MMP OP',\n",
       " 'United PPO MA IP',\n",
       " 'United PPO MA OP',\n",
       " 'Healthspring MA HMO IP',\n",
       " 'Healthspring MA HMO OP',\n",
       " 'Healthspring MA PPO IP',\n",
       " 'Healthspring MA PPO OP',\n",
       " 'United MA HMO IP',\n",
       " 'United MA HMO OP',\n",
       " 'Amerigroup MA HMO IP',\n",
       " 'Amerigroup MA HMO OP',\n",
       " 'Amerigroup MMP IP',\n",
       " 'Amerigroup MMP OP',\n",
       " 'Humana MA PPO/PFFS IP',\n",
       " 'Humana MA PPO/PFFS OP',\n",
       " 'Molina MA HMO IP',\n",
       " 'Molina MA HMO OP',\n",
       " 'Molina MMP IP',\n",
       " 'Molina MMP OP',\n",
       " 'Superior/Wellcare MA HMO IP',\n",
       " 'Superior/Wellcare MA HMO OP',\n",
       " 'Superior/Wellcare MMP IP',\n",
       " 'Superior/Wellcare MMP OP']"
      ]
     },
     "execution_count": 18,
     "metadata": {},
     "output_type": "execute_result"
    }
   ],
   "source": [
    "df.columns.tolist()"
   ]
  },
  {
   "cell_type": "code",
   "execution_count": 76,
   "metadata": {},
   "outputs": [],
   "source": [
    "cols = df.columns.tolist()\n",
    "id_vars = cols[:7]\n",
    "value_vars = cols[7:]\n",
    "\n",
    "df = pd.melt(df, id_vars=id_vars, value_vars=value_vars, var_name='payer_name', value_name='standard_charge')"
   ]
  },
  {
   "cell_type": "code",
   "execution_count": 77,
   "metadata": {},
   "outputs": [],
   "source": [
    "df.dropna(subset='standard_charge', inplace=True)"
   ]
  },
  {
   "cell_type": "code",
   "execution_count": 78,
   "metadata": {},
   "outputs": [],
   "source": [
    "df.loc[df['code'].str.match(r'^[A-Z][0-9]{4}$|^[0-9]{5}$|^[0-9]{4}[A-Z]$'), 'hcpcs_cpt'] = df['code']"
   ]
  },
  {
   "cell_type": "code",
   "execution_count": 79,
   "metadata": {},
   "outputs": [],
   "source": [
    "df.loc[~df['rev_code'].isna(), 'rev_code'] = df['rev_code'].str.zfill(4)"
   ]
  },
  {
   "cell_type": "code",
   "execution_count": 80,
   "metadata": {},
   "outputs": [],
   "source": [
    "df.loc[df['line_type'] == 'DRG', 'ms_drg'] = df['code']"
   ]
  },
  {
   "cell_type": "code",
   "execution_count": 81,
   "metadata": {},
   "outputs": [],
   "source": [
    "df.loc[df['line_type'] == 'APR DRG', 'apr_drg'] = df['code']"
   ]
  },
  {
   "cell_type": "code",
   "execution_count": 82,
   "metadata": {},
   "outputs": [],
   "source": [
    "df['apr_drg'] = df['apr_drg'].str[:3] + '-' + df['apr_drg'].str[-1]"
   ]
  },
  {
   "cell_type": "code",
   "execution_count": 83,
   "metadata": {},
   "outputs": [],
   "source": [
    "df.loc[df['code'].str.match('NOCPT|No CPT'), 'code'] = pd.NA"
   ]
  },
  {
   "cell_type": "code",
   "execution_count": 84,
   "metadata": {},
   "outputs": [],
   "source": [
    "df['contracting_method'] = df['contracting_method'].str.lower()\n",
    "df['line_type'] = df['line_type'].str.lower()"
   ]
  },
  {
   "cell_type": "code",
   "execution_count": 85,
   "metadata": {},
   "outputs": [],
   "source": [
    "payer_mapping = {\n",
    "    'Price': 'gross',\n",
    "    'Min IP TR': 'min',\n",
    "    'Max IP TR': 'max',\n",
    "    'Min IP': 'min',\n",
    "    'Max IP': 'max',\n",
    "    'Min OP': 'min',\n",
    "    'Max OP': 'max'\n",
    "}\n",
    "\n",
    "df['payer_category'] = df['payer_name'].map(payer_mapping).fillna('payer')"
   ]
  },
  {
   "cell_type": "code",
   "execution_count": 86,
   "metadata": {},
   "outputs": [],
   "source": [
    "df['setting'] = np.where(df['payer_name'].str.contains(' IP'), 'inpatient', np.where(df['payer_name'].str.contains(' OP'), 'outpatient', 1))"
   ]
  },
  {
   "cell_type": "code",
   "execution_count": 101,
   "metadata": {},
   "outputs": [],
   "source": [
    "id_mapping ={\n",
    " '750972805_texas-health-arlington-memorial-hospital_standardcharges.csv': '450064',\n",
    " '481281376_texas-health-center-for-diagnostics-and-surgery-plano_standardcharges.csv': '450891',\n",
    " '756001743_texas-health-harris-methodist-hospital-fort-worth_standardcharges.csv': '450135',\n",
    " '451502252_texas-health-harris-methodist-hospital-alliance_standardcharges.csv': '670085',\n",
    " '751748586_texas-health-harris-methodist-hospital-azle_standardcharges.csv': '450419',\n",
    " '751977850_texas-health-harris-methodist-hospital-cleburne_standardcharges.csv': '450148',\n",
    " '020555370_texas-health-harris-methodist-hospital-southlake_standardcharges.csv': '450888',\n",
    " '752678857_texas-health-harris-methodist-hospital-southwest-fort-worth_standardcharges.csv': '450779',\n",
    " '751752253_texas-health-harris-methodist-hospital-stephenville_standardcharges.csv': '450351',\n",
    " '203003947_texas-health-heart-and-vascular-hospital-arlington_standardcharges.csv': '670071',\n",
    " '831954982_texas-health-hospital-frisco_standardcharges.csv': '670260',\n",
    " '260684968_texas-health-presbyterian-hospital-flower-mound_standardcharges.csv': '670068',\n",
    " '752771437_texas-health-presbyterian-hospital-kaufman_standardcharges.csv': '450292',\n",
    " '202848116_texas-health-hospital-rockwall_standardcharges.csv': '670044'}\n",
    "\n",
    "hosp_id = id_mapping[file]\n",
    "\n",
    "df['hospital_id'] = hosp_id\n",
    "\n",
    "output_file = hosp_id + '_' + file.split('_')[1].replace('texas-health-', '') + '.csv'\n",
    "\n",
    "df.to_csv('.\\\\output_files\\\\' + output_file, index=False)"
   ]
  },
  {
   "cell_type": "code",
   "execution_count": 107,
   "metadata": {},
   "outputs": [
    {
     "data": {
      "text/html": [
       "<div>\n",
       "<style scoped>\n",
       "    .dataframe tbody tr th:only-of-type {\n",
       "        vertical-align: middle;\n",
       "    }\n",
       "\n",
       "    .dataframe tbody tr th {\n",
       "        vertical-align: top;\n",
       "    }\n",
       "\n",
       "    .dataframe thead th {\n",
       "        text-align: right;\n",
       "    }\n",
       "</style>\n",
       "<table border=\"1\" class=\"dataframe\">\n",
       "  <thead>\n",
       "    <tr style=\"text-align: right;\">\n",
       "      <th></th>\n",
       "      <th>description</th>\n",
       "      <th>contracting_method</th>\n",
       "      <th>line_type</th>\n",
       "      <th>rev_code</th>\n",
       "      <th>code</th>\n",
       "      <th>ndc</th>\n",
       "      <th>quantity</th>\n",
       "      <th>payer_name</th>\n",
       "      <th>standard_charge</th>\n",
       "      <th>hcpcs_cpt</th>\n",
       "      <th>ms_drg</th>\n",
       "      <th>apr_drg</th>\n",
       "      <th>payer_category</th>\n",
       "      <th>setting</th>\n",
       "      <th>hospital_id</th>\n",
       "    </tr>\n",
       "  </thead>\n",
       "  <tbody>\n",
       "  </tbody>\n",
       "</table>\n",
       "</div>"
      ],
      "text/plain": [
       "Empty DataFrame\n",
       "Columns: [description, contracting_method, line_type, rev_code, code, ndc, quantity, payer_name, standard_charge, hcpcs_cpt, ms_drg, apr_drg, payer_category, setting, hospital_id]\n",
       "Index: []"
      ]
     },
     "execution_count": 107,
     "metadata": {},
     "output_type": "execute_result"
    }
   ],
   "source": [
    "df.loc[df['code'].str.len() < 3]"
   ]
  },
  {
   "cell_type": "code",
   "execution_count": null,
   "metadata": {},
   "outputs": [],
   "source": []
  }
 ],
 "metadata": {
  "kernelspec": {
   "display_name": "scraper",
   "language": "python",
   "name": "python3"
  },
  "language_info": {
   "codemirror_mode": {
    "name": "ipython",
    "version": 3
   },
   "file_extension": ".py",
   "mimetype": "text/x-python",
   "name": "python",
   "nbconvert_exporter": "python",
   "pygments_lexer": "ipython3",
   "version": "3.9.15"
  },
  "orig_nbformat": 4
 },
 "nbformat": 4,
 "nbformat_minor": 2
}
