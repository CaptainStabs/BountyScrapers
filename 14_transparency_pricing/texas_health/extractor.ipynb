{
 "cells": [
  {
   "cell_type": "code",
   "execution_count": 72,
   "metadata": {},
   "outputs": [],
   "source": [
    "import pandas as pd\n",
    "import numpy as np"
   ]
  },
  {
   "cell_type": "code",
   "execution_count": 73,
   "metadata": {},
   "outputs": [],
   "source": [
    "folder = '.\\\\input_files\\\\'\n",
    "\n",
    "file = '481281376_texas-health-center-for-diagnostics-and-surgery-plano_standardcharges.csv'"
   ]
  },
  {
   "cell_type": "code",
   "execution_count": 74,
   "metadata": {},
   "outputs": [],
   "source": [
    "df = pd.read_csv(folder + file, dtype=str, skiprows=2, encoding='ansi')"
   ]
  },
  {
   "cell_type": "code",
   "execution_count": 75,
   "metadata": {},
   "outputs": [],
   "source": [
    "df.rename(columns={\n",
    "    'GenlDescr': 'description',\n",
    "    'Package Type': 'contracting_method',\n",
    "    'Code Type': 'line_type',\n",
    "    'RevCode': 'rev_code',\n",
    "    'Code': 'code',\n",
    "    'NDC': 'ndc',\n",
    "    'Charge Quantity': 'quantity'\n",
    "}, inplace=True)"
   ]
  },
  {
   "cell_type": "code",
   "execution_count": 76,
   "metadata": {},
   "outputs": [],
   "source": [
    "cols = df.columns.tolist()\n",
    "id_vars = cols[:7]\n",
    "value_vars = cols[7:]\n",
    "\n",
    "df = pd.melt(df, id_vars=id_vars, value_vars=value_vars, var_name='payer_name', value_name='standard_charge')"
   ]
  },
  {
   "cell_type": "code",
   "execution_count": 77,
   "metadata": {},
   "outputs": [],
   "source": [
    "df.dropna(subset='standard_charge', inplace=True)"
   ]
  },
  {
   "cell_type": "code",
   "execution_count": 78,
   "metadata": {},
   "outputs": [],
   "source": [
    "df.loc[df['code'].str.match(r'^[A-Z][0-9]{4}$|^[0-9]{5}$|^[0-9]{4}[A-Z]$'), 'hcpcs_cpt'] = df['code']"
   ]
  },
  {
   "cell_type": "code",
   "execution_count": 79,
   "metadata": {},
   "outputs": [],
   "source": [
    "df.loc[~df['rev_code'].isna(), 'rev_code'] = df['rev_code'].str.zfill(4)"
   ]
  },
  {
   "cell_type": "code",
   "execution_count": 80,
   "metadata": {},
   "outputs": [],
   "source": [
    "df.loc[df['line_type'] == 'DRG', 'ms_drg'] = df['code']"
   ]
  },
  {
   "cell_type": "code",
   "execution_count": 81,
   "metadata": {},
   "outputs": [],
   "source": [
    "df.loc[df['line_type'] == 'APR DRG', 'apr_drg'] = df['code']"
   ]
  },
  {
   "cell_type": "code",
   "execution_count": 82,
   "metadata": {},
   "outputs": [],
   "source": [
    "df['apr_drg'] = df['apr_drg'].str[:3] + '-' + df['apr_drg'].str[-1]"
   ]
  },
  {
   "cell_type": "code",
   "execution_count": 83,
   "metadata": {},
   "outputs": [],
   "source": [
    "df.loc[df['code'].str.match('NOCPT|No CPT'), 'code'] = pd.NA"
   ]
  },
  {
   "cell_type": "code",
   "execution_count": 84,
   "metadata": {},
   "outputs": [],
   "source": [
    "df['contracting_method'] = df['contracting_method'].str.lower()\n",
    "df['line_type'] = df['line_type'].str.lower()"
   ]
  },
  {
   "cell_type": "code",
   "execution_count": 85,
   "metadata": {},
   "outputs": [],
   "source": [
    "payer_mapping = {\n",
    "    'Price': 'gross',\n",
    "    'Min IP TR': 'min',\n",
    "    'Max IP TR': 'max',\n",
    "    'Min IP': 'min',\n",
    "    'Max IP': 'max',\n",
    "    'Min OP': 'min',\n",
    "    'Max OP': 'max'\n",
    "}\n",
    "\n",
    "df['payer_category'] = df['payer_name'].map(payer_mapping).fillna('payer')"
   ]
  },
  {
   "cell_type": "code",
   "execution_count": 86,
   "metadata": {},
   "outputs": [],
   "source": [
    "df['setting'] = np.where(df['payer_name'].str.contains(' IP'), 'inpatient', np.where(df['payer_name'].str.contains(' OP'), 'outpatient', 1))"
   ]
  },
  {
   "cell_type": "code",
   "execution_count": 101,
   "metadata": {},
   "outputs": [],
   "source": [
    "id_mapping ={\n",
    " '750972805_texas-health-arlington-memorial-hospital_standardcharges.csv': '450064',\n",
    " '481281376_texas-health-center-for-diagnostics-and-surgery-plano_standardcharges.csv': '450891',\n",
    " '756001743_texas-health-harris-methodist-hospital-fort-worth_standardcharges.csv': '450135',\n",
    " '451502252_texas-health-harris-methodist-hospital-alliance_standardcharges.csv': '670085',\n",
    " '751748586_texas-health-harris-methodist-hospital-azle_standardcharges.csv': '450419',\n",
    " '751977850_texas-health-harris-methodist-hospital-cleburne_standardcharges.csv': '450148',\n",
    " '020555370_texas-health-harris-methodist-hospital-southlake_standardcharges.csv': '450888',\n",
    " '752678857_texas-health-harris-methodist-hospital-southwest-fort-worth_standardcharges.csv': '450779',\n",
    " '751752253_texas-health-harris-methodist-hospital-stephenville_standardcharges.csv': '450351',\n",
    " '203003947_texas-health-heart-and-vascular-hospital-arlington_standardcharges.csv': '670071',\n",
    " '831954982_texas-health-hospital-frisco_standardcharges.csv': '670260',\n",
    " '260684968_texas-health-presbyterian-hospital-flower-mound_standardcharges.csv': '670068',\n",
    " '752771437_texas-health-presbyterian-hospital-kaufman_standardcharges.csv': '450292',\n",
    " '202848116_texas-health-hospital-rockwall_standardcharges.csv': '670044'}\n",
    "\n",
    "hosp_id = id_mapping[file]\n",
    "\n",
    "df['hospital_id'] = hosp_id\n",
    "\n",
    "output_file = hosp_id + '_' + file.split('_')[1].replace('texas-health-', '') + '.csv'\n",
    "\n",
    "df.to_csv('.\\\\output_files\\\\' + output_file, index=False)"
   ]
  },
  {
   "cell_type": "code",
   "execution_count": 107,
   "metadata": {},
   "outputs": [
    {
     "data": {
      "text/html": [
       "<div>\n",
       "<style scoped>\n",
       "    .dataframe tbody tr th:only-of-type {\n",
       "        vertical-align: middle;\n",
       "    }\n",
       "\n",
       "    .dataframe tbody tr th {\n",
       "        vertical-align: top;\n",
       "    }\n",
       "\n",
       "    .dataframe thead th {\n",
       "        text-align: right;\n",
       "    }\n",
       "</style>\n",
       "<table border=\"1\" class=\"dataframe\">\n",
       "  <thead>\n",
       "    <tr style=\"text-align: right;\">\n",
       "      <th></th>\n",
       "      <th>description</th>\n",
       "      <th>contracting_method</th>\n",
       "      <th>line_type</th>\n",
       "      <th>rev_code</th>\n",
       "      <th>code</th>\n",
       "      <th>ndc</th>\n",
       "      <th>quantity</th>\n",
       "      <th>payer_name</th>\n",
       "      <th>standard_charge</th>\n",
       "      <th>hcpcs_cpt</th>\n",
       "      <th>ms_drg</th>\n",
       "      <th>apr_drg</th>\n",
       "      <th>payer_category</th>\n",
       "      <th>setting</th>\n",
       "      <th>hospital_id</th>\n",
       "    </tr>\n",
       "  </thead>\n",
       "  <tbody>\n",
       "  </tbody>\n",
       "</table>\n",
       "</div>"
      ],
      "text/plain": [
       "Empty DataFrame\n",
       "Columns: [description, contracting_method, line_type, rev_code, code, ndc, quantity, payer_name, standard_charge, hcpcs_cpt, ms_drg, apr_drg, payer_category, setting, hospital_id]\n",
       "Index: []"
      ]
     },
     "execution_count": 107,
     "metadata": {},
     "output_type": "execute_result"
    }
   ],
   "source": [
    "df.loc[df['code'].str.len() < 3]"
   ]
  },
  {
   "cell_type": "code",
   "execution_count": null,
   "metadata": {},
   "outputs": [],
   "source": []
  }
 ],
 "metadata": {
  "kernelspec": {
   "display_name": "scraper",
   "language": "python",
   "name": "python3"
  },
  "language_info": {
   "codemirror_mode": {
    "name": "ipython",
    "version": 3
   },
   "file_extension": ".py",
   "mimetype": "text/x-python",
   "name": "python",
   "nbconvert_exporter": "python",
   "pygments_lexer": "ipython3",
   "version": "3.9.7"
  },
  "orig_nbformat": 4
 },
 "nbformat": 4,
 "nbformat_minor": 2
}
