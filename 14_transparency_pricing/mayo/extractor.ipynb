{
 "cells": [
  {
   "cell_type": "code",
   "execution_count": 286,
   "metadata": {},
   "outputs": [],
   "source": [
    "import pandas as pd\n",
    "from datetime import datetime\n",
    "from tqdm import tqdm\n",
    "tqdm.pandas()\n"
   ]
  },
  {
   "cell_type": "code",
   "execution_count": 287,
   "metadata": {},
   "outputs": [],
   "source": [
    "file = 'F:\\\\_Bounty\\\\860800150_mayo-clinic-arizona_standardcharges.csv'\n",
    "# file = '860800150_mayo_head.csv'\n",
    "url = \"https://mcorgstatic.blob.core.windows.net/cms-price/860800150_mayo-clinic-arizona_standardcharges.csv\"\n",
    "ccn = '030103'\n",
    "output_file = 'F:\\\\_Bounty\\\\transparency-in-pricing\\\\az_out.csv'"
   ]
  },
  {
   "cell_type": "code",
   "execution_count": 288,
   "metadata": {},
   "outputs": [],
   "source": [
    "def payer_category(payer_category):\n",
    "    cats = {\n",
    "        'payer_specific_negotiated_rate': 'payer', \n",
    "        'standard_gross_charge': 'gross', \n",
    "        'discounted_cash_price': 'cash', \n",
    "        'minimum_negotiated': 'min',\n",
    "        'maximum_negotiated': 'max'\n",
    "    }\n",
    "    \n",
    "    return cats[payer_category]\n",
    "\n",
    "def set_value_based_on_code_type(row):\n",
    "    column_name = row['code_type']\n",
    "    if column_name != \"hcpcs_cpt\":\n",
    "        row[column_name] = row['code']\n",
    "        return row\n",
    "    else:\n",
    "        return row"
   ]
  },
  {
   "cell_type": "code",
   "execution_count": 289,
   "metadata": {},
   "outputs": [
    {
     "name": "stdout",
     "output_type": "stream",
     "text": [
      " Arizona 2023-03-19 00:00:00\n"
     ]
    }
   ],
   "source": [
    "with open(file, 'r') as f:\n",
    "    for i, line in enumerate(f):\n",
    "        if i == 1:\n",
    "            hospital_name = line.split('-')[-1].split(',')[0].strip('\"')\n",
    "        elif i == 2:\n",
    "            updated_date = line.split(':')[-1].split(',')[0].strip('\"').strip()\n",
    "        if i > 2:\n",
    "            break\n",
    "\n",
    "updated_date = datetime.strptime(updated_date, '%Y/%m/%d')\n",
    "        \n",
    "print(hospital_name, updated_date)\n",
    "            "
   ]
  },
  {
   "cell_type": "code",
   "execution_count": 290,
   "metadata": {},
   "outputs": [],
   "source": [
    "df = pd.read_csv(file, dtype=object)\n",
    "# Drop non-csv data\n",
    "df = df[7:]"
   ]
  },
  {
   "cell_type": "code",
   "execution_count": 291,
   "metadata": {},
   "outputs": [],
   "source": [
    "df = df.rename(columns={\n",
    "    'code_desc': 'procedure_desc',\n",
    "    'hcpcs': 'hcpcs_cpt',\n",
    "    'setting': 'patient_class',\n",
    "    'contract_name': 'payer_name',\n",
    "    # 'payer_specific_negotiated_rate': 'payer_rate'\n",
    "})"
   ]
  },
  {
   "cell_type": "code",
   "execution_count": 292,
   "metadata": {},
   "outputs": [],
   "source": [
    "df.drop(columns=[\n",
    "    'dose_type',\n",
    "    'applicable_percent',\n",
    "    'count_of_compared_rates',\n",
    "    'footnote',\n",
    "    'product_name',\n",
    "    'implied_quantity',\n",
    "    'hcpcs_dose'\n",
    "\n",
    "], inplace=True)"
   ]
  },
  {
   "cell_type": "code",
   "execution_count": 293,
   "metadata": {},
   "outputs": [
    {
     "name": "stdout",
     "output_type": "stream",
     "text": [
      "['procedure_desc', 'code', 'rev_code', 'rev_desc', 'hcpcs_cpt', 'code_type', 'billing_class', 'patient_class', 'billed_quantity', 'modifier', 'payer_name', 'rate_method', 'rate_desc']\n"
     ]
    }
   ],
   "source": [
    "cols = df.columns.tolist()\n",
    "id_vars = cols[:cols.index('modifier')+1]\n",
    "id_vars.extend(['payer_name', 'rate_method', 'rate_desc'])\n",
    "print(id_vars)\n",
    "\n",
    "payer_cat = ['payer_specific_negotiated_rate', 'standard_gross_charge', 'discounted_cash_price', 'minimum_negotiated', 'maximum_negotiated']\n",
    "df = pd.melt(df, id_vars=id_vars, value_vars=payer_cat, var_name='payer_desc', value_name='rate')"
   ]
  },
  {
   "cell_type": "code",
   "execution_count": 294,
   "metadata": {},
   "outputs": [],
   "source": [
    "df_lowers = df[['code_type', 'billing_class', 'patient_class', 'rate_method']]\n",
    "df[df_lowers.columns] = df_lowers.apply(lambda x: x.str.lower())"
   ]
  },
  {
   "cell_type": "code",
   "execution_count": 295,
   "metadata": {},
   "outputs": [
    {
     "name": "stderr",
     "output_type": "stream",
     "text": [
      "100%|██████████| 6877375/6877375 [00:08<00:00, 822701.82it/s]\n",
      "100%|██████████| 6877375/6877375 [00:08<00:00, 842970.75it/s]\n",
      "100%|██████████| 6877375/6877375 [00:08<00:00, 825367.52it/s]\n",
      "100%|██████████| 6877375/6877375 [00:08<00:00, 837631.86it/s]\n"
     ]
    }
   ],
   "source": [
    "# This would all be faster if done before the melt.\n",
    "df[\"code_type\"] = df[\"code_type\"].apply(lambda x: \"hcpcs_cpt\" if x == \"hcpcs\" else x )\n",
    "# Explode codes into their columns and set payer cat\n",
    "df[\"payer_category\"] = df[\"payer_desc\"].apply(lambda x: payer_category(x))\n",
    "# df = df.progress_apply(set_value_based_on_code_type, axis=1) # This takes like 30 minutes, faster to just loop repeatedly\n",
    "df[\"cdm\"] = df[\"code\"].progress_apply(lambda x: x if pd.notna(x) and \"_\" in x else pd.NA)\n",
    "df[\"apr-drg\"] = df[\"code\"].progress_apply(lambda x: x if pd.notna(x) and \"-\" in x else pd.NA)\n",
    "df[\"ms-drg\"] = df[\"code\"].progress_apply(lambda x: x if pd.notna(x) and len(x) == 3 else pd.NA)\n",
    "df[\"ndc\"] = df[\"code\"].progress_apply(lambda x: x if pd.notna(x) and len(x) == 11 else pd.NA)\n",
    "# hcpcs_cpt is already a column so no need to do it"
   ]
  },
  {
   "cell_type": "code",
   "execution_count": 296,
   "metadata": {},
   "outputs": [],
   "source": [
    "tin = file.split(\"\\\\\")[-1].split(\"_\")[0]\n",
    "tin = tin[:2] + \"-\" + tin[2:]\n",
    "df[\"file_last_updated\"] = updated_date\n",
    "df[\"filename\"] = file.split(\"\\\\\")[-1]\n",
    "df[\"url\"] = url\n",
    "df[\"hospital_ccn\"] = ccn\n",
    "df[\"hospital_tin\"] = tin"
   ]
  },
  {
   "cell_type": "code",
   "execution_count": 300,
   "metadata": {},
   "outputs": [],
   "source": [
    "# Enforce `na` null convention\n",
    "non_null_rows = ['modifier', 'rev_code', 'ndc']\n",
    "df[non_null_rows] = df[non_null_rows].fillna('na')\n",
    "df['billed_quantity'] = df['billed_quantity'].fillna(-1)\n",
    "df = df.dropna(subset=['rate'])"
   ]
  },
  {
   "cell_type": "code",
   "execution_count": 298,
   "metadata": {},
   "outputs": [],
   "source": [
    "# Cleaning and schema conformance\n",
    "df[\"code\"] = df[\"code\"].str.lstrip(\"'\")\n",
    "df[\"rate\"] = df[\"rate\"].apply(lambda x: x.replace('$', '').replace(',', ''))\n",
    "df[\"rev_desc\"] = df[\"rev_desc\"].str[:100]\n",
    "df['code_type'] = df['code_type'].where(df['code_type'] != 'ndc', None)\n"
   ]
  },
  {
   "cell_type": "code",
   "execution_count": 301,
   "metadata": {},
   "outputs": [],
   "source": [
    "df.to_csv(output_file, index=False)"
   ]
  }
 ],
 "metadata": {
  "kernelspec": {
   "display_name": "scraper2",
   "language": "python",
   "name": "python3"
  },
  "language_info": {
   "codemirror_mode": {
    "name": "ipython",
    "version": 3
   },
   "file_extension": ".py",
   "mimetype": "text/x-python",
   "name": "python",
   "nbconvert_exporter": "python",
   "pygments_lexer": "ipython3",
   "version": "3.9.15"
  },
  "orig_nbformat": 4,
  "vscode": {
   "interpreter": {
    "hash": "a9bcbee5ffcc53cbf18b33c27c45fed958c2ecc5173f8a196b48be25f770ac4c"
   }
  }
 },
 "nbformat": 4,
 "nbformat_minor": 2
}
