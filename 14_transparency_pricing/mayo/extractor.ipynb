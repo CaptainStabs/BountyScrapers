{
 "cells": [
  {
   "cell_type": "code",
   "execution_count": 1,
   "metadata": {},
   "outputs": [],
   "source": [
    "import pandas as pd"
   ]
  },
  {
   "cell_type": "code",
   "execution_count": 5,
   "metadata": {},
   "outputs": [],
   "source": [
    "file = \"F:\\\\_Bounty\\\\860800150_mayo-clinic-arizona_standardcharges.csv\""
   ]
  },
  {
   "cell_type": "code",
   "execution_count": 17,
   "metadata": {},
   "outputs": [
    {
     "name": "stdout",
     "output_type": "stream",
     "text": [
      " Arizona  2023/03/19\n"
     ]
    }
   ],
   "source": [
    "with open(file, \"r\") as f:\n",
    "    for i, line in enumerate(f):\n",
    "        if i == 1:\n",
    "            hospital_name = line.split(\"-\")[-1].split(\",\")[0].strip('\"')\n",
    "        elif i == 2:\n",
    "            updated_date = line.split(\":\")[-1].split(\",\")[0].strip('\"')\n",
    "        if i > 2:\n",
    "            break\n",
    "        \n",
    "print(hospital_name, updated_date)\n",
    "            "
   ]
  },
  {
   "cell_type": "code",
   "execution_count": 12,
   "metadata": {},
   "outputs": [
    {
     "name": "stderr",
     "output_type": "stream",
     "text": [
      "C:\\Users\\adria\\AppData\\Local\\Temp\\ipykernel_30440\\2131829638.py:1: DtypeWarning: Columns (2,3,4,9,10,11,12,24) have mixed types. Specify dtype option on import or set low_memory=False.\n",
      "  df = pd.read_csv(file)\n"
     ]
    }
   ],
   "source": [
    "df = pd.read_csv(file)"
   ]
  },
  {
   "cell_type": "code",
   "execution_count": 13,
   "metadata": {},
   "outputs": [],
   "source": [
    "# Drop non-csv data\n",
    "df = df[7:]"
   ]
  },
  {
   "cell_type": "code",
   "execution_count": null,
   "metadata": {},
   "outputs": [],
   "source": [
    "df = df.rename(columns={\n",
    "    'code_desc': 'procedure_desc',\n",
    "    'hcpcs': 'hcpcs_cpt',\n",
    "    'setting': 'patient_class',\n",
    "    \n",
    "    \n",
    "})"
   ]
  },
  {
   "cell_type": "code",
   "execution_count": 18,
   "metadata": {},
   "outputs": [
    {
     "data": {
      "text/plain": [
       "Index(['code_desc', 'code', 'rev_code', 'rev_desc', 'hcpcs', 'code_type',\n",
       "       'billing_class', 'setting', 'billed_quantity', 'dose_type',\n",
       "       'implied_quantity', 'hcpcs_dose', 'modifier', 'standard_gross_charge',\n",
       "       'discounted_cash_price', 'contract_name', 'product_name',\n",
       "       'payer_specific_negotiated_rate', 'applicable_percent',\n",
       "       'minimum_negotiated', 'maximum_negotiated', 'count_of_compared_rates',\n",
       "       'rate_method', 'rate_desc', 'footnote'],\n",
       "      dtype='object')"
      ]
     },
     "execution_count": 18,
     "metadata": {},
     "output_type": "execute_result"
    }
   ],
   "source": [
    "df.columns"
   ]
  }
 ],
 "metadata": {
  "kernelspec": {
   "display_name": "scraper2",
   "language": "python",
   "name": "python3"
  },
  "language_info": {
   "codemirror_mode": {
    "name": "ipython",
    "version": 3
   },
   "file_extension": ".py",
   "mimetype": "text/x-python",
   "name": "python",
   "nbconvert_exporter": "python",
   "pygments_lexer": "ipython3",
   "version": "3.9.15"
  },
  "orig_nbformat": 4,
  "vscode": {
   "interpreter": {
    "hash": "a9bcbee5ffcc53cbf18b33c27c45fed958c2ecc5173f8a196b48be25f770ac4c"
   }
  }
 },
 "nbformat": 4,
 "nbformat_minor": 2
}
