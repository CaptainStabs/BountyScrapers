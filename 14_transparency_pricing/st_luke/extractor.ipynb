{
 "cells": [
  {
   "cell_type": "code",
   "execution_count": 28,
   "metadata": {},
   "outputs": [],
   "source": [
    "import pandas as pd\n",
    "import polars as pl\n",
    "import os\n",
    "from tqdm import tqdm"
   ]
  },
  {
   "cell_type": "code",
   "execution_count": 29,
   "metadata": {},
   "outputs": [],
   "source": [
    "folder = '.\\\\input_files\\\\'\n",
    "file = '231352213_StLukesHospitalAllentownCampus_standardcharges.csv'\n",
    "\n",
    "df = pd.read_csv(folder + file, dtype=str)"
   ]
  },
  {
   "cell_type": "code",
   "execution_count": 30,
   "metadata": {},
   "outputs": [],
   "source": [
    "df.rename(columns={\n",
    "    'Record ID': 'local_code',\n",
    "    'Description': 'description',\n",
    "    'CPT/DRG': 'code',\n",
    "}, inplace=True)"
   ]
  },
  {
   "cell_type": "code",
   "execution_count": 31,
   "metadata": {},
   "outputs": [],
   "source": [
    "cols = df.columns.tolist()\n",
    "id_vars = cols[:3]\n",
    "value_vars = cols[3:]\n",
    "\n",
    "df = pd.melt(df, id_vars=id_vars, value_vars=value_vars, var_name='payer', value_name='standard_charge')"
   ]
  },
  {
   "cell_type": "code",
   "execution_count": 32,
   "metadata": {},
   "outputs": [],
   "source": [
    "df.loc[df['code'].str.len() == 3, 'ms_drg'] = df['code']\n",
    "df.loc[df['code'].str.len() == 5, 'hcpcs_cpt'] = df['code']"
   ]
  },
  {
   "cell_type": "code",
   "execution_count": 33,
   "metadata": {},
   "outputs": [],
   "source": [
    "df['payer'] = df['payer'].str.strip()"
   ]
  },
  {
   "cell_type": "code",
   "execution_count": 34,
   "metadata": {},
   "outputs": [],
   "source": [
    "mapping = {\n",
    "    'Gross Charge': 'gross',\n",
    "    'Self Pay': 'cash',\n",
    "    'Min Payment': 'min',\n",
    "    'Max Payment': 'max'\n",
    "}\n",
    "\n",
    "df['payer_category'] = df['payer'].map(mapping).fillna('payer')"
   ]
  },
  {
   "cell_type": "code",
   "execution_count": 40,
   "metadata": {},
   "outputs": [],
   "source": [
    "df['standard_charge'] = df['standard_charge'].str.replace('\\$|,|\\(|\\)', '', regex=True)"
   ]
  },
  {
   "cell_type": "code",
   "execution_count": 41,
   "metadata": {},
   "outputs": [],
   "source": [
    "df['standard_charge'] = df['standard_charge'].astype(float)"
   ]
  },
  {
   "cell_type": "code",
   "execution_count": 50,
   "metadata": {},
   "outputs": [],
   "source": [
    "df['ms_drg'].fillna('', inplace=True)\n",
    "df['hcpcs_cpt'].fillna('', inplace=True)\n",
    "df['code'].fillna('', inplace=True)\n",
    "df['local_code'].fillna('', inplace=True)"
   ]
  },
  {
   "cell_type": "code",
   "execution_count": 51,
   "metadata": {},
   "outputs": [],
   "source": [
    "ccn = {\n",
    "    '844475996': '390162',\n",
    "    '824432109': '390332',\n",
    "    '465143606': '390330',\n",
    "    '454394739': '390326',\n",
    "    '251550350': '390183',\n",
    "    '231352213': '390049',\n",
    "    '231352213': '390335',\n",
    "    '231352203': '390035',\n",
    "    '221494454': '310060'\n",
    "}\n",
    "\n",
    "ein = file.split('_')[0]\n",
    "\n",
    "df['hospital_id'] = ccn[ein]"
   ]
  },
  {
   "cell_type": "code",
   "execution_count": 54,
   "metadata": {},
   "outputs": [],
   "source": [
    "df1 = pl.from_pandas(df)\n",
    "df1.write_csv('.\\\\output_files\\\\' + file.split('_')[1] + '.csv')"
   ]
  }
 ],
 "metadata": {
  "kernelspec": {
   "display_name": "scraper",
   "language": "python",
   "name": "python3"
  },
  "language_info": {
   "codemirror_mode": {
    "name": "ipython",
    "version": 3
   },
   "file_extension": ".py",
   "mimetype": "text/x-python",
   "name": "python",
   "nbconvert_exporter": "python",
   "pygments_lexer": "ipython3",
   "version": "3.9.7"
  },
  "orig_nbformat": 4
 },
 "nbformat": 4,
 "nbformat_minor": 2
}
