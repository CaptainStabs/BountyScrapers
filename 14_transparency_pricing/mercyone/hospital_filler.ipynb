{
 "cells": [
  {
   "cell_type": "code",
   "execution_count": 8,
   "metadata": {},
   "outputs": [],
   "source": [
    "import pandas as pd"
   ]
  },
  {
   "cell_type": "code",
   "execution_count": 9,
   "metadata": {},
   "outputs": [],
   "source": [
    "df = pd.read_csv('hospital.csv', dtype=str)"
   ]
  },
  {
   "cell_type": "code",
   "execution_count": 10,
   "metadata": {},
   "outputs": [],
   "source": [
    "# df['file_name'] = df['mrf_url'].str.split('/').str[-1]"
   ]
  },
  {
   "cell_type": "code",
   "execution_count": 11,
   "metadata": {},
   "outputs": [],
   "source": [
    "df['ein'] = df['file_name'].str.split('_').str[0]"
   ]
  },
  {
   "cell_type": "code",
   "execution_count": 12,
   "metadata": {},
   "outputs": [],
   "source": [
    "df.to_csv('hospitals.csv', index=False)"
   ]
  },
  {
   "cell_type": "code",
   "execution_count": 13,
   "metadata": {},
   "outputs": [
    {
     "data": {
      "text/plain": [
       "{'421470935_mercyone-newton-medical-center_standardcharges.csv': '160032',\n",
       " '420758901_MercyOne Cedar Falls Medical Center_standardcharges.xlsx': '160040',\n",
       " '311373080_Mercy Medical Center North Iowa_standardcharges.xlsx': '160064',\n",
       " '421264647_MercyOne Waterloo Medical Center_standardcharges.xlsx': '160067',\n",
       " '421437483_Mercy Medical Center Dubuque_standardcharges.xlsx': '160069',\n",
       " '421336618_Mercy Medical Center Clinton_standardcharges.xlsx': '160080',\n",
       " '420680448_mercyone-des-moines-medical-center_standardcharges.xlsx': '160083',\n",
       " '311407377_Mercy Medical Center Siouxland_standardcharges.xlsx': '160153',\n",
       " '421500277_MercyOne Primghar Medical Center_standardcharges.xlsx': '161300',\n",
       " '420818642_MercyOne Elkader Medical Center_standardcharges.xlsx': '161319',\n",
       " '421178403_MercyOne Oelwein Medical Center_standardcharges.xlsx': '161338',\n",
       " '420680308_mercyone-centerville-medical-center_standardcharges.csv': '161377',\n",
       " '202552602_Mercy Medical Center Dyersville_standardcharges.xlsx': '161378'}"
      ]
     },
     "execution_count": 13,
     "metadata": {},
     "output_type": "execute_result"
    }
   ],
   "source": [
    "ein_ccn_dict = dict(zip(df['file_name'], df['id']))\n",
    "ein_ccn_dict"
   ]
  }
 ],
 "metadata": {
  "kernelspec": {
   "display_name": "scraper2",
   "language": "python",
   "name": "python3"
  },
  "language_info": {
   "codemirror_mode": {
    "name": "ipython",
    "version": 3
   },
   "file_extension": ".py",
   "mimetype": "text/x-python",
   "name": "python",
   "nbconvert_exporter": "python",
   "pygments_lexer": "ipython3",
   "version": "3.9.15"
  },
  "orig_nbformat": 4
 },
 "nbformat": 4,
 "nbformat_minor": 2
}
