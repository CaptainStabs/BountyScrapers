{
 "cells": [
  {
   "cell_type": "code",
   "execution_count": 1,
   "metadata": {},
   "outputs": [],
   "source": [
    "import pandas as pd\n",
    "import numpy as np\n",
    "import polars as pl\n"
   ]
  },
  {
   "cell_type": "code",
   "execution_count": 2,
   "metadata": {},
   "outputs": [
    {
     "name": "stderr",
     "output_type": "stream",
     "text": [
      "C:\\Users\\adria\\AppData\\Local\\Temp\\ipykernel_2024\\346380062.py:11: DtypeWarning: Columns (9,10,11,12,13,14,15,16,17,18,19,20,21,22,23,24,25,26,27,28,29,30,31,32,33,34,35,36,37,38,39,40,41,42,43) have mixed types. Specify dtype option on import or set low_memory=False.\n",
      "  df = pd.read_csv(folder + file, dtype=dtypes, skiprows=3)\n"
     ]
    }
   ],
   "source": [
    "folder = '.\\\\input_files\\\\'\n",
    "file = '952294234_adventist-health---bakersfield_standardcharges.csv'\n",
    "\n",
    "dtypes = {\n",
    "    'Procedure Code': str, \n",
    "    'Revenue Code': str, \n",
    "    'Modifier1': str,\n",
    "    'Modifier2': str,   \n",
    "    'Rx Unit Multiplier': str \n",
    "}\n",
    "df = pd.read_csv(folder + file, dtype=dtypes, skiprows=3)\n"
   ]
  },
  {
   "cell_type": "code",
   "execution_count": 3,
   "metadata": {},
   "outputs": [],
   "source": [
    "df.rename(columns={\n",
    "    'Procedure Code': 'local_code',\n",
    "    'Procedure Description': 'description',\n",
    "    'Price Tier': 'setting',\n",
    "    'Revenue Code': 'rev_code',\n",
    "    'CPT HCPCS Code': 'code',\n",
    "    'NDC Code': 'ndc',\n",
    "    'Rx Unit Multiplier': 'drug_hcpcs_multiplier'\n",
    "    \n",
    "}, inplace=True)"
   ]
  },
  {
   "cell_type": "code",
   "execution_count": 4,
   "metadata": {},
   "outputs": [],
   "source": [
    "df = df[~df['local_code'].isin(['Diagnosis Related Group Code', 'Shoppable Services Code'])]"
   ]
  },
  {
   "cell_type": "code",
   "execution_count": 5,
   "metadata": {},
   "outputs": [],
   "source": [
    "cols = df.columns.tolist()\n",
    "id_vars = cols[:9]\n",
    "value_vars = cols[9:]\n",
    "\n",
    "\n",
    "df = pd.melt(df, id_vars=id_vars, value_vars=value_vars, var_name='payer', value_name='rate')"
   ]
  },
  {
   "cell_type": "code",
   "execution_count": 6,
   "metadata": {},
   "outputs": [],
   "source": [
    "df['ndc'].fillna(pd.NA, inplace=True)"
   ]
  },
  {
   "cell_type": "code",
   "execution_count": 7,
   "metadata": {},
   "outputs": [],
   "source": [
    "mapping = {\n",
    "    'Gross Charge': 'gross',\n",
    "    'Discounted Cash Price': 'cash',\n",
    "    'De-identified minimum negotiated charge': 'min',\n",
    "    'De-identified maximum negotiated charge': 'max'\n",
    "}\n",
    "\n",
    "df['payer_category'] = df['payer'].map(mapping).fillna('payer')"
   ]
  },
  {
   "cell_type": "code",
   "execution_count": 8,
   "metadata": {},
   "outputs": [],
   "source": [
    "df['plan'] = ''\n",
    "df['plan'] = np.where(df['payer'].str.contains('ALL_PAYER_-_ALL_OTHER_PLANS'), 'ALL PAYER - ALL OTHER PLANS',\n",
    "                      np.where(df['payer'].str.contains('ALL_OTHER_PLANS'), 'ALL OTHER PLANS',\n",
    "                               np.where(df['payer'].str.contains('ALL_PLANS'), 'ALL PLANS', df['plan'])))\n",
    "\n",
    "\n",
    "df['payer'] = df['payer'].str.replace('ALL_PAYER_-_ALL_OTHER_PLANS|ALL_PLANS|ALL_OTHER_PLANS', '', regex=True).str.strip('-_')"
   ]
  },
  {
   "cell_type": "code",
   "execution_count": 9,
   "metadata": {},
   "outputs": [],
   "source": [
    "df.loc[df['drug_hcpcs_multiplier'] == '0', 'drug_hcpcs_multiplier'] = pd.NA"
   ]
  },
  {
   "cell_type": "code",
   "execution_count": 10,
   "metadata": {},
   "outputs": [],
   "source": [
    "df['modifiers'] = df['Modifier1'] + df['Modifier2']\n",
    "df.drop(['Modifier1', 'Modifier2'], axis=1, inplace=True)"
   ]
  },
  {
   "cell_type": "code",
   "execution_count": 11,
   "metadata": {},
   "outputs": [],
   "source": [
    "cols = ['setting', 'code', 'ndc', 'local_code', 'plan', 'modifiers']\n",
    "df[cols] = df[cols].astype(str)\n",
    "df.loc[:, cols].fillna('', inplace=True)"
   ]
  },
  {
   "cell_type": "code",
   "execution_count": 12,
   "metadata": {},
   "outputs": [],
   "source": [
    "df['setting'].fillna('', inplace=True)"
   ]
  },
  {
   "cell_type": "code",
   "execution_count": 13,
   "metadata": {},
   "outputs": [],
   "source": [
    "df['rate'] = df['rate'].astype(float)"
   ]
  },
  {
   "cell_type": "code",
   "execution_count": 14,
   "metadata": {},
   "outputs": [],
   "source": [
    "df.loc[df['code'].str.match(r'^\\d{3}$'), 'ms_drg'] = df['code']"
   ]
  },
  {
   "cell_type": "code",
   "execution_count": 15,
   "metadata": {},
   "outputs": [],
   "source": [
    "df.loc[df['ndc'].isin(['<NA>', 'nan']), 'ndc'] = ''\n",
    "df.loc[df['setting'].isin(['<NA>', 'nan']),'setting'] = ''\n",
    "df.loc[df['modifiers'].isin(['<NA>', 'nan']),'modifiers'] = ''\n",
    "\n",
    "df['ms_drg'].fillna('', inplace=True)\n",
    "df['rev_code'].fillna('', inplace=True)\n",
    "\n",
    "df['drug_hcpcs_multiplier'].fillna(pd.NA, inplace=True)"
   ]
  },
  {
   "cell_type": "code",
   "execution_count": 19,
   "metadata": {},
   "outputs": [],
   "source": [
    "df.loc[df['local_code'] != df['code'], 'temp_cpt'] = df['code']"
   ]
  },
  {
   "cell_type": "code",
   "execution_count": 26,
   "metadata": {},
   "outputs": [],
   "source": [
    "df.loc[(df['local_code'] != df['code']) & (df['code'].str.len() == 5), 'hcpcs_cpt'] = df['code']\n",
    "df.loc[(df['local_code'] != df['code']) & (df['code'].str.len() == 3), 'ms_drg'] = df['code']\n",
    "df.loc[(df['local_code'] == df['code']) & (df['code'].str.len() != 5) & (df['code'].str.len() != 3), 'icd'] = df['code']"
   ]
  },
  {
   "cell_type": "code",
   "execution_count": 38,
   "metadata": {},
   "outputs": [],
   "source": [
    "setting_map = {\n",
    "        'ambulatory surgical': 'outpatient',\n",
    "        'emergency': 'emergency',\n",
    "        'observation': 'outpatient',\n",
    "        'urgent care': 'outpatient',\n",
    "        'profee': 'inpatient',\n",
    "        'inpatient': 'inpatient',\n",
    "        'outpatient': 'outpatient'\n",
    "    }\n",
    "\n",
    "df.loc[df['setting'].isin(setting_map.keys()), 'additional_payer_notes'] = f\"Original patient setting: {df['setting']}\"\n",
    "\n",
    "df['setting'] = df['setting'].map(setting_map).fillna('1')"
   ]
  },
  {
   "cell_type": "code",
   "execution_count": 40,
   "metadata": {},
   "outputs": [
    {
     "data": {
      "text/html": [
       "<div>\n",
       "<style scoped>\n",
       "    .dataframe tbody tr th:only-of-type {\n",
       "        vertical-align: middle;\n",
       "    }\n",
       "\n",
       "    .dataframe tbody tr th {\n",
       "        vertical-align: top;\n",
       "    }\n",
       "\n",
       "    .dataframe thead th {\n",
       "        text-align: right;\n",
       "    }\n",
       "</style>\n",
       "<table border=\"1\" class=\"dataframe\">\n",
       "  <thead>\n",
       "    <tr style=\"text-align: right;\">\n",
       "      <th></th>\n",
       "      <th>local_code</th>\n",
       "      <th>description</th>\n",
       "      <th>setting</th>\n",
       "      <th>rev_code</th>\n",
       "      <th>code</th>\n",
       "      <th>ndc</th>\n",
       "      <th>drug_hcpcs_multiplier</th>\n",
       "      <th>payer</th>\n",
       "      <th>rate</th>\n",
       "      <th>payer_category</th>\n",
       "      <th>plan</th>\n",
       "      <th>modifiers</th>\n",
       "      <th>ms_drg</th>\n",
       "      <th>temp_cpt</th>\n",
       "      <th>icd</th>\n",
       "      <th>hcpcs_cpt</th>\n",
       "      <th>additional_payer_notes</th>\n",
       "    </tr>\n",
       "  </thead>\n",
       "  <tbody>\n",
       "  </tbody>\n",
       "</table>\n",
       "</div>"
      ],
      "text/plain": [
       "Empty DataFrame\n",
       "Columns: [local_code, description, setting, rev_code, code, ndc, drug_hcpcs_multiplier, payer, rate, payer_category, plan, modifiers, ms_drg, temp_cpt, icd, hcpcs_cpt, additional_payer_notes]\n",
       "Index: []"
      ]
     },
     "execution_count": 40,
     "metadata": {},
     "output_type": "execute_result"
    }
   ],
   "source": [
    "df.loc[~df['additional_payer_notes'].isna()]"
   ]
  }
 ],
 "metadata": {
  "kernelspec": {
   "display_name": "scraper",
   "language": "python",
   "name": "python3"
  },
  "language_info": {
   "codemirror_mode": {
    "name": "ipython",
    "version": 3
   },
   "file_extension": ".py",
   "mimetype": "text/x-python",
   "name": "python",
   "nbconvert_exporter": "python",
   "pygments_lexer": "ipython3",
   "version": "3.9.7"
  },
  "orig_nbformat": 4
 },
 "nbformat": 4,
 "nbformat_minor": 2
}
