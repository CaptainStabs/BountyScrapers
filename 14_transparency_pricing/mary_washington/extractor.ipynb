{
 "cells": [
  {
   "cell_type": "code",
   "execution_count": 1,
   "metadata": {},
   "outputs": [],
   "source": [
    "import pandas as pd"
   ]
  },
  {
   "cell_type": "code",
   "execution_count": 19,
   "metadata": {},
   "outputs": [],
   "source": [
    "def payer_category(x):\n",
    "    payers = {\n",
    "        'Charge': 'gross',\n",
    "        'Self Pay Price': 'cash',\n",
    "        'Min Negotiated Rate': 'min',\n",
    "        'Max Negotiated Rate': 'max',\n",
    "    }\n",
    "\n",
    "    try:\n",
    "        return payers[x]\n",
    "    except KeyError:\n",
    "        return 'payer'"
   ]
  },
  {
   "cell_type": "code",
   "execution_count": 2,
   "metadata": {},
   "outputs": [],
   "source": [
    "file = '540519577_mary-washington-hospital_standardcharges.xlsx'\n",
    "df = pd.read_excel(file)"
   ]
  },
  {
   "cell_type": "code",
   "execution_count": 4,
   "metadata": {},
   "outputs": [],
   "source": [
    "df.rename(columns={\n",
    "    'Code': 'code',\n",
    "    'Desc.': 'description'\n",
    "}, inplace=True)"
   ]
  },
  {
   "cell_type": "code",
   "execution_count": 14,
   "metadata": {},
   "outputs": [
    {
     "name": "stderr",
     "output_type": "stream",
     "text": [
      "C:\\Users\\adria\\AppData\\Local\\Temp\\ipykernel_22480\\1417882709.py:6: FutureWarning: This dataframe has a column name that matches the 'value_name' column name of the resulting Dataframe. In the future this will raise an error, please set the 'value_name' parameter of DataFrame.melt to a unique name.\n",
      "  df = pd.melt(df, id_vars=id_vars, value_vars=value_vars, var_name='payer', value_name= 'standard_charge')\n"
     ]
    },
    {
     "ename": "KeyError",
     "evalue": "\"The following 'value_vars' are not present in the DataFrame: ['Charge']\"",
     "output_type": "error",
     "traceback": [
      "\u001b[1;31m---------------------------------------------------------------------------\u001b[0m",
      "\u001b[1;31mKeyError\u001b[0m                                  Traceback (most recent call last)",
      "\u001b[1;32mc:\\Users\\adria\\github\\BountyScrapers\\14_transparency_pricing\\mary_washington\\extractor.ipynb Cell 4\u001b[0m in \u001b[0;36m<cell line: 6>\u001b[1;34m()\u001b[0m\n\u001b[0;32m      <a href='vscode-notebook-cell:/c%3A/Users/adria/github/BountyScrapers/14_transparency_pricing/mary_washington/extractor.ipynb#W4sZmlsZQ%3D%3D?line=2'>3</a>\u001b[0m value_vars \u001b[39m=\u001b[39m cols[\u001b[39m3\u001b[39m:]\n\u001b[0;32m      <a href='vscode-notebook-cell:/c%3A/Users/adria/github/BountyScrapers/14_transparency_pricing/mary_washington/extractor.ipynb#W4sZmlsZQ%3D%3D?line=3'>4</a>\u001b[0m value_vars\u001b[39m.\u001b[39mappend(\u001b[39m'\u001b[39m\u001b[39mCharge\u001b[39m\u001b[39m'\u001b[39m)\n\u001b[1;32m----> <a href='vscode-notebook-cell:/c%3A/Users/adria/github/BountyScrapers/14_transparency_pricing/mary_washington/extractor.ipynb#W4sZmlsZQ%3D%3D?line=5'>6</a>\u001b[0m df \u001b[39m=\u001b[39m pd\u001b[39m.\u001b[39mmelt(df, id_vars\u001b[39m=\u001b[39mid_vars, value_vars\u001b[39m=\u001b[39mvalue_vars, var_name\u001b[39m=\u001b[39m\u001b[39m'\u001b[39m\u001b[39mpayer\u001b[39m\u001b[39m'\u001b[39m, value_name\u001b[39m=\u001b[39m \u001b[39m'\u001b[39m\u001b[39mstandard_charge\u001b[39m\u001b[39m'\u001b[39m)\n",
      "File \u001b[1;32mc:\\Users\\adria\\Miniconda3\\envs\\scraper\\lib\\site-packages\\pandas\\core\\reshape\\melt.py:97\u001b[0m, in \u001b[0;36mmelt\u001b[1;34m(frame, id_vars, value_vars, var_name, value_name, col_level, ignore_index)\u001b[0m\n\u001b[0;32m     95\u001b[0m     missing \u001b[39m=\u001b[39m Index(com\u001b[39m.\u001b[39mflatten(value_vars))\u001b[39m.\u001b[39mdifference(cols)\n\u001b[0;32m     96\u001b[0m     \u001b[39mif\u001b[39;00m \u001b[39mnot\u001b[39;00m missing\u001b[39m.\u001b[39mempty:\n\u001b[1;32m---> 97\u001b[0m         \u001b[39mraise\u001b[39;00m \u001b[39mKeyError\u001b[39;00m(\n\u001b[0;32m     98\u001b[0m             \u001b[39m\"\u001b[39m\u001b[39mThe following \u001b[39m\u001b[39m'\u001b[39m\u001b[39mvalue_vars\u001b[39m\u001b[39m'\u001b[39m\u001b[39m are not present in \u001b[39m\u001b[39m\"\u001b[39m\n\u001b[0;32m     99\u001b[0m             \u001b[39mf\u001b[39m\u001b[39m\"\u001b[39m\u001b[39mthe DataFrame: \u001b[39m\u001b[39m{\u001b[39;00m\u001b[39mlist\u001b[39m(missing)\u001b[39m}\u001b[39;00m\u001b[39m\"\u001b[39m\n\u001b[0;32m    100\u001b[0m         )\n\u001b[0;32m    101\u001b[0m \u001b[39mif\u001b[39;00m col_level \u001b[39mis\u001b[39;00m \u001b[39mnot\u001b[39;00m \u001b[39mNone\u001b[39;00m:\n\u001b[0;32m    102\u001b[0m     idx \u001b[39m=\u001b[39m frame\u001b[39m.\u001b[39mcolumns\u001b[39m.\u001b[39mget_level_values(col_level)\u001b[39m.\u001b[39mget_indexer(\n\u001b[0;32m    103\u001b[0m         id_vars \u001b[39m+\u001b[39m value_vars\n\u001b[0;32m    104\u001b[0m     )\n",
      "\u001b[1;31mKeyError\u001b[0m: \"The following 'value_vars' are not present in the DataFrame: ['Charge']\""
     ]
    }
   ],
   "source": [
    "cols = df.columns.tolist()\n",
    "id_vars = ['code', 'description']\n",
    "value_vars = cols[3:]\n",
    "value_vars.append('Charge')\n",
    "\n",
    "df = pd.melt(df, id_vars=id_vars, value_vars=value_vars, var_name='payer', value_name= 'standard_charge')"
   ]
  },
  {
   "cell_type": "code",
   "execution_count": 15,
   "metadata": {},
   "outputs": [],
   "source": [
    "df.dropna(subset=['standard_charge'], inplace=True)"
   ]
  },
  {
   "cell_type": "code",
   "execution_count": 17,
   "metadata": {},
   "outputs": [],
   "source": [
    "df.loc[df['code'].str.len() == 5, 'hcpcs_cpt'] = df['code']"
   ]
  },
  {
   "cell_type": "code",
   "execution_count": 22,
   "metadata": {},
   "outputs": [],
   "source": [
    "df['payer_category'] = df['payer'].apply(payer_category)"
   ]
  },
  {
   "cell_type": "code",
   "execution_count": 26,
   "metadata": {},
   "outputs": [],
   "source": [
    "ccn = {\n",
    "    '540519577': '490022',\n",
    "    '134316364': '490140'\n",
    "}\n",
    "\n",
    "ein = file.split('_')[0]\n",
    "df['hospital_id'] = ccn[ein]"
   ]
  },
  {
   "cell_type": "code",
   "execution_count": 27,
   "metadata": {},
   "outputs": [],
   "source": [
    "df.to_csv(file.split('_')[0] + '.csv', index=False)"
   ]
  }
 ],
 "metadata": {
  "kernelspec": {
   "display_name": "scraper",
   "language": "python",
   "name": "python3"
  },
  "language_info": {
   "codemirror_mode": {
    "name": "ipython",
    "version": 3
   },
   "file_extension": ".py",
   "mimetype": "text/x-python",
   "name": "python",
   "nbconvert_exporter": "python",
   "pygments_lexer": "ipython3",
   "version": "3.9.7"
  },
  "orig_nbformat": 4
 },
 "nbformat": 4,
 "nbformat_minor": 2
}
