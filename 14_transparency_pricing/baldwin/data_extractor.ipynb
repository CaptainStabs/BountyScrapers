{
 "cells": [
  {
   "cell_type": "code",
   "execution_count": 376,
   "metadata": {},
   "outputs": [],
   "source": [
    "import pandas as pd\n",
    "from datetime import datetime\n",
    "import numpy as np"
   ]
  },
  {
   "cell_type": "code",
   "execution_count": 377,
   "metadata": {},
   "outputs": [],
   "source": [
    "def payer_category(payer_category):\n",
    "    cats = {\n",
    "        'DISCOUNTED CASH PRICE INPATIENT': 'cash', \n",
    "        'DISCOUNTED CASH PRICE OUTPATIENT': 'cash', \n",
    "        'Gross Charge': 'gross',\n",
    "        'DE-IDENTIFIED MIN': 'min',\n",
    "        'DE-IDENTIFIED MAX': 'max'\n",
    "    }\n",
    "    try:\n",
    "        return cats[payer_category]\n",
    "    except KeyError:\n",
    "        return \"payer\""
   ]
  },
  {
   "cell_type": "code",
   "execution_count": 378,
   "metadata": {},
   "outputs": [],
   "source": [
    "file = \"621811413_South Baldwin_standardcharges.csv\"\n",
    "ccn = '010083'\n",
    "url = 'https://www.southbaldwinrmc.com/Uploads/Public/Documents/charge-masters/621811413_South%20Baldwin_standardcharges.csv'"
   ]
  },
  {
   "cell_type": "code",
   "execution_count": 379,
   "metadata": {},
   "outputs": [],
   "source": [
    "df = pd.read_csv(file)"
   ]
  },
  {
   "cell_type": "code",
   "execution_count": 380,
   "metadata": {},
   "outputs": [],
   "source": [
    "df = df.rename(columns={\n",
    "    \"SVCCD\": 'procedure_code',\n",
    "    'Description': 'description',\n",
    "    'CPT': 'code',\n",
    "    'As of Date': 'file_last_updated'\n",
    "})"
   ]
  },
  {
   "cell_type": "code",
   "execution_count": 381,
   "metadata": {},
   "outputs": [],
   "source": [
    "df['hcpcs_cpt'] = df['code'].apply(lambda x: x if len(str(x)) == 5 else pd.NA)\n",
    "df[\"file_last_updated\"] = pd.to_datetime(df[\"file_last_updated\"])"
   ]
  },
  {
   "cell_type": "code",
   "execution_count": 382,
   "metadata": {},
   "outputs": [
    {
     "name": "stdout",
     "output_type": "stream",
     "text": [
      "['procedure_code', 'description', 'code', 'Gross Charge', 'file_last_updated', 'DISCOUNTED CASH PRICE INPATIENT', 'DISCOUNTED CASH PRICE OUTPATIENT', 'DE-IDENTIFIED MIN', 'DE-IDENTIFIED MAX', 'BCBSAL PPO - All Plans', 'UHC PPO - All Plans ', 'Aetna PPO - All Plans ', 'Cigna PPO - All Plans ', 'Humana PPO - All Plans ', 'COMM Viva Health PPO - All Plans ', 'UHC MA - All Plans ', 'Humana MA - All Plans ', 'BCBSAL MA - All Plans ', 'Healthspring MA - All Plans ', 'Aetna/Coventry MA - All Plans ', 'Viva Health MA - All Plans ', 'Multiplan - All Plans ', 'hcpcs_cpt']\n"
     ]
    },
    {
     "data": {
      "text/plain": [
       "['DISCOUNTED CASH PRICE INPATIENT',\n",
       " 'DISCOUNTED CASH PRICE OUTPATIENT',\n",
       " 'DE-IDENTIFIED MIN',\n",
       " 'DE-IDENTIFIED MAX',\n",
       " 'BCBSAL PPO - All Plans',\n",
       " 'UHC PPO - All Plans ',\n",
       " 'Aetna PPO - All Plans ',\n",
       " 'Cigna PPO - All Plans ',\n",
       " 'Humana PPO - All Plans ',\n",
       " 'COMM Viva Health PPO - All Plans ',\n",
       " 'UHC MA - All Plans ',\n",
       " 'Humana MA - All Plans ',\n",
       " 'BCBSAL MA - All Plans ',\n",
       " 'Healthspring MA - All Plans ',\n",
       " 'Aetna/Coventry MA - All Plans ',\n",
       " 'Viva Health MA - All Plans ',\n",
       " 'Multiplan - All Plans ',\n",
       " 'Gross Charge']"
      ]
     },
     "execution_count": 382,
     "metadata": {},
     "output_type": "execute_result"
    }
   ],
   "source": [
    "cols = df.columns.tolist()\n",
    "id_vars = cols[:cols.index('code')+1]\n",
    "id_vars.extend(['file_last_updated', 'hcpcs_cpt'])\n",
    "\n",
    "payer_cat = cols[cols.index('DISCOUNTED CASH PRICE INPATIENT'):]\n",
    "payer_cat.pop(-1) # Remove code from list\n",
    "payer_cat.append('Gross Charge')\n",
    "\n",
    "df = pd.melt(df, id_vars=id_vars, value_vars=payer_cat, var_name='payer_orig', value_name='rate')"
   ]
  },
  {
   "cell_type": "code",
   "execution_count": 383,
   "metadata": {},
   "outputs": [],
   "source": [
    "df[\"payer_category\"] = df[\"payer_orig\"].apply(payer_category)\n",
    "df['patient_class'] = df['payer_orig'].apply(lambda x: 'inpatient' if x.endswith('INPATIENT') else ('outpatient' if x.endswith('OUTPATIENT') else 'na'))"
   ]
  },
  {
   "cell_type": "code",
   "execution_count": 384,
   "metadata": {},
   "outputs": [],
   "source": [
    "df[\"plan_name\"] = df['payer_orig'].apply(lambda x: x.split(\" - \")[-1].strip() if \" - \" in x else pd.NA)\n",
    "df['payer_name'] = df['payer_orig'].str.split(\" - \")[0]"
   ]
  },
  {
   "cell_type": "code",
   "execution_count": 385,
   "metadata": {},
   "outputs": [],
   "source": [
    "tin = file.split(\"_\")[0]\n",
    "tin = tin[:2] + \"-\" + tin[2:]\n",
    "\n",
    "df[\"filename\"] = file\n",
    "df[\"url\"] = url\n",
    "df[\"hospital_ccn\"] = ccn\n",
    "df[\"hospital_tin\"] = tin"
   ]
  },
  {
   "cell_type": "code",
   "execution_count": 387,
   "metadata": {},
   "outputs": [],
   "source": [
    "df.dropna(subset=['code'], inplace=True)\n",
    "df = df[(df['code'] != 'SURG') & (df['hcpcs_cpt'] != 'SURG') & (df['hcpcs_cpt'] != 'MANUL') & (df['code'] != 'MANUL')]"
   ]
  },
  {
   "cell_type": "code",
   "execution_count": 388,
   "metadata": {},
   "outputs": [],
   "source": [
    "df[\"payer_orig\"] = df[\"payer_orig\"].str.strip()\n",
    "df['hcpcs_cpt'] = df['code'].apply(lambda x: x if len(str(x)) == 5 else pd.NA)\n",
    "# df[\"code_type\"] = df['code'].apply(lambda x: 'hcpcs_cpt' if len(str(x)) == 5 else pd.NA)\n",
    "df['code_type'] = np.where(df['procedure_code'] == 'DRG', 'ms-drg', np.where(df['code'].astype(str).str.len() == 5, 'hcpcs_cpt', pd.NA))\n",
    "df.loc[df['code_type'] == 'ms-drg', 'code'] = df['code'].astype(str).str.zfill(3)"
   ]
  },
  {
   "cell_type": "code",
   "execution_count": 390,
   "metadata": {},
   "outputs": [],
   "source": [
    "df.to_csv(\"south_baldwin.csv\", index=False)"
   ]
  }
 ],
 "metadata": {
  "kernelspec": {
   "display_name": "scraper",
   "language": "python",
   "name": "python3"
  },
  "language_info": {
   "codemirror_mode": {
    "name": "ipython",
    "version": 3
   },
   "file_extension": ".py",
   "mimetype": "text/x-python",
   "name": "python",
   "nbconvert_exporter": "python",
   "pygments_lexer": "ipython3",
   "version": "3.9.15"
  },
  "orig_nbformat": 4
 },
 "nbformat": 4,
 "nbformat_minor": 2
}
