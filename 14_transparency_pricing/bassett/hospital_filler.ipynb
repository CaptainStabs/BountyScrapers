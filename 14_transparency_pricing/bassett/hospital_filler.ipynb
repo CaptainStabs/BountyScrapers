{
 "cells": [
  {
   "cell_type": "code",
   "execution_count": 1,
   "metadata": {},
   "outputs": [],
   "source": [
    "import pandas as pd"
   ]
  },
  {
   "cell_type": "code",
   "execution_count": 2,
   "metadata": {},
   "outputs": [],
   "source": [
    "df = pd.read_csv('hospital.csv', dtype=str)"
   ]
  },
  {
   "cell_type": "code",
   "execution_count": 3,
   "metadata": {},
   "outputs": [],
   "source": [
    "df['file_name'] = df['mrf_url'].str.split('/').str[-1]"
   ]
  },
  {
   "cell_type": "code",
   "execution_count": 4,
   "metadata": {},
   "outputs": [],
   "source": [
    "df['ein'] = df['file_name'].str.split('_').str[0].str[:2] + '-' + df['file_name'].str.split('_').str[0].str[2:]"
   ]
  },
  {
   "cell_type": "code",
   "execution_count": 5,
   "metadata": {},
   "outputs": [
    {
     "data": {
      "text/html": [
       "<div>\n",
       "<style scoped>\n",
       "    .dataframe tbody tr th:only-of-type {\n",
       "        vertical-align: middle;\n",
       "    }\n",
       "\n",
       "    .dataframe tbody tr th {\n",
       "        vertical-align: top;\n",
       "    }\n",
       "\n",
       "    .dataframe thead th {\n",
       "        text-align: right;\n",
       "    }\n",
       "</style>\n",
       "<table border=\"1\" class=\"dataframe\">\n",
       "  <thead>\n",
       "    <tr style=\"text-align: right;\">\n",
       "      <th></th>\n",
       "      <th>id</th>\n",
       "      <th>ein</th>\n",
       "      <th>mrf_url</th>\n",
       "      <th>transparency_page</th>\n",
       "      <th>name</th>\n",
       "      <th>alt_name</th>\n",
       "      <th>system_name</th>\n",
       "      <th>addr</th>\n",
       "      <th>city</th>\n",
       "      <th>state</th>\n",
       "      <th>zip</th>\n",
       "      <th>phone</th>\n",
       "      <th>urban_rural</th>\n",
       "      <th>category</th>\n",
       "      <th>control_type</th>\n",
       "      <th>medicare_termination_status</th>\n",
       "      <th>last_updated</th>\n",
       "      <th>file_name</th>\n",
       "      <th>permalink</th>\n",
       "      <th>additional_notes</th>\n",
       "    </tr>\n",
       "  </thead>\n",
       "  <tbody>\n",
       "    <tr>\n",
       "      <th>0</th>\n",
       "      <td>330085</td>\n",
       "      <td>15-0539039</td>\n",
       "      <td>https://www.bassett.org/sites/default/files/20...</td>\n",
       "      <td>https://www.bassett.org/locations/ao-fox-hospi...</td>\n",
       "      <td>AURELIA OSBORN FOX MEMORIAL HOSPITAL</td>\n",
       "      <td>A.O. Fox Hospital</td>\n",
       "      <td>Bassett Healthcare Network</td>\n",
       "      <td>ONE NORTON AVENUE</td>\n",
       "      <td>ONEONTA</td>\n",
       "      <td>NY</td>\n",
       "      <td>13820</td>\n",
       "      <td>6074322000</td>\n",
       "      <td>R</td>\n",
       "      <td>Short Term</td>\n",
       "      <td>FOR PROFIT - PARTNERSHIP</td>\n",
       "      <td>ACTIVE PROVIDER</td>\n",
       "      <td>NaN</td>\n",
       "      <td>150539039_AURELIA-OSBORN-FOX-MEMORIAL-HOSPITAL...</td>\n",
       "      <td>NaN</td>\n",
       "      <td>NaN</td>\n",
       "    </tr>\n",
       "    <tr>\n",
       "      <th>1</th>\n",
       "      <td>330136</td>\n",
       "      <td>13-5596796</td>\n",
       "      <td>https://www.bassett.org/sites/default/files/20...</td>\n",
       "      <td>https://www.bassett.org/locations/bassett-medi...</td>\n",
       "      <td>MARY IMOGENE BASSETT HOSPITAL</td>\n",
       "      <td>Bassett Medical Center</td>\n",
       "      <td>Bassett Healthcare Network</td>\n",
       "      <td>ONE ATWELL ROAD</td>\n",
       "      <td>COOPERSTOWN</td>\n",
       "      <td>NY</td>\n",
       "      <td>13326</td>\n",
       "      <td>6075473456</td>\n",
       "      <td>R</td>\n",
       "      <td>Short Term</td>\n",
       "      <td>FOR PROFIT - PARTNERSHIP</td>\n",
       "      <td>ACTIVE PROVIDER</td>\n",
       "      <td>NaN</td>\n",
       "      <td>135596796_MARY-IMOGENE-BASSETT-HOSPITAL_STANDA...</td>\n",
       "      <td>NaN</td>\n",
       "      <td>NaN</td>\n",
       "    </tr>\n",
       "    <tr>\n",
       "      <th>2</th>\n",
       "      <td>330408</td>\n",
       "      <td>15-0539039</td>\n",
       "      <td>https://www.bassett.org/sites/default/files/20...</td>\n",
       "      <td>https://www.bassett.org/locations/ao-fox-hospi...</td>\n",
       "      <td>TRI-TOWN REGIONAL HEALTHCARE</td>\n",
       "      <td>NaN</td>\n",
       "      <td>NaN</td>\n",
       "      <td>43 WEST PEARL STREET</td>\n",
       "      <td>SIDNEY</td>\n",
       "      <td>NY</td>\n",
       "      <td>13838</td>\n",
       "      <td>6075637080</td>\n",
       "      <td>R</td>\n",
       "      <td>Short Term</td>\n",
       "      <td>FOR PROFIT - PARTNERSHIP</td>\n",
       "      <td>VOLUNTARY-MERGER, CLOSURE</td>\n",
       "      <td>NaN</td>\n",
       "      <td>150539039_AURELIA-OSBORN-FOX-MEMORIAL-HOSPITAL...</td>\n",
       "      <td>NaN</td>\n",
       "      <td>NaN</td>\n",
       "    </tr>\n",
       "    <tr>\n",
       "      <th>3</th>\n",
       "      <td>331305</td>\n",
       "      <td>16-1540394</td>\n",
       "      <td>https://www.bassett.org/sites/default/files/20...</td>\n",
       "      <td>https://www.bassett.org/locations/oconnor-hosp...</td>\n",
       "      <td>O'CONNOR HOSPITAL</td>\n",
       "      <td>O'Connor Hospital</td>\n",
       "      <td>Bassett Healthcare Network</td>\n",
       "      <td>460 ANDES ROAD</td>\n",
       "      <td>DELHI</td>\n",
       "      <td>NY</td>\n",
       "      <td>13753</td>\n",
       "      <td>6077460300</td>\n",
       "      <td>R</td>\n",
       "      <td>Critical Access Hospitals</td>\n",
       "      <td>FOR PROFIT - PARTNERSHIP</td>\n",
       "      <td>ACTIVE PROVIDER</td>\n",
       "      <td>NaN</td>\n",
       "      <td>161540394_OCONNOR-HOSPITAL_STANDARDCHARGES_0.xlsx</td>\n",
       "      <td>NaN</td>\n",
       "      <td>NaN</td>\n",
       "    </tr>\n",
       "    <tr>\n",
       "      <th>4</th>\n",
       "      <td>331311</td>\n",
       "      <td>15-0533578</td>\n",
       "      <td>https://www.bassett.org/sites/default/files/20...</td>\n",
       "      <td>https://www.bassett.org/locations/little-falls...</td>\n",
       "      <td>LITTLE FALLS HOSPITAL</td>\n",
       "      <td>Little Falls Hospital</td>\n",
       "      <td>Bassett Healthcare Network</td>\n",
       "      <td>140 BURWELL STREET</td>\n",
       "      <td>LITTLE FALLS</td>\n",
       "      <td>NY</td>\n",
       "      <td>13365</td>\n",
       "      <td>3158235261</td>\n",
       "      <td>U</td>\n",
       "      <td>Critical Access Hospitals</td>\n",
       "      <td>FOR PROFIT - PARTNERSHIP</td>\n",
       "      <td>ACTIVE PROVIDER</td>\n",
       "      <td>NaN</td>\n",
       "      <td>150533578_LITTLE-FALLS-HOSPITAL_STANDARDCHARGE...</td>\n",
       "      <td>NaN</td>\n",
       "      <td>NaN</td>\n",
       "    </tr>\n",
       "    <tr>\n",
       "      <th>5</th>\n",
       "      <td>331320</td>\n",
       "      <td>14-1772971</td>\n",
       "      <td>https://www.bassett.org/sites/default/files/20...</td>\n",
       "      <td>https://www.bassett.org/locations/cobleskill-r...</td>\n",
       "      <td>COBLESKILL REGIONAL HOSPITAL</td>\n",
       "      <td>Cobleskill Regional Hospital</td>\n",
       "      <td>Bassett Healthcare Network</td>\n",
       "      <td>178 GRANDVIEW DRIVE</td>\n",
       "      <td>COBLESKILL</td>\n",
       "      <td>NY</td>\n",
       "      <td>12043</td>\n",
       "      <td>5182543456</td>\n",
       "      <td>U</td>\n",
       "      <td>Critical Access Hospitals</td>\n",
       "      <td>FOR PROFIT - PARTNERSHIP</td>\n",
       "      <td>ACTIVE PROVIDER</td>\n",
       "      <td>NaN</td>\n",
       "      <td>141772971_COBLESKILL-REGIONAL-HOSPITAL_STANDAR...</td>\n",
       "      <td>NaN</td>\n",
       "      <td>NaN</td>\n",
       "    </tr>\n",
       "  </tbody>\n",
       "</table>\n",
       "</div>"
      ],
      "text/plain": [
       "       id         ein                                            mrf_url   \n",
       "0  330085  15-0539039  https://www.bassett.org/sites/default/files/20...  \\\n",
       "1  330136  13-5596796  https://www.bassett.org/sites/default/files/20...   \n",
       "2  330408  15-0539039  https://www.bassett.org/sites/default/files/20...   \n",
       "3  331305  16-1540394  https://www.bassett.org/sites/default/files/20...   \n",
       "4  331311  15-0533578  https://www.bassett.org/sites/default/files/20...   \n",
       "5  331320  14-1772971  https://www.bassett.org/sites/default/files/20...   \n",
       "\n",
       "                                   transparency_page   \n",
       "0  https://www.bassett.org/locations/ao-fox-hospi...  \\\n",
       "1  https://www.bassett.org/locations/bassett-medi...   \n",
       "2  https://www.bassett.org/locations/ao-fox-hospi...   \n",
       "3  https://www.bassett.org/locations/oconnor-hosp...   \n",
       "4  https://www.bassett.org/locations/little-falls...   \n",
       "5  https://www.bassett.org/locations/cobleskill-r...   \n",
       "\n",
       "                                   name                      alt_name   \n",
       "0  AURELIA OSBORN FOX MEMORIAL HOSPITAL             A.O. Fox Hospital  \\\n",
       "1         MARY IMOGENE BASSETT HOSPITAL        Bassett Medical Center   \n",
       "2          TRI-TOWN REGIONAL HEALTHCARE                           NaN   \n",
       "3                     O'CONNOR HOSPITAL             O'Connor Hospital   \n",
       "4                 LITTLE FALLS HOSPITAL         Little Falls Hospital   \n",
       "5          COBLESKILL REGIONAL HOSPITAL  Cobleskill Regional Hospital   \n",
       "\n",
       "                  system_name                  addr          city state   \n",
       "0  Bassett Healthcare Network     ONE NORTON AVENUE       ONEONTA    NY  \\\n",
       "1  Bassett Healthcare Network       ONE ATWELL ROAD   COOPERSTOWN    NY   \n",
       "2                         NaN  43 WEST PEARL STREET        SIDNEY    NY   \n",
       "3  Bassett Healthcare Network        460 ANDES ROAD         DELHI    NY   \n",
       "4  Bassett Healthcare Network    140 BURWELL STREET  LITTLE FALLS    NY   \n",
       "5  Bassett Healthcare Network   178 GRANDVIEW DRIVE    COBLESKILL    NY   \n",
       "\n",
       "     zip       phone urban_rural                   category   \n",
       "0  13820  6074322000           R                 Short Term  \\\n",
       "1  13326  6075473456           R                 Short Term   \n",
       "2  13838  6075637080           R                 Short Term   \n",
       "3  13753  6077460300           R  Critical Access Hospitals   \n",
       "4  13365  3158235261           U  Critical Access Hospitals   \n",
       "5  12043  5182543456           U  Critical Access Hospitals   \n",
       "\n",
       "               control_type medicare_termination_status last_updated   \n",
       "0  FOR PROFIT - PARTNERSHIP             ACTIVE PROVIDER          NaN  \\\n",
       "1  FOR PROFIT - PARTNERSHIP             ACTIVE PROVIDER          NaN   \n",
       "2  FOR PROFIT - PARTNERSHIP   VOLUNTARY-MERGER, CLOSURE          NaN   \n",
       "3  FOR PROFIT - PARTNERSHIP             ACTIVE PROVIDER          NaN   \n",
       "4  FOR PROFIT - PARTNERSHIP             ACTIVE PROVIDER          NaN   \n",
       "5  FOR PROFIT - PARTNERSHIP             ACTIVE PROVIDER          NaN   \n",
       "\n",
       "                                           file_name permalink   \n",
       "0  150539039_AURELIA-OSBORN-FOX-MEMORIAL-HOSPITAL...       NaN  \\\n",
       "1  135596796_MARY-IMOGENE-BASSETT-HOSPITAL_STANDA...       NaN   \n",
       "2  150539039_AURELIA-OSBORN-FOX-MEMORIAL-HOSPITAL...       NaN   \n",
       "3  161540394_OCONNOR-HOSPITAL_STANDARDCHARGES_0.xlsx       NaN   \n",
       "4  150533578_LITTLE-FALLS-HOSPITAL_STANDARDCHARGE...       NaN   \n",
       "5  141772971_COBLESKILL-REGIONAL-HOSPITAL_STANDAR...       NaN   \n",
       "\n",
       "  additional_notes  \n",
       "0              NaN  \n",
       "1              NaN  \n",
       "2              NaN  \n",
       "3              NaN  \n",
       "4              NaN  \n",
       "5              NaN  "
      ]
     },
     "execution_count": 5,
     "metadata": {},
     "output_type": "execute_result"
    }
   ],
   "source": [
    "df"
   ]
  },
  {
   "cell_type": "code",
   "execution_count": 6,
   "metadata": {},
   "outputs": [],
   "source": [
    "df.to_csv('hospitals.csv', index=False)"
   ]
  },
  {
   "cell_type": "code",
   "execution_count": 7,
   "metadata": {},
   "outputs": [
    {
     "data": {
      "text/plain": [
       "{'150539039_AURELIA-OSBORN-FOX-MEMORIAL-HOSPITAL_STANDARDCHARGES_0.xlsx': '330408',\n",
       " '135596796_MARY-IMOGENE-BASSETT-HOSPITAL_STANDARDCHARGES.xlsx': '330136',\n",
       " '161540394_OCONNOR-HOSPITAL_STANDARDCHARGES_0.xlsx': '331305',\n",
       " '150533578_LITTLE-FALLS-HOSPITAL_STANDARDCHARGES_0.xlsx': '331311',\n",
       " '141772971_COBLESKILL-REGIONAL-HOSPITAL_STANDARDCHARGES_0.xlsx': '331320'}"
      ]
     },
     "execution_count": 7,
     "metadata": {},
     "output_type": "execute_result"
    }
   ],
   "source": [
    "ein_ccn_dict = dict(zip(df['file_name'], df['id']))\n",
    "ein_ccn_dict"
   ]
  },
  {
   "cell_type": "code",
   "execution_count": 8,
   "metadata": {},
   "outputs": [
    {
     "name": "stderr",
     "output_type": "stream",
     "text": [
      "100%|██████████| 6/6 [00:06<00:00,  1.08s/it]\n"
     ]
    },
    {
     "data": {
      "text/plain": [
       "0    None\n",
       "1    None\n",
       "2    None\n",
       "3    None\n",
       "4    None\n",
       "5    None\n",
       "dtype: object"
      ]
     },
     "execution_count": 8,
     "metadata": {},
     "output_type": "execute_result"
    }
   ],
   "source": [
    "from tqdm import tqdm\n",
    "import pandas as pd\n",
    "import requests\n",
    "\n",
    "tqdm = tqdm.pandas()\n",
    "\n",
    "def get_files(filename, url):\n",
    "    r = requests.get(url)\n",
    "    with open('.\\\\input_excel\\\\' + filename, 'wb') as f:\n",
    "        f.write(r.content)\n",
    "\n",
    "df[['file_name', 'mrf_url']].progress_apply(lambda x: get_files(x[0], x[1]), axis=1)\n",
    "\n",
    "\n",
    "\n"
   ]
  },
  {
   "cell_type": "code",
   "execution_count": 10,
   "metadata": {},
   "outputs": [
    {
     "name": "stderr",
     "output_type": "stream",
     "text": [
      "  0%|          | 0/5 [01:24<?, ?it/s]\n"
     ]
    },
    {
     "ename": "KeyboardInterrupt",
     "evalue": "",
     "output_type": "error",
     "traceback": [
      "\u001b[1;31m---------------------------------------------------------------------------\u001b[0m",
      "\u001b[1;31mKeyboardInterrupt\u001b[0m                         Traceback (most recent call last)",
      "Cell \u001b[1;32mIn[10], line 6\u001b[0m\n\u001b[0;32m      4\u001b[0m input_folder \u001b[39m=\u001b[39m \u001b[39m'\u001b[39m\u001b[39m.\u001b[39m\u001b[39m\\\\\u001b[39;00m\u001b[39minput_excel\u001b[39m\u001b[39m\\\\\u001b[39;00m\u001b[39m'\u001b[39m\n\u001b[0;32m      5\u001b[0m \u001b[39mfor\u001b[39;00m file \u001b[39min\u001b[39;00m tqdm(os\u001b[39m.\u001b[39mlistdir(input_folder)):\n\u001b[1;32m----> 6\u001b[0m     df \u001b[39m=\u001b[39m pd\u001b[39m.\u001b[39;49mread_excel(input_folder \u001b[39m+\u001b[39;49m file, dtype\u001b[39m=\u001b[39;49m\u001b[39mstr\u001b[39;49m)\n\u001b[0;32m      7\u001b[0m     df\u001b[39m.\u001b[39mto_csv(\u001b[39m'\u001b[39m\u001b[39m.\u001b[39m\u001b[39m\\\\\u001b[39;00m\u001b[39minput_files\u001b[39m\u001b[39m\\\\\u001b[39;00m\u001b[39m'\u001b[39m \u001b[39m+\u001b[39m file\u001b[39m.\u001b[39mreplace(\u001b[39m'\u001b[39m\u001b[39m.xlsx\u001b[39m\u001b[39m'\u001b[39m, \u001b[39m'\u001b[39m\u001b[39m.csv\u001b[39m\u001b[39m'\u001b[39m), index\u001b[39m=\u001b[39m\u001b[39mFalse\u001b[39;00m)\n",
      "File \u001b[1;32mc:\\Users\\adria\\miniconda3\\envs\\scraper2\\lib\\site-packages\\pandas\\io\\excel\\_base.py:486\u001b[0m, in \u001b[0;36mread_excel\u001b[1;34m(io, sheet_name, header, names, index_col, usecols, dtype, engine, converters, true_values, false_values, skiprows, nrows, na_values, keep_default_na, na_filter, verbose, parse_dates, date_parser, date_format, thousands, decimal, comment, skipfooter, storage_options, dtype_backend)\u001b[0m\n\u001b[0;32m    480\u001b[0m     \u001b[39mraise\u001b[39;00m \u001b[39mValueError\u001b[39;00m(\n\u001b[0;32m    481\u001b[0m         \u001b[39m\"\u001b[39m\u001b[39mEngine should not be specified when passing \u001b[39m\u001b[39m\"\u001b[39m\n\u001b[0;32m    482\u001b[0m         \u001b[39m\"\u001b[39m\u001b[39man ExcelFile - ExcelFile already has the engine set\u001b[39m\u001b[39m\"\u001b[39m\n\u001b[0;32m    483\u001b[0m     )\n\u001b[0;32m    485\u001b[0m \u001b[39mtry\u001b[39;00m:\n\u001b[1;32m--> 486\u001b[0m     data \u001b[39m=\u001b[39m io\u001b[39m.\u001b[39;49mparse(\n\u001b[0;32m    487\u001b[0m         sheet_name\u001b[39m=\u001b[39;49msheet_name,\n\u001b[0;32m    488\u001b[0m         header\u001b[39m=\u001b[39;49mheader,\n\u001b[0;32m    489\u001b[0m         names\u001b[39m=\u001b[39;49mnames,\n\u001b[0;32m    490\u001b[0m         index_col\u001b[39m=\u001b[39;49mindex_col,\n\u001b[0;32m    491\u001b[0m         usecols\u001b[39m=\u001b[39;49musecols,\n\u001b[0;32m    492\u001b[0m         dtype\u001b[39m=\u001b[39;49mdtype,\n\u001b[0;32m    493\u001b[0m         converters\u001b[39m=\u001b[39;49mconverters,\n\u001b[0;32m    494\u001b[0m         true_values\u001b[39m=\u001b[39;49mtrue_values,\n\u001b[0;32m    495\u001b[0m         false_values\u001b[39m=\u001b[39;49mfalse_values,\n\u001b[0;32m    496\u001b[0m         skiprows\u001b[39m=\u001b[39;49mskiprows,\n\u001b[0;32m    497\u001b[0m         nrows\u001b[39m=\u001b[39;49mnrows,\n\u001b[0;32m    498\u001b[0m         na_values\u001b[39m=\u001b[39;49mna_values,\n\u001b[0;32m    499\u001b[0m         keep_default_na\u001b[39m=\u001b[39;49mkeep_default_na,\n\u001b[0;32m    500\u001b[0m         na_filter\u001b[39m=\u001b[39;49mna_filter,\n\u001b[0;32m    501\u001b[0m         verbose\u001b[39m=\u001b[39;49mverbose,\n\u001b[0;32m    502\u001b[0m         parse_dates\u001b[39m=\u001b[39;49mparse_dates,\n\u001b[0;32m    503\u001b[0m         date_parser\u001b[39m=\u001b[39;49mdate_parser,\n\u001b[0;32m    504\u001b[0m         date_format\u001b[39m=\u001b[39;49mdate_format,\n\u001b[0;32m    505\u001b[0m         thousands\u001b[39m=\u001b[39;49mthousands,\n\u001b[0;32m    506\u001b[0m         decimal\u001b[39m=\u001b[39;49mdecimal,\n\u001b[0;32m    507\u001b[0m         comment\u001b[39m=\u001b[39;49mcomment,\n\u001b[0;32m    508\u001b[0m         skipfooter\u001b[39m=\u001b[39;49mskipfooter,\n\u001b[0;32m    509\u001b[0m         dtype_backend\u001b[39m=\u001b[39;49mdtype_backend,\n\u001b[0;32m    510\u001b[0m     )\n\u001b[0;32m    511\u001b[0m \u001b[39mfinally\u001b[39;00m:\n\u001b[0;32m    512\u001b[0m     \u001b[39m# make sure to close opened file handles\u001b[39;00m\n\u001b[0;32m    513\u001b[0m     \u001b[39mif\u001b[39;00m should_close:\n",
      "File \u001b[1;32mc:\\Users\\adria\\miniconda3\\envs\\scraper2\\lib\\site-packages\\pandas\\io\\excel\\_base.py:1551\u001b[0m, in \u001b[0;36mExcelFile.parse\u001b[1;34m(self, sheet_name, header, names, index_col, usecols, converters, true_values, false_values, skiprows, nrows, na_values, parse_dates, date_parser, date_format, thousands, comment, skipfooter, dtype_backend, **kwds)\u001b[0m\n\u001b[0;32m   1518\u001b[0m \u001b[39mdef\u001b[39;00m \u001b[39mparse\u001b[39m(\n\u001b[0;32m   1519\u001b[0m     \u001b[39mself\u001b[39m,\n\u001b[0;32m   1520\u001b[0m     sheet_name: \u001b[39mstr\u001b[39m \u001b[39m|\u001b[39m \u001b[39mint\u001b[39m \u001b[39m|\u001b[39m \u001b[39mlist\u001b[39m[\u001b[39mint\u001b[39m] \u001b[39m|\u001b[39m \u001b[39mlist\u001b[39m[\u001b[39mstr\u001b[39m] \u001b[39m|\u001b[39m \u001b[39mNone\u001b[39;00m \u001b[39m=\u001b[39m \u001b[39m0\u001b[39m,\n\u001b[1;32m   (...)\u001b[0m\n\u001b[0;32m   1538\u001b[0m     \u001b[39m*\u001b[39m\u001b[39m*\u001b[39mkwds,\n\u001b[0;32m   1539\u001b[0m ) \u001b[39m-\u001b[39m\u001b[39m>\u001b[39m DataFrame \u001b[39m|\u001b[39m \u001b[39mdict\u001b[39m[\u001b[39mstr\u001b[39m, DataFrame] \u001b[39m|\u001b[39m \u001b[39mdict\u001b[39m[\u001b[39mint\u001b[39m, DataFrame]:\n\u001b[0;32m   1540\u001b[0m     \u001b[39m\"\"\"\u001b[39;00m\n\u001b[0;32m   1541\u001b[0m \u001b[39m    Parse specified sheet(s) into a DataFrame.\u001b[39;00m\n\u001b[0;32m   1542\u001b[0m \n\u001b[1;32m   (...)\u001b[0m\n\u001b[0;32m   1549\u001b[0m \u001b[39m        DataFrame from the passed in Excel file.\u001b[39;00m\n\u001b[0;32m   1550\u001b[0m \u001b[39m    \"\"\"\u001b[39;00m\n\u001b[1;32m-> 1551\u001b[0m     \u001b[39mreturn\u001b[39;00m \u001b[39mself\u001b[39m\u001b[39m.\u001b[39m_reader\u001b[39m.\u001b[39mparse(\n\u001b[0;32m   1552\u001b[0m         sheet_name\u001b[39m=\u001b[39msheet_name,\n\u001b[0;32m   1553\u001b[0m         header\u001b[39m=\u001b[39mheader,\n\u001b[0;32m   1554\u001b[0m         names\u001b[39m=\u001b[39mnames,\n\u001b[0;32m   1555\u001b[0m         index_col\u001b[39m=\u001b[39mindex_col,\n\u001b[0;32m   1556\u001b[0m         usecols\u001b[39m=\u001b[39musecols,\n\u001b[0;32m   1557\u001b[0m         converters\u001b[39m=\u001b[39mconverters,\n\u001b[0;32m   1558\u001b[0m         true_values\u001b[39m=\u001b[39mtrue_values,\n\u001b[0;32m   1559\u001b[0m         false_values\u001b[39m=\u001b[39mfalse_values,\n\u001b[0;32m   1560\u001b[0m         skiprows\u001b[39m=\u001b[39mskiprows,\n\u001b[0;32m   1561\u001b[0m         nrows\u001b[39m=\u001b[39mnrows,\n\u001b[0;32m   1562\u001b[0m         na_values\u001b[39m=\u001b[39mna_values,\n\u001b[0;32m   1563\u001b[0m         parse_dates\u001b[39m=\u001b[39mparse_dates,\n\u001b[0;32m   1564\u001b[0m         date_parser\u001b[39m=\u001b[39mdate_parser,\n\u001b[0;32m   1565\u001b[0m         date_format\u001b[39m=\u001b[39mdate_format,\n\u001b[0;32m   1566\u001b[0m         thousands\u001b[39m=\u001b[39mthousands,\n\u001b[0;32m   1567\u001b[0m         comment\u001b[39m=\u001b[39mcomment,\n\u001b[0;32m   1568\u001b[0m         skipfooter\u001b[39m=\u001b[39mskipfooter,\n\u001b[0;32m   1569\u001b[0m         dtype_backend\u001b[39m=\u001b[39mdtype_backend,\n\u001b[0;32m   1570\u001b[0m         \u001b[39m*\u001b[39m\u001b[39m*\u001b[39mkwds,\n\u001b[0;32m   1571\u001b[0m     )\n",
      "File \u001b[1;32mc:\\Users\\adria\\miniconda3\\envs\\scraper2\\lib\\site-packages\\pandas\\io\\excel\\_base.py:751\u001b[0m, in \u001b[0;36mBaseExcelReader.parse\u001b[1;34m(self, sheet_name, header, names, index_col, usecols, dtype, true_values, false_values, skiprows, nrows, na_values, verbose, parse_dates, date_parser, date_format, thousands, decimal, comment, skipfooter, dtype_backend, **kwds)\u001b[0m\n\u001b[0;32m    748\u001b[0m     sheet \u001b[39m=\u001b[39m \u001b[39mself\u001b[39m\u001b[39m.\u001b[39mget_sheet_by_index(asheetname)\n\u001b[0;32m    750\u001b[0m file_rows_needed \u001b[39m=\u001b[39m \u001b[39mself\u001b[39m\u001b[39m.\u001b[39m_calc_rows(header, index_col, skiprows, nrows)\n\u001b[1;32m--> 751\u001b[0m data \u001b[39m=\u001b[39m \u001b[39mself\u001b[39;49m\u001b[39m.\u001b[39;49mget_sheet_data(sheet, file_rows_needed)\n\u001b[0;32m    752\u001b[0m \u001b[39mif\u001b[39;00m \u001b[39mhasattr\u001b[39m(sheet, \u001b[39m\"\u001b[39m\u001b[39mclose\u001b[39m\u001b[39m\"\u001b[39m):\n\u001b[0;32m    753\u001b[0m     \u001b[39m# pyxlsb opens two TemporaryFiles\u001b[39;00m\n\u001b[0;32m    754\u001b[0m     sheet\u001b[39m.\u001b[39mclose()\n",
      "File \u001b[1;32mc:\\Users\\adria\\miniconda3\\envs\\scraper2\\lib\\site-packages\\pandas\\io\\excel\\_openpyxl.py:602\u001b[0m, in \u001b[0;36mOpenpyxlReader.get_sheet_data\u001b[1;34m(self, sheet, file_rows_needed)\u001b[0m\n\u001b[0;32m    600\u001b[0m data: \u001b[39mlist\u001b[39m[\u001b[39mlist\u001b[39m[Scalar]] \u001b[39m=\u001b[39m []\n\u001b[0;32m    601\u001b[0m last_row_with_data \u001b[39m=\u001b[39m \u001b[39m-\u001b[39m\u001b[39m1\u001b[39m\n\u001b[1;32m--> 602\u001b[0m \u001b[39mfor\u001b[39;00m row_number, row \u001b[39min\u001b[39;00m \u001b[39menumerate\u001b[39m(sheet\u001b[39m.\u001b[39mrows):\n\u001b[0;32m    603\u001b[0m     converted_row \u001b[39m=\u001b[39m [\u001b[39mself\u001b[39m\u001b[39m.\u001b[39m_convert_cell(cell) \u001b[39mfor\u001b[39;00m cell \u001b[39min\u001b[39;00m row]\n\u001b[0;32m    604\u001b[0m     \u001b[39mwhile\u001b[39;00m converted_row \u001b[39mand\u001b[39;00m converted_row[\u001b[39m-\u001b[39m\u001b[39m1\u001b[39m] \u001b[39m==\u001b[39m \u001b[39m\"\u001b[39m\u001b[39m\"\u001b[39m:\n\u001b[0;32m    605\u001b[0m         \u001b[39m# trim trailing empty elements\u001b[39;00m\n",
      "File \u001b[1;32mc:\\Users\\adria\\miniconda3\\envs\\scraper2\\lib\\site-packages\\openpyxl\\worksheet\\_read_only.py:81\u001b[0m, in \u001b[0;36mReadOnlyWorksheet._cells_by_row\u001b[1;34m(self, min_col, min_row, max_col, max_row, values_only)\u001b[0m\n\u001b[0;32m     77\u001b[0m src \u001b[39m=\u001b[39m \u001b[39mself\u001b[39m\u001b[39m.\u001b[39m_get_source()\n\u001b[0;32m     78\u001b[0m parser \u001b[39m=\u001b[39m WorkSheetParser(src, \u001b[39mself\u001b[39m\u001b[39m.\u001b[39m_shared_strings,\n\u001b[0;32m     79\u001b[0m                          data_only\u001b[39m=\u001b[39m\u001b[39mself\u001b[39m\u001b[39m.\u001b[39mparent\u001b[39m.\u001b[39mdata_only, epoch\u001b[39m=\u001b[39m\u001b[39mself\u001b[39m\u001b[39m.\u001b[39mparent\u001b[39m.\u001b[39mepoch,\n\u001b[0;32m     80\u001b[0m                          date_formats\u001b[39m=\u001b[39m\u001b[39mself\u001b[39m\u001b[39m.\u001b[39mparent\u001b[39m.\u001b[39m_date_formats)\n\u001b[1;32m---> 81\u001b[0m \u001b[39mfor\u001b[39;00m idx, row \u001b[39min\u001b[39;00m parser\u001b[39m.\u001b[39mparse():\n\u001b[0;32m     82\u001b[0m     \u001b[39mif\u001b[39;00m max_row \u001b[39mis\u001b[39;00m \u001b[39mnot\u001b[39;00m \u001b[39mNone\u001b[39;00m \u001b[39mand\u001b[39;00m idx \u001b[39m>\u001b[39m max_row:\n\u001b[0;32m     83\u001b[0m         \u001b[39mbreak\u001b[39;00m\n",
      "File \u001b[1;32mc:\\Users\\adria\\miniconda3\\envs\\scraper2\\lib\\site-packages\\openpyxl\\worksheet\\_reader.py:156\u001b[0m, in \u001b[0;36mWorkSheetParser.parse\u001b[1;34m(self)\u001b[0m\n\u001b[0;32m    137\u001b[0m properties \u001b[39m=\u001b[39m {\n\u001b[0;32m    138\u001b[0m     PRINT_TAG: (\u001b[39m'\u001b[39m\u001b[39mprint_options\u001b[39m\u001b[39m'\u001b[39m, PrintOptions),\n\u001b[0;32m    139\u001b[0m     MARGINS_TAG: (\u001b[39m'\u001b[39m\u001b[39mpage_margins\u001b[39m\u001b[39m'\u001b[39m, PageMargins),\n\u001b[1;32m   (...)\u001b[0m\n\u001b[0;32m    151\u001b[0m \n\u001b[0;32m    152\u001b[0m }\n\u001b[0;32m    154\u001b[0m it \u001b[39m=\u001b[39m iterparse(\u001b[39mself\u001b[39m\u001b[39m.\u001b[39msource) \u001b[39m# add a finaliser to close the source when this becomes possible\u001b[39;00m\n\u001b[1;32m--> 156\u001b[0m \u001b[39mfor\u001b[39;00m _, element \u001b[39min\u001b[39;00m it:\n\u001b[0;32m    157\u001b[0m     tag_name \u001b[39m=\u001b[39m element\u001b[39m.\u001b[39mtag\n\u001b[0;32m    158\u001b[0m     \u001b[39mif\u001b[39;00m tag_name \u001b[39min\u001b[39;00m dispatcher:\n",
      "File \u001b[1;32mc:\\Users\\adria\\miniconda3\\envs\\scraper2\\lib\\xml\\etree\\ElementTree.py:1255\u001b[0m, in \u001b[0;36miterparse.<locals>.iterator\u001b[1;34m(source)\u001b[0m\n\u001b[0;32m   1253\u001b[0m \u001b[39myield from\u001b[39;00m pullparser\u001b[39m.\u001b[39mread_events()\n\u001b[0;32m   1254\u001b[0m \u001b[39m# load event buffer\u001b[39;00m\n\u001b[1;32m-> 1255\u001b[0m data \u001b[39m=\u001b[39m source\u001b[39m.\u001b[39;49mread(\u001b[39m16\u001b[39;49m \u001b[39m*\u001b[39;49m \u001b[39m1024\u001b[39;49m)\n\u001b[0;32m   1256\u001b[0m \u001b[39mif\u001b[39;00m \u001b[39mnot\u001b[39;00m data:\n\u001b[0;32m   1257\u001b[0m     \u001b[39mbreak\u001b[39;00m\n",
      "File \u001b[1;32mc:\\Users\\adria\\miniconda3\\envs\\scraper2\\lib\\zipfile.py:924\u001b[0m, in \u001b[0;36mZipExtFile.read\u001b[1;34m(self, n)\u001b[0m\n\u001b[0;32m    922\u001b[0m \u001b[39mself\u001b[39m\u001b[39m.\u001b[39m_offset \u001b[39m=\u001b[39m \u001b[39m0\u001b[39m\n\u001b[0;32m    923\u001b[0m \u001b[39mwhile\u001b[39;00m n \u001b[39m>\u001b[39m \u001b[39m0\u001b[39m \u001b[39mand\u001b[39;00m \u001b[39mnot\u001b[39;00m \u001b[39mself\u001b[39m\u001b[39m.\u001b[39m_eof:\n\u001b[1;32m--> 924\u001b[0m     data \u001b[39m=\u001b[39m \u001b[39mself\u001b[39;49m\u001b[39m.\u001b[39;49m_read1(n)\n\u001b[0;32m    925\u001b[0m     \u001b[39mif\u001b[39;00m n \u001b[39m<\u001b[39m \u001b[39mlen\u001b[39m(data):\n\u001b[0;32m    926\u001b[0m         \u001b[39mself\u001b[39m\u001b[39m.\u001b[39m_readbuffer \u001b[39m=\u001b[39m data\n",
      "File \u001b[1;32mc:\\Users\\adria\\miniconda3\\envs\\scraper2\\lib\\zipfile.py:1000\u001b[0m, in \u001b[0;36mZipExtFile._read1\u001b[1;34m(self, n)\u001b[0m\n\u001b[0;32m    998\u001b[0m \u001b[39melif\u001b[39;00m \u001b[39mself\u001b[39m\u001b[39m.\u001b[39m_compress_type \u001b[39m==\u001b[39m ZIP_DEFLATED:\n\u001b[0;32m    999\u001b[0m     n \u001b[39m=\u001b[39m \u001b[39mmax\u001b[39m(n, \u001b[39mself\u001b[39m\u001b[39m.\u001b[39mMIN_READ_SIZE)\n\u001b[1;32m-> 1000\u001b[0m     data \u001b[39m=\u001b[39m \u001b[39mself\u001b[39;49m\u001b[39m.\u001b[39;49m_decompressor\u001b[39m.\u001b[39;49mdecompress(data, n)\n\u001b[0;32m   1001\u001b[0m     \u001b[39mself\u001b[39m\u001b[39m.\u001b[39m_eof \u001b[39m=\u001b[39m (\u001b[39mself\u001b[39m\u001b[39m.\u001b[39m_decompressor\u001b[39m.\u001b[39meof \u001b[39mor\u001b[39;00m\n\u001b[0;32m   1002\u001b[0m                  \u001b[39mself\u001b[39m\u001b[39m.\u001b[39m_compress_left \u001b[39m<\u001b[39m\u001b[39m=\u001b[39m \u001b[39m0\u001b[39m \u001b[39mand\u001b[39;00m\n\u001b[0;32m   1003\u001b[0m                  \u001b[39mnot\u001b[39;00m \u001b[39mself\u001b[39m\u001b[39m.\u001b[39m_decompressor\u001b[39m.\u001b[39munconsumed_tail)\n\u001b[0;32m   1004\u001b[0m     \u001b[39mif\u001b[39;00m \u001b[39mself\u001b[39m\u001b[39m.\u001b[39m_eof:\n",
      "\u001b[1;31mKeyboardInterrupt\u001b[0m: "
     ]
    }
   ],
   "source": [
    "import os\n",
    "from tqdm import tqdm\n",
    "\n",
    "input_folder = '.\\\\input_excel\\\\'\n",
    "for file in tqdm(os.listdir(input_folder)):\n",
    "    df = pd.read_excel(input_folder + file, dtype=str)\n",
    "    df.to_csv('.\\\\input_files\\\\' + file.replace('.xlsx', '.csv'), index=False)"
   ]
  },
  {
   "cell_type": "code",
   "execution_count": 11,
   "metadata": {},
   "outputs": [
    {
     "name": "stderr",
     "output_type": "stream",
     "text": [
      "  0%|          | 0/5 [03:55<?, ?it/s]\n"
     ]
    },
    {
     "ename": "KeyboardInterrupt",
     "evalue": "",
     "output_type": "error",
     "traceback": [
      "\u001b[1;31m---------------------------------------------------------------------------\u001b[0m",
      "\u001b[1;31mKeyboardInterrupt\u001b[0m                         Traceback (most recent call last)",
      "Cell \u001b[1;32mIn[11], line 18\u001b[0m\n\u001b[0;32m     15\u001b[0m \u001b[39mfor\u001b[39;00m file \u001b[39min\u001b[39;00m file_list:\n\u001b[0;32m     16\u001b[0m     futures\u001b[39m.\u001b[39mappend(executor\u001b[39m.\u001b[39msubmit(process_file, file))\n\u001b[1;32m---> 18\u001b[0m \u001b[39mfor\u001b[39;00m future \u001b[39min\u001b[39;00m tqdm(concurrent\u001b[39m.\u001b[39mfutures\u001b[39m.\u001b[39mas_completed(futures), total\u001b[39m=\u001b[39m\u001b[39mlen\u001b[39m(futures)):\n\u001b[0;32m     19\u001b[0m     \u001b[39mpass\u001b[39;00m\n",
      "File \u001b[1;32mc:\\Users\\adria\\miniconda3\\envs\\scraper2\\lib\\site-packages\\tqdm\\std.py:1195\u001b[0m, in \u001b[0;36mtqdm.__iter__\u001b[1;34m(self)\u001b[0m\n\u001b[0;32m   1192\u001b[0m time \u001b[39m=\u001b[39m \u001b[39mself\u001b[39m\u001b[39m.\u001b[39m_time\n\u001b[0;32m   1194\u001b[0m \u001b[39mtry\u001b[39;00m:\n\u001b[1;32m-> 1195\u001b[0m     \u001b[39mfor\u001b[39;00m obj \u001b[39min\u001b[39;00m iterable:\n\u001b[0;32m   1196\u001b[0m         \u001b[39myield\u001b[39;00m obj\n\u001b[0;32m   1197\u001b[0m         \u001b[39m# Update and possibly print the progressbar.\u001b[39;00m\n\u001b[0;32m   1198\u001b[0m         \u001b[39m# Note: does not call self.update(1) for speed optimisation.\u001b[39;00m\n",
      "File \u001b[1;32mc:\\Users\\adria\\miniconda3\\envs\\scraper2\\lib\\concurrent\\futures\\_base.py:245\u001b[0m, in \u001b[0;36mas_completed\u001b[1;34m(fs, timeout)\u001b[0m\n\u001b[0;32m    240\u001b[0m     \u001b[39mif\u001b[39;00m wait_timeout \u001b[39m<\u001b[39m \u001b[39m0\u001b[39m:\n\u001b[0;32m    241\u001b[0m         \u001b[39mraise\u001b[39;00m \u001b[39mTimeoutError\u001b[39;00m(\n\u001b[0;32m    242\u001b[0m                 \u001b[39m'\u001b[39m\u001b[39m%d\u001b[39;00m\u001b[39m (of \u001b[39m\u001b[39m%d\u001b[39;00m\u001b[39m) futures unfinished\u001b[39m\u001b[39m'\u001b[39m \u001b[39m%\u001b[39m (\n\u001b[0;32m    243\u001b[0m                 \u001b[39mlen\u001b[39m(pending), total_futures))\n\u001b[1;32m--> 245\u001b[0m waiter\u001b[39m.\u001b[39;49mevent\u001b[39m.\u001b[39;49mwait(wait_timeout)\n\u001b[0;32m    247\u001b[0m \u001b[39mwith\u001b[39;00m waiter\u001b[39m.\u001b[39mlock:\n\u001b[0;32m    248\u001b[0m     finished \u001b[39m=\u001b[39m waiter\u001b[39m.\u001b[39mfinished_futures\n",
      "File \u001b[1;32mc:\\Users\\adria\\miniconda3\\envs\\scraper2\\lib\\threading.py:581\u001b[0m, in \u001b[0;36mEvent.wait\u001b[1;34m(self, timeout)\u001b[0m\n\u001b[0;32m    579\u001b[0m signaled \u001b[39m=\u001b[39m \u001b[39mself\u001b[39m\u001b[39m.\u001b[39m_flag\n\u001b[0;32m    580\u001b[0m \u001b[39mif\u001b[39;00m \u001b[39mnot\u001b[39;00m signaled:\n\u001b[1;32m--> 581\u001b[0m     signaled \u001b[39m=\u001b[39m \u001b[39mself\u001b[39;49m\u001b[39m.\u001b[39;49m_cond\u001b[39m.\u001b[39;49mwait(timeout)\n\u001b[0;32m    582\u001b[0m \u001b[39mreturn\u001b[39;00m signaled\n",
      "File \u001b[1;32mc:\\Users\\adria\\miniconda3\\envs\\scraper2\\lib\\threading.py:312\u001b[0m, in \u001b[0;36mCondition.wait\u001b[1;34m(self, timeout)\u001b[0m\n\u001b[0;32m    310\u001b[0m \u001b[39mtry\u001b[39;00m:    \u001b[39m# restore state no matter what (e.g., KeyboardInterrupt)\u001b[39;00m\n\u001b[0;32m    311\u001b[0m     \u001b[39mif\u001b[39;00m timeout \u001b[39mis\u001b[39;00m \u001b[39mNone\u001b[39;00m:\n\u001b[1;32m--> 312\u001b[0m         waiter\u001b[39m.\u001b[39;49macquire()\n\u001b[0;32m    313\u001b[0m         gotit \u001b[39m=\u001b[39m \u001b[39mTrue\u001b[39;00m\n\u001b[0;32m    314\u001b[0m     \u001b[39melse\u001b[39;00m:\n",
      "\u001b[1;31mKeyboardInterrupt\u001b[0m: "
     ]
    }
   ],
   "source": [
    "import os\n",
    "import concurrent.futures\n",
    "from tqdm import tqdm\n",
    "import pandas as pd\n",
    "\n",
    "def process_file(file):\n",
    "    df = pd.read_excel(input_folder + file, dtype=str)\n",
    "    df.to_csv('.\\\\input_files\\\\' + file.replace('.xlsx', '.csv'), index=False)\n",
    "\n",
    "input_folder = '.\\\\input_excel\\\\'\n",
    "file_list = os.listdir(input_folder)\n",
    "\n",
    "with concurrent.futures.ThreadPoolExecutor() as executor:\n",
    "    futures = []\n",
    "    for file in file_list:\n",
    "        futures.append(executor.submit(process_file, file))\n",
    "    \n",
    "    for future in tqdm(concurrent.futures.as_completed(futures), total=len(futures)):\n",
    "        pass\n"
   ]
  }
 ],
 "metadata": {
  "kernelspec": {
   "display_name": "scraper2",
   "language": "python",
   "name": "python3"
  },
  "language_info": {
   "codemirror_mode": {
    "name": "ipython",
    "version": 3
   },
   "file_extension": ".py",
   "mimetype": "text/x-python",
   "name": "python",
   "nbconvert_exporter": "python",
   "pygments_lexer": "ipython3",
   "version": "3.9.15"
  },
  "orig_nbformat": 4
 },
 "nbformat": 4,
 "nbformat_minor": 2
}
