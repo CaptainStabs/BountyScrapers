{
 "cells": [
  {
   "cell_type": "code",
   "execution_count": 71,
   "metadata": {},
   "outputs": [],
   "source": [
    "import pandas as pd\n",
    "import re\n",
    "import csv\n",
    "import polars as pl"
   ]
  },
  {
   "cell_type": "code",
   "execution_count": 72,
   "metadata": {},
   "outputs": [],
   "source": [
    "def payer_category(x):\n",
    "    payers = {\n",
    "        'Gross Charge': 'gross',\n",
    "        'Discounted Cash Price': 'cash',\n",
    "        'Minimum Negotiated Charge': 'min',\n",
    "        'Maximum Negotiated Charge': 'max'\n",
    "    }\n",
    "\n",
    "    try:\n",
    "        return payers[x]\n",
    "    except KeyError:\n",
    "        return 'payer'"
   ]
  },
  {
   "cell_type": "code",
   "execution_count": 73,
   "metadata": {},
   "outputs": [],
   "source": [
    "file = 'pricing-transparency-charge.csv'\n",
    "df = pd.read_csv(file)"
   ]
  },
  {
   "cell_type": "code",
   "execution_count": 74,
   "metadata": {},
   "outputs": [
    {
     "name": "stdout",
     "output_type": "stream",
     "text": [
      "['CDM Item Number', 'Revenue Code', 'Service ID', 'Service Mod1', 'Service Mod2', 'Service Description', ' Gross Charge ', ' Discounted Cash Price ', ' Minimum Negotiated Charge ', ' Maximum Negotiated Charge ', ' Payer Negotiated Charge: AARP (Plan: All) ', ' Payer Negotiated Charge: AARP- MedicareComplete UnitedHealthCare (Plan: All) ', ' Payer Negotiated Charge: Adminastar Blue Cross of Kentucky (Plan: All) ', ' Payer Negotiated Charge: Aetna (Plan: All) ', ' Payer Negotiated Charge: Aetna Better Health (LA) (Plan: All) ', ' Payer Negotiated Charge: Aetna Medicare Advantage (Plan: All) ', ' Payer Negotiated Charge: Blue Advantage of LA (Plan: All) ', ' Payer Negotiated Charge: Blue Cross Blue Shield of LA (Plan: All) ', ' Payer Negotiated Charge: Blue Cross Blue Shield of LA MCR Adv (Plan: All) ', ' Payer Negotiated Charge: Blue Cross Blue Shield of TX (Plan: All) ', ' Payer Negotiated Charge: CHC Louisiana (Plan: All) ', ' Payer Negotiated Charge: Cigna (Plan: All) ', ' Payer Negotiated Charge: Coventry Health Care of Louisiana (Plan: All) ', ' Payer Negotiated Charge: Coventry Health Care USA (Plan: All) ', ' Payer Negotiated Charge: Healthy Blue Dual Advantage (Plan: All) ', ' Payer Negotiated Charge: Humana (Plan: All) ', ' Payer Negotiated Charge: Humana Advantage Care Plans Med Advantage (Plan: All) ', ' Payer Negotiated Charge: Medicaid Louisiana IP OP (Plan: All) ', ' Payer Negotiated Charge: Medicaid Louisiana LTC (Plan: All) ', ' Payer Negotiated Charge: Medicaid Louisiana Physician (Plan: All) ', ' Payer Negotiated Charge: Medicare A LA JH (Plan: All) ', ' Payer Negotiated Charge: Medicare B LA JH (Plan: All) ', ' Payer Negotiated Charge: Medicare Railroad Palmetto GBA (Plan: All) ', ' Payer Negotiated Charge: Peoples Health Network (Plan: All) ', ' Payer Negotiated Charge: Tricare East Region (Plan: All) ', ' Payer Negotiated Charge: Tricare For Life (Plan: All) ', ' Payer Negotiated Charge: Tricare West UHC Military and Veterans (Plan: All) ', ' Payer Negotiated Charge: TriWest (Plan: All) ', ' Payer Negotiated Charge: UHC Community Plan LA MCD Rep (Plan: All) ', ' Payer Negotiated Charge: UHC Group Medicare Advantage (Plan: All) ', ' Payer Negotiated Charge: United Healthcare (Plan: All) ', ' Payer Negotiated Charge: Vantage Health Plan Inc MCR Adv (Plan: All) ', ' Payer Negotiated Charge: WebTPA (Plan: All) ', ' Payer Negotiated Charge: WellCare of Louisiana (Plan: All) ']\n"
     ]
    }
   ],
   "source": [
    "cols = df.columns.tolist()\n",
    "drop_cols = [col for col in cols if 'Unnamed' in col]\n",
    "df.drop(drop_cols, axis=1, inplace=True)\n",
    "print(df.columns.tolist())"
   ]
  },
  {
   "cell_type": "code",
   "execution_count": 75,
   "metadata": {},
   "outputs": [],
   "source": [
    "df.rename(columns={\n",
    "    'CDM Item Number': 'local_code',\n",
    "    'Revenue Code': 'rev_code',\n",
    "    'Service ID': 'code',\n",
    "    'Service Description': 'description',\n",
    "\n",
    "}, inplace=True)"
   ]
  },
  {
   "cell_type": "code",
   "execution_count": 76,
   "metadata": {},
   "outputs": [],
   "source": [
    "cols = df.columns.tolist()\n",
    "id_vars = cols[:6]\n",
    "value_vars = cols[6:]\n",
    "df = pd.melt(df, id_vars=id_vars, value_vars=value_vars, var_name='payer', value_name='standard_charge')"
   ]
  },
  {
   "cell_type": "code",
   "execution_count": 77,
   "metadata": {},
   "outputs": [],
   "source": [
    "df['modifiers'] = df['Service Mod1'] + \"|\" + df['Service Mod2']\n",
    "df.drop(columns=['Service Mod1', 'Service Mod2'], inplace=True)"
   ]
  },
  {
   "cell_type": "code",
   "execution_count": 78,
   "metadata": {},
   "outputs": [],
   "source": [
    "df['payer'] = df['payer'].str.strip()"
   ]
  },
  {
   "cell_type": "code",
   "execution_count": 79,
   "metadata": {},
   "outputs": [],
   "source": [
    "df['hcpcs_cpt'] = df['code'].str[:5]\n",
    "df.loc[df['code'].str.len() == 7, 'modifiers'] = df['code'].str[-2:]"
   ]
  },
  {
   "cell_type": "code",
   "execution_count": 80,
   "metadata": {},
   "outputs": [],
   "source": [
    "df['payer_category'] = df['payer'].apply(payer_category)"
   ]
  },
  {
   "cell_type": "code",
   "execution_count": 81,
   "metadata": {},
   "outputs": [
    {
     "name": "stderr",
     "output_type": "stream",
     "text": [
      "C:\\Users\\adria\\AppData\\Local\\Temp\\ipykernel_4744\\3848457064.py:5: FutureWarning: The default value of regex will change from True to False in a future version. In addition, single character regular expressions will *not* be treated as literal strings when regex=True.\n",
      "  df['standard_charge'] = df['standard_charge'].str.replace('$', '').str.replace(',', '')\n"
     ]
    }
   ],
   "source": [
    "df['hospital_id'] = '190118'\n",
    "df['rev_code'] = df['rev_code'].astype(str)\n",
    "df['rev_code'] = df['rev_code'].str.zfill(4)\n",
    "\n",
    "df['standard_charge'] = df['standard_charge'].str.replace('$', '').str.replace(',', '')\n",
    "df['standard_charge'] = df['standard_charge'].str.strip()\n",
    "df['code'] = df['code'].fillna('')\n",
    "df['hcpcs_cpt'] = df['hcpcs_cpt'].fillna('')\n",
    "df['modifiers'].fillna('', inplace=True)\n"
   ]
  },
  {
   "cell_type": "code",
   "execution_count": 82,
   "metadata": {},
   "outputs": [
    {
     "data": {
      "text/html": [
       "<div>\n",
       "<style scoped>\n",
       "    .dataframe tbody tr th:only-of-type {\n",
       "        vertical-align: middle;\n",
       "    }\n",
       "\n",
       "    .dataframe tbody tr th {\n",
       "        vertical-align: top;\n",
       "    }\n",
       "\n",
       "    .dataframe thead th {\n",
       "        text-align: right;\n",
       "    }\n",
       "</style>\n",
       "<table border=\"1\" class=\"dataframe\">\n",
       "  <thead>\n",
       "    <tr style=\"text-align: right;\">\n",
       "      <th></th>\n",
       "      <th>local_code</th>\n",
       "      <th>rev_code</th>\n",
       "      <th>code</th>\n",
       "      <th>description</th>\n",
       "      <th>payer</th>\n",
       "      <th>standard_charge</th>\n",
       "      <th>modifiers</th>\n",
       "      <th>hcpcs_cpt</th>\n",
       "      <th>payer_category</th>\n",
       "      <th>hospital_id</th>\n",
       "    </tr>\n",
       "  </thead>\n",
       "  <tbody>\n",
       "    <tr>\n",
       "      <th>0</th>\n",
       "      <td>100000</td>\n",
       "      <td>0761</td>\n",
       "      <td>Q3014</td>\n",
       "      <td>TELEHEALTH ORIGINATING SITE FEE</td>\n",
       "      <td>Gross Charge</td>\n",
       "      <td>41.00</td>\n",
       "      <td></td>\n",
       "      <td>Q3014</td>\n",
       "      <td>gross</td>\n",
       "      <td>190118</td>\n",
       "    </tr>\n",
       "    <tr>\n",
       "      <th>1</th>\n",
       "      <td>1000000</td>\n",
       "      <td>0300</td>\n",
       "      <td>86850</td>\n",
       "      <td>BB ANTIBODY SCREEN</td>\n",
       "      <td>Gross Charge</td>\n",
       "      <td>181.00</td>\n",
       "      <td></td>\n",
       "      <td>86850</td>\n",
       "      <td>gross</td>\n",
       "      <td>190118</td>\n",
       "    </tr>\n",
       "    <tr>\n",
       "      <th>2</th>\n",
       "      <td>1000001</td>\n",
       "      <td>0300</td>\n",
       "      <td>99050</td>\n",
       "      <td>LBC-LAB FEE NON ROUTINE</td>\n",
       "      <td>Gross Charge</td>\n",
       "      <td>90.00</td>\n",
       "      <td></td>\n",
       "      <td>99050</td>\n",
       "      <td>gross</td>\n",
       "      <td>190118</td>\n",
       "    </tr>\n",
       "    <tr>\n",
       "      <th>3</th>\n",
       "      <td>1000002</td>\n",
       "      <td>0300</td>\n",
       "      <td>99001</td>\n",
       "      <td>COURIER FEE-LBC/LESS THAN 60 MILES</td>\n",
       "      <td>Gross Charge</td>\n",
       "      <td>113.00</td>\n",
       "      <td></td>\n",
       "      <td>99001</td>\n",
       "      <td>gross</td>\n",
       "      <td>190118</td>\n",
       "    </tr>\n",
       "    <tr>\n",
       "      <th>4</th>\n",
       "      <td>1000003</td>\n",
       "      <td>0300</td>\n",
       "      <td>86235</td>\n",
       "      <td>ANTI-SSA AND SSB PANEL</td>\n",
       "      <td>Gross Charge</td>\n",
       "      <td>324.00</td>\n",
       "      <td></td>\n",
       "      <td>86235</td>\n",
       "      <td>gross</td>\n",
       "      <td>190118</td>\n",
       "    </tr>\n",
       "    <tr>\n",
       "      <th>...</th>\n",
       "      <td>...</td>\n",
       "      <td>...</td>\n",
       "      <td>...</td>\n",
       "      <td>...</td>\n",
       "      <td>...</td>\n",
       "      <td>...</td>\n",
       "      <td>...</td>\n",
       "      <td>...</td>\n",
       "      <td>...</td>\n",
       "      <td>...</td>\n",
       "    </tr>\n",
       "    <tr>\n",
       "      <th>199495</th>\n",
       "      <td>9500011</td>\n",
       "      <td>0942</td>\n",
       "      <td>97802</td>\n",
       "      <td>MNT IND INIT 15 MINS</td>\n",
       "      <td>Payer Negotiated Charge: WellCare of Louisiana...</td>\n",
       "      <td>NaN</td>\n",
       "      <td></td>\n",
       "      <td>97802</td>\n",
       "      <td>payer</td>\n",
       "      <td>190118</td>\n",
       "    </tr>\n",
       "    <tr>\n",
       "      <th>199496</th>\n",
       "      <td>9500012</td>\n",
       "      <td>0942</td>\n",
       "      <td>97803</td>\n",
       "      <td>MNT IND. REASSESSMNT 15 MINS</td>\n",
       "      <td>Payer Negotiated Charge: WellCare of Louisiana...</td>\n",
       "      <td>NaN</td>\n",
       "      <td></td>\n",
       "      <td>97803</td>\n",
       "      <td>payer</td>\n",
       "      <td>190118</td>\n",
       "    </tr>\n",
       "    <tr>\n",
       "      <th>199497</th>\n",
       "      <td>9500013</td>\n",
       "      <td>0942</td>\n",
       "      <td>97804</td>\n",
       "      <td>MNT GRP 30 MINS</td>\n",
       "      <td>Payer Negotiated Charge: WellCare of Louisiana...</td>\n",
       "      <td>NaN</td>\n",
       "      <td></td>\n",
       "      <td>97804</td>\n",
       "      <td>payer</td>\n",
       "      <td>190118</td>\n",
       "    </tr>\n",
       "    <tr>\n",
       "      <th>199498</th>\n",
       "      <td>9500014</td>\n",
       "      <td>0942</td>\n",
       "      <td>G0270</td>\n",
       "      <td>MNT 2ND DX INIT</td>\n",
       "      <td>Payer Negotiated Charge: WellCare of Louisiana...</td>\n",
       "      <td>NaN</td>\n",
       "      <td></td>\n",
       "      <td>G0270</td>\n",
       "      <td>payer</td>\n",
       "      <td>190118</td>\n",
       "    </tr>\n",
       "    <tr>\n",
       "      <th>199499</th>\n",
       "      <td>9500015</td>\n",
       "      <td>0942</td>\n",
       "      <td>G0271</td>\n",
       "      <td>MNT 2ND DX SUBSEQ 15 MINS</td>\n",
       "      <td>Payer Negotiated Charge: WellCare of Louisiana...</td>\n",
       "      <td>NaN</td>\n",
       "      <td></td>\n",
       "      <td>G0271</td>\n",
       "      <td>payer</td>\n",
       "      <td>190118</td>\n",
       "    </tr>\n",
       "  </tbody>\n",
       "</table>\n",
       "<p>199500 rows × 10 columns</p>\n",
       "</div>"
      ],
      "text/plain": [
       "        local_code rev_code   code                         description  \\\n",
       "0           100000     0761  Q3014     TELEHEALTH ORIGINATING SITE FEE   \n",
       "1          1000000     0300  86850                  BB ANTIBODY SCREEN   \n",
       "2          1000001     0300  99050             LBC-LAB FEE NON ROUTINE   \n",
       "3          1000002     0300  99001  COURIER FEE-LBC/LESS THAN 60 MILES   \n",
       "4          1000003     0300  86235              ANTI-SSA AND SSB PANEL   \n",
       "...            ...      ...    ...                                 ...   \n",
       "199495     9500011     0942  97802                MNT IND INIT 15 MINS   \n",
       "199496     9500012     0942  97803        MNT IND. REASSESSMNT 15 MINS   \n",
       "199497     9500013     0942  97804                     MNT GRP 30 MINS   \n",
       "199498     9500014     0942  G0270                     MNT 2ND DX INIT   \n",
       "199499     9500015     0942  G0271           MNT 2ND DX SUBSEQ 15 MINS   \n",
       "\n",
       "                                                    payer standard_charge  \\\n",
       "0                                            Gross Charge           41.00   \n",
       "1                                            Gross Charge          181.00   \n",
       "2                                            Gross Charge           90.00   \n",
       "3                                            Gross Charge          113.00   \n",
       "4                                            Gross Charge          324.00   \n",
       "...                                                   ...             ...   \n",
       "199495  Payer Negotiated Charge: WellCare of Louisiana...             NaN   \n",
       "199496  Payer Negotiated Charge: WellCare of Louisiana...             NaN   \n",
       "199497  Payer Negotiated Charge: WellCare of Louisiana...             NaN   \n",
       "199498  Payer Negotiated Charge: WellCare of Louisiana...             NaN   \n",
       "199499  Payer Negotiated Charge: WellCare of Louisiana...             NaN   \n",
       "\n",
       "       modifiers hcpcs_cpt payer_category hospital_id  \n",
       "0                    Q3014          gross      190118  \n",
       "1                    86850          gross      190118  \n",
       "2                    99050          gross      190118  \n",
       "3                    99001          gross      190118  \n",
       "4                    86235          gross      190118  \n",
       "...          ...       ...            ...         ...  \n",
       "199495               97802          payer      190118  \n",
       "199496               97803          payer      190118  \n",
       "199497               97804          payer      190118  \n",
       "199498               G0270          payer      190118  \n",
       "199499               G0271          payer      190118  \n",
       "\n",
       "[199500 rows x 10 columns]"
      ]
     },
     "execution_count": 82,
     "metadata": {},
     "output_type": "execute_result"
    }
   ],
   "source": [
    "df"
   ]
  },
  {
   "cell_type": "code",
   "execution_count": 83,
   "metadata": {},
   "outputs": [],
   "source": [
    "df.dropna(subset=['standard_charge'], inplace=True)\n",
    "df = df[pd.to_numeric(df['standard_charge'], errors='coerce').notnull()]"
   ]
  },
  {
   "cell_type": "code",
   "execution_count": 84,
   "metadata": {},
   "outputs": [],
   "source": [
    "df1 = pl.DataFrame(df)\n",
    "df1.write_csv('test.csv')\n",
    "# df.to_csv('desoto.csv', index=False)\n"
   ]
  }
 ],
 "metadata": {
  "kernelspec": {
   "display_name": "scraper",
   "language": "python",
   "name": "python3"
  },
  "language_info": {
   "codemirror_mode": {
    "name": "ipython",
    "version": 3
   },
   "file_extension": ".py",
   "mimetype": "text/x-python",
   "name": "python",
   "nbconvert_exporter": "python",
   "pygments_lexer": "ipython3",
   "version": "3.9.15"
  },
  "orig_nbformat": 4
 },
 "nbformat": 4,
 "nbformat_minor": 2
}
