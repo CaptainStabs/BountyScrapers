{
 "cells": [
  {
   "cell_type": "code",
   "execution_count": 32,
   "metadata": {},
   "outputs": [],
   "source": [
    "import pandas as pd\n",
    "import re\n",
    "import csv\n",
    "import polars as pl"
   ]
  },
  {
   "cell_type": "code",
   "execution_count": 33,
   "metadata": {},
   "outputs": [],
   "source": [
    "def payer_category(x):\n",
    "    payers = {\n",
    "        'Gross Charge': 'gross',\n",
    "        'Discounted Cash Price': 'cash',\n",
    "        'Minimum Negotiated Charge': 'min',\n",
    "        'Maximum Negotiated Charge': 'max'\n",
    "    }\n",
    "\n",
    "    try:\n",
    "        return payers[x]\n",
    "    except KeyError:\n",
    "        return 'payer'"
   ]
  },
  {
   "cell_type": "code",
   "execution_count": 34,
   "metadata": {},
   "outputs": [],
   "source": [
    "file = 'pricing-transparency-charge.csv'\n",
    "df = pd.read_csv(file)"
   ]
  },
  {
   "cell_type": "code",
   "execution_count": 35,
   "metadata": {},
   "outputs": [
    {
     "name": "stdout",
     "output_type": "stream",
     "text": [
      "['CDM Item Number', 'Revenue Code', 'Service ID', 'Service Mod1', 'Service Mod2', 'Service Description', ' Gross Charge ', ' Discounted Cash Price ', ' Minimum Negotiated Charge ', ' Maximum Negotiated Charge ', ' Payer Negotiated Charge: AARP (Plan: All) ', ' Payer Negotiated Charge: AARP- MedicareComplete UnitedHealthCare (Plan: All) ', ' Payer Negotiated Charge: Adminastar Blue Cross of Kentucky (Plan: All) ', ' Payer Negotiated Charge: Aetna (Plan: All) ', ' Payer Negotiated Charge: Aetna Better Health (LA) (Plan: All) ', ' Payer Negotiated Charge: Aetna Medicare Advantage (Plan: All) ', ' Payer Negotiated Charge: Blue Advantage of LA (Plan: All) ', ' Payer Negotiated Charge: Blue Cross Blue Shield of LA (Plan: All) ', ' Payer Negotiated Charge: Blue Cross Blue Shield of LA MCR Adv (Plan: All) ', ' Payer Negotiated Charge: Blue Cross Blue Shield of TX (Plan: All) ', ' Payer Negotiated Charge: CHC Louisiana (Plan: All) ', ' Payer Negotiated Charge: Cigna (Plan: All) ', ' Payer Negotiated Charge: Coventry Health Care of Louisiana (Plan: All) ', ' Payer Negotiated Charge: Coventry Health Care USA (Plan: All) ', ' Payer Negotiated Charge: Healthy Blue Dual Advantage (Plan: All) ', ' Payer Negotiated Charge: Humana (Plan: All) ', ' Payer Negotiated Charge: Humana Advantage Care Plans Med Advantage (Plan: All) ', ' Payer Negotiated Charge: Medicaid Louisiana IP OP (Plan: All) ', ' Payer Negotiated Charge: Medicaid Louisiana LTC (Plan: All) ', ' Payer Negotiated Charge: Medicaid Louisiana Physician (Plan: All) ', ' Payer Negotiated Charge: Medicare A LA JH (Plan: All) ', ' Payer Negotiated Charge: Medicare B LA JH (Plan: All) ', ' Payer Negotiated Charge: Medicare Railroad Palmetto GBA (Plan: All) ', ' Payer Negotiated Charge: Peoples Health Network (Plan: All) ', ' Payer Negotiated Charge: Tricare East Region (Plan: All) ', ' Payer Negotiated Charge: Tricare For Life (Plan: All) ', ' Payer Negotiated Charge: Tricare West UHC Military and Veterans (Plan: All) ', ' Payer Negotiated Charge: TriWest (Plan: All) ', ' Payer Negotiated Charge: UHC Community Plan LA MCD Rep (Plan: All) ', ' Payer Negotiated Charge: UHC Group Medicare Advantage (Plan: All) ', ' Payer Negotiated Charge: United Healthcare (Plan: All) ', ' Payer Negotiated Charge: Vantage Health Plan Inc MCR Adv (Plan: All) ', ' Payer Negotiated Charge: WebTPA (Plan: All) ', ' Payer Negotiated Charge: WellCare of Louisiana (Plan: All) ']\n"
     ]
    }
   ],
   "source": [
    "cols = df.columns.tolist()\n",
    "drop_cols = [col for col in cols if 'Unnamed' in col]\n",
    "df.drop(drop_cols, axis=1, inplace=True)\n",
    "print(df.columns.tolist())"
   ]
  },
  {
   "cell_type": "code",
   "execution_count": 36,
   "metadata": {},
   "outputs": [],
   "source": [
    "df.rename(columns={\n",
    "    'CDM Item Number': 'local_code',\n",
    "    'Revenue Code': 'rev_code',\n",
    "    'Service ID': 'code',\n",
    "    'Service Description': 'description',\n",
    "\n",
    "}, inplace=True)"
   ]
  },
  {
   "cell_type": "code",
   "execution_count": 37,
   "metadata": {},
   "outputs": [],
   "source": [
    "cols = df.columns.tolist()\n",
    "id_vars = cols[:6]\n",
    "value_vars = cols[6:]\n",
    "df = pd.melt(df, id_vars=id_vars, value_vars=value_vars, var_name='payer', value_name='standard_charge')"
   ]
  },
  {
   "cell_type": "code",
   "execution_count": 38,
   "metadata": {},
   "outputs": [],
   "source": [
    "df['modifiers'] = df['Service Mod1'] + \"|\" + df['Service Mod2']\n",
    "df.drop(columns=['Service Mod1', 'Service Mod2'], inplace=True)"
   ]
  },
  {
   "cell_type": "code",
   "execution_count": 39,
   "metadata": {},
   "outputs": [],
   "source": [
    "df['payer'] = df['payer'].str.strip()"
   ]
  },
  {
   "cell_type": "code",
   "execution_count": 40,
   "metadata": {},
   "outputs": [],
   "source": [
    "df['hcpcs_cpt'] = df['code'].str[:5]\n",
    "df.loc[df['code'].str.len() == 7, 'modifiers'] = df['code'].str[-2:]"
   ]
  },
  {
   "cell_type": "code",
   "execution_count": 41,
   "metadata": {},
   "outputs": [],
   "source": [
    "df['payer_category'] = df['payer'].apply(payer_category)"
   ]
  },
  {
   "cell_type": "code",
   "execution_count": 42,
   "metadata": {},
   "outputs": [
    {
     "name": "stderr",
     "output_type": "stream",
     "text": [
      "C:\\Users\\adria\\AppData\\Local\\Temp\\ipykernel_12332\\3848457064.py:5: FutureWarning: The default value of regex will change from True to False in a future version. In addition, single character regular expressions will *not* be treated as literal strings when regex=True.\n",
      "  df['standard_charge'] = df['standard_charge'].str.replace('$', '').str.replace(',', '')\n"
     ]
    }
   ],
   "source": [
    "df['hospital_id'] = '190118'\n",
    "df['rev_code'] = df['rev_code'].astype(str)\n",
    "df['rev_code'] = df['rev_code'].str.zfill(4)\n",
    "\n",
    "df['standard_charge'] = df['standard_charge'].str.replace('$', '').str.replace(',', '')\n",
    "df['standard_charge'] = df['standard_charge'].str.strip()\n",
    "df['code'] = df['code'].fillna('')\n",
    "df['hcpcs_cpt'] = df['hcpcs_cpt'].fillna('')\n",
    "df['modifiers'].fillna('', inplace=True)\n"
   ]
  },
  {
   "cell_type": "code",
   "execution_count": 43,
   "metadata": {},
   "outputs": [
    {
     "name": "stderr",
     "output_type": "stream",
     "text": [
      "C:\\Users\\adria\\AppData\\Local\\Temp\\ipykernel_12332\\491345305.py:2: FutureWarning: The default value of regex will change from True to False in a future version.\n",
      "  df['payer'].str.replace(' (Plan: All)', '').str.strip()\n"
     ]
    },
    {
     "data": {
      "text/plain": [
       "0                                              Gross Charge\n",
       "1                                              Gross Charge\n",
       "2                                              Gross Charge\n",
       "3                                              Gross Charge\n",
       "4                                              Gross Charge\n",
       "                                ...                        \n",
       "199495    Payer Negotiated Charge: WellCare of Louisiana...\n",
       "199496    Payer Negotiated Charge: WellCare of Louisiana...\n",
       "199497    Payer Negotiated Charge: WellCare of Louisiana...\n",
       "199498    Payer Negotiated Charge: WellCare of Louisiana...\n",
       "199499    Payer Negotiated Charge: WellCare of Louisiana...\n",
       "Name: payer, Length: 199500, dtype: object"
      ]
     },
     "execution_count": 43,
     "metadata": {},
     "output_type": "execute_result"
    }
   ],
   "source": [
    "df.loc[df['payer_category'] == 'payer', 'plan'] = 'All'\n",
    "df['payer'].str.replace(' (Plan: All)', '').str.strip()"
   ]
  },
  {
   "cell_type": "code",
   "execution_count": 44,
   "metadata": {},
   "outputs": [],
   "source": [
    "df.dropna(subset=['standard_charge'], inplace=True)\n",
    "df = df[pd.to_numeric(df['standard_charge'], errors='coerce').notnull()]"
   ]
  },
  {
   "cell_type": "code",
   "execution_count": 49,
   "metadata": {},
   "outputs": [
    {
     "name": "stderr",
     "output_type": "stream",
     "text": [
      "C:\\Users\\adria\\AppData\\Local\\Temp\\ipykernel_12332\\3693055669.py:6: FutureWarning: The default value of regex will change from True to False in a future version.\n",
      "  df['payer'] = df['payer'].str.replace(\" (Plan: All)\", '')\n"
     ]
    }
   ],
   "source": [
    "df['hcpcs_cpt'].fillna('', inplace=True)\n",
    "df['code'].fillna('', inplace=True)\n",
    "df['plan'].fillna('', inplace=True)\n",
    "\n",
    "df['payer'] = df['payer'].str.replace(\"Payer Negotiated Charge: \", '')\n",
    "df['payer'] = df['payer'].str.replace(\" (Plan: All)\", '')\n",
    "df['payer'] = df['payer'].str.strip()"
   ]
  },
  {
   "cell_type": "code",
   "execution_count": 50,
   "metadata": {},
   "outputs": [],
   "source": [
    "df1 = pl.DataFrame(df)\n",
    "df1.write_csv('test.csv')\n",
    "# df.to_csv('desoto.csv', index=False)\n"
   ]
  }
 ],
 "metadata": {
  "kernelspec": {
   "display_name": "scraper",
   "language": "python",
   "name": "python3"
  },
  "language_info": {
   "codemirror_mode": {
    "name": "ipython",
    "version": 3
   },
   "file_extension": ".py",
   "mimetype": "text/x-python",
   "name": "python",
   "nbconvert_exporter": "python",
   "pygments_lexer": "ipython3",
   "version": "3.9.15"
  },
  "orig_nbformat": 4
 },
 "nbformat": 4,
 "nbformat_minor": 2
}
