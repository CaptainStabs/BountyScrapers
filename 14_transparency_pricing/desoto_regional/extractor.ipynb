{
 "cells": [
  {
   "cell_type": "code",
   "execution_count": 63,
   "metadata": {},
   "outputs": [],
   "source": [
    "import pandas as pd\n",
    "import re"
   ]
  },
  {
   "cell_type": "code",
   "execution_count": 51,
   "metadata": {},
   "outputs": [],
   "source": [
    "def payer_category(x):\n",
    "    payers = {\n",
    "        'Gross Charge': 'gross',\n",
    "        'Discounted Cash Price': 'cash',\n",
    "        'Minimum Negotiated Charge': 'min',\n",
    "        'Maximum Negotiated Charge': 'max'\n",
    "    }\n",
    "\n",
    "    try:\n",
    "        return payers[x]\n",
    "    except KeyError:\n",
    "        return 'payer'"
   ]
  },
  {
   "cell_type": "code",
   "execution_count": 52,
   "metadata": {},
   "outputs": [],
   "source": [
    "file = 'pricing-transparency-charge.csv'\n",
    "df = pd.read_csv(file)"
   ]
  },
  {
   "cell_type": "code",
   "execution_count": 53,
   "metadata": {},
   "outputs": [
    {
     "name": "stdout",
     "output_type": "stream",
     "text": [
      "['CDM Item Number', 'Revenue Code', 'Service ID', 'Service Mod1', 'Service Mod2', 'Service Description', ' Gross Charge ', ' Discounted Cash Price ', ' Minimum Negotiated Charge ', ' Maximum Negotiated Charge ', ' Payer Negotiated Charge: AARP (Plan: All) ', ' Payer Negotiated Charge: AARP- MedicareComplete UnitedHealthCare (Plan: All) ', ' Payer Negotiated Charge: Adminastar Blue Cross of Kentucky (Plan: All) ', ' Payer Negotiated Charge: Aetna (Plan: All) ', ' Payer Negotiated Charge: Aetna Better Health (LA) (Plan: All) ', ' Payer Negotiated Charge: Aetna Medicare Advantage (Plan: All) ', ' Payer Negotiated Charge: Blue Advantage of LA (Plan: All) ', ' Payer Negotiated Charge: Blue Cross Blue Shield of LA (Plan: All) ', ' Payer Negotiated Charge: Blue Cross Blue Shield of LA MCR Adv (Plan: All) ', ' Payer Negotiated Charge: Blue Cross Blue Shield of TX (Plan: All) ', ' Payer Negotiated Charge: CHC Louisiana (Plan: All) ', ' Payer Negotiated Charge: Cigna (Plan: All) ', ' Payer Negotiated Charge: Coventry Health Care of Louisiana (Plan: All) ', ' Payer Negotiated Charge: Coventry Health Care USA (Plan: All) ', ' Payer Negotiated Charge: Healthy Blue Dual Advantage (Plan: All) ', ' Payer Negotiated Charge: Humana (Plan: All) ', ' Payer Negotiated Charge: Humana Advantage Care Plans Med Advantage (Plan: All) ', ' Payer Negotiated Charge: Medicaid Louisiana IP OP (Plan: All) ', ' Payer Negotiated Charge: Medicaid Louisiana LTC (Plan: All) ', ' Payer Negotiated Charge: Medicaid Louisiana Physician (Plan: All) ', ' Payer Negotiated Charge: Medicare A LA JH (Plan: All) ', ' Payer Negotiated Charge: Medicare B LA JH (Plan: All) ', ' Payer Negotiated Charge: Medicare Railroad Palmetto GBA (Plan: All) ', ' Payer Negotiated Charge: Peoples Health Network (Plan: All) ', ' Payer Negotiated Charge: Tricare East Region (Plan: All) ', ' Payer Negotiated Charge: Tricare For Life (Plan: All) ', ' Payer Negotiated Charge: Tricare West UHC Military and Veterans (Plan: All) ', ' Payer Negotiated Charge: TriWest (Plan: All) ', ' Payer Negotiated Charge: UHC Community Plan LA MCD Rep (Plan: All) ', ' Payer Negotiated Charge: UHC Group Medicare Advantage (Plan: All) ', ' Payer Negotiated Charge: United Healthcare (Plan: All) ', ' Payer Negotiated Charge: Vantage Health Plan Inc MCR Adv (Plan: All) ', ' Payer Negotiated Charge: WebTPA (Plan: All) ', ' Payer Negotiated Charge: WellCare of Louisiana (Plan: All) ']\n"
     ]
    }
   ],
   "source": [
    "cols = df.columns.tolist()\n",
    "drop_cols = [col for col in cols if 'Unnamed' in col]\n",
    "df.drop(drop_cols, axis=1, inplace=True)\n",
    "print(df.columns.tolist())"
   ]
  },
  {
   "cell_type": "code",
   "execution_count": 54,
   "metadata": {},
   "outputs": [],
   "source": [
    "df.rename(columns={\n",
    "    'CDM Item Number': 'local_code',\n",
    "    'Revenue Code': 'rev_code',\n",
    "    'Service ID': 'code',\n",
    "    'Service Description': 'description',\n",
    "\n",
    "}, inplace=True)"
   ]
  },
  {
   "cell_type": "code",
   "execution_count": 56,
   "metadata": {},
   "outputs": [],
   "source": [
    "cols = df.columns.tolist()\n",
    "id_vars = cols[:6]\n",
    "value_vars = cols[6:]\n",
    "df = pd.melt(df, id_vars=id_vars, value_vars=value_vars, var_name='payer', value_name='standard_charge')"
   ]
  },
  {
   "cell_type": "code",
   "execution_count": 57,
   "metadata": {},
   "outputs": [],
   "source": [
    "df['modifier'] = df['Service Mod1'] + \" \" + df['Service Mod2']\n",
    "df.drop(columns=['Service Mod1', 'Service Mod2'], inplace=True)"
   ]
  },
  {
   "cell_type": "code",
   "execution_count": 58,
   "metadata": {},
   "outputs": [],
   "source": [
    "df['payer'] = df['payer'].str.strip()"
   ]
  },
  {
   "cell_type": "code",
   "execution_count": 64,
   "metadata": {},
   "outputs": [
    {
     "ename": "TypeError",
     "evalue": "expected string or bytes-like object",
     "output_type": "error",
     "traceback": [
      "\u001b[1;31m---------------------------------------------------------------------------\u001b[0m",
      "\u001b[1;31mTypeError\u001b[0m                                 Traceback (most recent call last)",
      "\u001b[1;32mc:\\Users\\adria\\github\\BountyScrapers\\14_transparency_pricing\\desoto_regional\\extractor.ipynb Cell 9\u001b[0m in \u001b[0;36m<cell line: 3>\u001b[1;34m()\u001b[0m\n\u001b[0;32m      <a href='vscode-notebook-cell:/c%3A/Users/adria/github/BountyScrapers/14_transparency_pricing/desoto_regional/extractor.ipynb#X13sZmlsZQ%3D%3D?line=0'>1</a>\u001b[0m df[\u001b[39m'\u001b[39m\u001b[39mhcpcs_cpt\u001b[39m\u001b[39m'\u001b[39m] \u001b[39m=\u001b[39m df[\u001b[39m'\u001b[39m\u001b[39mcode\u001b[39m\u001b[39m'\u001b[39m]\u001b[39m.\u001b[39mstr[:\u001b[39m5\u001b[39m]\n\u001b[0;32m      <a href='vscode-notebook-cell:/c%3A/Users/adria/github/BountyScrapers/14_transparency_pricing/desoto_regional/extractor.ipynb#X13sZmlsZQ%3D%3D?line=1'>2</a>\u001b[0m \u001b[39m# df.loc[df['code'].str.len() == 7, 'modifier'] = df['code'].str[-2:]\u001b[39;00m\n\u001b[1;32m----> <a href='vscode-notebook-cell:/c%3A/Users/adria/github/BountyScrapers/14_transparency_pricing/desoto_regional/extractor.ipynb#X13sZmlsZQ%3D%3D?line=2'>3</a>\u001b[0m df\u001b[39m.\u001b[39mloc[df[\u001b[39m'\u001b[39m\u001b[39mcode\u001b[39m\u001b[39m'\u001b[39m]\u001b[39m.\u001b[39mstr\u001b[39m.\u001b[39mlen() \u001b[39m==\u001b[39m \u001b[39m7\u001b[39m, \u001b[39m'\u001b[39m\u001b[39mmodifier\u001b[39m\u001b[39m'\u001b[39m] \u001b[39m=\u001b[39m df[\u001b[39m'\u001b[39m\u001b[39mcode\u001b[39m\u001b[39m'\u001b[39m]\u001b[39m.\u001b[39mapply(\u001b[39mlambda\u001b[39;00m x: re\u001b[39m.\u001b[39mfindall(\u001b[39m'\u001b[39m\u001b[39m[a-zA-Z]\u001b[39m\u001b[39m{2}\u001b[39;00m\u001b[39m$\u001b[39m\u001b[39m'\u001b[39m, x)[\u001b[39m0\u001b[39m] \u001b[39mif\u001b[39;00m re\u001b[39m.\u001b[39mfindall(\u001b[39m'\u001b[39m\u001b[39m[a-zA-Z]\u001b[39m\u001b[39m{2}\u001b[39;00m\u001b[39m$\u001b[39m\u001b[39m'\u001b[39m, x) \u001b[39melse\u001b[39;00m \u001b[39m'\u001b[39m\u001b[39m'\u001b[39m)\n",
      "File \u001b[1;32mc:\\Users\\adria\\Miniconda3\\envs\\scraper\\lib\\site-packages\\pandas\\core\\series.py:4774\u001b[0m, in \u001b[0;36mSeries.apply\u001b[1;34m(self, func, convert_dtype, args, **kwargs)\u001b[0m\n\u001b[0;32m   4664\u001b[0m \u001b[39mdef\u001b[39;00m \u001b[39mapply\u001b[39m(\n\u001b[0;32m   4665\u001b[0m     \u001b[39mself\u001b[39m,\n\u001b[0;32m   4666\u001b[0m     func: AggFuncType,\n\u001b[1;32m   (...)\u001b[0m\n\u001b[0;32m   4669\u001b[0m     \u001b[39m*\u001b[39m\u001b[39m*\u001b[39mkwargs,\n\u001b[0;32m   4670\u001b[0m ) \u001b[39m-\u001b[39m\u001b[39m>\u001b[39m DataFrame \u001b[39m|\u001b[39m Series:\n\u001b[0;32m   4671\u001b[0m     \u001b[39m\"\"\"\u001b[39;00m\n\u001b[0;32m   4672\u001b[0m \u001b[39m    Invoke function on values of Series.\u001b[39;00m\n\u001b[0;32m   4673\u001b[0m \n\u001b[1;32m   (...)\u001b[0m\n\u001b[0;32m   4772\u001b[0m \u001b[39m    dtype: float64\u001b[39;00m\n\u001b[0;32m   4773\u001b[0m \u001b[39m    \"\"\"\u001b[39;00m\n\u001b[1;32m-> 4774\u001b[0m     \u001b[39mreturn\u001b[39;00m SeriesApply(\u001b[39mself\u001b[39;49m, func, convert_dtype, args, kwargs)\u001b[39m.\u001b[39;49mapply()\n",
      "File \u001b[1;32mc:\\Users\\adria\\Miniconda3\\envs\\scraper\\lib\\site-packages\\pandas\\core\\apply.py:1100\u001b[0m, in \u001b[0;36mSeriesApply.apply\u001b[1;34m(self)\u001b[0m\n\u001b[0;32m   1097\u001b[0m     \u001b[39mreturn\u001b[39;00m \u001b[39mself\u001b[39m\u001b[39m.\u001b[39mapply_str()\n\u001b[0;32m   1099\u001b[0m \u001b[39m# self.f is Callable\u001b[39;00m\n\u001b[1;32m-> 1100\u001b[0m \u001b[39mreturn\u001b[39;00m \u001b[39mself\u001b[39;49m\u001b[39m.\u001b[39;49mapply_standard()\n",
      "File \u001b[1;32mc:\\Users\\adria\\Miniconda3\\envs\\scraper\\lib\\site-packages\\pandas\\core\\apply.py:1151\u001b[0m, in \u001b[0;36mSeriesApply.apply_standard\u001b[1;34m(self)\u001b[0m\n\u001b[0;32m   1149\u001b[0m     \u001b[39melse\u001b[39;00m:\n\u001b[0;32m   1150\u001b[0m         values \u001b[39m=\u001b[39m obj\u001b[39m.\u001b[39mastype(\u001b[39mobject\u001b[39m)\u001b[39m.\u001b[39m_values\n\u001b[1;32m-> 1151\u001b[0m         mapped \u001b[39m=\u001b[39m lib\u001b[39m.\u001b[39;49mmap_infer(\n\u001b[0;32m   1152\u001b[0m             values,\n\u001b[0;32m   1153\u001b[0m             f,\n\u001b[0;32m   1154\u001b[0m             convert\u001b[39m=\u001b[39;49m\u001b[39mself\u001b[39;49m\u001b[39m.\u001b[39;49mconvert_dtype,\n\u001b[0;32m   1155\u001b[0m         )\n\u001b[0;32m   1157\u001b[0m \u001b[39mif\u001b[39;00m \u001b[39mlen\u001b[39m(mapped) \u001b[39mand\u001b[39;00m \u001b[39misinstance\u001b[39m(mapped[\u001b[39m0\u001b[39m], ABCSeries):\n\u001b[0;32m   1158\u001b[0m     \u001b[39m# GH#43986 Need to do list(mapped) in order to get treated as nested\u001b[39;00m\n\u001b[0;32m   1159\u001b[0m     \u001b[39m#  See also GH#25959 regarding EA support\u001b[39;00m\n\u001b[0;32m   1160\u001b[0m     \u001b[39mreturn\u001b[39;00m obj\u001b[39m.\u001b[39m_constructor_expanddim(\u001b[39mlist\u001b[39m(mapped), index\u001b[39m=\u001b[39mobj\u001b[39m.\u001b[39mindex)\n",
      "File \u001b[1;32mc:\\Users\\adria\\Miniconda3\\envs\\scraper\\lib\\site-packages\\pandas\\_libs\\lib.pyx:2919\u001b[0m, in \u001b[0;36mpandas._libs.lib.map_infer\u001b[1;34m()\u001b[0m\n",
      "\u001b[1;32mc:\\Users\\adria\\github\\BountyScrapers\\14_transparency_pricing\\desoto_regional\\extractor.ipynb Cell 9\u001b[0m in \u001b[0;36m<lambda>\u001b[1;34m(x)\u001b[0m\n\u001b[0;32m      <a href='vscode-notebook-cell:/c%3A/Users/adria/github/BountyScrapers/14_transparency_pricing/desoto_regional/extractor.ipynb#X13sZmlsZQ%3D%3D?line=0'>1</a>\u001b[0m df[\u001b[39m'\u001b[39m\u001b[39mhcpcs_cpt\u001b[39m\u001b[39m'\u001b[39m] \u001b[39m=\u001b[39m df[\u001b[39m'\u001b[39m\u001b[39mcode\u001b[39m\u001b[39m'\u001b[39m]\u001b[39m.\u001b[39mstr[:\u001b[39m5\u001b[39m]\n\u001b[0;32m      <a href='vscode-notebook-cell:/c%3A/Users/adria/github/BountyScrapers/14_transparency_pricing/desoto_regional/extractor.ipynb#X13sZmlsZQ%3D%3D?line=1'>2</a>\u001b[0m \u001b[39m# df.loc[df['code'].str.len() == 7, 'modifier'] = df['code'].str[-2:]\u001b[39;00m\n\u001b[1;32m----> <a href='vscode-notebook-cell:/c%3A/Users/adria/github/BountyScrapers/14_transparency_pricing/desoto_regional/extractor.ipynb#X13sZmlsZQ%3D%3D?line=2'>3</a>\u001b[0m df\u001b[39m.\u001b[39mloc[df[\u001b[39m'\u001b[39m\u001b[39mcode\u001b[39m\u001b[39m'\u001b[39m]\u001b[39m.\u001b[39mstr\u001b[39m.\u001b[39mlen() \u001b[39m==\u001b[39m \u001b[39m7\u001b[39m, \u001b[39m'\u001b[39m\u001b[39mmodifier\u001b[39m\u001b[39m'\u001b[39m] \u001b[39m=\u001b[39m df[\u001b[39m'\u001b[39m\u001b[39mcode\u001b[39m\u001b[39m'\u001b[39m]\u001b[39m.\u001b[39mapply(\u001b[39mlambda\u001b[39;00m x: re\u001b[39m.\u001b[39mfindall(\u001b[39m'\u001b[39m\u001b[39m[a-zA-Z]\u001b[39m\u001b[39m{2}\u001b[39;00m\u001b[39m$\u001b[39m\u001b[39m'\u001b[39m, x)[\u001b[39m0\u001b[39m] \u001b[39mif\u001b[39;00m re\u001b[39m.\u001b[39;49mfindall(\u001b[39m'\u001b[39;49m\u001b[39m[a-zA-Z]\u001b[39;49m\u001b[39m{2}\u001b[39;49;00m\u001b[39m$\u001b[39;49m\u001b[39m'\u001b[39;49m, x) \u001b[39melse\u001b[39;00m \u001b[39m'\u001b[39m\u001b[39m'\u001b[39m)\n",
      "File \u001b[1;32mc:\\Users\\adria\\Miniconda3\\envs\\scraper\\lib\\re.py:241\u001b[0m, in \u001b[0;36mfindall\u001b[1;34m(pattern, string, flags)\u001b[0m\n\u001b[0;32m    233\u001b[0m \u001b[39mdef\u001b[39;00m \u001b[39mfindall\u001b[39m(pattern, string, flags\u001b[39m=\u001b[39m\u001b[39m0\u001b[39m):\n\u001b[0;32m    234\u001b[0m     \u001b[39m\"\"\"Return a list of all non-overlapping matches in the string.\u001b[39;00m\n\u001b[0;32m    235\u001b[0m \n\u001b[0;32m    236\u001b[0m \u001b[39m    If one or more capturing groups are present in the pattern, return\u001b[39;00m\n\u001b[1;32m   (...)\u001b[0m\n\u001b[0;32m    239\u001b[0m \n\u001b[0;32m    240\u001b[0m \u001b[39m    Empty matches are included in the result.\"\"\"\u001b[39;00m\n\u001b[1;32m--> 241\u001b[0m     \u001b[39mreturn\u001b[39;00m _compile(pattern, flags)\u001b[39m.\u001b[39;49mfindall(string)\n",
      "\u001b[1;31mTypeError\u001b[0m: expected string or bytes-like object"
     ]
    }
   ],
   "source": [
    "df['hcpcs_cpt'] = df['code'].str[:5]\n",
    "df.loc[df['code'].str.len() == 7, 'modifier'] = df['code'].str[-2:]"
   ]
  },
  {
   "cell_type": "code",
   "execution_count": 60,
   "metadata": {},
   "outputs": [],
   "source": [
    "df['payer_category'] = df['payer'].apply(payer_category)"
   ]
  },
  {
   "cell_type": "code",
   "execution_count": null,
   "metadata": {},
   "outputs": [],
   "source": [
    "df['hospital_id'] = '190118'"
   ]
  },
  {
   "cell_type": "code",
   "execution_count": 62,
   "metadata": {},
   "outputs": [],
   "source": [
    "df.to_csv('desoto.csv', index=False)"
   ]
  }
 ],
 "metadata": {
  "kernelspec": {
   "display_name": "scraper",
   "language": "python",
   "name": "python3"
  },
  "language_info": {
   "codemirror_mode": {
    "name": "ipython",
    "version": 3
   },
   "file_extension": ".py",
   "mimetype": "text/x-python",
   "name": "python",
   "nbconvert_exporter": "python",
   "pygments_lexer": "ipython3",
   "version": "3.9.7"
  },
  "orig_nbformat": 4
 },
 "nbformat": 4,
 "nbformat_minor": 2
}
