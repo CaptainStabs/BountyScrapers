{
 "cells": [
  {
   "cell_type": "code",
   "execution_count": 2,
   "metadata": {
    "id": "Q1E9MzzDvNmN",
    "scrolled": true
   },
   "outputs": [],
   "source": [
    "!cd paylesshealth/ && dolt sql -q \"select * from hospitals where cdm_indirect_url is not null;\" -r csv > all_nulls.csv"
   ]
  },
  {
   "cell_type": "code",
   "execution_count": 52,
   "metadata": {
    "colab": {
     "base_uri": "https://localhost:8080/",
     "height": 409
    },
    "id": "t2eHYzw1vUKt",
    "outputId": "329c8be5-416b-4688-8de9-a268262b72eb",
    "scrolled": true
   },
   "outputs": [],
   "source": [
    "import pandas as pd\n",
    "# df = pd.read_csv('paylesshealth/hospitals.csv')\n",
    "df = pd.read_csv('./paylesshealth-1/all_nulls.csv')\n",
    "\n",
    "df2 = pd.read_csv('finished_possibles.csv')\n",
    "ccn_list = df2[\"ccn\"].tolist()\n",
    "\n",
    "df = df[~df['ccn'].isin(ccn_list)]\n",
    "# df = df.head(100)"
   ]
  },
  {
   "cell_type": "code",
   "execution_count": 38,
   "metadata": {
    "id": "UVOkJyDov5ek",
    "scrolled": false
   },
   "outputs": [],
   "source": [
    "import aiohttp\n",
    "import asyncio\n",
    "import re\n",
    "import cgi\n",
    "from pathlib import Path\n",
    "from urllib.parse import urlparse\n",
    "from bs4 import BeautifulSoup\n",
    "import traceback as tb"
   ]
  },
  {
   "cell_type": "code",
   "execution_count": 39,
   "metadata": {},
   "outputs": [],
   "source": [
    "def create_headers(url):\n",
    "    headers= {\n",
    "    \"User-Agent\": \"Mozilla/5.0 (Windows NT 10.0; Win64; x64; rv:98.0) Gecko/20100101 Firefox/98.0\",\n",
    "    \"Accept\": \"text/html,application/xhtml+xml,application/xml;q=0.9,image/avif,image/webp,*/*;q=0.8\",\n",
    "    \"Accept-Language\": \"en-US,en;q=0.5\",\n",
    "    \"Accept-Encoding\": \"gzip, deflate\",\n",
    "    \"Connection\": \"keep-alive\",\n",
    "    \"Upgrade-Insecure-Requests\": \"1\",\n",
    "    \"Sec-Fetch-Dest\": \"document\",\n",
    "    \"Sec-Fetch-Mode\": \"navigate\",\n",
    "    \"Sec-Fetch-Site\": \"none\",\n",
    "    \"Sec-Fetch-User\": \"?1\",\n",
    "    \"Cache-Control\": \"max-age=0\",\n",
    "    \"Host\": urlparse(url).netloc,\n",
    "    \"Referer\": urlparse(url).netloc\n",
    "    }\n",
    "    return headers"
   ]
  },
  {
   "cell_type": "code",
   "execution_count": 53,
   "metadata": {
    "id": "-s1TVWxsxEJR",
    "scrolled": true
   },
   "outputs": [],
   "source": [
    "async def checker(session, url):\n",
    "    find_strings = [\"price transparency\", \"standard charges\", \"pricing\", \"billing\", \"prices\", \"price listing\", \"charges\", \"transparency\", \"standard services\"]\n",
    "    url_string = [\"price-transparency\", \"standard-charges\", \"pricing\", \"billing\", \"prices\", \"price-list\", \"price-listing\", \"charges\", \"transparency\", \"standard-services\"]\n",
    "    if pd.isna(url):\n",
    "        return pd.NA, pd.NA\n",
    "    \n",
    "    # if \"/../\" in url or \"|\" in url: # aiohttp is kinda not smart\n",
    "    #     return False\n",
    "\n",
    "    headers = create_headers(url)\n",
    "    \n",
    "    try:\n",
    "        async with session.get(url, allow_redirects=True, ssl=False, raise_for_status=True, timeout=100, headers=headers) as r:\n",
    "            if r:\n",
    "                r = await r.text()\n",
    "                soup = BeautifulSoup(r, \"html.parser\")\n",
    "                \n",
    "                r = r.lower()\n",
    "                \n",
    "                # Check for common price transparency names\n",
    "                if any(string in r for string in find_strings):\n",
    "                    matching_str = [string for string in find_strings if string in r]\n",
    "\n",
    "                    possible_indirects = []\n",
    "                    for t_url in soup.find_all('a'):\n",
    "                        t_url = t_url.get(\"href\")\n",
    "                        \n",
    "                        if t_url:\n",
    "                            if any(string in t_url for string in url_string):\n",
    "                                if t_url not in possible_indirects:\n",
    "                                    possible_indirects.append(t_url)\n",
    "\n",
    "                    if not possible_indirects:\n",
    "                        # possible_indirects = pd.NA\n",
    "                        return pd.NA, pd.NA\n",
    "                    else:\n",
    "                        possible_indirects = \" | \".join(possible_indirects)\n",
    "                    \n",
    "                    return possible_indirects, matching_str\n",
    "                \n",
    "                else:\n",
    "                    return pd.NA, pd.NA\n",
    "                    \n",
    "    except aiohttp.ClientResponseError as e:\n",
    "#         print(\"ERROR\", e, url)\n",
    "        return pd.NA, pd.NA\n",
    "\n",
    "    except asyncio.TimeoutError:\n",
    "        return pd.NA, pd.NA\n",
    "\n",
    "    except aiohttp.ClientConnectionError:\n",
    "        return pd.NA, pd.NA    \n",
    "    \n",
    "    except KeyboardInterrupt:\n",
    "        import os; os.exit()\n",
    "\n",
    "    # except UnicodeDecodeError:\n",
    "    #     tb.print_exc()        \n",
    "    except Exception as e:\n",
    "        tb.print_exc()\n",
    "        print(e)\n",
    "        return pd.NA, pd.NA"
   ]
  },
  {
   "cell_type": "code",
   "execution_count": 45,
   "metadata": {
    "id": "Jla4P4ikxIGH",
    "scrolled": true
   },
   "outputs": [],
   "source": [
    "from tqdm.asyncio import tqdm\n",
    "\n",
    "async def main():\n",
    "    async with aiohttp.ClientSession(raise_for_status = True) as session:\n",
    "        df[[\"possible_indirect\", \"found_string\"]] = await tqdm.gather(*(checker(session, url) for url in df[\"homepage\"]), leave=True, position=0)\n",
    "        return df"
   ]
  },
  {
   "cell_type": "code",
   "execution_count": 54,
   "metadata": {
    "colab": {
     "base_uri": "https://localhost:8080/",
     "height": 1000
    },
    "id": "0jzfvZn8xN9-",
    "outputId": "d42d8f61-a106-48c8-cd2d-8cf4f8730ae0",
    "scrolled": true
   },
   "outputs": [
    {
     "name": "stderr",
     "output_type": "stream",
     "text": [
      " 86%|████████▋ | 1112/1286 [01:02<00:06, 27.86it/s]Traceback (most recent call last):\n",
      "  File \"C:\\Users\\adria\\AppData\\Local\\Temp\\ipykernel_22208\\624924292.py\", line 15, in checker\n",
      "    r = await r.text()\n",
      "  File \"c:\\Users\\adria\\Miniconda3\\envs\\scraper\\lib\\site-packages\\aiohttp\\client_reqrep.py\", line 1085, in text\n",
      "    return self._body.decode(  # type: ignore[no-any-return,union-attr]\n",
      "UnicodeDecodeError: 'utf-8' codec can't decode byte 0x97 in position 79817: invalid start byte\n"
     ]
    },
    {
     "name": "stdout",
     "output_type": "stream",
     "text": [
      "'utf-8' codec can't decode byte 0x97 in position 79817: invalid start byte\n"
     ]
    },
    {
     "name": "stderr",
     "output_type": "stream",
     "text": [
      "100%|██████████| 1286/1286 [01:38<00:00, 13.02it/s]\n",
      "c:\\Users\\adria\\Miniconda3\\envs\\scraper\\lib\\site-packages\\numpy\\core\\fromnumeric.py:3156: VisibleDeprecationWarning: Creating an ndarray from ragged nested sequences (which is a list-or-tuple of lists-or-tuples-or ndarrays with different lengths or shapes) is deprecated. If you meant to do this, you must specify 'dtype=object' when creating the ndarray.\n",
      "  return asarray(a).ndim\n"
     ]
    }
   ],
   "source": [
    "t = await main()"
   ]
  },
  {
   "cell_type": "code",
   "execution_count": null,
   "metadata": {
    "colab": {
     "base_uri": "https://localhost:8080/",
     "height": 1000
    },
    "id": "0jzfvZn8xN9-",
    "outputId": "d42d8f61-a106-48c8-cd2d-8cf4f8730ae0",
    "scrolled": true
   },
   "outputs": [
    {
     "name": "stderr",
     "output_type": "stream",
     "text": [
      " 86%|████████▋ | 1112/1286 [01:02<00:06, 27.86it/s]Traceback (most recent call last):\n",
      "  File \"C:\\Users\\adria\\AppData\\Local\\Temp\\ipykernel_22208\\624924292.py\", line 15, in checker\n",
      "    r = await r.text()\n",
      "  File \"c:\\Users\\adria\\Miniconda3\\envs\\scraper\\lib\\site-packages\\aiohttp\\client_reqrep.py\", line 1085, in text\n",
      "    return self._body.decode(  # type: ignore[no-any-return,union-attr]\n",
      "UnicodeDecodeError: 'utf-8' codec can't decode byte 0x97 in position 79817: invalid start byte\n"
     ]
    },
    {
     "name": "stdout",
     "output_type": "stream",
     "text": [
      "'utf-8' codec can't decode byte 0x97 in position 79817: invalid start byte\n"
     ]
    },
    {
     "name": "stderr",
     "output_type": "stream",
     "text": [
      "100%|██████████| 1286/1286 [01:38<00:00, 13.02it/s]\n",
      "c:\\Users\\adria\\Miniconda3\\envs\\scraper\\lib\\site-packages\\numpy\\core\\fromnumeric.py:3156: VisibleDeprecationWarning: Creating an ndarray from ragged nested sequences (which is a list-or-tuple of lists-or-tuples-or ndarrays with different lengths or shapes) is deprecated. If you meant to do this, you must specify 'dtype=object' when creating the ndarray.\n",
      "  return asarray(a).ndim\n"
     ]
    }
   ],
   "source": [
    "t = await main()"
   ]
  },
  {
   "cell_type": "code",
   "execution_count": 59,
   "metadata": {
    "colab": {
     "base_uri": "https://localhost:8080/",
     "height": 424
    },
    "id": "7XiiZGZJxO8-",
    "outputId": "63403263-0072-4c12-c2cd-6f4628b9af80",
    "scrolled": false
   },
   "outputs": [
    {
     "data": {
      "text/html": [
       "<div>\n",
       "<style scoped>\n",
       "    .dataframe tbody tr th:only-of-type {\n",
       "        vertical-align: middle;\n",
       "    }\n",
       "\n",
       "    .dataframe tbody tr th {\n",
       "        vertical-align: top;\n",
       "    }\n",
       "\n",
       "    .dataframe thead th {\n",
       "        text-align: right;\n",
       "    }\n",
       "</style>\n",
       "<table border=\"1\" class=\"dataframe\">\n",
       "  <thead>\n",
       "    <tr style=\"text-align: right;\">\n",
       "      <th></th>\n",
       "      <th>ccn</th>\n",
       "      <th>name</th>\n",
       "      <th>state</th>\n",
       "      <th>city</th>\n",
       "      <th>homepage</th>\n",
       "      <th>cdm_indirect_url</th>\n",
       "      <th>cdm_url</th>\n",
       "      <th>possible_indirect</th>\n",
       "      <th>found_string</th>\n",
       "    </tr>\n",
       "  </thead>\n",
       "  <tbody>\n",
       "    <tr>\n",
       "      <th>1</th>\n",
       "      <td>053304</td>\n",
       "      <td>CHILDREN'S HOSPITAL OF ORANGE COUNTY</td>\n",
       "      <td>CA</td>\n",
       "      <td>ORANGE</td>\n",
       "      <td>https://www.choc.org/</td>\n",
       "      <td>https://www.choc.org/patients-family/pricing-t...</td>\n",
       "      <td>NaN</td>\n",
       "      <td>/patients-family/pricing-transparency/ | /pati...</td>\n",
       "      <td>[pricing, billing, charges, transparency]</td>\n",
       "    </tr>\n",
       "    <tr>\n",
       "      <th>2</th>\n",
       "      <td>053306</td>\n",
       "      <td>CHILDREN'S HOSPITAL AT MISSION</td>\n",
       "      <td>CA</td>\n",
       "      <td>MISSION VIEJO</td>\n",
       "      <td>https://www.choc.org/</td>\n",
       "      <td>NaN</td>\n",
       "      <td>NaN</td>\n",
       "      <td>/patients-family/pricing-transparency/ | /pati...</td>\n",
       "      <td>[pricing, billing, charges, transparency]</td>\n",
       "    </tr>\n",
       "    <tr>\n",
       "      <th>5</th>\n",
       "      <td>054009</td>\n",
       "      <td>RESNICK NEUROPSYCHIATRIC HOSPITAL AT UCLA</td>\n",
       "      <td>CA</td>\n",
       "      <td>LOS ANGELES</td>\n",
       "      <td>https://www.uclahealth.org/</td>\n",
       "      <td>NaN</td>\n",
       "      <td>NaN</td>\n",
       "      <td>/patients-families/billing-insurance | /patien...</td>\n",
       "      <td>[billing]</td>\n",
       "    </tr>\n",
       "    <tr>\n",
       "      <th>57</th>\n",
       "      <td>084001</td>\n",
       "      <td>DELAWARE PSYCHIATRIC CENTER</td>\n",
       "      <td>DE</td>\n",
       "      <td>NEW CASTLE</td>\n",
       "      <td>https://www.dhss.delaware.gov/dhss/main/maps/h...</td>\n",
       "      <td>NaN</td>\n",
       "      <td>NaN</td>\n",
       "      <td>https://delaware.gov/topics/transparency</td>\n",
       "      <td>[transparency]</td>\n",
       "    </tr>\n",
       "    <tr>\n",
       "      <th>114</th>\n",
       "      <td>030074</td>\n",
       "      <td>SELLS HOSPITAL</td>\n",
       "      <td>AZ</td>\n",
       "      <td>SELLS</td>\n",
       "      <td>https://www.ihs.gov/tucson/healthcarefacilitie...</td>\n",
       "      <td>NaN</td>\n",
       "      <td>NaN</td>\n",
       "      <td>/billings</td>\n",
       "      <td>[billing, charges]</td>\n",
       "    </tr>\n",
       "    <tr>\n",
       "      <th>...</th>\n",
       "      <td>...</td>\n",
       "      <td>...</td>\n",
       "      <td>...</td>\n",
       "      <td>...</td>\n",
       "      <td>...</td>\n",
       "      <td>...</td>\n",
       "      <td>...</td>\n",
       "      <td>...</td>\n",
       "      <td>...</td>\n",
       "    </tr>\n",
       "    <tr>\n",
       "      <th>1418</th>\n",
       "      <td>493302</td>\n",
       "      <td>CHILDREN'S HOSP OF RICHMOND OF THE VCU HEALTH SYS</td>\n",
       "      <td>VA</td>\n",
       "      <td>RICHMOND</td>\n",
       "      <td>https://www.chrichmond.org/</td>\n",
       "      <td>NaN</td>\n",
       "      <td>NaN</td>\n",
       "      <td>/chrichmond/patient-and-family-resources/insur...</td>\n",
       "      <td>[billing]</td>\n",
       "    </tr>\n",
       "    <tr>\n",
       "      <th>1456</th>\n",
       "      <td>501322</td>\n",
       "      <td>FERRY COUNTY MEMORIAL HOSPITAL</td>\n",
       "      <td>WA</td>\n",
       "      <td>REPUBLIC</td>\n",
       "      <td>https://www.fcphd.org/</td>\n",
       "      <td>NaN</td>\n",
       "      <td>NaN</td>\n",
       "      <td>#charges</td>\n",
       "      <td>[pricing, billing, charges]</td>\n",
       "    </tr>\n",
       "    <tr>\n",
       "      <th>1458</th>\n",
       "      <td>501328</td>\n",
       "      <td>MID VALLEY HOSPITAL</td>\n",
       "      <td>WA</td>\n",
       "      <td>OMAK</td>\n",
       "      <td>https://www.mvhealth.org/</td>\n",
       "      <td>NaN</td>\n",
       "      <td>NaN</td>\n",
       "      <td>https://www.mvhealth.org/patients-visitors/bil...</td>\n",
       "      <td>[pricing, billing]</td>\n",
       "    </tr>\n",
       "    <tr>\n",
       "      <th>1459</th>\n",
       "      <td>501336</td>\n",
       "      <td>MASON GENERAL HOSPITAL &amp; FAMILY OF CLINICS</td>\n",
       "      <td>WA</td>\n",
       "      <td>SHELTON</td>\n",
       "      <td>https://www.masongeneral.com/</td>\n",
       "      <td>NaN</td>\n",
       "      <td>NaN</td>\n",
       "      <td>https://www.masongeneral.com/patients/disclosu...</td>\n",
       "      <td>[pricing, billing, charges, transparency]</td>\n",
       "    </tr>\n",
       "    <tr>\n",
       "      <th>1478</th>\n",
       "      <td>512005</td>\n",
       "      <td>SELECT SPECIALTY HOSPITAL - WEIRTON</td>\n",
       "      <td>WV</td>\n",
       "      <td>WEIRTON</td>\n",
       "      <td>https://www.selectspecialtyhospitals.com/</td>\n",
       "      <td>https://www.selectspecialtyhospitals.com/locat...</td>\n",
       "      <td>NaN</td>\n",
       "      <td>/patients-and-caregivers/admissions/pricing-tr...</td>\n",
       "      <td>[pricing, billing, transparency]</td>\n",
       "    </tr>\n",
       "  </tbody>\n",
       "</table>\n",
       "<p>117 rows × 9 columns</p>\n",
       "</div>"
      ],
      "text/plain": [
       "         ccn                                               name state  \\\n",
       "1     053304               CHILDREN'S HOSPITAL OF ORANGE COUNTY    CA   \n",
       "2     053306                     CHILDREN'S HOSPITAL AT MISSION    CA   \n",
       "5     054009          RESNICK NEUROPSYCHIATRIC HOSPITAL AT UCLA    CA   \n",
       "57    084001                        DELAWARE PSYCHIATRIC CENTER    DE   \n",
       "114   030074                                     SELLS HOSPITAL    AZ   \n",
       "...      ...                                                ...   ...   \n",
       "1418  493302  CHILDREN'S HOSP OF RICHMOND OF THE VCU HEALTH SYS    VA   \n",
       "1456  501322                     FERRY COUNTY MEMORIAL HOSPITAL    WA   \n",
       "1458  501328                                MID VALLEY HOSPITAL    WA   \n",
       "1459  501336         MASON GENERAL HOSPITAL & FAMILY OF CLINICS    WA   \n",
       "1478  512005                SELECT SPECIALTY HOSPITAL - WEIRTON    WV   \n",
       "\n",
       "               city                                           homepage  \\\n",
       "1            ORANGE                              https://www.choc.org/   \n",
       "2     MISSION VIEJO                              https://www.choc.org/   \n",
       "5       LOS ANGELES                        https://www.uclahealth.org/   \n",
       "57       NEW CASTLE  https://www.dhss.delaware.gov/dhss/main/maps/h...   \n",
       "114           SELLS  https://www.ihs.gov/tucson/healthcarefacilitie...   \n",
       "...             ...                                                ...   \n",
       "1418       RICHMOND                        https://www.chrichmond.org/   \n",
       "1456       REPUBLIC                             https://www.fcphd.org/   \n",
       "1458           OMAK                          https://www.mvhealth.org/   \n",
       "1459        SHELTON                      https://www.masongeneral.com/   \n",
       "1478        WEIRTON          https://www.selectspecialtyhospitals.com/   \n",
       "\n",
       "                                       cdm_indirect_url  cdm_url  \\\n",
       "1     https://www.choc.org/patients-family/pricing-t...      NaN   \n",
       "2                                                   NaN      NaN   \n",
       "5                                                   NaN      NaN   \n",
       "57                                                  NaN      NaN   \n",
       "114                                                 NaN      NaN   \n",
       "...                                                 ...      ...   \n",
       "1418                                                NaN      NaN   \n",
       "1456                                                NaN      NaN   \n",
       "1458                                                NaN      NaN   \n",
       "1459                                                NaN      NaN   \n",
       "1478  https://www.selectspecialtyhospitals.com/locat...      NaN   \n",
       "\n",
       "                                      possible_indirect  \\\n",
       "1     /patients-family/pricing-transparency/ | /pati...   \n",
       "2     /patients-family/pricing-transparency/ | /pati...   \n",
       "5     /patients-families/billing-insurance | /patien...   \n",
       "57             https://delaware.gov/topics/transparency   \n",
       "114                                           /billings   \n",
       "...                                                 ...   \n",
       "1418  /chrichmond/patient-and-family-resources/insur...   \n",
       "1456                                           #charges   \n",
       "1458  https://www.mvhealth.org/patients-visitors/bil...   \n",
       "1459  https://www.masongeneral.com/patients/disclosu...   \n",
       "1478  /patients-and-caregivers/admissions/pricing-tr...   \n",
       "\n",
       "                                   found_string  \n",
       "1     [pricing, billing, charges, transparency]  \n",
       "2     [pricing, billing, charges, transparency]  \n",
       "5                                     [billing]  \n",
       "57                               [transparency]  \n",
       "114                          [billing, charges]  \n",
       "...                                         ...  \n",
       "1418                                  [billing]  \n",
       "1456                [pricing, billing, charges]  \n",
       "1458                         [pricing, billing]  \n",
       "1459  [pricing, billing, charges, transparency]  \n",
       "1478           [pricing, billing, transparency]  \n",
       "\n",
       "[117 rows x 9 columns]"
      ]
     },
     "execution_count": 59,
     "metadata": {},
     "output_type": "execute_result"
    }
   ],
   "source": [
    "t.dropna(subset=[\"found_string\"], inplace=True)\n",
    "\n",
    "t = t[t[\"homepage\"].str.contains(\"https://www.va.gov/\")==False] # Remove VA hospitals\n",
    "\n",
    "t"
   ]
  },
  {
   "cell_type": "code",
   "execution_count": 60,
   "metadata": {},
   "outputs": [],
   "source": [
    "t.to_csv(\"possible_indirects.csv\", index=False)"
   ]
  }
 ],
 "metadata": {
  "colab": {
   "provenance": []
  },
  "kernelspec": {
   "display_name": "Python 3.9.7 ('scraper')",
   "language": "python",
   "name": "python3"
  },
  "language_info": {
   "codemirror_mode": {
    "name": "ipython",
    "version": 3
   },
   "file_extension": ".py",
   "mimetype": "text/x-python",
   "name": "python",
   "nbconvert_exporter": "python",
   "pygments_lexer": "ipython3",
   "version": "3.9.7"
  },
  "vscode": {
   "interpreter": {
    "hash": "c944cbe044b4c0209db536598224de1487547ec83c6afed452622be158ffdbc2"
   }
  }
 },
 "nbformat": 4,
 "nbformat_minor": 1
}
