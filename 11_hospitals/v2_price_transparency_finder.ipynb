{
 "cells": [
  {
   "cell_type": "code",
   "execution_count": 2,
   "metadata": {
    "id": "Q1E9MzzDvNmN",
    "scrolled": true
   },
   "outputs": [],
   "source": [
    "!cd paylesshealth/ && dolt sql -q \"select * from hospitals where cdm_indirect_url is not null;\" -r csv > all_nulls.csv"
   ]
  },
  {
   "cell_type": "code",
   "execution_count": 3,
   "metadata": {
    "colab": {
     "base_uri": "https://localhost:8080/",
     "height": 409
    },
    "id": "t2eHYzw1vUKt",
    "outputId": "329c8be5-416b-4688-8de9-a268262b72eb",
    "scrolled": true
   },
   "outputs": [],
   "source": [
    "import pandas as pd\n",
    "# df = pd.read_csv('paylesshealth/hospitals.csv')\n",
    "df = pd.read_csv('./paylesshealth-1/all_nulls.csv')\n",
    "\n",
    "df2 = pd.read_csv('finished_possibles.csv')\n",
    "ccn_list = df2[\"ccn\"].tolist()\n",
    "\n",
    "df = df[~df['ccn'].isin(ccn_list)]\n",
    "# df = df.head(100)"
   ]
  },
  {
   "cell_type": "code",
   "execution_count": 15,
   "metadata": {
    "id": "UVOkJyDov5ek",
    "scrolled": false
   },
   "outputs": [],
   "source": [
    "import aiohttp\n",
    "import asyncio\n",
    "import re\n",
    "import cgi\n",
    "from pathlib import Path\n",
    "from urllib.parse import urlparse\n",
    "from bs4 import BeautifulSoup\n",
    "import traceback as tb"
   ]
  },
  {
   "cell_type": "code",
   "execution_count": 5,
   "metadata": {},
   "outputs": [],
   "source": [
    "def create_headers(url):\n",
    "    headers= {\n",
    "    \"User-Agent\": \"Mozilla/5.0 (Windows NT 10.0; Win64; x64; rv:98.0) Gecko/20100101 Firefox/98.0\",\n",
    "    \"Accept\": \"text/html,application/xhtml+xml,application/xml;q=0.9,image/avif,image/webp,*/*;q=0.8\",\n",
    "    \"Accept-Language\": \"en-US,en;q=0.5\",\n",
    "    \"Accept-Encoding\": \"gzip, deflate\",\n",
    "    \"Connection\": \"keep-alive\",\n",
    "    \"Upgrade-Insecure-Requests\": \"1\",\n",
    "    \"Sec-Fetch-Dest\": \"document\",\n",
    "    \"Sec-Fetch-Mode\": \"navigate\",\n",
    "    \"Sec-Fetch-Site\": \"none\",\n",
    "    \"Sec-Fetch-User\": \"?1\",\n",
    "    \"Cache-Control\": \"max-age=0\",\n",
    "    \"Host\": urlparse(url).netloc,\n",
    "    \"Referer\": urlparse(url).netloc\n",
    "    }\n",
    "    return headers"
   ]
  },
  {
   "cell_type": "code",
   "execution_count": 18,
   "metadata": {
    "id": "-s1TVWxsxEJR",
    "scrolled": true
   },
   "outputs": [],
   "source": [
    "async def checker(session, url):\n",
    "    find_strings = [\"price transparency\", \"standard charges\", \"pricing\", \"billing\", \"prices\", \"price listing\", \"charges\", \"transparency\", \"standard services\"]\n",
    "    url_string = [\"price-transparency\", \"standard-charges\", \"pricing\", \"billing\", \"prices\", \"price-list\", \"price-listing\", \"charges\", \"transparency\", \"standard-services\"]\n",
    "    if pd.isna(url):\n",
    "        return False\n",
    "    \n",
    "    # if \"/../\" in url or \"|\" in url: # aiohttp is kinda not smart\n",
    "    #     return False\n",
    "\n",
    "    headers = create_headers(url)\n",
    "    \n",
    "    try:\n",
    "        async with session.get(url, allow_redirects=True, ssl=False, raise_for_status=True, timeout=100, headers=headers) as r:\n",
    "            if r:\n",
    "                r = await r.text()\n",
    "                soup = BeautifulSoup(r, \"html.parser\")\n",
    "                \n",
    "                r = r.lower()\n",
    "                # Check for common price transparency names\n",
    "                if any(string in r for string in find_strings):\n",
    "                    matching_str = [string for string in find_strings if string in r]\n",
    "\n",
    "                    possible_indirects = []\n",
    "                    for t_url in soup.find_all('a'):\n",
    "                        t_url = t_url.get(\"href\")\n",
    "                        \n",
    "                        if t_url:\n",
    "                            if any(string in t_url for string in url_string):\n",
    "                                if t_url not in possible_indirects:\n",
    "                                    possible_indirects.append(t_url)\n",
    "\n",
    "                    if not possible_indirects:\n",
    "                        # possible_indirects = pd.NA\n",
    "                        return pd.NA, pd.NA\n",
    "                    else:\n",
    "                        possible_indirects = \" | \".join(possible_indirects)\n",
    "                    \n",
    "                    return possible_indirects, matching_str\n",
    "                \n",
    "                else:\n",
    "                    return pd.NA, pd.NA\n",
    "                    \n",
    "    except aiohttp.ClientResponseError as e:\n",
    "#         print(\"ERROR\", e, url)\n",
    "        return pd.NA, pd.NA\n",
    "\n",
    "    except asyncio.TimeoutError:\n",
    "        return pd.NA, pd.NA\n",
    "\n",
    "    except aiohttp.ClientConnectionError:\n",
    "        return pd.NA, pd.NA    \n",
    "    \n",
    "    except KeyboardInterrupt:\n",
    "        import os; os.exit()\n",
    "\n",
    "    except UnicodeDecodeError:\n",
    "        tb.print_exc()        \n",
    "    except Exception as e:\n",
    "        tb.print_exc()\n",
    "        print(e)\n",
    "        return pd.NA, pd.NA"
   ]
  },
  {
   "cell_type": "code",
   "execution_count": 17,
   "metadata": {
    "id": "Jla4P4ikxIGH",
    "scrolled": true
   },
   "outputs": [],
   "source": [
    "from tqdm.asyncio import tqdm\n",
    "\n",
    "async def main():\n",
    "    async with aiohttp.ClientSession(raise_for_status = True) as session:\n",
    "        df[[\"possible_indirect\", \"found_string\"]] = await tqdm.gather(*(checker(session, url) for url in df[\"homepage\"]), leave=True, position=0)\n",
    "        return df"
   ]
  },
  {
   "cell_type": "code",
   "execution_count": 19,
   "metadata": {
    "colab": {
     "base_uri": "https://localhost:8080/",
     "height": 1000
    },
    "id": "0jzfvZn8xN9-",
    "outputId": "d42d8f61-a106-48c8-cd2d-8cf4f8730ae0",
    "scrolled": true
   },
   "outputs": [
    {
     "name": "stderr",
     "output_type": "stream",
     "text": [
      " 33%|███▎      | 460/1389 [00:15<01:03, 14.55it/s] Traceback (most recent call last):\n",
      "  File \"C:\\Users\\adria\\AppData\\Local\\Temp\\ipykernel_22208\\3244036188.py\", line 15, in checker\n",
      "    r = await r.text()\n",
      "  File \"c:\\Users\\adria\\Miniconda3\\envs\\scraper\\lib\\site-packages\\aiohttp\\client_reqrep.py\", line 1085, in text\n",
      "    return self._body.decode(  # type: ignore[no-any-return,union-attr]\n",
      "UnicodeDecodeError: 'utf-8' codec can't decode byte 0x97 in position 79817: invalid start byte\n",
      " 33%|███▎      | 462/1389 [00:15<01:12, 12.75it/s]"
     ]
    },
    {
     "name": "stdout",
     "output_type": "stream",
     "text": [
      "'utf-8' codec can't decode byte 0x97 in position 79817: invalid start byte\n"
     ]
    },
    {
     "name": "stderr",
     "output_type": "stream",
     "text": [
      "100%|██████████| 1389/1389 [01:30<00:00, 15.28it/s]\n"
     ]
    },
    {
     "ename": "ValueError",
     "evalue": "Columns must be same length as key",
     "output_type": "error",
     "traceback": [
      "\u001b[1;31m---------------------------------------------------------------------------\u001b[0m",
      "\u001b[1;31mValueError\u001b[0m                                Traceback (most recent call last)",
      "\u001b[1;32mc:\\Users\\adria\\github\\BountyScrapers\\11_hospitals\\v2_price_transparency_finder.ipynb Cell 7\u001b[0m in \u001b[0;36m<cell line: 1>\u001b[1;34m()\u001b[0m\n\u001b[1;32m----> <a href='vscode-notebook-cell:/c%3A/Users/adria/github/BountyScrapers/11_hospitals/v2_price_transparency_finder.ipynb#W6sZmlsZQ%3D%3D?line=0'>1</a>\u001b[0m t \u001b[39m=\u001b[39m \u001b[39mawait\u001b[39;00m main()\n",
      "\u001b[1;32mc:\\Users\\adria\\github\\BountyScrapers\\11_hospitals\\v2_price_transparency_finder.ipynb Cell 7\u001b[0m in \u001b[0;36mmain\u001b[1;34m()\u001b[0m\n\u001b[0;32m      <a href='vscode-notebook-cell:/c%3A/Users/adria/github/BountyScrapers/11_hospitals/v2_price_transparency_finder.ipynb#W6sZmlsZQ%3D%3D?line=2'>3</a>\u001b[0m \u001b[39masync\u001b[39;00m \u001b[39mdef\u001b[39;00m \u001b[39mmain\u001b[39m():\n\u001b[0;32m      <a href='vscode-notebook-cell:/c%3A/Users/adria/github/BountyScrapers/11_hospitals/v2_price_transparency_finder.ipynb#W6sZmlsZQ%3D%3D?line=3'>4</a>\u001b[0m     \u001b[39masync\u001b[39;00m \u001b[39mwith\u001b[39;00m aiohttp\u001b[39m.\u001b[39mClientSession(raise_for_status \u001b[39m=\u001b[39m \u001b[39mTrue\u001b[39;00m) \u001b[39mas\u001b[39;00m session:\n\u001b[1;32m----> <a href='vscode-notebook-cell:/c%3A/Users/adria/github/BountyScrapers/11_hospitals/v2_price_transparency_finder.ipynb#W6sZmlsZQ%3D%3D?line=4'>5</a>\u001b[0m         df[[\u001b[39m\"\u001b[39m\u001b[39mpossible_indirect\u001b[39m\u001b[39m\"\u001b[39m, \u001b[39m\"\u001b[39m\u001b[39mfound_string\u001b[39m\u001b[39m\"\u001b[39m]] \u001b[39m=\u001b[39m \u001b[39mawait\u001b[39;00m tqdm\u001b[39m.\u001b[39mgather(\u001b[39m*\u001b[39m(checker(session, url) \u001b[39mfor\u001b[39;00m url \u001b[39min\u001b[39;00m df[\u001b[39m\"\u001b[39m\u001b[39mhomepage\u001b[39m\u001b[39m\"\u001b[39m]), leave\u001b[39m=\u001b[39m\u001b[39mTrue\u001b[39;00m, position\u001b[39m=\u001b[39m\u001b[39m0\u001b[39m)\n\u001b[0;32m      <a href='vscode-notebook-cell:/c%3A/Users/adria/github/BountyScrapers/11_hospitals/v2_price_transparency_finder.ipynb#W6sZmlsZQ%3D%3D?line=5'>6</a>\u001b[0m         \u001b[39mreturn\u001b[39;00m df\n",
      "File \u001b[1;32mc:\\Users\\adria\\Miniconda3\\envs\\scraper\\lib\\site-packages\\pandas\\core\\frame.py:3966\u001b[0m, in \u001b[0;36mDataFrame.__setitem__\u001b[1;34m(self, key, value)\u001b[0m\n\u001b[0;32m   3964\u001b[0m     \u001b[39mself\u001b[39m\u001b[39m.\u001b[39m_setitem_frame(key, value)\n\u001b[0;32m   3965\u001b[0m \u001b[39melif\u001b[39;00m \u001b[39misinstance\u001b[39m(key, (Series, np\u001b[39m.\u001b[39mndarray, \u001b[39mlist\u001b[39m, Index)):\n\u001b[1;32m-> 3966\u001b[0m     \u001b[39mself\u001b[39;49m\u001b[39m.\u001b[39;49m_setitem_array(key, value)\n\u001b[0;32m   3967\u001b[0m \u001b[39melif\u001b[39;00m \u001b[39misinstance\u001b[39m(value, DataFrame):\n\u001b[0;32m   3968\u001b[0m     \u001b[39mself\u001b[39m\u001b[39m.\u001b[39m_set_item_frame_value(key, value)\n",
      "File \u001b[1;32mc:\\Users\\adria\\Miniconda3\\envs\\scraper\\lib\\site-packages\\pandas\\core\\frame.py:4025\u001b[0m, in \u001b[0;36mDataFrame._setitem_array\u001b[1;34m(self, key, value)\u001b[0m\n\u001b[0;32m   4022\u001b[0m     \u001b[39mreturn\u001b[39;00m \u001b[39mself\u001b[39m\u001b[39m.\u001b[39m_setitem_array(key, value)\n\u001b[0;32m   4024\u001b[0m \u001b[39melse\u001b[39;00m:\n\u001b[1;32m-> 4025\u001b[0m     \u001b[39mself\u001b[39;49m\u001b[39m.\u001b[39;49m_iset_not_inplace(key, value)\n",
      "File \u001b[1;32mc:\\Users\\adria\\Miniconda3\\envs\\scraper\\lib\\site-packages\\pandas\\core\\frame.py:4044\u001b[0m, in \u001b[0;36mDataFrame._iset_not_inplace\u001b[1;34m(self, key, value)\u001b[0m\n\u001b[0;32m   4042\u001b[0m \u001b[39mif\u001b[39;00m \u001b[39mself\u001b[39m\u001b[39m.\u001b[39mcolumns\u001b[39m.\u001b[39mis_unique:\n\u001b[0;32m   4043\u001b[0m     \u001b[39mif\u001b[39;00m np\u001b[39m.\u001b[39mshape(value)[\u001b[39m-\u001b[39m\u001b[39m1\u001b[39m] \u001b[39m!=\u001b[39m \u001b[39mlen\u001b[39m(key):\n\u001b[1;32m-> 4044\u001b[0m         \u001b[39mraise\u001b[39;00m \u001b[39mValueError\u001b[39;00m(\u001b[39m\"\u001b[39m\u001b[39mColumns must be same length as key\u001b[39m\u001b[39m\"\u001b[39m)\n\u001b[0;32m   4046\u001b[0m     \u001b[39mfor\u001b[39;00m i, col \u001b[39min\u001b[39;00m \u001b[39menumerate\u001b[39m(key):\n\u001b[0;32m   4047\u001b[0m         \u001b[39mself\u001b[39m[col] \u001b[39m=\u001b[39m igetitem(value, i)\n",
      "\u001b[1;31mValueError\u001b[0m: Columns must be same length as key"
     ]
    }
   ],
   "source": [
    "t = await main()"
   ]
  },
  {
   "cell_type": "code",
   "execution_count": 9,
   "metadata": {},
   "outputs": [
    {
     "ename": "NameError",
     "evalue": "name 't' is not defined",
     "output_type": "error",
     "traceback": [
      "\u001b[1;31m---------------------------------------------------------------------------\u001b[0m",
      "\u001b[1;31mNameError\u001b[0m                                 Traceback (most recent call last)",
      "\u001b[1;32mc:\\Users\\adria\\github\\BountyScrapers\\11_hospitals\\v2_price_transparency_finder.ipynb Cell 8\u001b[0m in \u001b[0;36m<cell line: 1>\u001b[1;34m()\u001b[0m\n\u001b[1;32m----> <a href='vscode-notebook-cell:/c%3A/Users/adria/github/BountyScrapers/11_hospitals/v2_price_transparency_finder.ipynb#X10sZmlsZQ%3D%3D?line=0'>1</a>\u001b[0m t\n",
      "\u001b[1;31mNameError\u001b[0m: name 't' is not defined"
     ]
    }
   ],
   "source": [
    "t"
   ]
  },
  {
   "cell_type": "code",
   "execution_count": 84,
   "metadata": {
    "colab": {
     "base_uri": "https://localhost:8080/",
     "height": 424
    },
    "id": "7XiiZGZJxO8-",
    "outputId": "63403263-0072-4c12-c2cd-6f4628b9af80",
    "scrolled": false
   },
   "outputs": [
    {
     "data": {
      "text/html": [
       "<div>\n",
       "<style scoped>\n",
       "    .dataframe tbody tr th:only-of-type {\n",
       "        vertical-align: middle;\n",
       "    }\n",
       "\n",
       "    .dataframe tbody tr th {\n",
       "        vertical-align: top;\n",
       "    }\n",
       "\n",
       "    .dataframe thead th {\n",
       "        text-align: right;\n",
       "    }\n",
       "</style>\n",
       "<table border=\"1\" class=\"dataframe\">\n",
       "  <thead>\n",
       "    <tr style=\"text-align: right;\">\n",
       "      <th></th>\n",
       "      <th>ccn</th>\n",
       "      <th>name</th>\n",
       "      <th>state</th>\n",
       "      <th>city</th>\n",
       "      <th>homepage</th>\n",
       "      <th>cdm_indirect_url</th>\n",
       "      <th>cdm_url</th>\n",
       "      <th>possible_indirect</th>\n",
       "      <th>found_string</th>\n",
       "    </tr>\n",
       "  </thead>\n",
       "  <tbody>\n",
       "    <tr>\n",
       "      <th>177</th>\n",
       "      <td>173027</td>\n",
       "      <td>WESLEY REHABILITATION HOSPITAL, AN AFFILIATE O...</td>\n",
       "      <td>KS</td>\n",
       "      <td>WICHITA</td>\n",
       "      <td>https://encompasshealth.com/</td>\n",
       "      <td>NaN</td>\n",
       "      <td>NaN</td>\n",
       "      <td>/inpatient-rehabilitation/resources-and-educat...</td>\n",
       "      <td>[transparency]</td>\n",
       "    </tr>\n",
       "    <tr>\n",
       "      <th>178</th>\n",
       "      <td>673032</td>\n",
       "      <td>RELIANT REHABILITATION HOSPITAL OF CENTRAL TEXAS</td>\n",
       "      <td>TX</td>\n",
       "      <td>ROUND ROCK</td>\n",
       "      <td>https://encompasshealth.com/</td>\n",
       "      <td>NaN</td>\n",
       "      <td>NaN</td>\n",
       "      <td>/inpatient-rehabilitation/resources-and-educat...</td>\n",
       "      <td>[transparency]</td>\n",
       "    </tr>\n",
       "    <tr>\n",
       "      <th>179</th>\n",
       "      <td>670172</td>\n",
       "      <td>SIGNATURE CARE EMERGENCY CENTER-MISSION BEND</td>\n",
       "      <td>TX</td>\n",
       "      <td>HOUSTON</td>\n",
       "      <td>https://ercare24.com/</td>\n",
       "      <td>NaN</td>\n",
       "      <td>NaN</td>\n",
       "      <td>https://ercare24.com/payment-and-billing/</td>\n",
       "      <td>[billing]</td>\n",
       "    </tr>\n",
       "    <tr>\n",
       "      <th>180</th>\n",
       "      <td>670173</td>\n",
       "      <td>SIGNATURE CARE EMERGENCY CENTER-MONTROSE</td>\n",
       "      <td>TX</td>\n",
       "      <td>HOUSTON</td>\n",
       "      <td>https://ercare24.com/</td>\n",
       "      <td>NaN</td>\n",
       "      <td>NaN</td>\n",
       "      <td>https://ercare24.com/payment-and-billing/</td>\n",
       "      <td>[billing]</td>\n",
       "    </tr>\n",
       "    <tr>\n",
       "      <th>181</th>\n",
       "      <td>670178</td>\n",
       "      <td>TC JESTER EMERGENCY CENTER, LLC</td>\n",
       "      <td>TX</td>\n",
       "      <td>HOUSTON</td>\n",
       "      <td>https://ercare24.com/</td>\n",
       "      <td>NaN</td>\n",
       "      <td>NaN</td>\n",
       "      <td>https://ercare24.com/payment-and-billing/</td>\n",
       "      <td>[billing]</td>\n",
       "    </tr>\n",
       "    <tr>\n",
       "      <th>...</th>\n",
       "      <td>...</td>\n",
       "      <td>...</td>\n",
       "      <td>...</td>\n",
       "      <td>...</td>\n",
       "      <td>...</td>\n",
       "      <td>...</td>\n",
       "      <td>...</td>\n",
       "      <td>...</td>\n",
       "      <td>...</td>\n",
       "    </tr>\n",
       "    <tr>\n",
       "      <th>1504</th>\n",
       "      <td>340168</td>\n",
       "      <td>WILMINGTON TREATMENT CENTER</td>\n",
       "      <td>NC</td>\n",
       "      <td>WILMINGTON</td>\n",
       "      <td>https://www.wilmingtontreatment.com/</td>\n",
       "      <td>NaN</td>\n",
       "      <td>NaN</td>\n",
       "      <td>/admissions/insurance-payment-information/rate...</td>\n",
       "      <td>[pricing]</td>\n",
       "    </tr>\n",
       "    <tr>\n",
       "      <th>1510</th>\n",
       "      <td>521347</td>\n",
       "      <td>WESTERN WISCONSIN HEALTH</td>\n",
       "      <td>WI</td>\n",
       "      <td>BALDWIN</td>\n",
       "      <td>https://www.wwhealth.org/</td>\n",
       "      <td>NaN</td>\n",
       "      <td>NaN</td>\n",
       "      <td>https://www.wwhealth.org/your-visit/price-tran...</td>\n",
       "      <td>[price transparency, charges, transparency]</td>\n",
       "    </tr>\n",
       "    <tr>\n",
       "      <th>1511</th>\n",
       "      <td>451346</td>\n",
       "      <td>YOAKUM COMMUNITY HOSPITAL</td>\n",
       "      <td>TX</td>\n",
       "      <td>YOAKUM</td>\n",
       "      <td>https://www.yoakumhospital.org/</td>\n",
       "      <td>NaN</td>\n",
       "      <td>NaN</td>\n",
       "      <td>https://www.yoakumhospital.org/about-yoakum-ho...</td>\n",
       "      <td>[pricing, billing, transparency]</td>\n",
       "    </tr>\n",
       "    <tr>\n",
       "      <th>1513</th>\n",
       "      <td>270091</td>\n",
       "      <td>YELLOWSTONE SURGERY CENTER LLC</td>\n",
       "      <td>MT</td>\n",
       "      <td>BILLINGS</td>\n",
       "      <td>https://yellowstonesurgerycenter.com/</td>\n",
       "      <td>NaN</td>\n",
       "      <td>NaN</td>\n",
       "      <td>https://yellowstonesurgerycenter.com/about-yel...</td>\n",
       "      <td>[pricing, billing, charges]</td>\n",
       "    </tr>\n",
       "    <tr>\n",
       "      <th>1514</th>\n",
       "      <td>270092</td>\n",
       "      <td>YELLOWSTONE SURGERY CENTER WEST</td>\n",
       "      <td>MT</td>\n",
       "      <td>BILLINGS</td>\n",
       "      <td>https://yellowstonesurgerycenter.com/</td>\n",
       "      <td>NaN</td>\n",
       "      <td>NaN</td>\n",
       "      <td>https://yellowstonesurgerycenter.com/about-yel...</td>\n",
       "      <td>[pricing, billing, charges]</td>\n",
       "    </tr>\n",
       "  </tbody>\n",
       "</table>\n",
       "<p>567 rows × 9 columns</p>\n",
       "</div>"
      ],
      "text/plain": [
       "         ccn                                               name state  \\\n",
       "177   173027  WESLEY REHABILITATION HOSPITAL, AN AFFILIATE O...    KS   \n",
       "178   673032   RELIANT REHABILITATION HOSPITAL OF CENTRAL TEXAS    TX   \n",
       "179   670172       SIGNATURE CARE EMERGENCY CENTER-MISSION BEND    TX   \n",
       "180   670173           SIGNATURE CARE EMERGENCY CENTER-MONTROSE    TX   \n",
       "181   670178                    TC JESTER EMERGENCY CENTER, LLC    TX   \n",
       "...      ...                                                ...   ...   \n",
       "1504  340168                        WILMINGTON TREATMENT CENTER    NC   \n",
       "1510  521347                           WESTERN WISCONSIN HEALTH    WI   \n",
       "1511  451346                          YOAKUM COMMUNITY HOSPITAL    TX   \n",
       "1513  270091                     YELLOWSTONE SURGERY CENTER LLC    MT   \n",
       "1514  270092                    YELLOWSTONE SURGERY CENTER WEST    MT   \n",
       "\n",
       "            city                               homepage cdm_indirect_url  \\\n",
       "177      WICHITA           https://encompasshealth.com/              NaN   \n",
       "178   ROUND ROCK           https://encompasshealth.com/              NaN   \n",
       "179      HOUSTON                  https://ercare24.com/              NaN   \n",
       "180      HOUSTON                  https://ercare24.com/              NaN   \n",
       "181      HOUSTON                  https://ercare24.com/              NaN   \n",
       "...          ...                                    ...              ...   \n",
       "1504  WILMINGTON   https://www.wilmingtontreatment.com/              NaN   \n",
       "1510     BALDWIN              https://www.wwhealth.org/              NaN   \n",
       "1511      YOAKUM        https://www.yoakumhospital.org/              NaN   \n",
       "1513    BILLINGS  https://yellowstonesurgerycenter.com/              NaN   \n",
       "1514    BILLINGS  https://yellowstonesurgerycenter.com/              NaN   \n",
       "\n",
       "      cdm_url                                  possible_indirect  \\\n",
       "177       NaN  /inpatient-rehabilitation/resources-and-educat...   \n",
       "178       NaN  /inpatient-rehabilitation/resources-and-educat...   \n",
       "179       NaN          https://ercare24.com/payment-and-billing/   \n",
       "180       NaN          https://ercare24.com/payment-and-billing/   \n",
       "181       NaN          https://ercare24.com/payment-and-billing/   \n",
       "...       ...                                                ...   \n",
       "1504      NaN  /admissions/insurance-payment-information/rate...   \n",
       "1510      NaN  https://www.wwhealth.org/your-visit/price-tran...   \n",
       "1511      NaN  https://www.yoakumhospital.org/about-yoakum-ho...   \n",
       "1513      NaN  https://yellowstonesurgerycenter.com/about-yel...   \n",
       "1514      NaN  https://yellowstonesurgerycenter.com/about-yel...   \n",
       "\n",
       "                                     found_string  \n",
       "177                                [transparency]  \n",
       "178                                [transparency]  \n",
       "179                                     [billing]  \n",
       "180                                     [billing]  \n",
       "181                                     [billing]  \n",
       "...                                           ...  \n",
       "1504                                    [pricing]  \n",
       "1510  [price transparency, charges, transparency]  \n",
       "1511             [pricing, billing, transparency]  \n",
       "1513                  [pricing, billing, charges]  \n",
       "1514                  [pricing, billing, charges]  \n",
       "\n",
       "[567 rows x 9 columns]"
      ]
     },
     "execution_count": 84,
     "metadata": {},
     "output_type": "execute_result"
    }
   ],
   "source": [
    "t.dropna(subset=[\"found_string\"], inplace=True)\n",
    "t"
   ]
  },
  {
   "cell_type": "code",
   "execution_count": 71,
   "metadata": {},
   "outputs": [],
   "source": [
    "t.to_csv(\"possible_indirects.csv\", index=False)"
   ]
  }
 ],
 "metadata": {
  "colab": {
   "provenance": []
  },
  "kernelspec": {
   "display_name": "Python 3.9.7 ('scraper')",
   "language": "python",
   "name": "python3"
  },
  "language_info": {
   "codemirror_mode": {
    "name": "ipython",
    "version": 3
   },
   "file_extension": ".py",
   "mimetype": "text/x-python",
   "name": "python",
   "nbconvert_exporter": "python",
   "pygments_lexer": "ipython3",
   "version": "3.9.7"
  },
  "vscode": {
   "interpreter": {
    "hash": "c944cbe044b4c0209db536598224de1487547ec83c6afed452622be158ffdbc2"
   }
  }
 },
 "nbformat": 4,
 "nbformat_minor": 1
}
