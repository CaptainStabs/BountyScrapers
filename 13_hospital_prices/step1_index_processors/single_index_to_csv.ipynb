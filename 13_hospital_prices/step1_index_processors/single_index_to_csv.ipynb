{
 "cells": [
  {
   "cell_type": "code",
   "execution_count": 8,
   "metadata": {},
   "outputs": [
    {
     "data": {
      "text/plain": [
       "'\\nConvert MRF index to csv (STEP 1)\\n'"
      ]
     },
     "execution_count": 8,
     "metadata": {},
     "output_type": "execute_result"
    }
   ],
   "source": [
    "import requests\n",
    "import sys\n",
    "from tqdm import tqdm\n",
    "import gzip\n",
    "import csv\n",
    "\n",
    "from pathlib import Path\n",
    "import os\n",
    "p = Path(os.path.abspath('')).resolve().parents[0]\n",
    "sys.path.insert(1, str(p))\n",
    "\n",
    "from mrfutils.idxutils import gen_in_network_links\n",
    "from mrfutils.flatteners import InvalidMRF, JSONOpen\n",
    "\n",
    "import hashlib\n",
    "\n",
    "'''\n",
    "Convert MRF index to csv (STEP 1)\n",
    "'''"
   ]
  },
  {
   "cell_type": "code",
   "execution_count": 9,
   "metadata": {},
   "outputs": [],
   "source": [
    "filename = \"https://mrf.healthsparq.com/ihny-egress.nophi.kyruushsq.com/prd/mrf/IHNY_I/IHNY/2023-03-01/tableOfContents/2023-03-01_Independent-Health_index.json.gz\""
   ]
  },
  {
   "cell_type": "code",
   "execution_count": 10,
   "metadata": {},
   "outputs": [
    {
     "name": "stderr",
     "output_type": "stream",
     "text": [
      "16it [00:00, 40.71it/s]\n"
     ]
    }
   ],
   "source": [
    "unique_lines = set()\n",
    "with open(\"indepedent_payers.csv\", \"a\", newline=\"\") as output_csv:\n",
    "    output_csv.write(\"url\\n\")\n",
    "    for i, in_network_file in tqdm(enumerate(gen_in_network_links(filename))):\n",
    "        line_hash = hashlib.md5(in_network_file.encode()).hexdigest()\n",
    "        if line_hash not in unique_lines:\n",
    "            unique_lines.add(line_hash)\n",
    "            output_csv.write(in_network_file + \"\\n\")    "
   ]
  }
 ],
 "metadata": {
  "kernelspec": {
   "display_name": "scraper",
   "language": "python",
   "name": "python3"
  },
  "language_info": {
   "codemirror_mode": {
    "name": "ipython",
    "version": 3
   },
   "file_extension": ".py",
   "mimetype": "text/x-python",
   "name": "python",
   "nbconvert_exporter": "python",
   "pygments_lexer": "ipython3",
   "version": "3.9.15"
  },
  "orig_nbformat": 4,
  "vscode": {
   "interpreter": {
    "hash": "9f367541eacc62922b0d667875f754c11ddf0e046a966297271f755050d7d39a"
   }
  }
 },
 "nbformat": 4,
 "nbformat_minor": 2
}
