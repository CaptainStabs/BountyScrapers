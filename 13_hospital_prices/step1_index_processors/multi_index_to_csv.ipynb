{
 "cells": [
  {
   "cell_type": "code",
   "execution_count": 14,
   "metadata": {},
   "outputs": [
    {
     "data": {
      "text/plain": [
       "'\\nTakes a file with a list of index urls\\n'"
      ]
     },
     "execution_count": 14,
     "metadata": {},
     "output_type": "execute_result"
    }
   ],
   "source": [
    "import sys\n",
    "\n",
    "from pathlib import Path\n",
    "import os\n",
    "p = Path(os.path.abspath('')).resolve().parents[0]\n",
    "sys.path.insert(1, str(p))\n",
    "\n",
    "from idxutils import gen_in_network_links\n",
    "from mrfutils import InvalidMRF, JSONOpen\n",
    "from tqdm import tqdm\n",
    "import gzip\n",
    "import csv\n",
    "import hashlib\n",
    "\n",
    "import logging\n",
    "logging.basicConfig()\n",
    "log = logging.getLogger('mrfutils')\n",
    "log.setLevel(logging.WARNING)\n",
    "\n",
    "\n",
    "\n",
    "'''\n",
    "Takes a file with a list of index urls\n",
    "'''"
   ]
  },
  {
   "cell_type": "code",
   "execution_count": 2,
   "metadata": {},
   "outputs": [],
   "source": [
    "input_file = \"UHC_indexes.csv\"\n",
    "output_file = \"UHC_payers_deduped.csv\""
   ]
  },
  {
   "cell_type": "code",
   "execution_count": 3,
   "metadata": {},
   "outputs": [],
   "source": [
    "def blocks(files, size=65536):\n",
    "    while True:\n",
    "        b = files.read(size)\n",
    "        if not b: break\n",
    "        yield b"
   ]
  },
  {
   "cell_type": "code",
   "execution_count": 16,
   "metadata": {},
   "outputs": [
    {
     "name": "stderr",
     "output_type": "stream",
     "text": [
      "39553it [2:48:32,  3.91it/s]                                 \n"
     ]
    }
   ],
   "source": [
    "unique_lines = set()\n",
    "with open(input_file, \"r\") as f:\n",
    "    total = sum(bl.count(\"\\n\") for bl in blocks(f))\n",
    "    f.seek(0)\n",
    "    with open(output_file, \"a\", newline=\"\") as output_csv:\n",
    "        writer = csv.DictWriter(output_csv, fieldnames=[\"url\"])\n",
    "        # writer.writeheader()\n",
    "        for filename in tqdm(f, total=total):\n",
    "            # Index files, needs to a url\n",
    "            filename = filename.strip(\"\\n\").strip('\"')\n",
    "            # filename = JSONOpen(filename)\n",
    "            try:\n",
    "                for url in gen_in_network_links(filename):\n",
    "                    line_hash = hashlib.md5(url.encode()).hexdigest()\n",
    "                    if line_hash not in unique_lines:\n",
    "                        unique_lines.add(line_hash)\n",
    "                        writer.writerow({\n",
    "                            \"url\": url\n",
    "                        })\n",
    "                    \n",
    "            except KeyboardInterrupt:\n",
    "                break\n",
    "            except:\n",
    "                pass"
   ]
  }
 ],
 "metadata": {
  "kernelspec": {
   "display_name": "scraper",
   "language": "python",
   "name": "python3"
  },
  "language_info": {
   "codemirror_mode": {
    "name": "ipython",
    "version": 3
   },
   "file_extension": ".py",
   "mimetype": "text/x-python",
   "name": "python",
   "nbconvert_exporter": "python",
   "pygments_lexer": "ipython3",
   "version": "3.9.7"
  },
  "orig_nbformat": 4,
  "vscode": {
   "interpreter": {
    "hash": "9f367541eacc62922b0d667875f754c11ddf0e046a966297271f755050d7d39a"
   }
  }
 },
 "nbformat": 4,
 "nbformat_minor": 2
}
