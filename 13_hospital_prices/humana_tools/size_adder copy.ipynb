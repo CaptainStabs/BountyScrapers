{
 "cells": [
  {
   "cell_type": "code",
   "execution_count": 1,
   "metadata": {},
   "outputs": [],
   "source": [
    "import requests\n",
    "import sys\n",
    "# from tqdm.asyncio import tqdm\n",
    "from tqdm import tqdm\n",
    "import gzip\n",
    "import csv\n",
    "import aiohttp\n",
    "import asyncio\n",
    "import pandas as pd\n",
    "\n",
    "total = 2918269#len(pd.read_csv(\"F:\\\\_Bounty\\\\humana_payers.csv\"))\n",
    "filename = \"F:\\\\_Bounty\\\\humana_payers.csv\""
   ]
  },
  {
   "cell_type": "code",
   "execution_count": 2,
   "metadata": {},
   "outputs": [],
   "source": [
    "async def get_size(session, semaphore, queue):\n",
    "    while True:\n",
    "        url = await queue.get()\n",
    "        if url is None:\n",
    "            break\n",
    "\n",
    "\n",
    "        # if \"https\" not in url: # for Humana only\n",
    "        url = \"https://storage.googleapis.com/cms-humana-price-transparency-prd/prod/february/inn/\" + url.replace(\"?fileType=innetwork&filename=\", \"\")\n",
    "\n",
    "        try:\n",
    "            async with semaphore, session.get(url, ssl=False) as r:\n",
    "                print(r.status)\n",
    "                size = r.headers.get(\"Content-Length\")\n",
    "        except:\n",
    "            size = None\n",
    "\n",
    "        await queue.put((url, size))"
   ]
  },
  {
   "cell_type": "code",
   "execution_count": 4,
   "metadata": {},
   "outputs": [
    {
     "name": "stderr",
     "output_type": "stream",
     "text": [
      " 72%|███████▏  | 2098700/2915769 [37:48<14:50, 917.25it/s]"
     ]
    }
   ],
   "source": [
    "df1 = await main()"
   ]
  },
  {
   "cell_type": "code",
   "execution_count": 12,
   "metadata": {},
   "outputs": [],
   "source": [
    "df1 = df1.sort_values(by=\"size\")"
   ]
  },
  {
   "cell_type": "code",
   "execution_count": 13,
   "metadata": {},
   "outputs": [],
   "source": [
    "df1.to_csv(\"F:\\\\_Bounty\\\\humana_payers_sorted.csv\", index=False)"
   ]
  }
 ],
 "metadata": {
  "kernelspec": {
   "display_name": "scraper",
   "language": "python",
   "name": "python3"
  },
  "language_info": {
   "codemirror_mode": {
    "name": "ipython",
    "version": 3
   },
   "file_extension": ".py",
   "mimetype": "text/x-python",
   "name": "python",
   "nbconvert_exporter": "python",
   "pygments_lexer": "ipython3",
   "version": "3.9.15"
  },
  "orig_nbformat": 4,
  "vscode": {
   "interpreter": {
    "hash": "9f367541eacc62922b0d667875f754c11ddf0e046a966297271f755050d7d39a"
   }
  }
 },
 "nbformat": 4,
 "nbformat_minor": 2
}
