{
 "cells": [
  {
   "cell_type": "code",
   "execution_count": 1,
   "metadata": {},
   "outputs": [],
   "source": [
    "import pandas as pd"
   ]
  },
  {
   "cell_type": "code",
   "execution_count": 2,
   "metadata": {},
   "outputs": [],
   "source": [
    "df = pd.read_csv(\"UHC_payers_deduped.csv\")\n",
    "df = df.sort_values(\"size\")\n",
    "df.to_csv(\"UHC_payers_deduped_sorted.csv\", index=False)"
   ]
  },
  {
   "cell_type": "code",
   "execution_count": 3,
   "metadata": {},
   "outputs": [
    {
     "data": {
      "text/html": [
       "<div>\n",
       "<style scoped>\n",
       "    .dataframe tbody tr th:only-of-type {\n",
       "        vertical-align: middle;\n",
       "    }\n",
       "\n",
       "    .dataframe tbody tr th {\n",
       "        vertical-align: top;\n",
       "    }\n",
       "\n",
       "    .dataframe thead th {\n",
       "        text-align: right;\n",
       "    }\n",
       "</style>\n",
       "<table border=\"1\" class=\"dataframe\">\n",
       "  <thead>\n",
       "    <tr style=\"text-align: right;\">\n",
       "      <th></th>\n",
       "      <th>url</th>\n",
       "      <th>size</th>\n",
       "    </tr>\n",
       "  </thead>\n",
       "  <tbody>\n",
       "    <tr>\n",
       "      <th>759</th>\n",
       "      <td>https://uhc-tic-mrf.azureedge.net/public-mrf/2...</td>\n",
       "      <td>684.0</td>\n",
       "    </tr>\n",
       "    <tr>\n",
       "      <th>1987</th>\n",
       "      <td>https://uhc-tic-mrf.azureedge.net/public-mrf/2...</td>\n",
       "      <td>713.0</td>\n",
       "    </tr>\n",
       "    <tr>\n",
       "      <th>662</th>\n",
       "      <td>https://uhc-tic-mrf.azureedge.net/public-mrf/2...</td>\n",
       "      <td>741.0</td>\n",
       "    </tr>\n",
       "    <tr>\n",
       "      <th>1935</th>\n",
       "      <td>https://uhc-tic-mrf.azureedge.net/public-mrf/2...</td>\n",
       "      <td>760.0</td>\n",
       "    </tr>\n",
       "    <tr>\n",
       "      <th>137</th>\n",
       "      <td>https://uhc-tic-mrf.azureedge.net/public-mrf/2...</td>\n",
       "      <td>804.0</td>\n",
       "    </tr>\n",
       "    <tr>\n",
       "      <th>...</th>\n",
       "      <td>...</td>\n",
       "      <td>...</td>\n",
       "    </tr>\n",
       "    <tr>\n",
       "      <th>1393</th>\n",
       "      <td>https://uhc-tic-mrf.azureedge.net/public-mrf/2...</td>\n",
       "      <td>831049429.0</td>\n",
       "    </tr>\n",
       "    <tr>\n",
       "      <th>1205</th>\n",
       "      <td>https://uhc-tic-mrf.azureedge.net/public-mrf/2...</td>\n",
       "      <td>833782309.0</td>\n",
       "    </tr>\n",
       "    <tr>\n",
       "      <th>1664</th>\n",
       "      <td>https://uhc-tic-mrf.azureedge.net/public-mrf/2...</td>\n",
       "      <td>833804181.0</td>\n",
       "    </tr>\n",
       "    <tr>\n",
       "      <th>2527</th>\n",
       "      <td>https://uhc-tic-mrf.azureedge.net/public-mrf/2...</td>\n",
       "      <td>834174173.0</td>\n",
       "    </tr>\n",
       "    <tr>\n",
       "      <th>2023</th>\n",
       "      <td>https://uhc-tic-mrf.azureedge.net/public-mrf/2...</td>\n",
       "      <td>NaN</td>\n",
       "    </tr>\n",
       "  </tbody>\n",
       "</table>\n",
       "<p>4163 rows × 2 columns</p>\n",
       "</div>"
      ],
      "text/plain": [
       "                                                    url         size\n",
       "759   https://uhc-tic-mrf.azureedge.net/public-mrf/2...        684.0\n",
       "1987  https://uhc-tic-mrf.azureedge.net/public-mrf/2...        713.0\n",
       "662   https://uhc-tic-mrf.azureedge.net/public-mrf/2...        741.0\n",
       "1935  https://uhc-tic-mrf.azureedge.net/public-mrf/2...        760.0\n",
       "137   https://uhc-tic-mrf.azureedge.net/public-mrf/2...        804.0\n",
       "...                                                 ...          ...\n",
       "1393  https://uhc-tic-mrf.azureedge.net/public-mrf/2...  831049429.0\n",
       "1205  https://uhc-tic-mrf.azureedge.net/public-mrf/2...  833782309.0\n",
       "1664  https://uhc-tic-mrf.azureedge.net/public-mrf/2...  833804181.0\n",
       "2527  https://uhc-tic-mrf.azureedge.net/public-mrf/2...  834174173.0\n",
       "2023  https://uhc-tic-mrf.azureedge.net/public-mrf/2...          NaN\n",
       "\n",
       "[4163 rows x 2 columns]"
      ]
     },
     "execution_count": 3,
     "metadata": {},
     "output_type": "execute_result"
    }
   ],
   "source": [
    "df"
   ]
  }
 ],
 "metadata": {
  "kernelspec": {
   "display_name": "scraper",
   "language": "python",
   "name": "python3"
  },
  "language_info": {
   "codemirror_mode": {
    "name": "ipython",
    "version": 3
   },
   "file_extension": ".py",
   "mimetype": "text/x-python",
   "name": "python",
   "nbconvert_exporter": "python",
   "pygments_lexer": "ipython3",
   "version": "3.8.8"
  },
  "orig_nbformat": 4,
  "vscode": {
   "interpreter": {
    "hash": "9f367541eacc62922b0d667875f754c11ddf0e046a966297271f755050d7d39a"
   }
  }
 },
 "nbformat": 4,
 "nbformat_minor": 2
}
