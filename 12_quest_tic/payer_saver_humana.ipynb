{
 "cells": [
  {
   "cell_type": "code",
   "execution_count": 5,
   "metadata": {},
   "outputs": [],
   "source": [
    "import requests\n",
    "import sys\n",
    "from helpers_humana import JSONOpen\n",
    "from tqdm import tqdm\n",
    "import gzip\n",
    "import csv"
   ]
  },
  {
   "cell_type": "code",
   "execution_count": 7,
   "metadata": {},
   "outputs": [],
   "source": [
    "import ijson\n",
    "\n",
    "def gen_in_network_links(index_loc):\n",
    "    \"\"\"\n",
    "    Gets in-network files from index.json files\n",
    "    :param index.json URL:\n",
    "    \"\"\"\n",
    "    with JSONOpen(index_loc) as f:\n",
    "        count = 0\n",
    "        parser = ijson.parse(f, use_float=True)\n",
    "        for prefix, event, value in parser:\n",
    "            if (\n",
    "                prefix.endswith('location')\n",
    "                and event == 'string'\n",
    "                and 'in-network' in value\n",
    "            ):\n",
    "                yield value\n",
    "                count += 1"
   ]
  },
  {
   "cell_type": "code",
   "execution_count": 8,
   "metadata": {},
   "outputs": [
    {
     "name": "stderr",
     "output_type": "stream",
     "text": [
      "0it [00:05, ?it/s]/9437 [00:00<?, ?it/s]\n",
      "0it [00:01, ?it/s]/9437 [00:05<14:32:49,  5.55s/it]\n",
      "  0%|          | 1/9437 [00:06<17:31:53,  6.69s/it]\n"
     ]
    },
    {
     "ename": "NameError",
     "evalue": "name 'log' is not defined",
     "output_type": "error",
     "traceback": [
      "\u001b[1;31m---------------------------------------------------------------------------\u001b[0m",
      "\u001b[1;31mNameError\u001b[0m                                 Traceback (most recent call last)",
      "\u001b[1;32mc:\\Users\\adria\\github\\BountyScrapers\\12_quest_tic\\payer_saver_humana.ipynb Cell 3\u001b[0m in \u001b[0;36m<cell line: 1>\u001b[1;34m()\u001b[0m\n\u001b[0;32m      <a href='vscode-notebook-cell:/c%3A/Users/adria/github/BountyScrapers/12_quest_tic/payer_saver_humana.ipynb#W3sZmlsZQ%3D%3D?line=6'>7</a>\u001b[0m filename \u001b[39m=\u001b[39m \u001b[39m\"\u001b[39m\u001b[39mhttps://developers.humana.com/syntheticdata/Resource/DownloadTOCFile?&fileName=\u001b[39m\u001b[39m\"\u001b[39m \u001b[39m+\u001b[39m filename\u001b[39m.\u001b[39mstrip(\u001b[39m\"\u001b[39m\u001b[39m\\n\u001b[39;00m\u001b[39m\"\u001b[39m)\n\u001b[0;32m      <a href='vscode-notebook-cell:/c%3A/Users/adria/github/BountyScrapers/12_quest_tic/payer_saver_humana.ipynb#W3sZmlsZQ%3D%3D?line=7'>8</a>\u001b[0m \u001b[39m# filename = JSONOpen(filename)\u001b[39;00m\n\u001b[1;32m---> <a href='vscode-notebook-cell:/c%3A/Users/adria/github/BountyScrapers/12_quest_tic/payer_saver_humana.ipynb#W3sZmlsZQ%3D%3D?line=9'>10</a>\u001b[0m \u001b[39mfor\u001b[39;00m url \u001b[39min\u001b[39;00m tqdm(gen_in_network_links(filename)):\n\u001b[0;32m     <a href='vscode-notebook-cell:/c%3A/Users/adria/github/BountyScrapers/12_quest_tic/payer_saver_humana.ipynb#W3sZmlsZQ%3D%3D?line=11'>12</a>\u001b[0m     writer\u001b[39m.\u001b[39mwriterow({\n\u001b[0;32m     <a href='vscode-notebook-cell:/c%3A/Users/adria/github/BountyScrapers/12_quest_tic/payer_saver_humana.ipynb#W3sZmlsZQ%3D%3D?line=12'>13</a>\u001b[0m         \u001b[39m\"\u001b[39m\u001b[39murl\u001b[39m\u001b[39m\"\u001b[39m: url\n\u001b[0;32m     <a href='vscode-notebook-cell:/c%3A/Users/adria/github/BountyScrapers/12_quest_tic/payer_saver_humana.ipynb#W3sZmlsZQ%3D%3D?line=13'>14</a>\u001b[0m     })\n",
      "File \u001b[1;32mc:\\Users\\adria\\Miniconda3\\envs\\scraper\\lib\\site-packages\\tqdm\\std.py:1180\u001b[0m, in \u001b[0;36mtqdm.__iter__\u001b[1;34m(self)\u001b[0m\n\u001b[0;32m   1177\u001b[0m time \u001b[39m=\u001b[39m \u001b[39mself\u001b[39m\u001b[39m.\u001b[39m_time\n\u001b[0;32m   1179\u001b[0m \u001b[39mtry\u001b[39;00m:\n\u001b[1;32m-> 1180\u001b[0m     \u001b[39mfor\u001b[39;00m obj \u001b[39min\u001b[39;00m iterable:\n\u001b[0;32m   1181\u001b[0m         \u001b[39myield\u001b[39;00m obj\n\u001b[0;32m   1182\u001b[0m         \u001b[39m# Update and possibly print the progressbar.\u001b[39;00m\n\u001b[0;32m   1183\u001b[0m         \u001b[39m# Note: does not call self.update(1) for speed optimisation.\u001b[39;00m\n",
      "\u001b[1;32mc:\\Users\\adria\\github\\BountyScrapers\\12_quest_tic\\payer_saver_humana.ipynb Cell 3\u001b[0m in \u001b[0;36mgen_in_network_links\u001b[1;34m(index_loc)\u001b[0m\n\u001b[0;32m     <a href='vscode-notebook-cell:/c%3A/Users/adria/github/BountyScrapers/12_quest_tic/payer_saver_humana.ipynb#W3sZmlsZQ%3D%3D?line=10'>11</a>\u001b[0m \u001b[39mfor\u001b[39;00m prefix, event, value \u001b[39min\u001b[39;00m parser:\n\u001b[0;32m     <a href='vscode-notebook-cell:/c%3A/Users/adria/github/BountyScrapers/12_quest_tic/payer_saver_humana.ipynb#W3sZmlsZQ%3D%3D?line=11'>12</a>\u001b[0m     \u001b[39mif\u001b[39;00m (\n\u001b[0;32m     <a href='vscode-notebook-cell:/c%3A/Users/adria/github/BountyScrapers/12_quest_tic/payer_saver_humana.ipynb#W3sZmlsZQ%3D%3D?line=12'>13</a>\u001b[0m         prefix\u001b[39m.\u001b[39mendswith(\u001b[39m'\u001b[39m\u001b[39mlocation\u001b[39m\u001b[39m'\u001b[39m)\n\u001b[0;32m     <a href='vscode-notebook-cell:/c%3A/Users/adria/github/BountyScrapers/12_quest_tic/payer_saver_humana.ipynb#W3sZmlsZQ%3D%3D?line=13'>14</a>\u001b[0m         \u001b[39mand\u001b[39;00m event \u001b[39m==\u001b[39m \u001b[39m'\u001b[39m\u001b[39mstring\u001b[39m\u001b[39m'\u001b[39m\n\u001b[0;32m     <a href='vscode-notebook-cell:/c%3A/Users/adria/github/BountyScrapers/12_quest_tic/payer_saver_humana.ipynb#W3sZmlsZQ%3D%3D?line=14'>15</a>\u001b[0m         \u001b[39mand\u001b[39;00m \u001b[39m'\u001b[39m\u001b[39min-network\u001b[39m\u001b[39m'\u001b[39m \u001b[39min\u001b[39;00m value\n\u001b[0;32m     <a href='vscode-notebook-cell:/c%3A/Users/adria/github/BountyScrapers/12_quest_tic/payer_saver_humana.ipynb#W3sZmlsZQ%3D%3D?line=15'>16</a>\u001b[0m     ):\n\u001b[1;32m---> <a href='vscode-notebook-cell:/c%3A/Users/adria/github/BountyScrapers/12_quest_tic/payer_saver_humana.ipynb#W3sZmlsZQ%3D%3D?line=16'>17</a>\u001b[0m         log\u001b[39m.\u001b[39mdebug(value)\n\u001b[0;32m     <a href='vscode-notebook-cell:/c%3A/Users/adria/github/BountyScrapers/12_quest_tic/payer_saver_humana.ipynb#W3sZmlsZQ%3D%3D?line=17'>18</a>\u001b[0m         \u001b[39myield\u001b[39;00m value\n\u001b[0;32m     <a href='vscode-notebook-cell:/c%3A/Users/adria/github/BountyScrapers/12_quest_tic/payer_saver_humana.ipynb#W3sZmlsZQ%3D%3D?line=18'>19</a>\u001b[0m         count \u001b[39m+\u001b[39m\u001b[39m=\u001b[39m \u001b[39m1\u001b[39m\n",
      "\u001b[1;31mNameError\u001b[0m: name 'log' is not defined"
     ]
    }
   ],
   "source": [
    "with open(\"./humana_tools/files.txt\", \"r\") as f:\n",
    "    with open (\"./humana_tools/payers.csv\", \"a\", newline=\"\") as output_csv:\n",
    "        writer = csv.DictWriter(output_csv, fieldnames=[\"url\"])\n",
    "        # writer.writeheader()\n",
    "        for filename in tqdm(f, total=9437):\n",
    "            # Index files\n",
    "            filename = \"https://developers.humana.com/syntheticdata/Resource/DownloadTOCFile?&fileName=\" + filename.strip(\"\\n\")\n",
    "            # filename = JSONOpen(filename)\n",
    "\n",
    "            for url in tqdm(gen_in_network_links(filename)):\n",
    "\n",
    "                writer.writerow({\n",
    "                    \"url\": url\n",
    "                })"
   ]
  }
 ],
 "metadata": {
  "kernelspec": {
   "display_name": "scraper",
   "language": "python",
   "name": "python3"
  },
  "language_info": {
   "codemirror_mode": {
    "name": "ipython",
    "version": 3
   },
   "file_extension": ".py",
   "mimetype": "text/x-python",
   "name": "python",
   "nbconvert_exporter": "python",
   "pygments_lexer": "ipython3",
   "version": "3.9.7"
  },
  "orig_nbformat": 4,
  "vscode": {
   "interpreter": {
    "hash": "c944cbe044b4c0209db536598224de1487547ec83c6afed452622be158ffdbc2"
   }
  }
 },
 "nbformat": 4,
 "nbformat_minor": 2
}
