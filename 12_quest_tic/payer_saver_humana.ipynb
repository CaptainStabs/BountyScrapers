{
 "cells": [
  {
   "cell_type": "code",
   "execution_count": 5,
   "metadata": {},
   "outputs": [],
   "source": [
    "import requests\n",
    "import sys\n",
    "from helpers_humana import JSONOpen\n",
    "from tqdm.notebook import tqdm\n",
    "import gzip\n",
    "import csv"
   ]
  },
  {
   "cell_type": "code",
   "execution_count": 6,
   "metadata": {},
   "outputs": [],
   "source": [
    "import ijson\n",
    "\n",
    "def gen_in_network_links(index_loc):\n",
    "    \"\"\"\n",
    "    Gets in-network files from index.json files\n",
    "    :param index.json URL:\n",
    "    \"\"\"\n",
    "    with JSONOpen(index_loc) as f:\n",
    "        count = 0\n",
    "        parser = ijson.parse(f, use_float=True)\n",
    "        for prefix, event, value in parser:\n",
    "            if (\n",
    "                prefix.endswith('location')\n",
    "                and event == 'string'\n",
    "                and 'in-network' in value\n",
    "            ):\n",
    "                yield value\n",
    "                count += 1"
   ]
  },
  {
   "cell_type": "code",
   "execution_count": 8,
   "metadata": {},
   "outputs": [
    {
     "data": {
      "application/vnd.jupyter.widget-view+json": {
       "model_id": "c390600d4bbd4b4696003fe5624875cd",
       "version_major": 2,
       "version_minor": 0
      },
      "text/plain": [
       "  0%|          | 0/9437 [00:00<?, ?it/s]"
      ]
     },
     "metadata": {},
     "output_type": "display_data"
    }
   ],
   "source": [
    "with open(\"./humana_tools/files.txt\", \"r\") as f:\n",
    "    with open (\"./humana_tools/payers.csv\", \"a\", newline=\"\") as output_csv:\n",
    "        writer = csv.DictWriter(output_csv, fieldnames=[\"url\"])\n",
    "        # writer.writeheader()\n",
    "        for filename in tqdm(f, total=9437):\n",
    "            # Index files\n",
    "            filename = \"https://developers.humana.com/syntheticdata/Resource/DownloadTOCFile?&fileName=\" + filename.strip(\"\\n\")\n",
    "            # filename = JSONOpen(filename)\n",
    "            try:\n",
    "                for url in gen_in_network_links(filename):\n",
    "\n",
    "                    writer.writerow({\n",
    "                        \"url\": url\n",
    "                    })\n",
    "            except KeyboardInterrupt:\n",
    "                break\n",
    "            except:\n",
    "                pass"
   ]
  }
 ],
 "metadata": {
  "kernelspec": {
   "display_name": "scraper",
   "language": "python",
   "name": "python3"
  },
  "language_info": {
   "codemirror_mode": {
    "name": "ipython",
    "version": 3
   },
   "file_extension": ".py",
   "mimetype": "text/x-python",
   "name": "python",
   "nbconvert_exporter": "python",
   "pygments_lexer": "ipython3",
   "version": "3.8.8"
  },
  "orig_nbformat": 4,
  "vscode": {
   "interpreter": {
    "hash": "9f367541eacc62922b0d667875f754c11ddf0e046a966297271f755050d7d39a"
   }
  }
 },
 "nbformat": 4,
 "nbformat_minor": 2
}
