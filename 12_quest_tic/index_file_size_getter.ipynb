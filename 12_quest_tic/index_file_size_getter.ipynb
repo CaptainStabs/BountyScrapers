{
 "cells": [
  {
   "cell_type": "code",
   "execution_count": 2,
   "metadata": {
    "colab": {
     "base_uri": "https://localhost:8080/",
     "height": 409
    },
    "id": "t2eHYzw1vUKt",
    "outputId": "329c8be5-416b-4688-8de9-a268262b72eb",
    "scrolled": true
   },
   "outputs": [
    {
     "data": {
      "text/plain": [
       "'\\nGet size of each file in MRF (step 2)\\n'"
      ]
     },
     "execution_count": 2,
     "metadata": {},
     "output_type": "execute_result"
    }
   ],
   "source": [
    "from idxutils import gen_in_network_links, JSONOpen\n",
    "from tqdm import tqdm\n",
    "import pandas as pd\n",
    "import requests\n",
    "import sys\n",
    "from _utils import istarmap\n",
    "import aiohttp\n",
    "import asyncio\n",
    "from idxutils import gen_in_network_links\n",
    "import traceback as tb\n",
    "\n",
    "'''\n",
    "Get size of each file in MRF (step 2)\n",
    "'''"
   ]
  },
  {
   "cell_type": "code",
   "execution_count": 10,
   "metadata": {
    "id": "-s1TVWxsxEJR",
    "scrolled": true
   },
   "outputs": [],
   "source": [
    "async def get_network_files(session, url):\n",
    "    try:\n",
    "        async with session.head(url) as r:\n",
    "            print(r.status)\n",
    "            size = r.headers.get(\"Content-Length\")\n",
    "            return url, size\n",
    "\n",
    "                    \n",
    "    except aiohttp.ClientResponseError as e:\n",
    "        print(e)\n",
    "        return url, None\n",
    "\n",
    "\n",
    "    except asyncio.TimeoutError:\n",
    "        return url, None\n",
    "\n",
    "    except aiohttp.ClientConnectionError:\n",
    "        return url, None\n",
    "\n",
    "    except KeyboardInterrupt:\n",
    "        import os; os.exit()\n",
    "\n",
    "    # except UnicodeDecodeError:\n",
    "    #     tb.print_exc()        \n",
    "    except Exception as e:\n",
    "        tb.print_exc()\n",
    "        print(e)\n",
    "        return url, None"
   ]
  },
  {
   "cell_type": "code",
   "execution_count": 14,
   "metadata": {
    "id": "Jla4P4ikxIGH",
    "scrolled": true
   },
   "outputs": [],
   "source": [
    "from tqdm.asyncio import tqdm\n",
    "\n",
    "# Not entirely sure why I wrote two methods\n",
    "\n",
    "# Pandas\n",
    "async def main(file):\n",
    "    df = pd.read_csv(file)\n",
    "    df1 = pd.DataFrame(columns=[\"url\", \"size\"])\n",
    "    async with aiohttp.ClientSession(raise_for_status = True) as session:\n",
    "        df1[[\"url\", \"size\"]] = await tqdm.gather(*(get_network_files(session, url) for url in df[\"url\"]), leave=True, position=0)\n",
    "        return df1\n",
    "\n",
    "# File\n",
    "async def main_file():\n",
    "    df1 = pd.DataFrame(columns=[\"url\", \"size\"])\n",
    "    with open(file, \"r\") as f:\n",
    "        total = len(f.readlines())\n",
    "        f.seek(0)\n",
    "        async with aiohttp.ClientSession(raise_for_status = True) as session:\n",
    "            df1[[\"url\", \"size\"]] = await tqdm.gather(*(get_network_files(session, url) for url in f), leave=True, position=0)\n",
    "            return df1"
   ]
  },
  {
   "cell_type": "code",
   "execution_count": 15,
   "metadata": {
    "colab": {
     "base_uri": "https://localhost:8080/",
     "height": 1000
    },
    "id": "0jzfvZn8xN9-",
    "outputId": "d42d8f61-a106-48c8-cd2d-8cf4f8730ae0",
    "scrolled": true
   },
   "outputs": [
    {
     "name": "stderr",
     "output_type": "stream",
     "text": [
      "100%|██████████| 2/2 [00:00<00:00,  5.92it/s]"
     ]
    },
    {
     "name": "stdout",
     "output_type": "stream",
     "text": [
      "301\n",
      "301\n"
     ]
    },
    {
     "name": "stderr",
     "output_type": "stream",
     "text": [
      "\n"
     ]
    }
   ],
   "source": [
    "t = await main(\"fidelis_test.csv\")"
   ]
  },
  {
   "cell_type": "code",
   "execution_count": 6,
   "metadata": {
    "colab": {
     "base_uri": "https://localhost:8080/",
     "height": 424
    },
    "id": "7XiiZGZJxO8-",
    "outputId": "63403263-0072-4c12-c2cd-6f4628b9af80",
    "scrolled": false
   },
   "outputs": [
    {
     "data": {
      "text/html": [
       "<div>\n",
       "<style scoped>\n",
       "    .dataframe tbody tr th:only-of-type {\n",
       "        vertical-align: middle;\n",
       "    }\n",
       "\n",
       "    .dataframe tbody tr th {\n",
       "        vertical-align: top;\n",
       "    }\n",
       "\n",
       "    .dataframe thead th {\n",
       "        text-align: right;\n",
       "    }\n",
       "</style>\n",
       "<table border=\"1\" class=\"dataframe\">\n",
       "  <thead>\n",
       "    <tr style=\"text-align: right;\">\n",
       "      <th></th>\n",
       "      <th>url</th>\n",
       "      <th>size</th>\n",
       "    </tr>\n",
       "  </thead>\n",
       "  <tbody>\n",
       "    <tr>\n",
       "      <th>0</th>\n",
       "      <td>http://centene.com/content/dam/centene/Centene...</td>\n",
       "      <td>None</td>\n",
       "    </tr>\n",
       "    <tr>\n",
       "      <th>1</th>\n",
       "      <td>http://centene.com/content/dam/centene/Centene...</td>\n",
       "      <td>None</td>\n",
       "    </tr>\n",
       "    <tr>\n",
       "      <th>2</th>\n",
       "      <td>http://centene.com/content/dam/centene/Centene...</td>\n",
       "      <td>None</td>\n",
       "    </tr>\n",
       "    <tr>\n",
       "      <th>3</th>\n",
       "      <td>http://centene.com/content/dam/centene/Centene...</td>\n",
       "      <td>None</td>\n",
       "    </tr>\n",
       "    <tr>\n",
       "      <th>4</th>\n",
       "      <td>http://centene.com/content/dam/centene/Centene...</td>\n",
       "      <td>None</td>\n",
       "    </tr>\n",
       "    <tr>\n",
       "      <th>5</th>\n",
       "      <td>http://centene.com/content/dam/centene/Centene...</td>\n",
       "      <td>None</td>\n",
       "    </tr>\n",
       "    <tr>\n",
       "      <th>6</th>\n",
       "      <td>http://centene.com/content/dam/centene/Centene...</td>\n",
       "      <td>None</td>\n",
       "    </tr>\n",
       "    <tr>\n",
       "      <th>7</th>\n",
       "      <td>http://centene.com/content/dam/centene/Centene...</td>\n",
       "      <td>None</td>\n",
       "    </tr>\n",
       "    <tr>\n",
       "      <th>8</th>\n",
       "      <td>http://centene.com/content/dam/centene/Centene...</td>\n",
       "      <td>None</td>\n",
       "    </tr>\n",
       "    <tr>\n",
       "      <th>9</th>\n",
       "      <td>http://centene.com/content/dam/centene/Centene...</td>\n",
       "      <td>None</td>\n",
       "    </tr>\n",
       "    <tr>\n",
       "      <th>10</th>\n",
       "      <td>http://centene.com/content/dam/centene/Centene...</td>\n",
       "      <td>None</td>\n",
       "    </tr>\n",
       "    <tr>\n",
       "      <th>11</th>\n",
       "      <td>http://centene.com/content/dam/centene/Centene...</td>\n",
       "      <td>None</td>\n",
       "    </tr>\n",
       "    <tr>\n",
       "      <th>12</th>\n",
       "      <td>http://centene.com/content/dam/centene/Centene...</td>\n",
       "      <td>None</td>\n",
       "    </tr>\n",
       "    <tr>\n",
       "      <th>13</th>\n",
       "      <td>http://centene.com/content/dam/centene/Centene...</td>\n",
       "      <td>None</td>\n",
       "    </tr>\n",
       "    <tr>\n",
       "      <th>14</th>\n",
       "      <td>http://centene.com/content/dam/centene/Centene...</td>\n",
       "      <td>None</td>\n",
       "    </tr>\n",
       "    <tr>\n",
       "      <th>15</th>\n",
       "      <td>http://centene.com/content/dam/centene/Centene...</td>\n",
       "      <td>None</td>\n",
       "    </tr>\n",
       "    <tr>\n",
       "      <th>16</th>\n",
       "      <td>http://centene.com/content/dam/centene/Centene...</td>\n",
       "      <td>None</td>\n",
       "    </tr>\n",
       "    <tr>\n",
       "      <th>17</th>\n",
       "      <td>http://centene.com/content/dam/centene/Centene...</td>\n",
       "      <td>None</td>\n",
       "    </tr>\n",
       "    <tr>\n",
       "      <th>18</th>\n",
       "      <td>http://centene.com/content/dam/centene/Centene...</td>\n",
       "      <td>None</td>\n",
       "    </tr>\n",
       "    <tr>\n",
       "      <th>19</th>\n",
       "      <td>http://centene.com/content/dam/centene/Centene...</td>\n",
       "      <td>None</td>\n",
       "    </tr>\n",
       "    <tr>\n",
       "      <th>20</th>\n",
       "      <td>http://centene.com/content/dam/centene/Centene...</td>\n",
       "      <td>None</td>\n",
       "    </tr>\n",
       "    <tr>\n",
       "      <th>21</th>\n",
       "      <td>http://centene.com/content/dam/centene/Centene...</td>\n",
       "      <td>None</td>\n",
       "    </tr>\n",
       "    <tr>\n",
       "      <th>22</th>\n",
       "      <td>http://centene.com/content/dam/centene/Centene...</td>\n",
       "      <td>None</td>\n",
       "    </tr>\n",
       "    <tr>\n",
       "      <th>23</th>\n",
       "      <td>http://centene.com/content/dam/centene/Centene...</td>\n",
       "      <td>None</td>\n",
       "    </tr>\n",
       "    <tr>\n",
       "      <th>24</th>\n",
       "      <td>http://centene.com/content/dam/centene/Centene...</td>\n",
       "      <td>None</td>\n",
       "    </tr>\n",
       "    <tr>\n",
       "      <th>25</th>\n",
       "      <td>http://centene.com/content/dam/centene/Centene...</td>\n",
       "      <td>None</td>\n",
       "    </tr>\n",
       "  </tbody>\n",
       "</table>\n",
       "</div>"
      ],
      "text/plain": [
       "                                                  url  size\n",
       "0   http://centene.com/content/dam/centene/Centene...  None\n",
       "1   http://centene.com/content/dam/centene/Centene...  None\n",
       "2   http://centene.com/content/dam/centene/Centene...  None\n",
       "3   http://centene.com/content/dam/centene/Centene...  None\n",
       "4   http://centene.com/content/dam/centene/Centene...  None\n",
       "5   http://centene.com/content/dam/centene/Centene...  None\n",
       "6   http://centene.com/content/dam/centene/Centene...  None\n",
       "7   http://centene.com/content/dam/centene/Centene...  None\n",
       "8   http://centene.com/content/dam/centene/Centene...  None\n",
       "9   http://centene.com/content/dam/centene/Centene...  None\n",
       "10  http://centene.com/content/dam/centene/Centene...  None\n",
       "11  http://centene.com/content/dam/centene/Centene...  None\n",
       "12  http://centene.com/content/dam/centene/Centene...  None\n",
       "13  http://centene.com/content/dam/centene/Centene...  None\n",
       "14  http://centene.com/content/dam/centene/Centene...  None\n",
       "15  http://centene.com/content/dam/centene/Centene...  None\n",
       "16  http://centene.com/content/dam/centene/Centene...  None\n",
       "17  http://centene.com/content/dam/centene/Centene...  None\n",
       "18  http://centene.com/content/dam/centene/Centene...  None\n",
       "19  http://centene.com/content/dam/centene/Centene...  None\n",
       "20  http://centene.com/content/dam/centene/Centene...  None\n",
       "21  http://centene.com/content/dam/centene/Centene...  None\n",
       "22  http://centene.com/content/dam/centene/Centene...  None\n",
       "23  http://centene.com/content/dam/centene/Centene...  None\n",
       "24  http://centene.com/content/dam/centene/Centene...  None\n",
       "25  http://centene.com/content/dam/centene/Centene...  None"
      ]
     },
     "execution_count": 6,
     "metadata": {},
     "output_type": "execute_result"
    }
   ],
   "source": [
    "t"
   ]
  },
  {
   "cell_type": "code",
   "execution_count": 24,
   "metadata": {},
   "outputs": [],
   "source": [
    "t.to_csv(\"UHC_payers.csv\", index=False)"
   ]
  }
 ],
 "metadata": {
  "colab": {
   "provenance": []
  },
  "kernelspec": {
   "display_name": "scraper",
   "language": "python",
   "name": "python3"
  },
  "language_info": {
   "codemirror_mode": {
    "name": "ipython",
    "version": 3
   },
   "file_extension": ".py",
   "mimetype": "text/x-python",
   "name": "python",
   "nbconvert_exporter": "python",
   "pygments_lexer": "ipython3",
   "version": "3.9.7"
  },
  "vscode": {
   "interpreter": {
    "hash": "c944cbe044b4c0209db536598224de1487547ec83c6afed452622be158ffdbc2"
   }
  }
 },
 "nbformat": 4,
 "nbformat_minor": 1
}
