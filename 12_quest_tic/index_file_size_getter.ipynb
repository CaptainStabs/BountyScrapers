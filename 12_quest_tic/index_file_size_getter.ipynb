{
 "cells": [
  {
   "cell_type": "code",
   "execution_count": 25,
   "metadata": {
    "colab": {
     "base_uri": "https://localhost:8080/",
     "height": 409
    },
    "id": "t2eHYzw1vUKt",
    "outputId": "329c8be5-416b-4688-8de9-a268262b72eb",
    "scrolled": true
   },
   "outputs": [],
   "source": [
    "from idxutils import gen_in_network_links, JSONOpen\n",
    "from tqdm import tqdm\n",
    "import pandas as pd\n",
    "import requests\n",
    "import sys\n",
    "from _utils import istarmap\n",
    "import aiohttp\n",
    "import asyncio\n",
    "from idxutils import gen_in_network_links\n",
    "import traceback as tb\n"
   ]
  },
  {
   "cell_type": "code",
   "execution_count": 37,
   "metadata": {
    "id": "-s1TVWxsxEJR",
    "scrolled": true
   },
   "outputs": [],
   "source": [
    "async def get_network_files(session, url):\n",
    "    try:\n",
    "        async with session.head(url) as r:\n",
    "            size = r.headers.get(\"Content-Length\")\n",
    "            return url, size\n",
    "\n",
    "                    \n",
    "    except aiohttp.ClientResponseError as e:\n",
    "        print(e)\n",
    "        return url, None\n",
    "\n",
    "\n",
    "    except asyncio.TimeoutError:\n",
    "        return url, None\n",
    "\n",
    "    except aiohttp.ClientConnectionError:\n",
    "        return url, None\n",
    "\n",
    "    except KeyboardInterrupt:\n",
    "        import os; os.exit()\n",
    "\n",
    "    # except UnicodeDecodeError:\n",
    "    #     tb.print_exc()        \n",
    "    except Exception as e:\n",
    "        tb.print_exc()\n",
    "        print(e)\n",
    "        return url, None"
   ]
  },
  {
   "cell_type": "code",
   "execution_count": 39,
   "metadata": {
    "id": "Jla4P4ikxIGH",
    "scrolled": true
   },
   "outputs": [],
   "source": [
    "from tqdm.asyncio import tqdm\n",
    "  # Pandas\n",
    "async def main():\n",
    "    df = pd.read_csv(\"output.csv\")\n",
    "    df1 = pd.DataFrame(columns=[\"url\", \"size\"])\n",
    "    async with aiohttp.ClientSession(raise_for_status = True) as session:\n",
    "        df1[[\"url\", \"size\"]] = await tqdm.gather(*(get_network_files(session, url) for url in df[\"url\"]), leave=True, position=0)\n",
    "        return df1\n",
    "\n",
    "# File\n",
    "async def main_file():\n",
    "    df1 = pd.DataFrame(columns=[\"url\", \"size\"])\n",
    "    with open(\"output2.csv\", \"r\") as f:\n",
    "        total = len(f.readlines())\n",
    "        f.seek(0)\n",
    "        async with aiohttp.ClientSession(raise_for_status = True) as session:\n",
    "            df1[[\"url\", \"size\"]] = await tqdm.gather(*(get_network_files(session, url) for url in f), leave=True, position=0)\n",
    "            return df1"
   ]
  },
  {
   "cell_type": "code",
   "execution_count": 40,
   "metadata": {
    "colab": {
     "base_uri": "https://localhost:8080/",
     "height": 1000
    },
    "id": "0jzfvZn8xN9-",
    "outputId": "d42d8f61-a106-48c8-cd2d-8cf4f8730ae0",
    "scrolled": true
   },
   "outputs": [
    {
     "name": "stderr",
     "output_type": "stream",
     "text": [
      " 62%|██████▏   | 62438/100563 [01:11<00:16, 2370.73it/s]"
     ]
    },
    {
     "name": "stdout",
     "output_type": "stream",
     "text": [
      "404, message='Not Found', url=URL('https://uhc-tic-mrf.azureedge.net/public-mrf/2023-01-01/2023-01-01_UnitedHealthcare-of-California_INSURER_OPH-%EF%BF%BD-Optum-Physical-Health_OPH-193_in-network-rates.json.gz')\n",
      "404, message='Not Found', url=URL('https://uhc-tic-mrf.azureedge.net/public-mrf/2023-01-01/2023-01-01_UnitedHealthcare-of-California_INSURER_OPH-%EF%BF%BD-Optum-Physical-Health_OPH-193_in-network-rates.json.gz')\n"
     ]
    },
    {
     "name": "stderr",
     "output_type": "stream",
     "text": [
      " 63%|██████▎   | 63390/100563 [01:11<00:17, 2085.52it/s]"
     ]
    },
    {
     "name": "stdout",
     "output_type": "stream",
     "text": [
      "404, message='Not Found', url=URL('https://uhc-tic-mrf.azureedge.net/public-mrf/2023-01-01/2023-01-01_UnitedHealthcare-of-California_INSURER_OPH-%EF%BF%BD-Optum-Physical-Health_OPH-193_in-network-rates.json.gz')\n",
      "404, message='Not Found', url=URL('https://uhc-tic-mrf.azureedge.net/public-mrf/2023-01-01/2023-01-01_UnitedHealthcare-of-California_INSURER_OPH-%EF%BF%BD-Optum-Physical-Health_OPH-193_in-network-rates.json.gz')\n"
     ]
    },
    {
     "name": "stderr",
     "output_type": "stream",
     "text": [
      "100%|██████████| 100563/100563 [01:28<00:00, 1135.88it/s]\n"
     ]
    }
   ],
   "source": [
    "t = await main()"
   ]
  },
  {
   "cell_type": "code",
   "execution_count": 23,
   "metadata": {
    "colab": {
     "base_uri": "https://localhost:8080/",
     "height": 424
    },
    "id": "7XiiZGZJxO8-",
    "outputId": "63403263-0072-4c12-c2cd-6f4628b9af80",
    "scrolled": false
   },
   "outputs": [
    {
     "data": {
      "text/html": [
       "<div>\n",
       "<style scoped>\n",
       "    .dataframe tbody tr th:only-of-type {\n",
       "        vertical-align: middle;\n",
       "    }\n",
       "\n",
       "    .dataframe tbody tr th {\n",
       "        vertical-align: top;\n",
       "    }\n",
       "\n",
       "    .dataframe thead th {\n",
       "        text-align: right;\n",
       "    }\n",
       "</style>\n",
       "<table border=\"1\" class=\"dataframe\">\n",
       "  <thead>\n",
       "    <tr style=\"text-align: right;\">\n",
       "      <th></th>\n",
       "      <th>url</th>\n",
       "      <th>size</th>\n",
       "    </tr>\n",
       "  </thead>\n",
       "  <tbody>\n",
       "    <tr>\n",
       "      <th>0</th>\n",
       "      <td>https://uhc-tic-mrf.azureedge.net/public-mrf/2...</td>\n",
       "      <td>621666475</td>\n",
       "    </tr>\n",
       "    <tr>\n",
       "      <th>1</th>\n",
       "      <td>https://uhc-tic-mrf.azureedge.net/public-mrf/2...</td>\n",
       "      <td>656852668</td>\n",
       "    </tr>\n",
       "    <tr>\n",
       "      <th>2</th>\n",
       "      <td>https://uhc-tic-mrf.azureedge.net/public-mrf/2...</td>\n",
       "      <td>222733</td>\n",
       "    </tr>\n",
       "    <tr>\n",
       "      <th>3</th>\n",
       "      <td>https://uhc-tic-mrf.azureedge.net/public-mrf/2...</td>\n",
       "      <td>406373</td>\n",
       "    </tr>\n",
       "    <tr>\n",
       "      <th>4</th>\n",
       "      <td>https://uhc-tic-mrf.azureedge.net/public-mrf/2...</td>\n",
       "      <td>2727221</td>\n",
       "    </tr>\n",
       "    <tr>\n",
       "      <th>...</th>\n",
       "      <td>...</td>\n",
       "      <td>...</td>\n",
       "    </tr>\n",
       "    <tr>\n",
       "      <th>484</th>\n",
       "      <td>https://uhc-tic-mrf.azureedge.net/public-mrf/2...</td>\n",
       "      <td>15757819</td>\n",
       "    </tr>\n",
       "    <tr>\n",
       "      <th>485</th>\n",
       "      <td>https://uhc-tic-mrf.azureedge.net/public-mrf/2...</td>\n",
       "      <td>15757819</td>\n",
       "    </tr>\n",
       "    <tr>\n",
       "      <th>486</th>\n",
       "      <td>https://uhc-tic-mrf.azureedge.net/public-mrf/2...</td>\n",
       "      <td>15757819</td>\n",
       "    </tr>\n",
       "    <tr>\n",
       "      <th>487</th>\n",
       "      <td>https://uhc-tic-mrf.azureedge.net/public-mrf/2...</td>\n",
       "      <td>15757819</td>\n",
       "    </tr>\n",
       "    <tr>\n",
       "      <th>488</th>\n",
       "      <td>https://uhc-tic-mrf.azureedge.net/public-mrf/2...</td>\n",
       "      <td>15757819</td>\n",
       "    </tr>\n",
       "  </tbody>\n",
       "</table>\n",
       "<p>489 rows × 2 columns</p>\n",
       "</div>"
      ],
      "text/plain": [
       "                                                   url       size\n",
       "0    https://uhc-tic-mrf.azureedge.net/public-mrf/2...  621666475\n",
       "1    https://uhc-tic-mrf.azureedge.net/public-mrf/2...  656852668\n",
       "2    https://uhc-tic-mrf.azureedge.net/public-mrf/2...     222733\n",
       "3    https://uhc-tic-mrf.azureedge.net/public-mrf/2...     406373\n",
       "4    https://uhc-tic-mrf.azureedge.net/public-mrf/2...    2727221\n",
       "..                                                 ...        ...\n",
       "484  https://uhc-tic-mrf.azureedge.net/public-mrf/2...   15757819\n",
       "485  https://uhc-tic-mrf.azureedge.net/public-mrf/2...   15757819\n",
       "486  https://uhc-tic-mrf.azureedge.net/public-mrf/2...   15757819\n",
       "487  https://uhc-tic-mrf.azureedge.net/public-mrf/2...   15757819\n",
       "488  https://uhc-tic-mrf.azureedge.net/public-mrf/2...   15757819\n",
       "\n",
       "[489 rows x 2 columns]"
      ]
     },
     "execution_count": 23,
     "metadata": {},
     "output_type": "execute_result"
    }
   ],
   "source": [
    "t"
   ]
  },
  {
   "cell_type": "code",
   "execution_count": 24,
   "metadata": {},
   "outputs": [],
   "source": [
    "t.to_csv(\"UHC_payers.csv\", index=False)"
   ]
  }
 ],
 "metadata": {
  "colab": {
   "provenance": []
  },
  "kernelspec": {
   "display_name": "scraper",
   "language": "python",
   "name": "python3"
  },
  "language_info": {
   "codemirror_mode": {
    "name": "ipython",
    "version": 3
   },
   "file_extension": ".py",
   "mimetype": "text/x-python",
   "name": "python",
   "nbconvert_exporter": "python",
   "pygments_lexer": "ipython3",
   "version": "3.8.8"
  },
  "vscode": {
   "interpreter": {
    "hash": "9f367541eacc62922b0d667875f754c11ddf0e046a966297271f755050d7d39a"
   }
  }
 },
 "nbformat": 4,
 "nbformat_minor": 1
}
