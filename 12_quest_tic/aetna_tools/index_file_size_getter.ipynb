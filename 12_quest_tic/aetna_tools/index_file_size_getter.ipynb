{
 "cells": [
  {
   "cell_type": "code",
   "execution_count": 1,
   "metadata": {
    "colab": {
     "base_uri": "https://localhost:8080/",
     "height": 409
    },
    "id": "t2eHYzw1vUKt",
    "outputId": "329c8be5-416b-4688-8de9-a268262b72eb",
    "scrolled": true
   },
   "outputs": [
    {
     "data": {
      "text/plain": [
       "'\\nGet size of each file in MRF (step 2)\\n'"
      ]
     },
     "execution_count": 1,
     "metadata": {},
     "output_type": "execute_result"
    }
   ],
   "source": [
    "from pathlib import Path\n",
    "import os\n",
    "p = Path(os.path.abspath('')).resolve().parents[0]\n",
    "sys.path.insert(1, str(p))\n",
    "from idxutils import gen_in_network_links, JSONOpen\n",
    "from tqdm import tqdm\n",
    "import pandas as pd\n",
    "import requests\n",
    "import sys\n",
    "from _utils import istarmap\n",
    "import aiohttp\n",
    "import asyncio\n",
    "from idxutils import gen_in_network_links\n",
    "import traceback as tb\n",
    "\n",
    "'''\n",
    "Get size of each file in MRF (step 2)\n",
    "'''"
   ]
  },
  {
   "cell_type": "code",
   "execution_count": 2,
   "metadata": {
    "id": "-s1TVWxsxEJR",
    "scrolled": true
   },
   "outputs": [],
   "source": [
    "async def get_network_files(session, url):\n",
    "    url = \"https://mrf.healthsparq.com/aetnacvs-egress.nophi.kyruushsq.com/prd/mrf/AETNACVS_I/ALICSI/\" + url.strip(\"%0A\").strip()\n",
    "    try:\n",
    "        async with session.head(url) as r:\n",
    "            size = r.headers.get(\"Content-Length\")\n",
    "            return url, size\n",
    "\n",
    "                    \n",
    "    except aiohttp.ClientResponseError as e:\n",
    "        print(e)\n",
    "        return url, None\n",
    "\n",
    "\n",
    "    except asyncio.TimeoutError:\n",
    "        return url, None\n",
    "\n",
    "    except aiohttp.ClientConnectionError:\n",
    "        return url, None\n",
    "\n",
    "    except KeyboardInterrupt:\n",
    "        import os; os.exit()\n",
    "\n",
    "    # except UnicodeDecodeError:\n",
    "    #     tb.print_exc()        \n",
    "    except Exception as e:\n",
    "        tb.print_exc()\n",
    "        print(e)\n",
    "        return url, None"
   ]
  },
  {
   "cell_type": "code",
   "execution_count": 3,
   "metadata": {
    "id": "Jla4P4ikxIGH",
    "scrolled": true
   },
   "outputs": [],
   "source": [
    "from tqdm.asyncio import tqdm\n",
    "\n",
    "# Not entirely sure why I wrote two methods\n",
    "\n",
    "# Pandas\n",
    "async def main(file):\n",
    "    df = pd.read_csv(file)\n",
    "    df1 = pd.DataFrame(columns=[\"url\", \"size\"])\n",
    "    async with aiohttp.ClientSession(raise_for_status = True) as session:\n",
    "        df1[[\"url\", \"size\"]] = await tqdm.gather(*(get_network_files(session, url) for url in df[\"url\"]), leave=True, position=0)\n",
    "        return df1\n",
    "\n",
    "# File\n",
    "async def main_file(file):\n",
    "    df1 = pd.DataFrame(columns=[\"url\", \"size\"])\n",
    "    with open(file, \"r\") as f:\n",
    "        total = len(f.readlines())\n",
    "        f.seek(0)\n",
    "        async with aiohttp.ClientSession(raise_for_status = True) as session:\n",
    "            df1[[\"url\", \"size\"]] = await tqdm.gather(*(get_network_files(session, url) for url in f), leave=True, position=0)\n",
    "            return df1"
   ]
  },
  {
   "cell_type": "code",
   "execution_count": 4,
   "metadata": {
    "colab": {
     "base_uri": "https://localhost:8080/",
     "height": 1000
    },
    "id": "0jzfvZn8xN9-",
    "outputId": "d42d8f61-a106-48c8-cd2d-8cf4f8730ae0",
    "scrolled": true
   },
   "outputs": [
    {
     "name": "stderr",
     "output_type": "stream",
     "text": [
      "100%|██████████| 1788/1788 [00:09<00:00, 193.59it/s]\n"
     ]
    }
   ],
   "source": [
    "t = await main_file(\"C:\\\\Users\\\\adria\\\\github\\\\BountyScrapers\\\\12_quest_tic\\\\aetna_tools\\\\aetna_indexes.txt\")"
   ]
  },
  {
   "cell_type": "code",
   "execution_count": 18,
   "metadata": {
    "colab": {
     "base_uri": "https://localhost:8080/",
     "height": 424
    },
    "id": "7XiiZGZJxO8-",
    "outputId": "63403263-0072-4c12-c2cd-6f4628b9af80",
    "scrolled": false
   },
   "outputs": [
    {
     "data": {
      "text/html": [
       "<div>\n",
       "<style scoped>\n",
       "    .dataframe tbody tr th:only-of-type {\n",
       "        vertical-align: middle;\n",
       "    }\n",
       "\n",
       "    .dataframe tbody tr th {\n",
       "        vertical-align: top;\n",
       "    }\n",
       "\n",
       "    .dataframe thead th {\n",
       "        text-align: right;\n",
       "    }\n",
       "</style>\n",
       "<table border=\"1\" class=\"dataframe\">\n",
       "  <thead>\n",
       "    <tr style=\"text-align: right;\">\n",
       "      <th></th>\n",
       "      <th>url</th>\n",
       "      <th>size</th>\n",
       "    </tr>\n",
       "  </thead>\n",
       "  <tbody>\n",
       "    <tr>\n",
       "      <th>0</th>\n",
       "      <td>https://mrf.healthsparq.com/aetnacvs-egress.no...</td>\n",
       "      <td>50960177</td>\n",
       "    </tr>\n",
       "    <tr>\n",
       "      <th>1</th>\n",
       "      <td>https://mrf.healthsparq.com/aetnacvs-egress.no...</td>\n",
       "      <td>55515410</td>\n",
       "    </tr>\n",
       "    <tr>\n",
       "      <th>2</th>\n",
       "      <td>https://mrf.healthsparq.com/aetnacvs-egress.no...</td>\n",
       "      <td>70543060</td>\n",
       "    </tr>\n",
       "    <tr>\n",
       "      <th>3</th>\n",
       "      <td>https://mrf.healthsparq.com/aetnacvs-egress.no...</td>\n",
       "      <td>70543060</td>\n",
       "    </tr>\n",
       "    <tr>\n",
       "      <th>4</th>\n",
       "      <td>https://mrf.healthsparq.com/aetnacvs-egress.no...</td>\n",
       "      <td>76625462</td>\n",
       "    </tr>\n",
       "    <tr>\n",
       "      <th>...</th>\n",
       "      <td>...</td>\n",
       "      <td>...</td>\n",
       "    </tr>\n",
       "    <tr>\n",
       "      <th>1783</th>\n",
       "      <td>https://mrf.healthsparq.com/aetnacvs-egress.no...</td>\n",
       "      <td>3946331017</td>\n",
       "    </tr>\n",
       "    <tr>\n",
       "      <th>1784</th>\n",
       "      <td>https://mrf.healthsparq.com/aetnacvs-egress.no...</td>\n",
       "      <td>3946331017</td>\n",
       "    </tr>\n",
       "    <tr>\n",
       "      <th>1785</th>\n",
       "      <td>https://mrf.healthsparq.com/aetnacvs-egress.no...</td>\n",
       "      <td>3946952694</td>\n",
       "    </tr>\n",
       "    <tr>\n",
       "      <th>1786</th>\n",
       "      <td>https://mrf.healthsparq.com/aetnacvs-egress.no...</td>\n",
       "      <td>3867494009</td>\n",
       "    </tr>\n",
       "    <tr>\n",
       "      <th>1787</th>\n",
       "      <td>https://mrf.healthsparq.com/aetnacvs-egress.no...</td>\n",
       "      <td>3961535139</td>\n",
       "    </tr>\n",
       "  </tbody>\n",
       "</table>\n",
       "<p>1788 rows × 2 columns</p>\n",
       "</div>"
      ],
      "text/plain": [
       "                                                    url        size\n",
       "0     https://mrf.healthsparq.com/aetnacvs-egress.no...    50960177\n",
       "1     https://mrf.healthsparq.com/aetnacvs-egress.no...    55515410\n",
       "2     https://mrf.healthsparq.com/aetnacvs-egress.no...    70543060\n",
       "3     https://mrf.healthsparq.com/aetnacvs-egress.no...    70543060\n",
       "4     https://mrf.healthsparq.com/aetnacvs-egress.no...    76625462\n",
       "...                                                 ...         ...\n",
       "1783  https://mrf.healthsparq.com/aetnacvs-egress.no...  3946331017\n",
       "1784  https://mrf.healthsparq.com/aetnacvs-egress.no...  3946331017\n",
       "1785  https://mrf.healthsparq.com/aetnacvs-egress.no...  3946952694\n",
       "1786  https://mrf.healthsparq.com/aetnacvs-egress.no...  3867494009\n",
       "1787  https://mrf.healthsparq.com/aetnacvs-egress.no...  3961535139\n",
       "\n",
       "[1788 rows x 2 columns]"
      ]
     },
     "execution_count": 18,
     "metadata": {},
     "output_type": "execute_result"
    }
   ],
   "source": [
    "t"
   ]
  },
  {
   "cell_type": "code",
   "execution_count": 20,
   "metadata": {},
   "outputs": [],
   "source": [
    "t = t.sort_values(by=[\"size\"])\n",
    "t.to_csv(\"Aetna_payers_sorted.csv\", index=False)"
   ]
  },
  {
   "cell_type": "code",
   "execution_count": null,
   "metadata": {},
   "outputs": [],
   "source": []
  }
 ],
 "metadata": {
  "colab": {
   "provenance": []
  },
  "kernelspec": {
   "display_name": "scraper",
   "language": "python",
   "name": "python3"
  },
  "language_info": {
   "codemirror_mode": {
    "name": "ipython",
    "version": 3
   },
   "file_extension": ".py",
   "mimetype": "text/x-python",
   "name": "python",
   "nbconvert_exporter": "python",
   "pygments_lexer": "ipython3",
   "version": "3.8.8 | packaged by conda-forge | (default, Feb 20 2021, 15:50:08) [MSC v.1916 64 bit (AMD64)]"
  },
  "vscode": {
   "interpreter": {
    "hash": "9f367541eacc62922b0d667875f754c11ddf0e046a966297271f755050d7d39a"
   }
  }
 },
 "nbformat": 4,
 "nbformat_minor": 1
}
