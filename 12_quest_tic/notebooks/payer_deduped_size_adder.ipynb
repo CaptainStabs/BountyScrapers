{
 "cells": [
  {
   "cell_type": "code",
   "execution_count": 37,
   "metadata": {},
   "outputs": [],
   "source": [
    "import requests\n",
    "import sys\n",
    "from idxutils import gen_in_network_links\n",
    "from mrfutils import InvalidMRF, JSONOpen\n",
    "from tqdm import tqdm\n",
    "import gzip\n",
    "import csv"
   ]
  },
  {
   "cell_type": "code",
   "execution_count": 38,
   "metadata": {},
   "outputs": [],
   "source": [
    "filename = \"F:\\\\_Bounty\\\\deduped_payers.txt\""
   ]
  },
  {
   "cell_type": "code",
   "execution_count": 39,
   "metadata": {},
   "outputs": [],
   "source": [
    "def get_file(url):  \n",
    "\n",
    "    size = requests.head(url).headers.get(\"Content-Length\")\n",
    "    return url, size\n",
    "        # if \"Nevada\" in f.read(100).decode(\"utf-8\"):\n",
    "        #     print(\"\\nFound:\", url)\n",
    "        # return\n",
    "\n"
   ]
  },
  {
   "cell_type": "code",
   "execution_count": 40,
   "metadata": {},
   "outputs": [
    {
     "name": "stderr",
     "output_type": "stream",
     "text": [
      "100%|██████████| 12588/12588 [45:02<00:00,  4.66it/s]  \n"
     ]
    }
   ],
   "source": [
    "with open (\"deduped_oayers_sizes.csv\", \"a\", newline=\"\") as output_csv:\n",
    "    writer = csv.DictWriter(output_csv, fieldnames=[\"url\", \"size\"])\n",
    "    writer.writeheader()\n",
    "\n",
    "    with open(filename, \"r\", encoding=\"utf-16\") as f:\n",
    "        total = len(f.readlines())\n",
    "        f.seek(0)\n",
    "        for i, in_network_file in tqdm(enumerate(f), total=total):\n",
    "\n",
    "        # if i < 69160:\n",
    "        #     i+=1\n",
    "        #     continue\n",
    "            in_network_file = in_network_file.strip(\"\\n\")\n",
    "            url, size = get_file(in_network_file)\n",
    "            writer.writerow({\n",
    "                \"url\": url,\n",
    "                \"size\": size\n",
    "            })\n",
    "\n",
    "\n",
    "                          # if result:\n",
    "                        #     f.write(f'{in_network_file}\\n')     \n",
    "                \n",
    "\n",
    "                \n",
    "                # log.info(f'Wrote {in_network_file} to {filename}')"
   ]
  }
 ],
 "metadata": {
  "kernelspec": {
   "display_name": "scraper",
   "language": "python",
   "name": "python3"
  },
  "language_info": {
   "codemirror_mode": {
    "name": "ipython",
    "version": 3
   },
   "file_extension": ".py",
   "mimetype": "text/x-python",
   "name": "python",
   "nbconvert_exporter": "python",
   "pygments_lexer": "ipython3",
   "version": "3.8.8 | packaged by conda-forge | (default, Feb 20 2021, 15:50:08) [MSC v.1916 64 bit (AMD64)]"
  },
  "orig_nbformat": 4,
  "vscode": {
   "interpreter": {
    "hash": "9f367541eacc62922b0d667875f754c11ddf0e046a966297271f755050d7d39a"
   }
  }
 },
 "nbformat": 4,
 "nbformat_minor": 2
}
