{
 "cells": [
  {
   "cell_type": "code",
   "execution_count": 1,
   "metadata": {},
   "outputs": [],
   "source": [
    "import requests\n",
    "import sys\n",
    "from tqdm import tqdm\n",
    "import gzip\n",
    "import csv\n",
    "\n",
    "from pathlib import Path\n",
    "import os\n",
    "p = Path(os.path.abspath('')).resolve().parents[0]\n",
    "sys.path.insert(1, str(p))\n",
    "\n",
    "from idxutils import gen_in_network_links\n",
    "from mrfutils import InvalidMRF, JSONOpen"
   ]
  },
  {
   "cell_type": "code",
   "execution_count": 12,
   "metadata": {},
   "outputs": [],
   "source": [
    "filename = \"F:\\\\_Bounty\\\\2022-12-05_97109000_index.json\""
   ]
  },
  {
   "cell_type": "code",
   "execution_count": 13,
   "metadata": {},
   "outputs": [
    {
     "name": "stderr",
     "output_type": "stream",
     "text": [
      "  0%|          | 0/61996706 [00:00<?, ?it/s]\n"
     ]
    }
   ],
   "source": [
    "with open (\"F:\\\\_Bounty\\\\aetna_alicsi.csv\", \"a\", newline=\"\") as output_csv:\n",
    "    for i, in_network_file in tqdm(enumerate(gen_in_network_links(filename))):\n",
    "        output_csv.write(in_network_file + \"\\n\")    "
   ]
  }
 ],
 "metadata": {
  "kernelspec": {
   "display_name": "scraper",
   "language": "python",
   "name": "python3"
  },
  "language_info": {
   "codemirror_mode": {
    "name": "ipython",
    "version": 3
   },
   "file_extension": ".py",
   "mimetype": "text/x-python",
   "name": "python",
   "nbconvert_exporter": "python",
   "pygments_lexer": "ipython3",
   "version": "3.8.8"
  },
  "orig_nbformat": 4,
  "vscode": {
   "interpreter": {
    "hash": "9f367541eacc62922b0d667875f754c11ddf0e046a966297271f755050d7d39a"
   }
  }
 },
 "nbformat": 4,
 "nbformat_minor": 2
}
