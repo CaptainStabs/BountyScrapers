{
 "cells": [
  {
   "cell_type": "code",
   "execution_count": 2,
   "metadata": {},
   "outputs": [],
   "source": [
    "import requests\n",
    "import sys\n",
    "from idxutils import gen_in_network_links\n",
    "from mrfutils import InvalidMRF, JSONOpen\n",
    "from tqdm import tqdm\n",
    "import gzip\n",
    "import csv"
   ]
  },
  {
   "cell_type": "code",
   "execution_count": 3,
   "metadata": {},
   "outputs": [],
   "source": [
    "filename = \"F:\\\\_Bounty\\\\2022-12-01_anthem_index.json\""
   ]
  },
  {
   "cell_type": "code",
   "execution_count": 4,
   "metadata": {},
   "outputs": [],
   "source": [
    "def get_file(url):  \n",
    "    with JSONOpen(url) as f:\n",
    "        string = f.read(100).decode(\"utf-8\")\n",
    "\n",
    "        size = requests.head(url).headers.get(\"Content-Length\")\n",
    "        return url, string, size\n",
    "        # if \"Nevada\" in f.read(100).decode(\"utf-8\"):\n",
    "        #     print(\"\\nFound:\", url)\n",
    "        # return\n",
    "\n"
   ]
  },
  {
   "cell_type": "code",
   "execution_count": 5,
   "metadata": {},
   "outputs": [
    {
     "name": "stderr",
     "output_type": "stream",
     "text": [
      "  0%|          | 89/61996706 [00:13<3169:53:12,  5.43it/s]"
     ]
    }
   ],
   "source": [
    "with open (\"delete.csv\", \"a\", newline=\"\") as output_csv:\n",
    "    writer = csv.DictWriter(output_csv, fieldnames=[\"url\", \"string\", \"size\"])\n",
    "    # writer.writeheader()\n",
    "\n",
    "    for i, in_network_file in tqdm(enumerate(gen_in_network_links(filename)), total=61996706):\n",
    "\n",
    "        # if i < 69160:\n",
    "        #     i+=1\n",
    "        #     continue\n",
    "        url, string, size = get_file(in_network_file)\n",
    "        writer.writerow({\n",
    "            \"url\": url,\n",
    "            \"string\": string.replace(\"\\n\", \"\").replace('{\"\"reporting_entity_name\"\":', \"\").replace(\"\\r\", \"\"),\n",
    "            \"size\": size\n",
    "        })\n",
    "        \n",
    "\n",
    "                    # if result:\n",
    "                    #     f.write(f'{in_network_file}\\n')     \n",
    "            \n",
    "\n",
    "            \n",
    "            # log.info(f'Wrote {in_network_file} to {filename}')"
   ]
  },
  {
   "cell_type": "code",
   "execution_count": null,
   "metadata": {},
   "outputs": [
    {
     "name": "stderr",
     "output_type": "stream",
     "text": [
      "  0%|          | 89/61996706 [00:13<3169:53:12,  5.43it/s]"
     ]
    }
   ],
   "source": [
    "with open (\"delete.csv\", \"a\", newline=\"\") as output_csv:\n",
    "    writer = csv.DictWriter(output_csv, fieldnames=[\"url\", \"string\", \"size\"])\n",
    "    # writer.writeheader()\n",
    "\n",
    "    for i, in_network_file in tqdm(enumerate(gen_in_network_links(filename)), total=61996706):\n",
    "\n",
    "        # if i < 69160:\n",
    "        #     i+=1\n",
    "        #     continue\n",
    "        url, string, size = get_file(in_network_file)\n",
    "        writer.writerow({\n",
    "            \"url\": url,\n",
    "            \"string\": string.replace(\"\\n\", \"\").replace('{\"\"reporting_entity_name\"\":', \"\").replace(\"\\r\", \"\"),\n",
    "            \"size\": size\n",
    "        })\n",
    "        \n",
    "\n",
    "                    # if result:\n",
    "                    #     f.write(f'{in_network_file}\\n')     \n",
    "            \n",
    "\n",
    "            \n",
    "            # log.info(f'Wrote {in_network_file} to {filename}')"
   ]
  }
 ],
 "metadata": {
  "kernelspec": {
   "display_name": "scraper",
   "language": "python",
   "name": "python3"
  },
  "language_info": {
   "codemirror_mode": {
    "name": "ipython",
    "version": 3
   },
   "file_extension": ".py",
   "mimetype": "text/x-python",
   "name": "python",
   "nbconvert_exporter": "python",
   "pygments_lexer": "ipython3",
   "version": "3.8.8 | packaged by conda-forge | (default, Feb 20 2021, 15:50:08) [MSC v.1916 64 bit (AMD64)]"
  },
  "orig_nbformat": 4,
  "vscode": {
   "interpreter": {
    "hash": "9f367541eacc62922b0d667875f754c11ddf0e046a966297271f755050d7d39a"
   }
  }
 },
 "nbformat": 4,
 "nbformat_minor": 2
}
