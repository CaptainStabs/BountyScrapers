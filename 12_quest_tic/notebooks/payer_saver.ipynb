{
 "cells": [
  {
   "cell_type": "code",
   "execution_count": 9,
   "metadata": {},
   "outputs": [
    {
     "ename": "NameError",
     "evalue": "name '__file__' is not defined",
     "output_type": "error",
     "traceback": [
      "\u001b[1;31m---------------------------------------------------------------------------\u001b[0m",
      "\u001b[1;31mNameError\u001b[0m                                 Traceback (most recent call last)",
      "\u001b[1;32mc:\\Users\\adria\\github\\BountyScrapers\\12_quest_tic\\notebooks\\payer_saver.ipynb Cell 1\u001b[0m in \u001b[0;36m<cell line: 6>\u001b[1;34m()\u001b[0m\n\u001b[0;32m      <a href='vscode-notebook-cell:/c%3A/Users/adria/github/BountyScrapers/12_quest_tic/notebooks/payer_saver.ipynb#W0sZmlsZQ%3D%3D?line=1'>2</a>\u001b[0m \u001b[39mimport\u001b[39;00m \u001b[39msys\u001b[39;00m\n\u001b[0;32m      <a href='vscode-notebook-cell:/c%3A/Users/adria/github/BountyScrapers/12_quest_tic/notebooks/payer_saver.ipynb#W0sZmlsZQ%3D%3D?line=3'>4</a>\u001b[0m \u001b[39mfrom\u001b[39;00m \u001b[39mpathlib\u001b[39;00m \u001b[39mimport\u001b[39;00m Path\n\u001b[1;32m----> <a href='vscode-notebook-cell:/c%3A/Users/adria/github/BountyScrapers/12_quest_tic/notebooks/payer_saver.ipynb#W0sZmlsZQ%3D%3D?line=5'>6</a>\u001b[0m p \u001b[39m=\u001b[39m Path(\u001b[39m__file__\u001b[39m)\u001b[39m.\u001b[39mresolve()\u001b[39m.\u001b[39mparents[\u001b[39m1\u001b[39m]\n\u001b[0;32m      <a href='vscode-notebook-cell:/c%3A/Users/adria/github/BountyScrapers/12_quest_tic/notebooks/payer_saver.ipynb#W0sZmlsZQ%3D%3D?line=6'>7</a>\u001b[0m sys\u001b[39m.\u001b[39mpath\u001b[39m.\u001b[39minsert(\u001b[39m1\u001b[39m, \u001b[39mstr\u001b[39m(p))\n\u001b[0;32m      <a href='vscode-notebook-cell:/c%3A/Users/adria/github/BountyScrapers/12_quest_tic/notebooks/payer_saver.ipynb#W0sZmlsZQ%3D%3D?line=7'>8</a>\u001b[0m \u001b[39mfrom\u001b[39;00m \u001b[39midxutils\u001b[39;00m \u001b[39mimport\u001b[39;00m gen_in_network_links\n",
      "\u001b[1;31mNameError\u001b[0m: name '__file__' is not defined"
     ]
    }
   ],
   "source": [
    "import requests\n",
    "import sys\n",
    "\n",
    "import os\n",
    "p = os.path.abspath('')\n",
    "\n",
    "sys.path.insert(1, str(p))\n",
    "from idxutils import gen_in_network_links\n",
    "from mrfutils import InvalidMRF, JSONOpen\n",
    "from tqdm import tqdm\n",
    "import gzip\n",
    "import csv\n",
    "\n"
   ]
  },
  {
   "cell_type": "code",
   "execution_count": 3,
   "metadata": {},
   "outputs": [],
   "source": [
    "filename = \"F:\\\\_Bounty\\\\2022-12-01_anthem_index.json\""
   ]
  },
  {
   "cell_type": "code",
   "execution_count": 4,
   "metadata": {},
   "outputs": [],
   "source": [
    "def get_file(url):  \n",
    "    with JSONOpen(url) as f:\n",
    "        string = f.read(100).decode(\"utf-8\")\n",
    "\n",
    "        size = requests.head(url).headers.get(\"Content-Length\")\n",
    "        return url, string, size\n",
    "        # if \"Nevada\" in f.read(100).decode(\"utf-8\"):\n",
    "        #     print(\"\\nFound:\", url)\n",
    "        # return\n",
    "\n"
   ]
  },
  {
   "cell_type": "code",
   "execution_count": 5,
   "metadata": {},
   "outputs": [
    {
     "name": "stderr",
     "output_type": "stream",
     "text": [
      "  0%|          | 89/61996706 [00:13<3169:53:12,  5.43it/s]"
     ]
    }
   ],
   "source": [
    "with open (\"delete.csv\", \"a\", newline=\"\") as output_csv:\n",
    "    writer = csv.DictWriter(output_csv, fieldnames=[\"url\", \"string\", \"size\"])\n",
    "    # writer.writeheader()\n",
    "\n",
    "    for i, in_network_file in tqdm(enumerate(gen_in_network_links(filename)), total=61996706):\n",
    "\n",
    "        # if i < 69160:\n",
    "        #     i+=1\n",
    "        #     continue\n",
    "        url, string, size = get_file(in_network_file)\n",
    "        writer.writerow({\n",
    "            \"url\": url,\n",
    "            \"string\": string.replace(\"\\n\", \"\").replace('{\"\"reporting_entity_name\"\":', \"\").replace(\"\\r\", \"\"),\n",
    "            \"size\": size\n",
    "        })\n",
    "        \n",
    "\n",
    "                    # if result:\n",
    "                    #     f.write(f'{in_network_file}\\n')     \n",
    "            \n",
    "\n",
    "            \n",
    "            # log.info(f'Wrote {in_network_file} to {filename}')"
   ]
  },
  {
   "cell_type": "code",
   "execution_count": null,
   "metadata": {},
   "outputs": [
    {
     "name": "stderr",
     "output_type": "stream",
     "text": [
      "  0%|          | 89/61996706 [00:13<3169:53:12,  5.43it/s]"
     ]
    }
   ],
   "source": [
    "with open (\"delete.csv\", \"a\", newline=\"\") as output_csv:\n",
    "    writer = csv.DictWriter(output_csv, fieldnames=[\"url\", \"string\", \"size\"])\n",
    "    # writer.writeheader()\n",
    "\n",
    "    for i, in_network_file in tqdm(enumerate(gen_in_network_links(filename)), total=61996706):\n",
    "\n",
    "        # if i < 69160:\n",
    "        #     i+=1\n",
    "        #     continue\n",
    "        url, string, size = get_file(in_network_file)\n",
    "        writer.writerow({\n",
    "            \"url\": url,\n",
    "            \"string\": string.replace(\"\\n\", \"\").replace('{\"\"reporting_entity_name\"\":', \"\").replace(\"\\r\", \"\"),\n",
    "            \"size\": size\n",
    "        })\n",
    "        \n",
    "\n",
    "                    # if result:\n",
    "                    #     f.write(f'{in_network_file}\\n')     \n",
    "            \n",
    "\n",
    "            \n",
    "            # log.info(f'Wrote {in_network_file} to {filename}')"
   ]
  }
 ],
 "metadata": {
  "kernelspec": {
   "display_name": "scraper",
   "language": "python",
   "name": "python3"
  },
  "language_info": {
   "codemirror_mode": {
    "name": "ipython",
    "version": 3
   },
   "file_extension": ".py",
   "mimetype": "text/x-python",
   "name": "python",
   "nbconvert_exporter": "python",
   "pygments_lexer": "ipython3",
   "version": "3.8.8 | packaged by conda-forge | (default, Feb 20 2021, 15:50:08) [MSC v.1916 64 bit (AMD64)]"
  },
  "orig_nbformat": 4,
  "vscode": {
   "interpreter": {
    "hash": "9f367541eacc62922b0d667875f754c11ddf0e046a966297271f755050d7d39a"
   }
  }
 },
 "nbformat": 4,
 "nbformat_minor": 2
}
