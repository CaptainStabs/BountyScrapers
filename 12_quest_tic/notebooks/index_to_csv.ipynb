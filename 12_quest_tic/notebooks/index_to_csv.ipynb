{
 "cells": [
  {
   "cell_type": "code",
   "execution_count": 8,
   "metadata": {},
   "outputs": [],
   "source": [
    "import requests\n",
    "import sys\n",
    "from tqdm import tqdm\n",
    "import gzip\n",
    "import csv\n",
    "\n",
    "from pathlib import Path\n",
    "import os\n",
    "p = Path(os.path.abspath('')).resolve().parents[0]\n",
    "sys.path.insert(1, str(p))\n",
    "\n",
    "from idxutils import gen_in_network_links\n",
    "from mrfutils import InvalidMRF, JSONOpen"
   ]
  },
  {
   "cell_type": "code",
   "execution_count": 3,
   "metadata": {},
   "outputs": [],
   "source": [
    "filename = \"https://d25kgz5rikkq4n.cloudfront.net/cost_transparency/mrf/table-of-contents/reporting_month=2023-01/2023-01-01_cigna-health-life-insurance-company_index.json?Expires=1676299507&Policy=eyJTdGF0ZW1lbnQiOlt7IlJlc291cmNlIjoiaHR0cHM6Ly9kMjVrZ3o1cmlra3E0bi5jbG91ZGZyb250Lm5ldC9jb3N0X3RyYW5zcGFyZW5jeS9tcmYvdGFibGUtb2YtY29udGVudHMvcmVwb3J0aW5nX21vbnRoPTIwMjMtMDEvMjAyMy0wMS0wMV9jaWduYS1oZWFsdGgtbGlmZS1pbnN1cmFuY2UtY29tcGFueV9pbmRleC5qc29uIiwiQ29uZGl0aW9uIjp7IkRhdGVMZXNzVGhhbiI6eyJBV1M6RXBvY2hUaW1lIjoxNjc2Mjk5NTA3fX19XX0_&Signature=ea47iMzzuUoWJNuY38Kn1tsJAnUpoCR3KSuRsEjRp4vXHnZwO3UtyC42opoXqwiFi5FcVY6WX5lAiWo~eNuJOzsyhjdW4av1wKyxpWPshLT1oYJTfX35ZsNI4bhrgGDjZyLsGjz7AAOk64MIG4pF1B6NG-ZRxFxELj6-5uMR-ukf27CRfGQedr8aiH7AFcjzxDY6mA8GoDzAvV7cJYbFYm5aGbaulguHlJfESBc9wyGAfp778COwLbfI~kn9SPXNXP69rKZpJWHogE-qL58v~va2QKBiIQnMogqAPcWj~6OuL8ID8Ai6cyqFg1fxU07QfXwGOxyfBAMY3jtZn9xDnA__&Key-Pair-Id=K1NVBEPVH9LWJP\""
   ]
  },
  {
   "cell_type": "code",
   "execution_count": 4,
   "metadata": {},
   "outputs": [],
   "source": [
    "def get_file(url):  \n",
    "    with JSONOpen(url) as f:\n",
    "        string = f.read(100).decode(\"utf-8\")\n",
    "        return url, string\n",
    "        # if \"Nevada\" in f.read(100).decode(\"utf-8\"):\n",
    "        #     print(\"\\nFound:\", url)\n",
    "        # return\n",
    "\n"
   ]
  },
  {
   "cell_type": "code",
   "execution_count": 5,
   "metadata": {},
   "outputs": [
    {
     "name": "stderr",
     "output_type": "stream",
     "text": [
      "100%|██████████| 61996706/61996706 [21:44<00:00, 47537.41it/s]\n"
     ]
    }
   ],
   "source": [
    "with open (\"cigna_payers.txt\", \"a\", newline=\"\") as output_csv:\n",
    "    for i, in_network_file in tqdm(enumerate(gen_in_network_links(filename)), total=61996706):\n",
    "        output_csv.write(in_network_file + \"\\n\")    "
   ]
  }
 ],
 "metadata": {
  "kernelspec": {
   "display_name": "scraper",
   "language": "python",
   "name": "python3"
  },
  "language_info": {
   "codemirror_mode": {
    "name": "ipython",
    "version": 3
   },
   "file_extension": ".py",
   "mimetype": "text/x-python",
   "name": "python",
   "nbconvert_exporter": "python",
   "pygments_lexer": "ipython3",
   "version": "3.8.8"
  },
  "orig_nbformat": 4,
  "vscode": {
   "interpreter": {
    "hash": "9f367541eacc62922b0d667875f754c11ddf0e046a966297271f755050d7d39a"
   }
  }
 },
 "nbformat": 4,
 "nbformat_minor": 2
}
