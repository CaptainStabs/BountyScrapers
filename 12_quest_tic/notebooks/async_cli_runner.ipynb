{
 "cells": [
  {
   "cell_type": "code",
   "execution_count": 1,
   "metadata": {
    "colab": {
     "base_uri": "https://localhost:8080/",
     "height": 409
    },
    "id": "t2eHYzw1vUKt",
    "outputId": "329c8be5-416b-4688-8de9-a268262b72eb",
    "scrolled": true
   },
   "outputs": [],
   "source": [
    "import pandas as pd\n",
    "# df = pd.read_csv('paylesshealth/hospitals.csv')\n",
    "df = pd.read_csv('Georgia.csv')\n",
    "\n",
    "# df = df.head(100)"
   ]
  },
  {
   "cell_type": "code",
   "execution_count": 2,
   "metadata": {
    "id": "UVOkJyDov5ek",
    "scrolled": false
   },
   "outputs": [],
   "source": [
    "import asyncio\n",
    "from mrfutils import import_csv_to_set, json_mrf_to_csv\n"
   ]
  },
  {
   "cell_type": "code",
   "execution_count": 3,
   "metadata": {
    "id": "-s1TVWxsxEJR",
    "scrolled": true
   },
   "outputs": [],
   "source": [
    "async def mrf_thing(url):\n",
    "\n",
    "    try:\n",
    "        json_mrf_to_csv(loc=url, url=url, npi_filter=\"./quest/npis.csv\", code_filter=\"./quest/codes.csv\", out_dir=\"./async_georgia/\")\n",
    " \n",
    "    except KeyboardInterrupt:\n",
    "        import os; os.exit()"
   ]
  },
  {
   "cell_type": "code",
   "execution_count": 4,
   "metadata": {
    "id": "Jla4P4ikxIGH",
    "scrolled": true
   },
   "outputs": [],
   "source": [
    "from tqdm.asyncio import tqdm\n",
    "\n",
    "async def main():\n",
    "    await asyncio.gather(*(mrf_thing(url) for url in df[\"url\"]))"
   ]
  },
  {
   "cell_type": "code",
   "execution_count": 5,
   "metadata": {
    "colab": {
     "base_uri": "https://localhost:8080/",
     "height": 1000
    },
    "id": "0jzfvZn8xN9-",
    "outputId": "d42d8f61-a106-48c8-cd2d-8cf4f8730ae0",
    "scrolled": true
   },
   "outputs": [
    {
     "name": "stderr",
     "output_type": "stream",
     "text": [
      "Provider Reference Map: 11032579944it [4:17:32, 713975.54it/s]\n",
      "Provider Reference Map: 10997403563it [3:47:01, 807356.61it/s]\n",
      "Provider Reference Map: 0it [00:00, ?it/s]\n",
      "Provider Reference Map: 4142955406it [1:17:16, 893520.92it/s] \n",
      "Provider Reference Map: 3423364655it [1:03:14, 896255.59it/s] "
     ]
    }
   ],
   "source": [
    "t = await main()"
   ]
  }
 ],
 "metadata": {
  "colab": {
   "provenance": []
  },
  "kernelspec": {
   "display_name": "scraper",
   "language": "python",
   "name": "python3"
  },
  "language_info": {
   "codemirror_mode": {
    "name": "ipython",
    "version": 3
   },
   "file_extension": ".py",
   "mimetype": "text/x-python",
   "name": "python",
   "nbconvert_exporter": "python",
   "pygments_lexer": "ipython3",
   "version": "3.8.8 | packaged by conda-forge | (default, Feb 20 2021, 15:50:08) [MSC v.1916 64 bit (AMD64)]"
  },
  "vscode": {
   "interpreter": {
    "hash": "9f367541eacc62922b0d667875f754c11ddf0e046a966297271f755050d7d39a"
   }
  }
 },
 "nbformat": 4,
 "nbformat_minor": 1
}
