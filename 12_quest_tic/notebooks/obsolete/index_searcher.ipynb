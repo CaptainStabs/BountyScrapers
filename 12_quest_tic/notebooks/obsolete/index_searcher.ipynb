{
 "cells": [
  {
   "cell_type": "code",
   "execution_count": 1,
   "metadata": {},
   "outputs": [],
   "source": [
    "import pandas as pd\n",
    "from urllib.parse import urlparse\n",
    "import os\n",
    "import json\n",
    "from IPython.display import HTML"
   ]
  },
  {
   "cell_type": "code",
   "execution_count": 2,
   "metadata": {},
   "outputs": [],
   "source": [
    "def link_maker(val):\n",
    "    # target _blank to open new window\n",
    "    return '<a target=\"_blank\" href=\"{}\">{}</a>'.format(val, os.path.basename(urlparse(val).path))\n",
    "\n",
    "def url_dedupe(val):\n",
    "    return os.path.basename(urlparse(val).path)\n",
    "\n",
    "def string_name(val):\n",
    "    try:\n",
    "        val = val.split(\",\")[0].strip()\n",
    "        val = val + \"}\"\n",
    "        val = json.loads(val)\n",
    "        return dict(val).get(\"reporting_entity_name\")\n",
    "    except:\n",
    "        return None"
   ]
  },
  {
   "cell_type": "code",
   "execution_count": 5,
   "metadata": {},
   "outputs": [],
   "source": [
    "df = pd.read_csv(\"payer_index.csv\")\n",
    "\n",
    "\n",
    "# select rows where column \"string\" contains x, keeping both columns\n",
    "search_term = \"Texas\"\n",
    "\n",
    "\n",
    "df = df.dropna(subset=[\"string\"])\n",
    "# Search DF\n",
    "df = df[df[\"string\"].str.contains(search_term)]\n",
    "\n",
    "# Create separate column to act as deduping index using only filename\n",
    "df[\"url_index\"] = df[\"url\"].apply(url_dedupe)\n",
    "df = df.drop_duplicates(subset=[\"url_index\"])\n",
    "df = df.drop(\"url_index\", axis=1)\n",
    "\n",
    "# Make string prettier\n",
    "df[\"string\"] = df[\"string\"].apply(string_name) \n",
    "# df = df.style.format({\"url\": link_maker})\n",
    "# df['url'] = df['url'].apply(lambda x: f'<a href=\"{x}\">{os.path.basename(urlparse(x).path)}</a>')\n",
    "\n",
    "df = df.sort_values(by=[\"size\"])\n",
    "HTML(df.to_html(render_links=True, escape=False))\n",
    "df.to_csv(\"./_input_csvs/\" + search_term + \".csv\", index=False)"
   ]
  }
 ],
 "metadata": {
  "kernelspec": {
   "display_name": "Python 3 (ipykernel)",
   "language": "python",
   "name": "python3"
  },
  "language_info": {
   "codemirror_mode": {
    "name": "ipython",
    "version": 3
   },
   "file_extension": ".py",
   "mimetype": "text/x-python",
   "name": "python",
   "nbconvert_exporter": "python",
   "pygments_lexer": "ipython3",
   "version": "3.8.8 | packaged by conda-forge | (default, Feb 20 2021, 15:50:08) [MSC v.1916 64 bit (AMD64)]"
  },
  "vscode": {
   "interpreter": {
    "hash": "9f367541eacc62922b0d667875f754c11ddf0e046a966297271f755050d7d39a"
   }
  }
 },
 "nbformat": 4,
 "nbformat_minor": 2
}
