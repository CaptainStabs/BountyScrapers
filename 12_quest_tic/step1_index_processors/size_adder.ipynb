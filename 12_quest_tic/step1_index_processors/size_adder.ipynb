{
 "cells": [
  {
   "cell_type": "code",
   "execution_count": 1,
   "metadata": {},
   "outputs": [],
   "source": [
    "import requests\n",
    "import sys\n",
    "from tqdm.asyncio import tqdm\n",
    "import gzip\n",
    "import csv\n",
    "import aiohttp\n",
    "import asyncio\n",
    "import pandas as pd\n",
    "\n",
    "df = pd.read_csv(\"input_csvs/anthem_payers_deduped.csv\")"
   ]
  },
  {
   "cell_type": "code",
   "execution_count": 2,
   "metadata": {},
   "outputs": [],
   "source": [
    "async def get_size(session, url):\n",
    "    # if \"https\" not in url: # for Humana only\n",
    "        # url = \"https://developers.humana.com/Resource/DownloadPCTFile\" + url\n",
    "\n",
    "    try:\n",
    "        async with session.head(url, ssl=False, raise_for_status=True) as r:\n",
    "            return r.headers.get(\"Content-Length\")\n",
    "    except:\n",
    "        pass"
   ]
  },
  {
   "cell_type": "code",
   "execution_count": 3,
   "metadata": {},
   "outputs": [],
   "source": [
    "async def main():\n",
    "    async with aiohttp.ClientSession(raise_for_status = True) as session:\n",
    "        df[\"size\"] = await tqdm.gather(*(get_size(session, url) for url in df[\"url\"]), leave=True, position=0)\n",
    "        return df\n",
    "\n"
   ]
  },
  {
   "cell_type": "code",
   "execution_count": 4,
   "metadata": {},
   "outputs": [
    {
     "name": "stderr",
     "output_type": "stream",
     "text": [
      "100%|██████████| 8300/8300 [00:34<00:00, 239.98it/s]\n"
     ]
    }
   ],
   "source": [
    "df1 = await main()"
   ]
  },
  {
   "cell_type": "code",
   "execution_count": 5,
   "metadata": {},
   "outputs": [],
   "source": [
    "df1 = df1.sort_values(by=\"size\")"
   ]
  },
  {
   "cell_type": "code",
   "execution_count": 6,
   "metadata": {},
   "outputs": [],
   "source": [
    "df1.to_csv(\"anthem_payers_sorted.csv\", index=False)"
   ]
  }
 ],
 "metadata": {
  "kernelspec": {
   "display_name": "scraper",
   "language": "python",
   "name": "python3"
  },
  "language_info": {
   "codemirror_mode": {
    "name": "ipython",
    "version": 3
   },
   "file_extension": ".py",
   "mimetype": "text/x-python",
   "name": "python",
   "nbconvert_exporter": "python",
   "pygments_lexer": "ipython3",
   "version": "3.9.7"
  },
  "orig_nbformat": 4,
  "vscode": {
   "interpreter": {
    "hash": "c944cbe044b4c0209db536598224de1487547ec83c6afed452622be158ffdbc2"
   }
  }
 },
 "nbformat": 4,
 "nbformat_minor": 2
}
