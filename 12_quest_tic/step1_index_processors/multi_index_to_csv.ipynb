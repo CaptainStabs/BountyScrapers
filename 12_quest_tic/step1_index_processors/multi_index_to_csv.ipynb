{
 "cells": [
  {
   "cell_type": "code",
   "execution_count": 9,
   "metadata": {},
   "outputs": [],
   "source": [
    "import requests\n",
    "import sys\n",
    "\n",
    "# import os\n",
    "# p = os.path.abspath('')\n",
    "\n",
    "# sys.path.insert(1, str(p))\n",
    "from idxutils import gen_in_network_links\n",
    "from mrfutils import InvalidMRF, JSONOpen\n",
    "from tqdm import tqdm\n",
    "import gzip\n",
    "import csv\n",
    "\n",
    "'''\n",
    "Takes a file with a list of index urls\n",
    "'''"
   ]
  },
  {
   "cell_type": "code",
   "execution_count": null,
   "metadata": {},
   "outputs": [],
   "source": [
    "input_file = \"./humana_tools/files.txt\"\n",
    "output_file = \"F:\\\\_Bounty\\\\humana_payers.csv\""
   ]
  },
  {
   "cell_type": "code",
   "execution_count": null,
   "metadata": {},
   "outputs": [],
   "source": [
    "def blocks(files, size=65536):\n",
    "    while True:\n",
    "        b = files.read(size)\n",
    "        if not b: break\n",
    "        yield b\n",
    "\n",
    "total = sum(bl.count(\"\\n\") for bl in blocks(input_file))"
   ]
  },
  {
   "cell_type": "code",
   "execution_count": 11,
   "metadata": {},
   "outputs": [
    {
     "data": {
      "application/vnd.jupyter.widget-view+json": {
       "model_id": "eac24739ae8e4732bdd2f556092df570",
       "version_major": 2,
       "version_minor": 0
      },
      "text/plain": [
       "  0%|          | 0/9437 [00:00<?, ?it/s]"
      ]
     },
     "metadata": {},
     "output_type": "display_data"
    }
   ],
   "source": [
    "with open(input_file, \"r\") as f:\n",
    "    with open (output_file, \"a\", newline=\"\") as output_csv:\n",
    "        writer = csv.DictWriter(output_csv, fieldnames=[\"url\"])\n",
    "        # writer.writeheader()\n",
    "        for filename in tqdm(f, total=total):\n",
    "            # Index files, needs to a url\n",
    "            filename = filename.strip(\"\\n\")\n",
    "            # filename = JSONOpen(filename)\n",
    "            try:\n",
    "                for url in gen_in_network_links(filename):\n",
    "\n",
    "                    writer.writerow({\n",
    "                        \"url\": url\n",
    "                    })\n",
    "            except KeyboardInterrupt:\n",
    "                break\n",
    "            except:\n",
    "                pass"
   ]
  }
 ],
 "metadata": {
  "kernelspec": {
   "display_name": "scraper",
   "language": "python",
   "name": "python3"
  },
  "language_info": {
   "codemirror_mode": {
    "name": "ipython",
    "version": 3
   },
   "file_extension": ".py",
   "mimetype": "text/x-python",
   "name": "python",
   "nbconvert_exporter": "python",
   "pygments_lexer": "ipython3",
   "version": "3.8.8 | packaged by conda-forge | (default, Feb 20 2021, 15:50:08) [MSC v.1916 64 bit (AMD64)]"
  },
  "orig_nbformat": 4,
  "vscode": {
   "interpreter": {
    "hash": "9f367541eacc62922b0d667875f754c11ddf0e046a966297271f755050d7d39a"
   }
  }
 },
 "nbformat": 4,
 "nbformat_minor": 2
}
