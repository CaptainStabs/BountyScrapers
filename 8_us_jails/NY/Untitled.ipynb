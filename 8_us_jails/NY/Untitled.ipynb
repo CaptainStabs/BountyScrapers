{
 "cells": [
  {
   "cell_type": "code",
   "execution_count": 15,
   "id": "d9279d95-4ebc-4a33-b750-712c9be9ecdf",
   "metadata": {},
   "outputs": [],
   "source": [
    "import csv\n",
    "from tqdm import tqdm\n",
    "import traceback as tb\n",
    "import os\n",
    "from concurrent.futures import ThreadPoolExecutor, as_completed\n",
    "import polars as pl\n",
    "# import heartrate; heartrate.trace(browser=True, daemon=True)\n",
    "\n",
    "columns = [\"snapshot_date\", \"total_off_site\", \"total\", \"convicted_or_sentenced\", \"detained_or_awaiting_trial\", \"other_offense\", \"id\"]\n",
    "snap_dates = [\"2021-04-01\", \"2021-05-01\", \"2021-06-01\", \"2021-07-01\", \"2021-08-01\", \"2021-09-01\", \"2021-10-01\", \"2021-11-01\", \"2021-12-01\", \"2022-02-01\", \"2022-03-01\", \"2022-04-01\"]"
   ]
  },
  {
   "cell_type": "code",
   "execution_count": 49,
   "id": "ab5e2d21-7fcf-47bb-8054-7378a2fe96f3",
   "metadata": {},
   "outputs": [],
   "source": [
    "file = \"Albany County Jail.csv\"\n",
    "\n",
    "\n",
    "df = pl.read_csv(f\"./files/{file}\")\n",
    "# print(df)\n",
    "# Drop last column (date range)\n",
    "df = df.drop(['jail', 'delete'])\n",
    "# Remove old header\n",
    "df = df[1:]\n"
   ]
  },
  {
   "cell_type": "code",
   "execution_count": 50,
   "id": "355be9e1-a5d6-490d-84e8-2c814208cf52",
   "metadata": {},
   "outputs": [
    {
     "name": "stdout",
     "output_type": "stream",
     "text": [
      "shape: (14, 9)\n",
      "┌────────────┬─────────────┬──────────┬─────────────┬─────┬───────────┬───────────────────┬─────────┬──────────────────┐\n",
      "│ column     ┆ column_1    ┆ column_3 ┆ column_4    ┆ ... ┆ column_6  ┆ column_7          ┆ column_ ┆ column_9         │\n",
      "│ ---        ┆ ---         ┆ ---      ┆ ---         ┆     ┆ ---       ┆ ---               ┆ 8       ┆ ---              │\n",
      "│ str        ┆ str         ┆ str      ┆ str         ┆     ┆ str       ┆ str               ┆ ---     ┆ str              │\n",
      "│            ┆             ┆          ┆             ┆     ┆           ┆                   ┆ str     ┆                  │\n",
      "╞════════════╪═════════════╪══════════╪═════════════╪═════╪═══════════╪═══════════════════╪═════════╪══════════════════╡\n",
      "│ type       ┆ Boarded Out ┆ In House ┆ - Sentenced ┆ ... ┆ - Federal ┆ - Technical       ┆ - State ┆ - Other          │\n",
      "│            ┆             ┆          ┆             ┆     ┆           ┆ Parole Violators  ┆ Readies ┆ Unsentenced **   │\n",
      "├╌╌╌╌╌╌╌╌╌╌╌╌┼╌╌╌╌╌╌╌╌╌╌╌╌╌┼╌╌╌╌╌╌╌╌╌╌┼╌╌╌╌╌╌╌╌╌╌╌╌╌┼╌╌╌╌╌┼╌╌╌╌╌╌╌╌╌╌╌┼╌╌╌╌╌╌╌╌╌╌╌╌╌╌╌╌╌╌╌┼╌╌╌╌╌╌╌╌╌┼╌╌╌╌╌╌╌╌╌╌╌╌╌╌╌╌╌╌┤\n",
      "│ 2021-04-01 ┆ 0           ┆ 355      ┆ 37          ┆ ... ┆ 90        ┆ 40                ┆ 61      ┆ 126              │\n",
      "├╌╌╌╌╌╌╌╌╌╌╌╌┼╌╌╌╌╌╌╌╌╌╌╌╌╌┼╌╌╌╌╌╌╌╌╌╌┼╌╌╌╌╌╌╌╌╌╌╌╌╌┼╌╌╌╌╌┼╌╌╌╌╌╌╌╌╌╌╌┼╌╌╌╌╌╌╌╌╌╌╌╌╌╌╌╌╌╌╌┼╌╌╌╌╌╌╌╌╌┼╌╌╌╌╌╌╌╌╌╌╌╌╌╌╌╌╌╌┤\n",
      "│ 2021-05-01 ┆ 1           ┆ 391      ┆ 62          ┆ ... ┆ 101       ┆ 43                ┆ 65      ┆ 120              │\n",
      "├╌╌╌╌╌╌╌╌╌╌╌╌┼╌╌╌╌╌╌╌╌╌╌╌╌╌┼╌╌╌╌╌╌╌╌╌╌┼╌╌╌╌╌╌╌╌╌╌╌╌╌┼╌╌╌╌╌┼╌╌╌╌╌╌╌╌╌╌╌┼╌╌╌╌╌╌╌╌╌╌╌╌╌╌╌╌╌╌╌┼╌╌╌╌╌╌╌╌╌┼╌╌╌╌╌╌╌╌╌╌╌╌╌╌╌╌╌╌┤\n",
      "│ 2021-06-01 ┆ 1           ┆ 393      ┆ 53          ┆ ... ┆ 115       ┆ 40                ┆ 41      ┆ 143              │\n",
      "├╌╌╌╌╌╌╌╌╌╌╌╌┼╌╌╌╌╌╌╌╌╌╌╌╌╌┼╌╌╌╌╌╌╌╌╌╌┼╌╌╌╌╌╌╌╌╌╌╌╌╌┼╌╌╌╌╌┼╌╌╌╌╌╌╌╌╌╌╌┼╌╌╌╌╌╌╌╌╌╌╌╌╌╌╌╌╌╌╌┼╌╌╌╌╌╌╌╌╌┼╌╌╌╌╌╌╌╌╌╌╌╌╌╌╌╌╌╌┤\n",
      "│ ...        ┆ ...         ┆ ...      ┆ ...         ┆ ... ┆ ...       ┆ ...               ┆ ...     ┆ ...              │\n",
      "├╌╌╌╌╌╌╌╌╌╌╌╌┼╌╌╌╌╌╌╌╌╌╌╌╌╌┼╌╌╌╌╌╌╌╌╌╌┼╌╌╌╌╌╌╌╌╌╌╌╌╌┼╌╌╌╌╌┼╌╌╌╌╌╌╌╌╌╌╌┼╌╌╌╌╌╌╌╌╌╌╌╌╌╌╌╌╌╌╌┼╌╌╌╌╌╌╌╌╌┼╌╌╌╌╌╌╌╌╌╌╌╌╌╌╌╌╌╌┤\n",
      "│ 2022-01-01 ┆ 2           ┆ 436      ┆ 40          ┆ ... ┆ 134       ┆ 21                ┆ 19      ┆ 222              │\n",
      "├╌╌╌╌╌╌╌╌╌╌╌╌┼╌╌╌╌╌╌╌╌╌╌╌╌╌┼╌╌╌╌╌╌╌╌╌╌┼╌╌╌╌╌╌╌╌╌╌╌╌╌┼╌╌╌╌╌┼╌╌╌╌╌╌╌╌╌╌╌┼╌╌╌╌╌╌╌╌╌╌╌╌╌╌╌╌╌╌╌┼╌╌╌╌╌╌╌╌╌┼╌╌╌╌╌╌╌╌╌╌╌╌╌╌╌╌╌╌┤\n",
      "│ 2022-02-01 ┆ 3           ┆ 450      ┆ 36          ┆ ... ┆ 139       ┆ 14                ┆ 12      ┆ 247              │\n",
      "├╌╌╌╌╌╌╌╌╌╌╌╌┼╌╌╌╌╌╌╌╌╌╌╌╌╌┼╌╌╌╌╌╌╌╌╌╌┼╌╌╌╌╌╌╌╌╌╌╌╌╌┼╌╌╌╌╌┼╌╌╌╌╌╌╌╌╌╌╌┼╌╌╌╌╌╌╌╌╌╌╌╌╌╌╌╌╌╌╌┼╌╌╌╌╌╌╌╌╌┼╌╌╌╌╌╌╌╌╌╌╌╌╌╌╌╌╌╌┤\n",
      "│ 2022-03-01 ┆ 1           ┆ 465      ┆ 41          ┆ ... ┆ 133       ┆ 16                ┆ 18      ┆ 258              │\n",
      "├╌╌╌╌╌╌╌╌╌╌╌╌┼╌╌╌╌╌╌╌╌╌╌╌╌╌┼╌╌╌╌╌╌╌╌╌╌┼╌╌╌╌╌╌╌╌╌╌╌╌╌┼╌╌╌╌╌┼╌╌╌╌╌╌╌╌╌╌╌┼╌╌╌╌╌╌╌╌╌╌╌╌╌╌╌╌╌╌╌┼╌╌╌╌╌╌╌╌╌┼╌╌╌╌╌╌╌╌╌╌╌╌╌╌╌╌╌╌┤\n",
      "│ 2022-04-01 ┆ 1           ┆ 450      ┆ 38          ┆ ... ┆ 131       ┆ 16                ┆ 11      ┆ 254              │\n",
      "└────────────┴─────────────┴──────────┴─────────────┴─────┴───────────┴───────────────────┴─────────┴──────────────────┘\n"
     ]
    },
    {
     "ename": "NameError",
     "evalue": "name 'pa' is not defined",
     "output_type": "error",
     "traceback": [
      "\u001b[1;31m---------------------------------------------------------------------------\u001b[0m",
      "\u001b[1;31mNameError\u001b[0m                                 Traceback (most recent call last)",
      "Input \u001b[1;32mIn [50]\u001b[0m, in \u001b[0;36m<cell line: 7>\u001b[1;34m()\u001b[0m\n\u001b[0;32m      5\u001b[0m df \u001b[38;5;241m=\u001b[39m df[\u001b[38;5;241m1\u001b[39m:]\n\u001b[0;32m      6\u001b[0m \u001b[38;5;66;03m# print(df)\u001b[39;00m\n\u001b[1;32m----> 7\u001b[0m df2 \u001b[38;5;241m=\u001b[39m df\u001b[38;5;241m.\u001b[39mto_pandas()\n\u001b[0;32m      8\u001b[0m con_col \u001b[38;5;241m=\u001b[39m [\u001b[38;5;124m\"\u001b[39m\u001b[38;5;124mstate_readies\u001b[39m\u001b[38;5;124m\"\u001b[39m, \u001b[38;5;124m\"\u001b[39m\u001b[38;5;124mdetained_or_awaiting_trial\u001b[39m\u001b[38;5;124m\"\u001b[39m]\n\u001b[0;32m      9\u001b[0m \u001b[38;5;66;03m# df2[con_col] = pd.to_numeric(df2[con_col].stack(), downcast=\"integer\", errors='coerce').unstack()\u001b[39;00m\n",
      "File \u001b[1;32m~\\Miniconda3\\envs\\scraper\\lib\\site-packages\\polars\\internals\\frame.py:1068\u001b[0m, in \u001b[0;36mDataFrame.to_pandas\u001b[1;34m(self, date_as_object, *args, **kwargs)\u001b[0m\n\u001b[0;32m   1038\u001b[0m \u001b[38;5;124;03m\"\"\"\u001b[39;00m\n\u001b[0;32m   1039\u001b[0m \u001b[38;5;124;03mCast to a Pandas DataFrame. This requires that Pandas is installed.\u001b[39;00m\n\u001b[0;32m   1040\u001b[0m \u001b[38;5;124;03mThis operation clones data.\u001b[39;00m\n\u001b[1;32m   (...)\u001b[0m\n\u001b[0;32m   1065\u001b[0m \n\u001b[0;32m   1066\u001b[0m \u001b[38;5;124;03m\"\"\"\u001b[39;00m\n\u001b[0;32m   1067\u001b[0m record_batches \u001b[38;5;241m=\u001b[39m \u001b[38;5;28mself\u001b[39m\u001b[38;5;241m.\u001b[39m_df\u001b[38;5;241m.\u001b[39mto_pandas()\n\u001b[1;32m-> 1068\u001b[0m tbl \u001b[38;5;241m=\u001b[39m \u001b[43mpa\u001b[49m\u001b[38;5;241m.\u001b[39mTable\u001b[38;5;241m.\u001b[39mfrom_batches(record_batches)\n\u001b[0;32m   1069\u001b[0m \u001b[38;5;28;01mreturn\u001b[39;00m tbl\u001b[38;5;241m.\u001b[39mto_pandas(\u001b[38;5;241m*\u001b[39margs, date_as_object\u001b[38;5;241m=\u001b[39mdate_as_object, \u001b[38;5;241m*\u001b[39m\u001b[38;5;241m*\u001b[39mkwargs)\n",
      "\u001b[1;31mNameError\u001b[0m: name 'pa' is not defined"
     ]
    }
   ],
   "source": [
    "\n",
    "df = df.transpose(include_header=True)\n",
    "df = df.drop([\"column_0\", \"column_2\"])\n",
    "print(df)\n",
    "df.columns = [\"snapshot_date\", \"total_off_site\", \"total\", \"convicted_or_sentenced\", \"civil_offense\", \"federal_offense\", \"technical_parole_violators\", \"state_readies\", \"detained_or_awaiting_trial\"]\n",
    "df = df[1:]\n",
    "# print(df)\n",
    "df2 = df.to_pandas()\n",
    "con_col = [\"state_readies\", \"detained_or_awaiting_trial\"]\n",
    "# df2[con_col] = pd.to_numeric(df2[con_col].stack(), downcast=\"integer\", errors='coerce').unstack()\n",
    "df2[\"state_readies\"] = pd.to_numeric(df2[\"state_readies\"], downcast=\"integer\")\n",
    "df2[\"detained_or_awaiting_trial\"] = pd.to_numeric(df2[\"detained_or_awaiting_trial\"], downcast=\"integer\")"
   ]
  },
  {
   "cell_type": "code",
   "execution_count": null,
   "id": "365c7a17-443e-4dcf-a295-886862c1d43f",
   "metadata": {},
   "outputs": [],
   "source": [
    "df2[\"detained_or_awaiting_trial\"] = df2[[\"detained_or_awaiting_trial\", \"state_readies\"]].sum(axis=1)\n",
    "df = pl.from_pandas(df2)\n",
    "df = df.drop(\"state_readies\")\n",
    "df = df.to_pandas()\n",
    "print(id)\n",
    "# df[\"id\"] = id\n",
    "print(df)\n",
    "\n",
    "\n",
    "df.to_csv(\"extracted_data\", mode=\"a\")"
   ]
  }
 ],
 "metadata": {
  "kernelspec": {
   "display_name": "Python 3 (ipykernel)",
   "language": "python",
   "name": "python3"
  },
  "language_info": {
   "codemirror_mode": {
    "name": "ipython",
    "version": 3
   },
   "file_extension": ".py",
   "mimetype": "text/x-python",
   "name": "python",
   "nbconvert_exporter": "python",
   "pygments_lexer": "ipython3",
   "version": "3.9.7"
  }
 },
 "nbformat": 4,
 "nbformat_minor": 5
}
